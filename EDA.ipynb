{
 "cells": [
  {
   "cell_type": "code",
   "execution_count": 36,
   "metadata": {},
   "outputs": [],
   "source": [
    "import pandas as pd\n",
    "import matplotlib.pyplot as plt\n",
    "import seaborn as sns"
   ]
  },
  {
   "cell_type": "code",
   "execution_count": 19,
   "metadata": {},
   "outputs": [],
   "source": [
    "dtype = {\n",
    "    'ResponseID': 'category',\n",
    "    'UserID': 'int8',\n",
    "    'Intervention': 'int8',\n",
    "    'PedPed': 'int8',\n",
    "    'Barrier': 'int8',\n",
    "    'CrossingSignal': 'int8',\n",
    "    'AttributeLevel': 'category',\n",
    "    'ScenarioTypeStrict': 'category',\n",
    "    'NumberOfCharacters': 'int8',\n",
    "    'DiffNumberOFCharacters': 'int8',\n",
    "    'Saved': 'int8',\n",
    "    'Man': 'int8',\n",
    "    'Woman': 'int8',\n",
    "    'Pregnant': 'int8',\n",
    "    'Stroller': 'int8',\n",
    "    'OldMan': 'int8',\n",
    "    'OldWoman': 'int8',\n",
    "    'Boy': 'int8',\n",
    "    'Girl': 'int8',\n",
    "    'Homeless': 'int8',\n",
    "    'LargeWoman': 'int8',\n",
    "    'LargeMan': 'int8',\n",
    "    'Criminal': 'int8',\n",
    "    'MaleExecutive': 'int8',\n",
    "    'FemaleExecutive': 'int8',\n",
    "    'FemaleAthlete': 'int8',\n",
    "    'MaleAthlete': 'int8',\n",
    "    'FemaleDoctor': 'int8',\n",
    "    'MaleDoctor': 'int8',\n",
    "    'Dog': 'int8',\n",
    "    'Cat': 'int8'\n",
    "}\n"
   ]
  },
  {
   "cell_type": "code",
   "execution_count": 20,
   "metadata": {},
   "outputs": [],
   "source": [
    "# loading pre-processed datasets\n",
    "df_total = pd.read_csv('total_dataset.csv', dtype=dtype)"
   ]
  },
  {
   "cell_type": "code",
   "execution_count": 21,
   "metadata": {},
   "outputs": [],
   "source": [
    "df_nw = pd.read_csv('total_nw_dataset.csv', dtype=dtype)"
   ]
  },
  {
   "cell_type": "code",
   "execution_count": 22,
   "metadata": {},
   "outputs": [
    {
     "name": "stdout",
     "output_type": "stream",
     "text": [
      "(14678400, 31) (14678398, 31)\n"
     ]
    }
   ],
   "source": [
    "print(df_total.shape, df_nw.shape)"
   ]
  },
  {
   "cell_type": "markdown",
   "metadata": {},
   "source": [
    "## EDA on df_total"
   ]
  },
  {
   "cell_type": "code",
   "execution_count": 23,
   "metadata": {},
   "outputs": [
    {
     "name": "stdout",
     "output_type": "stream",
     "text": [
      "0\n"
     ]
    }
   ],
   "source": [
    "\"MISSING VALUES\"\n",
    "\n",
    "print(df_total.isnull().sum().sum())"
   ]
  },
  {
   "cell_type": "code",
   "execution_count": 24,
   "metadata": {},
   "outputs": [
    {
     "data": {
      "text/plain": [
       "0    0\n",
       "1    0\n",
       "2    0\n",
       "3    1\n",
       "4    0\n",
       "5    0\n",
       "6    0\n",
       "7    0\n",
       "8    0\n",
       "9    0\n",
       "Name: UserID, dtype: int8"
      ]
     },
     "execution_count": 24,
     "metadata": {},
     "output_type": "execute_result"
    }
   ],
   "source": [
    "df_nw['UserID'].head(10)"
   ]
  },
  {
   "cell_type": "code",
   "execution_count": 25,
   "metadata": {},
   "outputs": [
    {
     "data": {
      "text/html": [
       "<div>\n",
       "<style scoped>\n",
       "    .dataframe tbody tr th:only-of-type {\n",
       "        vertical-align: middle;\n",
       "    }\n",
       "\n",
       "    .dataframe tbody tr th {\n",
       "        vertical-align: top;\n",
       "    }\n",
       "\n",
       "    .dataframe thead th {\n",
       "        text-align: right;\n",
       "    }\n",
       "</style>\n",
       "<table border=\"1\" class=\"dataframe\">\n",
       "  <thead>\n",
       "    <tr style=\"text-align: right;\">\n",
       "      <th></th>\n",
       "      <th>UserID</th>\n",
       "      <th>Intervention</th>\n",
       "      <th>PedPed</th>\n",
       "      <th>Barrier</th>\n",
       "      <th>CrossingSignal</th>\n",
       "      <th>NumberOfCharacters</th>\n",
       "      <th>DiffNumberOFCharacters</th>\n",
       "      <th>Saved</th>\n",
       "      <th>Man</th>\n",
       "      <th>Woman</th>\n",
       "      <th>...</th>\n",
       "      <th>LargeMan</th>\n",
       "      <th>Criminal</th>\n",
       "      <th>MaleExecutive</th>\n",
       "      <th>FemaleExecutive</th>\n",
       "      <th>FemaleAthlete</th>\n",
       "      <th>MaleAthlete</th>\n",
       "      <th>FemaleDoctor</th>\n",
       "      <th>MaleDoctor</th>\n",
       "      <th>Dog</th>\n",
       "      <th>Cat</th>\n",
       "    </tr>\n",
       "  </thead>\n",
       "  <tbody>\n",
       "    <tr>\n",
       "      <th>count</th>\n",
       "      <td>14678400.00</td>\n",
       "      <td>14678400.0</td>\n",
       "      <td>1.467840e+07</td>\n",
       "      <td>1.467840e+07</td>\n",
       "      <td>1.467840e+07</td>\n",
       "      <td>1.467840e+07</td>\n",
       "      <td>1.467840e+07</td>\n",
       "      <td>14678400.0</td>\n",
       "      <td>1.467840e+07</td>\n",
       "      <td>1.467840e+07</td>\n",
       "      <td>...</td>\n",
       "      <td>1.467840e+07</td>\n",
       "      <td>1.467840e+07</td>\n",
       "      <td>1.467840e+07</td>\n",
       "      <td>1.467840e+07</td>\n",
       "      <td>1.467840e+07</td>\n",
       "      <td>1.467840e+07</td>\n",
       "      <td>1.467840e+07</td>\n",
       "      <td>1.467840e+07</td>\n",
       "      <td>1.467840e+07</td>\n",
       "      <td>1.467840e+07</td>\n",
       "    </tr>\n",
       "    <tr>\n",
       "      <th>mean</th>\n",
       "      <td>0.02</td>\n",
       "      <td>0.5</td>\n",
       "      <td>4.808080e-01</td>\n",
       "      <td>2.595960e-01</td>\n",
       "      <td>5.922656e-01</td>\n",
       "      <td>3.101556e+00</td>\n",
       "      <td>4.881086e-01</td>\n",
       "      <td>0.5</td>\n",
       "      <td>3.222280e-01</td>\n",
       "      <td>3.219963e-01</td>\n",
       "      <td>...</td>\n",
       "      <td>1.665059e-01</td>\n",
       "      <td>5.399138e-02</td>\n",
       "      <td>9.887733e-02</td>\n",
       "      <td>9.882235e-02</td>\n",
       "      <td>2.017412e-01</td>\n",
       "      <td>2.019232e-01</td>\n",
       "      <td>9.544732e-02</td>\n",
       "      <td>9.550142e-02</td>\n",
       "      <td>1.814525e-01</td>\n",
       "      <td>1.816174e-01</td>\n",
       "    </tr>\n",
       "    <tr>\n",
       "      <th>std</th>\n",
       "      <td>0.14</td>\n",
       "      <td>0.5</td>\n",
       "      <td>4.996315e-01</td>\n",
       "      <td>4.384130e-01</td>\n",
       "      <td>8.103250e-01</td>\n",
       "      <td>1.469298e+00</td>\n",
       "      <td>1.105451e+00</td>\n",
       "      <td>0.5</td>\n",
       "      <td>6.051721e-01</td>\n",
       "      <td>6.050437e-01</td>\n",
       "      <td>...</td>\n",
       "      <td>4.602660e-01</td>\n",
       "      <td>2.459940e-01</td>\n",
       "      <td>3.385411e-01</td>\n",
       "      <td>3.382389e-01</td>\n",
       "      <td>5.407845e-01</td>\n",
       "      <td>5.413344e-01</td>\n",
       "      <td>3.331352e-01</td>\n",
       "      <td>3.331612e-01</td>\n",
       "      <td>5.895115e-01</td>\n",
       "      <td>5.897543e-01</td>\n",
       "    </tr>\n",
       "    <tr>\n",
       "      <th>min</th>\n",
       "      <td>0.00</td>\n",
       "      <td>0.0</td>\n",
       "      <td>0.000000e+00</td>\n",
       "      <td>0.000000e+00</td>\n",
       "      <td>0.000000e+00</td>\n",
       "      <td>1.000000e+00</td>\n",
       "      <td>0.000000e+00</td>\n",
       "      <td>0.0</td>\n",
       "      <td>0.000000e+00</td>\n",
       "      <td>0.000000e+00</td>\n",
       "      <td>...</td>\n",
       "      <td>0.000000e+00</td>\n",
       "      <td>0.000000e+00</td>\n",
       "      <td>0.000000e+00</td>\n",
       "      <td>0.000000e+00</td>\n",
       "      <td>0.000000e+00</td>\n",
       "      <td>0.000000e+00</td>\n",
       "      <td>0.000000e+00</td>\n",
       "      <td>0.000000e+00</td>\n",
       "      <td>0.000000e+00</td>\n",
       "      <td>0.000000e+00</td>\n",
       "    </tr>\n",
       "    <tr>\n",
       "      <th>25%</th>\n",
       "      <td>0.00</td>\n",
       "      <td>0.0</td>\n",
       "      <td>0.000000e+00</td>\n",
       "      <td>0.000000e+00</td>\n",
       "      <td>0.000000e+00</td>\n",
       "      <td>2.000000e+00</td>\n",
       "      <td>0.000000e+00</td>\n",
       "      <td>0.0</td>\n",
       "      <td>0.000000e+00</td>\n",
       "      <td>0.000000e+00</td>\n",
       "      <td>...</td>\n",
       "      <td>0.000000e+00</td>\n",
       "      <td>0.000000e+00</td>\n",
       "      <td>0.000000e+00</td>\n",
       "      <td>0.000000e+00</td>\n",
       "      <td>0.000000e+00</td>\n",
       "      <td>0.000000e+00</td>\n",
       "      <td>0.000000e+00</td>\n",
       "      <td>0.000000e+00</td>\n",
       "      <td>0.000000e+00</td>\n",
       "      <td>0.000000e+00</td>\n",
       "    </tr>\n",
       "    <tr>\n",
       "      <th>50%</th>\n",
       "      <td>0.00</td>\n",
       "      <td>0.5</td>\n",
       "      <td>0.000000e+00</td>\n",
       "      <td>0.000000e+00</td>\n",
       "      <td>0.000000e+00</td>\n",
       "      <td>3.000000e+00</td>\n",
       "      <td>0.000000e+00</td>\n",
       "      <td>0.5</td>\n",
       "      <td>0.000000e+00</td>\n",
       "      <td>0.000000e+00</td>\n",
       "      <td>...</td>\n",
       "      <td>0.000000e+00</td>\n",
       "      <td>0.000000e+00</td>\n",
       "      <td>0.000000e+00</td>\n",
       "      <td>0.000000e+00</td>\n",
       "      <td>0.000000e+00</td>\n",
       "      <td>0.000000e+00</td>\n",
       "      <td>0.000000e+00</td>\n",
       "      <td>0.000000e+00</td>\n",
       "      <td>0.000000e+00</td>\n",
       "      <td>0.000000e+00</td>\n",
       "    </tr>\n",
       "    <tr>\n",
       "      <th>75%</th>\n",
       "      <td>0.00</td>\n",
       "      <td>1.0</td>\n",
       "      <td>1.000000e+00</td>\n",
       "      <td>1.000000e+00</td>\n",
       "      <td>1.000000e+00</td>\n",
       "      <td>5.000000e+00</td>\n",
       "      <td>0.000000e+00</td>\n",
       "      <td>1.0</td>\n",
       "      <td>1.000000e+00</td>\n",
       "      <td>1.000000e+00</td>\n",
       "      <td>...</td>\n",
       "      <td>0.000000e+00</td>\n",
       "      <td>0.000000e+00</td>\n",
       "      <td>0.000000e+00</td>\n",
       "      <td>0.000000e+00</td>\n",
       "      <td>0.000000e+00</td>\n",
       "      <td>0.000000e+00</td>\n",
       "      <td>0.000000e+00</td>\n",
       "      <td>0.000000e+00</td>\n",
       "      <td>0.000000e+00</td>\n",
       "      <td>0.000000e+00</td>\n",
       "    </tr>\n",
       "    <tr>\n",
       "      <th>max</th>\n",
       "      <td>1.00</td>\n",
       "      <td>1.0</td>\n",
       "      <td>1.000000e+00</td>\n",
       "      <td>1.000000e+00</td>\n",
       "      <td>2.000000e+00</td>\n",
       "      <td>5.000000e+00</td>\n",
       "      <td>4.000000e+00</td>\n",
       "      <td>1.0</td>\n",
       "      <td>5.000000e+00</td>\n",
       "      <td>5.000000e+00</td>\n",
       "      <td>...</td>\n",
       "      <td>5.000000e+00</td>\n",
       "      <td>5.000000e+00</td>\n",
       "      <td>5.000000e+00</td>\n",
       "      <td>5.000000e+00</td>\n",
       "      <td>5.000000e+00</td>\n",
       "      <td>5.000000e+00</td>\n",
       "      <td>5.000000e+00</td>\n",
       "      <td>5.000000e+00</td>\n",
       "      <td>5.000000e+00</td>\n",
       "      <td>5.000000e+00</td>\n",
       "    </tr>\n",
       "  </tbody>\n",
       "</table>\n",
       "<p>8 rows × 28 columns</p>\n",
       "</div>"
      ],
      "text/plain": [
       "            UserID  Intervention        PedPed       Barrier  CrossingSignal  \\\n",
       "count  14678400.00    14678400.0  1.467840e+07  1.467840e+07    1.467840e+07   \n",
       "mean          0.02           0.5  4.808080e-01  2.595960e-01    5.922656e-01   \n",
       "std           0.14           0.5  4.996315e-01  4.384130e-01    8.103250e-01   \n",
       "min           0.00           0.0  0.000000e+00  0.000000e+00    0.000000e+00   \n",
       "25%           0.00           0.0  0.000000e+00  0.000000e+00    0.000000e+00   \n",
       "50%           0.00           0.5  0.000000e+00  0.000000e+00    0.000000e+00   \n",
       "75%           0.00           1.0  1.000000e+00  1.000000e+00    1.000000e+00   \n",
       "max           1.00           1.0  1.000000e+00  1.000000e+00    2.000000e+00   \n",
       "\n",
       "       NumberOfCharacters  DiffNumberOFCharacters       Saved           Man  \\\n",
       "count        1.467840e+07            1.467840e+07  14678400.0  1.467840e+07   \n",
       "mean         3.101556e+00            4.881086e-01         0.5  3.222280e-01   \n",
       "std          1.469298e+00            1.105451e+00         0.5  6.051721e-01   \n",
       "min          1.000000e+00            0.000000e+00         0.0  0.000000e+00   \n",
       "25%          2.000000e+00            0.000000e+00         0.0  0.000000e+00   \n",
       "50%          3.000000e+00            0.000000e+00         0.5  0.000000e+00   \n",
       "75%          5.000000e+00            0.000000e+00         1.0  1.000000e+00   \n",
       "max          5.000000e+00            4.000000e+00         1.0  5.000000e+00   \n",
       "\n",
       "              Woman  ...      LargeMan      Criminal  MaleExecutive  \\\n",
       "count  1.467840e+07  ...  1.467840e+07  1.467840e+07   1.467840e+07   \n",
       "mean   3.219963e-01  ...  1.665059e-01  5.399138e-02   9.887733e-02   \n",
       "std    6.050437e-01  ...  4.602660e-01  2.459940e-01   3.385411e-01   \n",
       "min    0.000000e+00  ...  0.000000e+00  0.000000e+00   0.000000e+00   \n",
       "25%    0.000000e+00  ...  0.000000e+00  0.000000e+00   0.000000e+00   \n",
       "50%    0.000000e+00  ...  0.000000e+00  0.000000e+00   0.000000e+00   \n",
       "75%    1.000000e+00  ...  0.000000e+00  0.000000e+00   0.000000e+00   \n",
       "max    5.000000e+00  ...  5.000000e+00  5.000000e+00   5.000000e+00   \n",
       "\n",
       "       FemaleExecutive  FemaleAthlete   MaleAthlete  FemaleDoctor  \\\n",
       "count     1.467840e+07   1.467840e+07  1.467840e+07  1.467840e+07   \n",
       "mean      9.882235e-02   2.017412e-01  2.019232e-01  9.544732e-02   \n",
       "std       3.382389e-01   5.407845e-01  5.413344e-01  3.331352e-01   \n",
       "min       0.000000e+00   0.000000e+00  0.000000e+00  0.000000e+00   \n",
       "25%       0.000000e+00   0.000000e+00  0.000000e+00  0.000000e+00   \n",
       "50%       0.000000e+00   0.000000e+00  0.000000e+00  0.000000e+00   \n",
       "75%       0.000000e+00   0.000000e+00  0.000000e+00  0.000000e+00   \n",
       "max       5.000000e+00   5.000000e+00  5.000000e+00  5.000000e+00   \n",
       "\n",
       "         MaleDoctor           Dog           Cat  \n",
       "count  1.467840e+07  1.467840e+07  1.467840e+07  \n",
       "mean   9.550142e-02  1.814525e-01  1.816174e-01  \n",
       "std    3.331612e-01  5.895115e-01  5.897543e-01  \n",
       "min    0.000000e+00  0.000000e+00  0.000000e+00  \n",
       "25%    0.000000e+00  0.000000e+00  0.000000e+00  \n",
       "50%    0.000000e+00  0.000000e+00  0.000000e+00  \n",
       "75%    0.000000e+00  0.000000e+00  0.000000e+00  \n",
       "max    5.000000e+00  5.000000e+00  5.000000e+00  \n",
       "\n",
       "[8 rows x 28 columns]"
      ]
     },
     "execution_count": 25,
     "metadata": {},
     "output_type": "execute_result"
    }
   ],
   "source": [
    "\"DESCRIPTIVE STATISTICS\"\n",
    "\n",
    "df_total.describe()"
   ]
  },
  {
   "cell_type": "code",
   "execution_count": null,
   "metadata": {},
   "outputs": [],
   "source": [
    "# based on the df above, we can see that there are no weird values (like outliers) in the numerical columns in the dataset\n",
    "# all have a min and max that make sense for in the context of the dataset\n",
    "# I therefore won't check for outliers in this EDA\n",
    "# even the columns that could have had outliers (like the count of UserID to see whether people did the survey an unlikely # times), I am not able to check because of the preprocessing"
   ]
  },
  {
   "cell_type": "code",
   "execution_count": 47,
   "metadata": {},
   "outputs": [
    {
     "name": "stdout",
     "output_type": "stream",
     "text": [
      "<class 'pandas.core.frame.DataFrame'>\n",
      "RangeIndex: 14678400 entries, 0 to 14678399\n",
      "Data columns (total 31 columns):\n",
      " #   Column                  Dtype   \n",
      "---  ------                  -----   \n",
      " 0   ResponseID              category\n",
      " 1   UserID                  int8    \n",
      " 2   Intervention            int8    \n",
      " 3   PedPed                  int8    \n",
      " 4   Barrier                 int8    \n",
      " 5   CrossingSignal          int8    \n",
      " 6   AttributeLevel          category\n",
      " 7   ScenarioTypeStrict      category\n",
      " 8   NumberOfCharacters      int8    \n",
      " 9   DiffNumberOFCharacters  int8    \n",
      " 10  Saved                   int8    \n",
      " 11  Man                     int8    \n",
      " 12  Woman                   int8    \n",
      " 13  Pregnant                int8    \n",
      " 14  Stroller                int8    \n",
      " 15  OldMan                  int8    \n",
      " 16  OldWoman                int8    \n",
      " 17  Boy                     int8    \n",
      " 18  Girl                    int8    \n",
      " 19  Homeless                int8    \n",
      " 20  LargeWoman              int8    \n",
      " 21  LargeMan                int8    \n",
      " 22  Criminal                int8    \n",
      " 23  MaleExecutive           int8    \n",
      " 24  FemaleExecutive         int8    \n",
      " 25  FemaleAthlete           int8    \n",
      " 26  MaleAthlete             int8    \n",
      " 27  FemaleDoctor            int8    \n",
      " 28  MaleDoctor              int8    \n",
      " 29  Dog                     int8    \n",
      " 30  Cat                     int8    \n",
      "dtypes: category(3), int8(28)\n",
      "memory usage: 789.9 MB\n"
     ]
    }
   ],
   "source": [
    "df_total.info()"
   ]
  },
  {
   "cell_type": "code",
   "execution_count": 48,
   "metadata": {},
   "outputs": [
    {
     "name": "stdout",
     "output_type": "stream",
     "text": [
      "Numerical Columns: ['UserID', 'Intervention', 'PedPed', 'Barrier', 'CrossingSignal', 'NumberOfCharacters', 'DiffNumberOFCharacters', 'Saved', 'Man', 'Woman', 'Pregnant', 'Stroller', 'OldMan', 'OldWoman', 'Boy', 'Girl', 'Homeless', 'LargeWoman', 'LargeMan', 'Criminal', 'MaleExecutive', 'FemaleExecutive', 'FemaleAthlete', 'MaleAthlete', 'FemaleDoctor', 'MaleDoctor', 'Dog', 'Cat']\n",
      "Categorical Columns: ['ResponseID', 'AttributeLevel', 'ScenarioTypeStrict']\n"
     ]
    }
   ],
   "source": [
    "# List of column names and their data types (based on the above)\n",
    "columns_info = {\n",
    "    \"ResponseID\": \"category\",\n",
    "    \"UserID\": \"int8\",\n",
    "    \"Intervention\": \"int8\",\n",
    "    \"PedPed\": \"int8\",\n",
    "    \"Barrier\": \"int8\",\n",
    "    \"CrossingSignal\": \"int8\",\n",
    "    \"AttributeLevel\": \"category\",\n",
    "    \"ScenarioTypeStrict\": \"category\",\n",
    "    \"NumberOfCharacters\": \"int8\",\n",
    "    \"DiffNumberOFCharacters\": \"int8\",\n",
    "    \"Saved\": \"int8\",\n",
    "    \"Man\": \"int8\",\n",
    "    \"Woman\": \"int8\",\n",
    "    \"Pregnant\": \"int8\",\n",
    "    \"Stroller\": \"int8\",\n",
    "    \"OldMan\": \"int8\",\n",
    "    \"OldWoman\": \"int8\",\n",
    "    \"Boy\": \"int8\",\n",
    "    \"Girl\": \"int8\",\n",
    "    \"Homeless\": \"int8\",\n",
    "    \"LargeWoman\": \"int8\",\n",
    "    \"LargeMan\": \"int8\",\n",
    "    \"Criminal\": \"int8\",\n",
    "    \"MaleExecutive\": \"int8\",\n",
    "    \"FemaleExecutive\": \"int8\",\n",
    "    \"FemaleAthlete\": \"int8\",\n",
    "    \"MaleAthlete\": \"int8\",\n",
    "    \"FemaleDoctor\": \"int8\",\n",
    "    \"MaleDoctor\": \"int8\",\n",
    "    \"Dog\": \"int8\",\n",
    "    \"Cat\": \"int8\"\n",
    "}\n",
    "\n",
    "# Create lists based on data types\n",
    "numerical_columns = [col for col, dtype in columns_info.items() if dtype == 'int8']\n",
    "categorical_columns = [col for col, dtype in columns_info.items() if dtype == 'category']\n",
    "\n",
    "# Output the lists\n",
    "print(\"Numerical Columns:\", numerical_columns)\n",
    "print(\"Categorical Columns:\", categorical_columns)\n"
   ]
  },
  {
   "cell_type": "code",
   "execution_count": 27,
   "metadata": {},
   "outputs": [
    {
     "data": {
      "text/plain": [
       "0"
      ]
     },
     "execution_count": 27,
     "metadata": {},
     "output_type": "execute_result"
    }
   ],
   "source": [
    "\"DUPLICATES\"\n",
    "\n",
    "# check for duplicates\n",
    "df_total.duplicated().sum()\n",
    "\n",
    "# there are no duplicates"
   ]
  },
  {
   "cell_type": "code",
   "execution_count": 34,
   "metadata": {},
   "outputs": [],
   "source": [
    "# resetting the index\n",
    "# drop=True - resets the index without keeping the old index as a column.\n",
    "# inplace=True - won't return a new df but modifies original df.\n",
    "\n",
    "df_total.reset_index(drop=True, inplace=True)"
   ]
  },
  {
   "cell_type": "code",
   "execution_count": 41,
   "metadata": {},
   "outputs": [
    {
     "data": {
      "image/png": "[encoded data removed]",
      "text/plain": [
       "<Figure size 640x480 with 1 Axes>"
      ]
     },
     "metadata": {},
     "output_type": "display_data"
    },
    {
     "data": {
      "text/plain": [
       "<Figure size 800x600 with 0 Axes>"
      ]
     },
     "metadata": {},
     "output_type": "display_data"
    }
   ],
   "source": [
    "\"DISTRIBUTION OF THE TARGET VARIABLE\"\n",
    "\n",
    "# Calculate the percentage of each class in the 'UserID' column\n",
    "total = len(df_total['UserID'])  # Total number of samples\n",
    "ax = sns.countplot(x='UserID', data=df_total)\n",
    "\n",
    "# Add percentages on top of the bars\n",
    "for p in ax.patches:\n",
    "    percentage = '{:}%'.format(100 * p.get_height() / total)\n",
    "    x = p.get_x() + p.get_width() / 2                           # Position the label in the center of each bar\n",
    "    y = p.get_height()                                          # Height of the bar\n",
    "    ax.annotate(percentage, (x, y), ha='center', va='bottom')   # Annotate the bar with the percentage\n",
    "\n",
    "# Add labels and title\n",
    "plt.title('Distribution of UserID')\n",
    "plt.xlabel('UserID (0= Human, 1= LLM)')\n",
    "plt.ylabel('Count')\n",
    "\n",
    "# Show the plot\n",
    "plt.figure(figsize=(8, 6))\n",
    "plt.show()"
   ]
  },
  {
   "cell_type": "code",
   "execution_count": 42,
   "metadata": {},
   "outputs": [
    {
     "ename": "KeyboardInterrupt",
     "evalue": "",
     "output_type": "error",
     "traceback": [
      "\u001b[1;31m---------------------------------------------------------------------------\u001b[0m",
      "\u001b[1;31mKeyboardInterrupt\u001b[0m                         Traceback (most recent call last)",
      "Cell \u001b[1;32mIn[42], line 16\u001b[0m\n\u001b[0;32m     13\u001b[0m \u001b[38;5;66;03m# Loop through each column and create a countplot\u001b[39;00m\n\u001b[0;32m     14\u001b[0m \u001b[38;5;28;01mfor\u001b[39;00m i, col \u001b[38;5;129;01min\u001b[39;00m \u001b[38;5;28menumerate\u001b[39m(columns):\n\u001b[0;32m     15\u001b[0m     \u001b[38;5;66;03m# Generate countplot for each column\u001b[39;00m\n\u001b[1;32m---> 16\u001b[0m     sns\u001b[38;5;241m.\u001b[39mcountplot(data\u001b[38;5;241m=\u001b[39mdf_total, x\u001b[38;5;241m=\u001b[39mcol, palette\u001b[38;5;241m=\u001b[39m\u001b[38;5;124m'\u001b[39m\u001b[38;5;124mviridis\u001b[39m\u001b[38;5;124m'\u001b[39m, ax\u001b[38;5;241m=\u001b[39maxes[i])\n\u001b[0;32m     17\u001b[0m     axes[i]\u001b[38;5;241m.\u001b[39mset_title(\u001b[38;5;124mf\u001b[39m\u001b[38;5;124m'\u001b[39m\u001b[38;5;124mDistribution of \u001b[39m\u001b[38;5;132;01m{\u001b[39;00mcol\u001b[38;5;132;01m}\u001b[39;00m\u001b[38;5;124m'\u001b[39m)\n\u001b[0;32m     18\u001b[0m     axes[i]\u001b[38;5;241m.\u001b[39mset_xlabel(col)\n",
      "File \u001b[1;32mc:\\Anaconda\\Lib\\site-packages\\seaborn\\categorical.py:2943\u001b[0m, in \u001b[0;36mcountplot\u001b[1;34m(data, x, y, hue, order, hue_order, orient, color, palette, saturation, width, dodge, ax, **kwargs)\u001b[0m\n\u001b[0;32m   2940\u001b[0m \u001b[38;5;28;01melif\u001b[39;00m x \u001b[38;5;129;01mis\u001b[39;00m \u001b[38;5;129;01mnot\u001b[39;00m \u001b[38;5;28;01mNone\u001b[39;00m \u001b[38;5;129;01mand\u001b[39;00m y \u001b[38;5;129;01mis\u001b[39;00m \u001b[38;5;129;01mnot\u001b[39;00m \u001b[38;5;28;01mNone\u001b[39;00m:\n\u001b[0;32m   2941\u001b[0m     \u001b[38;5;28;01mraise\u001b[39;00m \u001b[38;5;167;01mValueError\u001b[39;00m(\u001b[38;5;124m\"\u001b[39m\u001b[38;5;124mCannot pass values for both `x` and `y`\u001b[39m\u001b[38;5;124m\"\u001b[39m)\n\u001b[1;32m-> 2943\u001b[0m plotter \u001b[38;5;241m=\u001b[39m _CountPlotter(\n\u001b[0;32m   2944\u001b[0m     x, y, hue, data, order, hue_order,\n\u001b[0;32m   2945\u001b[0m     estimator, errorbar, n_boot, units, seed,\n\u001b[0;32m   2946\u001b[0m     orient, color, palette, saturation,\n\u001b[0;32m   2947\u001b[0m     width, errcolor, errwidth, capsize, dodge\n\u001b[0;32m   2948\u001b[0m )\n\u001b[0;32m   2950\u001b[0m plotter\u001b[38;5;241m.\u001b[39mvalue_label \u001b[38;5;241m=\u001b[39m \u001b[38;5;124m\"\u001b[39m\u001b[38;5;124mcount\u001b[39m\u001b[38;5;124m\"\u001b[39m\n\u001b[0;32m   2952\u001b[0m \u001b[38;5;28;01mif\u001b[39;00m ax \u001b[38;5;129;01mis\u001b[39;00m \u001b[38;5;28;01mNone\u001b[39;00m:\n",
      "File \u001b[1;32mc:\\Anaconda\\Lib\\site-packages\\seaborn\\categorical.py:1533\u001b[0m, in \u001b[0;36m_BarPlotter.__init__\u001b[1;34m(self, x, y, hue, data, order, hue_order, estimator, errorbar, n_boot, units, seed, orient, color, palette, saturation, width, errcolor, errwidth, capsize, dodge)\u001b[0m\n\u001b[0;32m   1530\u001b[0m \u001b[38;5;28mself\u001b[39m\u001b[38;5;241m.\u001b[39mestablish_variables(x, y, hue, data, orient,\n\u001b[0;32m   1531\u001b[0m                          order, hue_order, units)\n\u001b[0;32m   1532\u001b[0m \u001b[38;5;28mself\u001b[39m\u001b[38;5;241m.\u001b[39mestablish_colors(color, palette, saturation)\n\u001b[1;32m-> 1533\u001b[0m \u001b[38;5;28mself\u001b[39m\u001b[38;5;241m.\u001b[39mestimate_statistic(estimator, errorbar, n_boot, seed)\n\u001b[0;32m   1535\u001b[0m \u001b[38;5;28mself\u001b[39m\u001b[38;5;241m.\u001b[39mdodge \u001b[38;5;241m=\u001b[39m dodge\n\u001b[0;32m   1536\u001b[0m \u001b[38;5;28mself\u001b[39m\u001b[38;5;241m.\u001b[39mwidth \u001b[38;5;241m=\u001b[39m width\n",
      "File \u001b[1;32mc:\\Anaconda\\Lib\\site-packages\\seaborn\\categorical.py:1461\u001b[0m, in \u001b[0;36m_CategoricalStatPlotter.estimate_statistic\u001b[1;34m(self, estimator, errorbar, n_boot, seed)\u001b[0m\n\u001b[0;32m   1458\u001b[0m \u001b[38;5;28;01mif\u001b[39;00m \u001b[38;5;28mself\u001b[39m\u001b[38;5;241m.\u001b[39mplot_units \u001b[38;5;129;01mis\u001b[39;00m \u001b[38;5;129;01mnot\u001b[39;00m \u001b[38;5;28;01mNone\u001b[39;00m:\n\u001b[0;32m   1459\u001b[0m     df[\u001b[38;5;124m\"\u001b[39m\u001b[38;5;124munits\u001b[39m\u001b[38;5;124m\"\u001b[39m] \u001b[38;5;241m=\u001b[39m \u001b[38;5;28mself\u001b[39m\u001b[38;5;241m.\u001b[39mplot_units[i]\n\u001b[1;32m-> 1461\u001b[0m res \u001b[38;5;241m=\u001b[39m agg(df, var)\n\u001b[0;32m   1463\u001b[0m statistic\u001b[38;5;241m.\u001b[39mappend(res[var])\n\u001b[0;32m   1464\u001b[0m \u001b[38;5;28;01mif\u001b[39;00m errorbar \u001b[38;5;129;01mis\u001b[39;00m \u001b[38;5;129;01mnot\u001b[39;00m \u001b[38;5;28;01mNone\u001b[39;00m:\n",
      "File \u001b[1;32mc:\\Anaconda\\Lib\\site-packages\\seaborn\\_statistics.py:482\u001b[0m, in \u001b[0;36mEstimateAggregator.__call__\u001b[1;34m(self, data, var)\u001b[0m\n\u001b[0;32m    480\u001b[0m \u001b[38;5;28;01mdef\u001b[39;00m \u001b[38;5;21m__call__\u001b[39m(\u001b[38;5;28mself\u001b[39m, data, var):\n\u001b[0;32m    481\u001b[0m \u001b[38;5;250m    \u001b[39m\u001b[38;5;124;03m\"\"\"Aggregate over `var` column of `data` with estimate and error interval.\"\"\"\u001b[39;00m\n\u001b[1;32m--> 482\u001b[0m     vals \u001b[38;5;241m=\u001b[39m data[var]\n\u001b[0;32m    483\u001b[0m     \u001b[38;5;28;01mif\u001b[39;00m \u001b[38;5;28mcallable\u001b[39m(\u001b[38;5;28mself\u001b[39m\u001b[38;5;241m.\u001b[39mestimator):\n\u001b[0;32m    484\u001b[0m         \u001b[38;5;66;03m# You would think we could pass to vals.agg, and yet:\u001b[39;00m\n\u001b[0;32m    485\u001b[0m         \u001b[38;5;66;03m# https://github.com/mwaskom/seaborn/issues/2943\u001b[39;00m\n\u001b[0;32m    486\u001b[0m         estimate \u001b[38;5;241m=\u001b[39m \u001b[38;5;28mself\u001b[39m\u001b[38;5;241m.\u001b[39mestimator(vals)\n",
      "File \u001b[1;32mc:\\Anaconda\\Lib\\site-packages\\pandas\\core\\frame.py:3726\u001b[0m, in \u001b[0;36mDataFrame.__getitem__\u001b[1;34m(self, key)\u001b[0m\n\u001b[0;32m   3721\u001b[0m is_mi \u001b[38;5;241m=\u001b[39m \u001b[38;5;28misinstance\u001b[39m(\u001b[38;5;28mself\u001b[39m\u001b[38;5;241m.\u001b[39mcolumns, MultiIndex)\n\u001b[0;32m   3722\u001b[0m \u001b[38;5;66;03m# GH#45316 Return view if key is not duplicated\u001b[39;00m\n\u001b[0;32m   3723\u001b[0m \u001b[38;5;66;03m# Only use drop_duplicates with duplicates for performance\u001b[39;00m\n\u001b[0;32m   3724\u001b[0m \u001b[38;5;28;01mif\u001b[39;00m \u001b[38;5;129;01mnot\u001b[39;00m is_mi \u001b[38;5;129;01mand\u001b[39;00m (\n\u001b[0;32m   3725\u001b[0m     \u001b[38;5;28mself\u001b[39m\u001b[38;5;241m.\u001b[39mcolumns\u001b[38;5;241m.\u001b[39mis_unique\n\u001b[1;32m-> 3726\u001b[0m     \u001b[38;5;129;01mand\u001b[39;00m key \u001b[38;5;129;01min\u001b[39;00m \u001b[38;5;28mself\u001b[39m\u001b[38;5;241m.\u001b[39mcolumns\n\u001b[0;32m   3727\u001b[0m     \u001b[38;5;129;01mor\u001b[39;00m key \u001b[38;5;129;01min\u001b[39;00m \u001b[38;5;28mself\u001b[39m\u001b[38;5;241m.\u001b[39mcolumns\u001b[38;5;241m.\u001b[39mdrop_duplicates(keep\u001b[38;5;241m=\u001b[39m\u001b[38;5;28;01mFalse\u001b[39;00m)\n\u001b[0;32m   3728\u001b[0m ):\n\u001b[0;32m   3729\u001b[0m     \u001b[38;5;28;01mreturn\u001b[39;00m \u001b[38;5;28mself\u001b[39m\u001b[38;5;241m.\u001b[39m_get_item_cache(key)\n\u001b[0;32m   3731\u001b[0m \u001b[38;5;28;01melif\u001b[39;00m is_mi \u001b[38;5;129;01mand\u001b[39;00m \u001b[38;5;28mself\u001b[39m\u001b[38;5;241m.\u001b[39mcolumns\u001b[38;5;241m.\u001b[39mis_unique \u001b[38;5;129;01mand\u001b[39;00m key \u001b[38;5;129;01min\u001b[39;00m \u001b[38;5;28mself\u001b[39m\u001b[38;5;241m.\u001b[39mcolumns:\n",
      "File \u001b[1;32mc:\\Anaconda\\Lib\\site-packages\\pandas\\core\\indexes\\base.py:5144\u001b[0m, in \u001b[0;36mIndex.__contains__\u001b[1;34m(self, key)\u001b[0m\n\u001b[0;32m   5109\u001b[0m \u001b[38;5;28;01mdef\u001b[39;00m \u001b[38;5;21m__contains__\u001b[39m(\u001b[38;5;28mself\u001b[39m, key: Any) \u001b[38;5;241m-\u001b[39m\u001b[38;5;241m>\u001b[39m \u001b[38;5;28mbool\u001b[39m:\n\u001b[0;32m   5110\u001b[0m \u001b[38;5;250m    \u001b[39m\u001b[38;5;124;03m\"\"\"\u001b[39;00m\n\u001b[0;32m   5111\u001b[0m \u001b[38;5;124;03m    Return a boolean indicating whether the provided key is in the index.\u001b[39;00m\n\u001b[0;32m   5112\u001b[0m \n\u001b[1;32m   (...)\u001b[0m\n\u001b[0;32m   5142\u001b[0m \u001b[38;5;124;03m    False\u001b[39;00m\n\u001b[0;32m   5143\u001b[0m \u001b[38;5;124;03m    \"\"\"\u001b[39;00m\n\u001b[1;32m-> 5144\u001b[0m     \u001b[38;5;28mhash\u001b[39m(key)\n\u001b[0;32m   5145\u001b[0m     \u001b[38;5;28;01mtry\u001b[39;00m:\n\u001b[0;32m   5146\u001b[0m         \u001b[38;5;28;01mreturn\u001b[39;00m key \u001b[38;5;129;01min\u001b[39;00m \u001b[38;5;28mself\u001b[39m\u001b[38;5;241m.\u001b[39m_engine\n",
      "\u001b[1;31mKeyboardInterrupt\u001b[0m: "
     ]
    },
    {
     "data": {
      "image/png": "[encoded data removed]",
      "text/plain": [
       "<Figure size 1500x2800 with 35 Axes>"
      ]
     },
     "metadata": {},
     "output_type": "display_data"
    }
   ],
   "source": [
    "\"DISTRIBUTION OF OTHER VARIABLES\"\n",
    "\n",
    "# Select columns you want to plot value counts for (excluding continuous ones if needed)\n",
    "columns = df_total.columns\n",
    "\n",
    "# Create a figure with subplots, adjusting the number of rows and columns based on your data\n",
    "n_cols = 4\n",
    "n_rows = 8\n",
    "\n",
    "fig, axes = plt.subplots(n_rows, n_cols, figsize=(15, n_rows * 4))\n",
    "axes = axes.flatten()  # Flatten the axes to easily iterate through them\n",
    "\n",
    "# Loop through each column and create a countplot\n",
    "for i, col in enumerate(columns):\n",
    "    # Generate countplot for each column\n",
    "    sns.countplot(data=df_total, x=col, palette='viridis', ax=axes[i])\n",
    "    axes[i].set_title(f'Distribution of {col}')\n",
    "    axes[i].set_xlabel(col)\n",
    "    axes[i].set_ylabel('Count')\n",
    "\n",
    "# Remove empty subplots (if there are more subplots than columns)\n",
    "for i in range(len(columns), len(axes)):\n",
    "    fig.delaxes(axes[i])\n",
    "\n",
    "# Adjust layout\n",
    "plt.tight_layout()\n",
    "plt.show()"
   ]
  },
  {
   "cell_type": "code",
   "execution_count": 50,
   "metadata": {},
   "outputs": [
    {
     "name": "stdout",
     "output_type": "stream",
     "text": [
      "['UserID', 'Intervention', 'PedPed', 'Barrier', 'CrossingSignal', 'NumberOfCharacters', 'DiffNumberOFCharacters', 'Saved', 'Man', 'Woman', 'Pregnant', 'Stroller', 'OldMan', 'OldWoman', 'Boy', 'Girl', 'Homeless', 'LargeWoman', 'LargeMan', 'Criminal', 'MaleExecutive', 'FemaleExecutive', 'FemaleAthlete', 'MaleAthlete', 'FemaleDoctor', 'MaleDoctor', 'Dog', 'Cat']\n"
     ]
    }
   ],
   "source": [
    "print(numerical_columns)"
   ]
  },
  {
   "cell_type": "code",
   "execution_count": 49,
   "metadata": {},
   "outputs": [
    {
     "ename": "MemoryError",
     "evalue": "Unable to allocate 3.06 GiB for an array with shape (28, 14678400) and data type float64",
     "output_type": "error",
     "traceback": [
      "\u001b[1;31m---------------------------------------------------------------------------\u001b[0m",
      "\u001b[1;31mMemoryError\u001b[0m                               Traceback (most recent call last)",
      "Cell \u001b[1;32mIn[49], line 4\u001b[0m\n\u001b[0;32m      1\u001b[0m \u001b[38;5;124m\"\u001b[39m\u001b[38;5;124mCORRELATION OF THE FEATURES\u001b[39m\u001b[38;5;124m\"\u001b[39m\n\u001b[0;32m      3\u001b[0m \u001b[38;5;66;03m# Calculate the correlation matrix for numerical columns\u001b[39;00m\n\u001b[1;32m----> 4\u001b[0m corr_matrix \u001b[38;5;241m=\u001b[39m df_total[numerical_columns]\u001b[38;5;241m.\u001b[39mcorr()\n\u001b[0;32m      6\u001b[0m \u001b[38;5;66;03m# Set up figure\u001b[39;00m\n\u001b[0;32m      7\u001b[0m plt\u001b[38;5;241m.\u001b[39mfigure(figsize\u001b[38;5;241m=\u001b[39m(\u001b[38;5;241m12\u001b[39m, \u001b[38;5;241m8\u001b[39m))\n",
      "File \u001b[1;32mc:\\Anaconda\\Lib\\site-packages\\pandas\\core\\frame.py:10054\u001b[0m, in \u001b[0;36mDataFrame.corr\u001b[1;34m(self, method, min_periods, numeric_only)\u001b[0m\n\u001b[0;32m  10052\u001b[0m cols \u001b[38;5;241m=\u001b[39m data\u001b[38;5;241m.\u001b[39mcolumns\n\u001b[0;32m  10053\u001b[0m idx \u001b[38;5;241m=\u001b[39m cols\u001b[38;5;241m.\u001b[39mcopy()\n\u001b[1;32m> 10054\u001b[0m mat \u001b[38;5;241m=\u001b[39m data\u001b[38;5;241m.\u001b[39mto_numpy(dtype\u001b[38;5;241m=\u001b[39m\u001b[38;5;28mfloat\u001b[39m, na_value\u001b[38;5;241m=\u001b[39mnp\u001b[38;5;241m.\u001b[39mnan, copy\u001b[38;5;241m=\u001b[39m\u001b[38;5;28;01mFalse\u001b[39;00m)\n\u001b[0;32m  10056\u001b[0m \u001b[38;5;28;01mif\u001b[39;00m method \u001b[38;5;241m==\u001b[39m \u001b[38;5;124m\"\u001b[39m\u001b[38;5;124mpearson\u001b[39m\u001b[38;5;124m\"\u001b[39m:\n\u001b[0;32m  10057\u001b[0m     correl \u001b[38;5;241m=\u001b[39m libalgos\u001b[38;5;241m.\u001b[39mnancorr(mat, minp\u001b[38;5;241m=\u001b[39mmin_periods)\n",
      "File \u001b[1;32mc:\\Anaconda\\Lib\\site-packages\\pandas\\core\\frame.py:1838\u001b[0m, in \u001b[0;36mDataFrame.to_numpy\u001b[1;34m(self, dtype, copy, na_value)\u001b[0m\n\u001b[0;32m   1836\u001b[0m \u001b[38;5;28;01mif\u001b[39;00m dtype \u001b[38;5;129;01mis\u001b[39;00m \u001b[38;5;129;01mnot\u001b[39;00m \u001b[38;5;28;01mNone\u001b[39;00m:\n\u001b[0;32m   1837\u001b[0m     dtype \u001b[38;5;241m=\u001b[39m np\u001b[38;5;241m.\u001b[39mdtype(dtype)\n\u001b[1;32m-> 1838\u001b[0m result \u001b[38;5;241m=\u001b[39m \u001b[38;5;28mself\u001b[39m\u001b[38;5;241m.\u001b[39m_mgr\u001b[38;5;241m.\u001b[39mas_array(dtype\u001b[38;5;241m=\u001b[39mdtype, copy\u001b[38;5;241m=\u001b[39mcopy, na_value\u001b[38;5;241m=\u001b[39mna_value)\n\u001b[0;32m   1839\u001b[0m \u001b[38;5;28;01mif\u001b[39;00m result\u001b[38;5;241m.\u001b[39mdtype \u001b[38;5;129;01mis\u001b[39;00m \u001b[38;5;129;01mnot\u001b[39;00m dtype:\n\u001b[0;32m   1840\u001b[0m     result \u001b[38;5;241m=\u001b[39m np\u001b[38;5;241m.\u001b[39marray(result, dtype\u001b[38;5;241m=\u001b[39mdtype, copy\u001b[38;5;241m=\u001b[39m\u001b[38;5;28;01mFalse\u001b[39;00m)\n",
      "File \u001b[1;32mc:\\Anaconda\\Lib\\site-packages\\pandas\\core\\internals\\managers.py:1724\u001b[0m, in \u001b[0;36mBlockManager.as_array\u001b[1;34m(self, dtype, copy, na_value)\u001b[0m\n\u001b[0;32m   1722\u001b[0m     arr \u001b[38;5;241m=\u001b[39m np\u001b[38;5;241m.\u001b[39masarray(blk\u001b[38;5;241m.\u001b[39mget_values())\n\u001b[0;32m   1723\u001b[0m     \u001b[38;5;28;01mif\u001b[39;00m dtype:\n\u001b[1;32m-> 1724\u001b[0m         arr \u001b[38;5;241m=\u001b[39m arr\u001b[38;5;241m.\u001b[39mastype(dtype, copy\u001b[38;5;241m=\u001b[39m\u001b[38;5;28;01mFalse\u001b[39;00m)\n\u001b[0;32m   1726\u001b[0m \u001b[38;5;28;01mif\u001b[39;00m copy:\n\u001b[0;32m   1727\u001b[0m     arr \u001b[38;5;241m=\u001b[39m arr\u001b[38;5;241m.\u001b[39mcopy()\n",
      "\u001b[1;31mMemoryError\u001b[0m: Unable to allocate 3.06 GiB for an array with shape (28, 14678400) and data type float64"
     ]
    }
   ],
   "source": [
    "\"CORRELATION OF THE FEATURES\"\n",
    "\n",
    "# Calculate the correlation matrix for numerical columns\n",
    "corr_matrix = df_total[numerical_columns].corr()\n",
    "\n",
    "# Set up figure\n",
    "plt.figure(figsize=(12, 8))\n",
    "\n",
    "# Generate a heatmap with the correlation matrix\n",
    "sns.heatmap(corr_matrix, annot=True, fmt=\".2f\", cmap='coolwarm', vmin=-1, vmax=1, linewidths=0.5)\n",
    "\n",
    "# Set title\n",
    "plt.title('Feature Correlation Heatmap', fontsize=16)\n",
    "\n",
    "# Show the plot\n",
    "plt.show()\n"
   ]
  }
 ],
 "metadata": {
  "kernelspec": {
   "display_name": "base",
   "language": "python",
   "name": "python3"
  },
  "language_info": {
   "codemirror_mode": {
    "name": "ipython",
    "version": 3
   },
   "file_extension": ".py",
   "mimetype": "text/x-python",
   "name": "python",
   "nbconvert_exporter": "python",
   "pygments_lexer": "ipython3",
   "version": "3.11.5"
  }
 },
 "nbformat": 4,
 "nbformat_minor": 2
}
