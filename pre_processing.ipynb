{
 "cells": [
  {
   "cell_type": "markdown",
   "metadata": {},
   "source": [
    "## Mme total & llm's"
   ]
  },
  {
   "cell_type": "code",
   "execution_count": 1,
   "metadata": {},
   "outputs": [],
   "source": [
    "# reading datasets\n",
    "\n",
    "import pandas as pd\n",
    "\n",
    "df_mme = pd.read_csv('mme_dataset.csv')\n"
   ]
  },
  {
   "cell_type": "code",
   "execution_count": 2,
   "metadata": {},
   "outputs": [
    {
     "data": {
      "text/plain": [
       "(14384832, 36)"
      ]
     },
     "execution_count": 2,
     "metadata": {},
     "output_type": "execute_result"
    }
   ],
   "source": [
    "df_mme.shape"
   ]
  },
  {
   "cell_type": "code",
   "execution_count": 3,
   "metadata": {},
   "outputs": [],
   "source": [
    "df_llm = pd.read_csv('llm_dataset.csv')"
   ]
  },
  {
   "cell_type": "code",
   "execution_count": 4,
   "metadata": {},
   "outputs": [
    {
     "data": {
      "text/plain": [
       "(293568, 36)"
      ]
     },
     "execution_count": 4,
     "metadata": {},
     "output_type": "execute_result"
    }
   ],
   "source": [
    "df_llm.shape"
   ]
  },
  {
   "cell_type": "code",
   "execution_count": 5,
   "metadata": {},
   "outputs": [],
   "source": [
    "# concatanating the datasets, with mme later cause of ResponseID, and resetting the index\n",
    "\n",
    "df_concat = pd.concat([df_llm, df_mme], axis=0)\n",
    "df_total_complete = df_concat.reset_index(drop=True)"
   ]
  },
  {
   "cell_type": "code",
   "execution_count": 6,
   "metadata": {},
   "outputs": [
    {
     "data": {
      "text/plain": [
       "(14678400, 36)"
      ]
     },
     "execution_count": 6,
     "metadata": {},
     "output_type": "execute_result"
    }
   ],
   "source": [
    "df_total_complete.shape"
   ]
  },
  {
   "cell_type": "code",
   "execution_count": 7,
   "metadata": {},
   "outputs": [
    {
     "data": {
      "text/html": [
       "<div>\n",
       "<style scoped>\n",
       "    .dataframe tbody tr th:only-of-type {\n",
       "        vertical-align: middle;\n",
       "    }\n",
       "\n",
       "    .dataframe tbody tr th {\n",
       "        vertical-align: top;\n",
       "    }\n",
       "\n",
       "    .dataframe thead th {\n",
       "        text-align: right;\n",
       "    }\n",
       "</style>\n",
       "<table border=\"1\" class=\"dataframe\">\n",
       "  <thead>\n",
       "    <tr style=\"text-align: right;\">\n",
       "      <th></th>\n",
       "      <th>ResponseID</th>\n",
       "      <th>UserID</th>\n",
       "      <th>ScenarioOrder</th>\n",
       "      <th>Intervention</th>\n",
       "      <th>PedPed</th>\n",
       "      <th>Barrier</th>\n",
       "      <th>CrossingSignal</th>\n",
       "      <th>AttributeLevel</th>\n",
       "      <th>ScenarioTypeStrict</th>\n",
       "      <th>ScenarioType</th>\n",
       "      <th>...</th>\n",
       "      <th>LargeMan</th>\n",
       "      <th>Criminal</th>\n",
       "      <th>MaleExecutive</th>\n",
       "      <th>FemaleExecutive</th>\n",
       "      <th>FemaleAthlete</th>\n",
       "      <th>MaleAthlete</th>\n",
       "      <th>FemaleDoctor</th>\n",
       "      <th>MaleDoctor</th>\n",
       "      <th>Dog</th>\n",
       "      <th>Cat</th>\n",
       "    </tr>\n",
       "  </thead>\n",
       "  <tbody>\n",
       "    <tr>\n",
       "      <th>0</th>\n",
       "      <td>res_00000000</td>\n",
       "      <td>chatbot</td>\n",
       "      <td>0</td>\n",
       "      <td>0</td>\n",
       "      <td>0</td>\n",
       "      <td>1</td>\n",
       "      <td>0</td>\n",
       "      <td>Hoomans</td>\n",
       "      <td>Species</td>\n",
       "      <td>Species</td>\n",
       "      <td>...</td>\n",
       "      <td>0.0</td>\n",
       "      <td>0.0</td>\n",
       "      <td>0.0</td>\n",
       "      <td>0.0</td>\n",
       "      <td>0.0</td>\n",
       "      <td>0.0</td>\n",
       "      <td>1.0</td>\n",
       "      <td>0.0</td>\n",
       "      <td>0.0</td>\n",
       "      <td>0.0</td>\n",
       "    </tr>\n",
       "    <tr>\n",
       "      <th>1</th>\n",
       "      <td>res_00000000</td>\n",
       "      <td>chatbot</td>\n",
       "      <td>0</td>\n",
       "      <td>1</td>\n",
       "      <td>0</td>\n",
       "      <td>0</td>\n",
       "      <td>0</td>\n",
       "      <td>Pets</td>\n",
       "      <td>Species</td>\n",
       "      <td>Species</td>\n",
       "      <td>...</td>\n",
       "      <td>0.0</td>\n",
       "      <td>0.0</td>\n",
       "      <td>0.0</td>\n",
       "      <td>0.0</td>\n",
       "      <td>0.0</td>\n",
       "      <td>0.0</td>\n",
       "      <td>0.0</td>\n",
       "      <td>0.0</td>\n",
       "      <td>1.0</td>\n",
       "      <td>2.0</td>\n",
       "    </tr>\n",
       "    <tr>\n",
       "      <th>2</th>\n",
       "      <td>res_00000001</td>\n",
       "      <td>chatbot</td>\n",
       "      <td>0</td>\n",
       "      <td>0</td>\n",
       "      <td>0</td>\n",
       "      <td>1</td>\n",
       "      <td>0</td>\n",
       "      <td>Male</td>\n",
       "      <td>Gender</td>\n",
       "      <td>Gender</td>\n",
       "      <td>...</td>\n",
       "      <td>0.0</td>\n",
       "      <td>0.0</td>\n",
       "      <td>0.0</td>\n",
       "      <td>0.0</td>\n",
       "      <td>0.0</td>\n",
       "      <td>0.0</td>\n",
       "      <td>0.0</td>\n",
       "      <td>0.0</td>\n",
       "      <td>0.0</td>\n",
       "      <td>0.0</td>\n",
       "    </tr>\n",
       "    <tr>\n",
       "      <th>3</th>\n",
       "      <td>res_00000001</td>\n",
       "      <td>chatbot</td>\n",
       "      <td>0</td>\n",
       "      <td>1</td>\n",
       "      <td>0</td>\n",
       "      <td>0</td>\n",
       "      <td>2</td>\n",
       "      <td>Female</td>\n",
       "      <td>Gender</td>\n",
       "      <td>Gender</td>\n",
       "      <td>...</td>\n",
       "      <td>0.0</td>\n",
       "      <td>0.0</td>\n",
       "      <td>0.0</td>\n",
       "      <td>0.0</td>\n",
       "      <td>0.0</td>\n",
       "      <td>0.0</td>\n",
       "      <td>0.0</td>\n",
       "      <td>0.0</td>\n",
       "      <td>0.0</td>\n",
       "      <td>0.0</td>\n",
       "    </tr>\n",
       "    <tr>\n",
       "      <th>4</th>\n",
       "      <td>res_00000002</td>\n",
       "      <td>chatbot</td>\n",
       "      <td>0</td>\n",
       "      <td>1</td>\n",
       "      <td>1</td>\n",
       "      <td>0</td>\n",
       "      <td>2</td>\n",
       "      <td>Young</td>\n",
       "      <td>Age</td>\n",
       "      <td>Age</td>\n",
       "      <td>...</td>\n",
       "      <td>0.0</td>\n",
       "      <td>0.0</td>\n",
       "      <td>0.0</td>\n",
       "      <td>0.0</td>\n",
       "      <td>0.0</td>\n",
       "      <td>0.0</td>\n",
       "      <td>0.0</td>\n",
       "      <td>0.0</td>\n",
       "      <td>0.0</td>\n",
       "      <td>0.0</td>\n",
       "    </tr>\n",
       "  </tbody>\n",
       "</table>\n",
       "<p>5 rows × 36 columns</p>\n",
       "</div>"
      ],
      "text/plain": [
       "     ResponseID   UserID  ScenarioOrder  Intervention  PedPed  Barrier  \\\n",
       "0  res_00000000  chatbot              0             0       0        1   \n",
       "1  res_00000000  chatbot              0             1       0        0   \n",
       "2  res_00000001  chatbot              0             0       0        1   \n",
       "3  res_00000001  chatbot              0             1       0        0   \n",
       "4  res_00000002  chatbot              0             1       1        0   \n",
       "\n",
       "   CrossingSignal AttributeLevel ScenarioTypeStrict ScenarioType  ...  \\\n",
       "0               0        Hoomans            Species      Species  ...   \n",
       "1               0           Pets            Species      Species  ...   \n",
       "2               0           Male             Gender       Gender  ...   \n",
       "3               2         Female             Gender       Gender  ...   \n",
       "4               2          Young                Age          Age  ...   \n",
       "\n",
       "   LargeMan  Criminal  MaleExecutive  FemaleExecutive  FemaleAthlete  \\\n",
       "0       0.0       0.0            0.0              0.0            0.0   \n",
       "1       0.0       0.0            0.0              0.0            0.0   \n",
       "2       0.0       0.0            0.0              0.0            0.0   \n",
       "3       0.0       0.0            0.0              0.0            0.0   \n",
       "4       0.0       0.0            0.0              0.0            0.0   \n",
       "\n",
       "  MaleAthlete  FemaleDoctor  MaleDoctor  Dog  Cat  \n",
       "0         0.0           1.0         0.0  0.0  0.0  \n",
       "1         0.0           0.0         0.0  1.0  2.0  \n",
       "2         0.0           0.0         0.0  0.0  0.0  \n",
       "3         0.0           0.0         0.0  0.0  0.0  \n",
       "4         0.0           0.0         0.0  0.0  0.0  \n",
       "\n",
       "[5 rows x 36 columns]"
      ]
     },
     "execution_count": 7,
     "metadata": {},
     "output_type": "execute_result"
    }
   ],
   "source": [
    "df_total_complete.head()"
   ]
  },
  {
   "cell_type": "code",
   "execution_count": 8,
   "metadata": {},
   "outputs": [
    {
     "data": {
      "text/html": [
       "<div>\n",
       "<style scoped>\n",
       "    .dataframe tbody tr th:only-of-type {\n",
       "        vertical-align: middle;\n",
       "    }\n",
       "\n",
       "    .dataframe tbody tr th {\n",
       "        vertical-align: top;\n",
       "    }\n",
       "\n",
       "    .dataframe thead th {\n",
       "        text-align: right;\n",
       "    }\n",
       "</style>\n",
       "<table border=\"1\" class=\"dataframe\">\n",
       "  <thead>\n",
       "    <tr style=\"text-align: right;\">\n",
       "      <th></th>\n",
       "      <th>ResponseID</th>\n",
       "      <th>UserID</th>\n",
       "      <th>ScenarioOrder</th>\n",
       "      <th>Intervention</th>\n",
       "      <th>PedPed</th>\n",
       "      <th>Barrier</th>\n",
       "      <th>CrossingSignal</th>\n",
       "      <th>AttributeLevel</th>\n",
       "      <th>ScenarioTypeStrict</th>\n",
       "      <th>ScenarioType</th>\n",
       "      <th>...</th>\n",
       "      <th>LargeMan</th>\n",
       "      <th>Criminal</th>\n",
       "      <th>MaleExecutive</th>\n",
       "      <th>FemaleExecutive</th>\n",
       "      <th>FemaleAthlete</th>\n",
       "      <th>MaleAthlete</th>\n",
       "      <th>FemaleDoctor</th>\n",
       "      <th>MaleDoctor</th>\n",
       "      <th>Dog</th>\n",
       "      <th>Cat</th>\n",
       "    </tr>\n",
       "  </thead>\n",
       "  <tbody>\n",
       "    <tr>\n",
       "      <th>14678395</th>\n",
       "      <td>res_07339197</td>\n",
       "      <td>2722777491.0</td>\n",
       "      <td>12</td>\n",
       "      <td>1</td>\n",
       "      <td>1</td>\n",
       "      <td>0</td>\n",
       "      <td>0</td>\n",
       "      <td>Less</td>\n",
       "      <td>Utilitarian</td>\n",
       "      <td>Utilitarian</td>\n",
       "      <td>...</td>\n",
       "      <td>1.0</td>\n",
       "      <td>0.0</td>\n",
       "      <td>1.0</td>\n",
       "      <td>0.0</td>\n",
       "      <td>0.0</td>\n",
       "      <td>0.0</td>\n",
       "      <td>1.0</td>\n",
       "      <td>0.0</td>\n",
       "      <td>0.0</td>\n",
       "      <td>0.0</td>\n",
       "    </tr>\n",
       "    <tr>\n",
       "      <th>14678396</th>\n",
       "      <td>res_07339198</td>\n",
       "      <td>8006215139757840.0</td>\n",
       "      <td>8</td>\n",
       "      <td>1</td>\n",
       "      <td>0</td>\n",
       "      <td>0</td>\n",
       "      <td>2</td>\n",
       "      <td>Fat</td>\n",
       "      <td>Fitness</td>\n",
       "      <td>Fitness</td>\n",
       "      <td>...</td>\n",
       "      <td>0.0</td>\n",
       "      <td>0.0</td>\n",
       "      <td>0.0</td>\n",
       "      <td>0.0</td>\n",
       "      <td>0.0</td>\n",
       "      <td>0.0</td>\n",
       "      <td>0.0</td>\n",
       "      <td>0.0</td>\n",
       "      <td>0.0</td>\n",
       "      <td>0.0</td>\n",
       "    </tr>\n",
       "    <tr>\n",
       "      <th>14678397</th>\n",
       "      <td>res_07339198</td>\n",
       "      <td>3453341116.0</td>\n",
       "      <td>9</td>\n",
       "      <td>1</td>\n",
       "      <td>0</td>\n",
       "      <td>0</td>\n",
       "      <td>0</td>\n",
       "      <td>Male</td>\n",
       "      <td>Gender</td>\n",
       "      <td>Gender</td>\n",
       "      <td>...</td>\n",
       "      <td>2.0</td>\n",
       "      <td>0.0</td>\n",
       "      <td>1.0</td>\n",
       "      <td>0.0</td>\n",
       "      <td>0.0</td>\n",
       "      <td>0.0</td>\n",
       "      <td>0.0</td>\n",
       "      <td>0.0</td>\n",
       "      <td>0.0</td>\n",
       "      <td>0.0</td>\n",
       "    </tr>\n",
       "    <tr>\n",
       "      <th>14678398</th>\n",
       "      <td>res_07339199</td>\n",
       "      <td>4126242148.0</td>\n",
       "      <td>3</td>\n",
       "      <td>1</td>\n",
       "      <td>1</td>\n",
       "      <td>0</td>\n",
       "      <td>1</td>\n",
       "      <td>Fat</td>\n",
       "      <td>Fitness</td>\n",
       "      <td>Fitness</td>\n",
       "      <td>...</td>\n",
       "      <td>0.0</td>\n",
       "      <td>0.0</td>\n",
       "      <td>0.0</td>\n",
       "      <td>0.0</td>\n",
       "      <td>0.0</td>\n",
       "      <td>0.0</td>\n",
       "      <td>0.0</td>\n",
       "      <td>0.0</td>\n",
       "      <td>0.0</td>\n",
       "      <td>0.0</td>\n",
       "    </tr>\n",
       "    <tr>\n",
       "      <th>14678399</th>\n",
       "      <td>res_07339199</td>\n",
       "      <td>411438207332712.0</td>\n",
       "      <td>10</td>\n",
       "      <td>1</td>\n",
       "      <td>0</td>\n",
       "      <td>0</td>\n",
       "      <td>0</td>\n",
       "      <td>More</td>\n",
       "      <td>Utilitarian</td>\n",
       "      <td>Utilitarian</td>\n",
       "      <td>...</td>\n",
       "      <td>0.0</td>\n",
       "      <td>1.0</td>\n",
       "      <td>0.0</td>\n",
       "      <td>0.0</td>\n",
       "      <td>1.0</td>\n",
       "      <td>0.0</td>\n",
       "      <td>0.0</td>\n",
       "      <td>0.0</td>\n",
       "      <td>0.0</td>\n",
       "      <td>1.0</td>\n",
       "    </tr>\n",
       "  </tbody>\n",
       "</table>\n",
       "<p>5 rows × 36 columns</p>\n",
       "</div>"
      ],
      "text/plain": [
       "            ResponseID              UserID  ScenarioOrder  Intervention  \\\n",
       "14678395  res_07339197        2722777491.0             12             1   \n",
       "14678396  res_07339198  8006215139757840.0              8             1   \n",
       "14678397  res_07339198        3453341116.0              9             1   \n",
       "14678398  res_07339199        4126242148.0              3             1   \n",
       "14678399  res_07339199   411438207332712.0             10             1   \n",
       "\n",
       "          PedPed  Barrier  CrossingSignal AttributeLevel ScenarioTypeStrict  \\\n",
       "14678395       1        0               0           Less        Utilitarian   \n",
       "14678396       0        0               2            Fat            Fitness   \n",
       "14678397       0        0               0           Male             Gender   \n",
       "14678398       1        0               1            Fat            Fitness   \n",
       "14678399       0        0               0           More        Utilitarian   \n",
       "\n",
       "         ScenarioType  ...  LargeMan  Criminal  MaleExecutive  \\\n",
       "14678395  Utilitarian  ...       1.0       0.0            1.0   \n",
       "14678396      Fitness  ...       0.0       0.0            0.0   \n",
       "14678397       Gender  ...       2.0       0.0            1.0   \n",
       "14678398      Fitness  ...       0.0       0.0            0.0   \n",
       "14678399  Utilitarian  ...       0.0       1.0            0.0   \n",
       "\n",
       "          FemaleExecutive  FemaleAthlete MaleAthlete  FemaleDoctor  \\\n",
       "14678395              0.0            0.0         0.0           1.0   \n",
       "14678396              0.0            0.0         0.0           0.0   \n",
       "14678397              0.0            0.0         0.0           0.0   \n",
       "14678398              0.0            0.0         0.0           0.0   \n",
       "14678399              0.0            1.0         0.0           0.0   \n",
       "\n",
       "          MaleDoctor  Dog  Cat  \n",
       "14678395         0.0  0.0  0.0  \n",
       "14678396         0.0  0.0  0.0  \n",
       "14678397         0.0  0.0  0.0  \n",
       "14678398         0.0  0.0  0.0  \n",
       "14678399         0.0  0.0  1.0  \n",
       "\n",
       "[5 rows x 36 columns]"
      ]
     },
     "execution_count": 8,
     "metadata": {},
     "output_type": "execute_result"
    }
   ],
   "source": [
    "df_total_complete.tail()"
   ]
  },
  {
   "cell_type": "code",
   "execution_count": 9,
   "metadata": {},
   "outputs": [
    {
     "data": {
      "text/plain": [
       "Index(['ResponseID', 'UserID', 'ScenarioOrder', 'Intervention', 'PedPed',\n",
       "       'Barrier', 'CrossingSignal', 'AttributeLevel', 'ScenarioTypeStrict',\n",
       "       'ScenarioType', 'NumberOfCharacters', 'DiffNumberOFCharacters', 'Saved',\n",
       "       'DescriptionShown', 'LeftHand', 'UserCountry3', 'Man', 'Woman',\n",
       "       'Pregnant', 'Stroller', 'OldMan', 'OldWoman', 'Boy', 'Girl', 'Homeless',\n",
       "       'LargeWoman', 'LargeMan', 'Criminal', 'MaleExecutive',\n",
       "       'FemaleExecutive', 'FemaleAthlete', 'MaleAthlete', 'FemaleDoctor',\n",
       "       'MaleDoctor', 'Dog', 'Cat'],\n",
       "      dtype='object')"
      ]
     },
     "execution_count": 9,
     "metadata": {},
     "output_type": "execute_result"
    }
   ],
   "source": [
    "df_total_complete.columns"
   ]
  },
  {
   "cell_type": "code",
   "execution_count": null,
   "metadata": {},
   "outputs": [],
   "source": [
    "# some EDA on the country column to assess the distribution of the user ethnicity/culture\n",
    "# Can't do this later as then the column will be removed because of identifyable information - the LLM dataset does not have country information\n",
    "\n",
    "# checking which countries are in the dataset, and what their frequency is\n",
    "# need this for the comparison with the non_western_dataset\n",
    "\n",
    "print(df_total_complete['UserCountry3'].value_counts())"
   ]
  },
  {
   "cell_type": "code",
   "execution_count": null,
   "metadata": {},
   "outputs": [],
   "source": [
    "# List of countries considered 'Western' from the UN\n",
    "\n",
    "countries = [\"AND\",  \"AUS\", \"AUT\", \"BEL\", \"CAN\", \"CHE\", \"DNK\", \"DEU\", \"ESP\", \"FIN\",  \"FRA\",  \"GBR\",  \"GRC\",  \"IRL\", \n",
    "            \"ISR\", \"ISL\", \"ITA\", \"LIE\", \"LUX\", \"MLT\", \"MCO\", \"NLD\", \"NOR\", \"NZL\", \"PRT\", \"SMR\", \"SWE\", \"TUR\", \"USA\" ]\n",
    "\n",
    "# Andorra, Australia, Austria, Belgium, Canada, Switzerland, Denmark, Germany, Spain, Finland, France, United Kingdom, Greece, Ireland, \n",
    "# Israel, Iceland, Italy, Liechtenstein, Luxembourg, Malta, Monaco, Netherlands, Norway, New Zealand, Portugal, San Marino, Sweden, Turkey, USA"
   ]
  },
  {
   "cell_type": "code",
   "execution_count": null,
   "metadata": {},
   "outputs": [
    {
     "name": "stdout",
     "output_type": "stream",
     "text": [
      "Number of rows Western: 9917118\n",
      "Rounded % Western: 69\n",
      "Unrounded % Western: 68.94149337301958\n"
     ]
    }
   ],
   "source": [
    "# what number of rows that is from western countries?\n",
    "\n",
    "total_western = df_total_complete['UserCountry3'].isin(countries).sum()\n",
    "print(f\"Number of rows Western: {total_western}\")\n",
    "\n",
    "# this is % of the dataset that is from Western countries\n",
    "print(f\"Rounded % Western: {round(total_western /len(df_total_complete)*100)}\")    # rounded percentage\n",
    "print(f\"Unrounded % Western: {total_western /len(df_total_complete)*100}\")           # exact percentage"
   ]
  },
  {
   "cell_type": "code",
   "execution_count": 10,
   "metadata": {},
   "outputs": [],
   "source": [
    "# dropping the columns that are not needed\n",
    "\n",
    "df_total = df_total_complete.drop(['ScenarioType', 'ScenarioOrder', 'DescriptionShown', 'LeftHand', 'UserCountry3'], axis=1)"
   ]
  },
  {
   "cell_type": "code",
   "execution_count": 11,
   "metadata": {},
   "outputs": [
    {
     "data": {
      "text/plain": [
       "(14678400, 31)"
      ]
     },
     "execution_count": 11,
     "metadata": {},
     "output_type": "execute_result"
    }
   ],
   "source": [
    "df_total.shape"
   ]
  },
  {
   "cell_type": "code",
   "execution_count": 12,
   "metadata": {},
   "outputs": [
    {
     "data": {
      "text/plain": [
       "ResponseID                0\n",
       "UserID                    0\n",
       "Intervention              0\n",
       "PedPed                    0\n",
       "Barrier                   0\n",
       "CrossingSignal            0\n",
       "AttributeLevel            0\n",
       "ScenarioTypeStrict        0\n",
       "NumberOfCharacters        0\n",
       "DiffNumberOFCharacters    0\n",
       "Saved                     0\n",
       "Man                       0\n",
       "Woman                     0\n",
       "Pregnant                  0\n",
       "Stroller                  0\n",
       "OldMan                    0\n",
       "OldWoman                  0\n",
       "Boy                       0\n",
       "Girl                      0\n",
       "Homeless                  0\n",
       "LargeWoman                0\n",
       "LargeMan                  0\n",
       "Criminal                  0\n",
       "MaleExecutive             0\n",
       "FemaleExecutive           0\n",
       "FemaleAthlete             0\n",
       "MaleAthlete               0\n",
       "FemaleDoctor              0\n",
       "MaleDoctor                0\n",
       "Dog                       0\n",
       "Cat                       0\n",
       "dtype: int64"
      ]
     },
     "execution_count": 12,
     "metadata": {},
     "output_type": "execute_result"
    }
   ],
   "source": [
    "# checking the missing values\n",
    "\n",
    "df_total.isnull().sum()\n",
    "\n",
    "# there are no missing values in the dataset"
   ]
  },
  {
   "cell_type": "code",
   "execution_count": 14,
   "metadata": {},
   "outputs": [],
   "source": [
    "# binarizing UserID\n",
    "# we know from EDA of llm_dataset that userID for llms are always 'chatbot'. We will encode this as 1 and all other userIDs as 0 (which are humans)\n",
    "\n",
    "df_total['UserID'] = df_total['UserID'].apply(lambda x: 1 if x == 'chatbot' else 0)"
   ]
  },
  {
   "cell_type": "code",
   "execution_count": 15,
   "metadata": {},
   "outputs": [
    {
     "data": {
      "text/plain": [
       "UserID\n",
       "0    14384832\n",
       "1      293568\n",
       "Name: count, dtype: int64"
      ]
     },
     "execution_count": 15,
     "metadata": {},
     "output_type": "execute_result"
    }
   ],
   "source": [
    "df_total['UserID'].value_counts()"
   ]
  },
  {
   "cell_type": "code",
   "execution_count": 17,
   "metadata": {},
   "outputs": [
    {
     "data": {
      "text/plain": [
       "UserID\n",
       "0    0.98\n",
       "1    0.02\n",
       "Name: proportion, dtype: float64"
      ]
     },
     "execution_count": 17,
     "metadata": {},
     "output_type": "execute_result"
    }
   ],
   "source": [
    "# checking if 2% is llm\n",
    "df_total['UserID'].value_counts(normalize=True)\n",
    "\n",
    "# yes it is true"
   ]
  },
  {
   "cell_type": "code",
   "execution_count": 13,
   "metadata": {},
   "outputs": [],
   "source": [
    "df_total.to_csv('total_dataset.csv', index=False)"
   ]
  },
  {
   "cell_type": "markdown",
   "metadata": {},
   "source": [
    "## Mme Non-Western & llm's"
   ]
  },
  {
   "cell_type": "code",
   "execution_count": 1,
   "metadata": {},
   "outputs": [
    {
     "name": "stderr",
     "output_type": "stream",
     "text": [
      "C:\\Users\\esmku\\AppData\\Local\\Temp\\ipykernel_2788\\818384689.py:5: DtypeWarning: Columns (16) have mixed types. Specify dtype option on import or set low_memory=False.\n",
      "  df_nw = pd.read_csv('non_western_dataset.csv')\n"
     ]
    }
   ],
   "source": [
    "# reading datasets\n",
    "\n",
    "import pandas as pd\n",
    "\n",
    "df_nw = pd.read_csv('non_western_dataset.csv')\n"
   ]
  },
  {
   "cell_type": "code",
   "execution_count": 2,
   "metadata": {},
   "outputs": [
    {
     "data": {
      "text/plain": [
       "(14384832, 36)"
      ]
     },
     "execution_count": 2,
     "metadata": {},
     "output_type": "execute_result"
    }
   ],
   "source": [
    "df_nw.shape"
   ]
  },
  {
   "cell_type": "code",
   "execution_count": 3,
   "metadata": {},
   "outputs": [],
   "source": [
    "df_llm = pd.read_csv('llm_dataset.csv')"
   ]
  },
  {
   "cell_type": "code",
   "execution_count": 4,
   "metadata": {},
   "outputs": [
    {
     "data": {
      "text/plain": [
       "(293568, 36)"
      ]
     },
     "execution_count": 4,
     "metadata": {},
     "output_type": "execute_result"
    }
   ],
   "source": [
    "df_llm.shape"
   ]
  },
  {
   "cell_type": "code",
   "execution_count": 12,
   "metadata": {},
   "outputs": [],
   "source": [
    "# concatanating the datasets, with mme later cause of ResponseID, and resetting the index\n",
    "\n",
    "df_concat = pd.concat([df_llm, df_nw], axis=0)\n",
    "df_total_complete_nw = df_concat.reset_index(drop=True)"
   ]
  },
  {
   "cell_type": "code",
   "execution_count": 13,
   "metadata": {},
   "outputs": [
    {
     "data": {
      "text/plain": [
       "(14678400, 36)"
      ]
     },
     "execution_count": 13,
     "metadata": {},
     "output_type": "execute_result"
    }
   ],
   "source": [
    "df_total_complete_nw.shape"
   ]
  },
  {
   "cell_type": "code",
   "execution_count": 14,
   "metadata": {},
   "outputs": [
    {
     "data": {
      "text/html": [
       "<div>\n",
       "<style scoped>\n",
       "    .dataframe tbody tr th:only-of-type {\n",
       "        vertical-align: middle;\n",
       "    }\n",
       "\n",
       "    .dataframe tbody tr th {\n",
       "        vertical-align: top;\n",
       "    }\n",
       "\n",
       "    .dataframe thead th {\n",
       "        text-align: right;\n",
       "    }\n",
       "</style>\n",
       "<table border=\"1\" class=\"dataframe\">\n",
       "  <thead>\n",
       "    <tr style=\"text-align: right;\">\n",
       "      <th></th>\n",
       "      <th>ResponseID</th>\n",
       "      <th>UserID</th>\n",
       "      <th>ScenarioOrder</th>\n",
       "      <th>Intervention</th>\n",
       "      <th>PedPed</th>\n",
       "      <th>Barrier</th>\n",
       "      <th>CrossingSignal</th>\n",
       "      <th>AttributeLevel</th>\n",
       "      <th>ScenarioTypeStrict</th>\n",
       "      <th>ScenarioType</th>\n",
       "      <th>...</th>\n",
       "      <th>LargeMan</th>\n",
       "      <th>Criminal</th>\n",
       "      <th>MaleExecutive</th>\n",
       "      <th>FemaleExecutive</th>\n",
       "      <th>FemaleAthlete</th>\n",
       "      <th>MaleAthlete</th>\n",
       "      <th>FemaleDoctor</th>\n",
       "      <th>MaleDoctor</th>\n",
       "      <th>Dog</th>\n",
       "      <th>Cat</th>\n",
       "    </tr>\n",
       "  </thead>\n",
       "  <tbody>\n",
       "    <tr>\n",
       "      <th>0</th>\n",
       "      <td>res_00000000</td>\n",
       "      <td>chatbot</td>\n",
       "      <td>0</td>\n",
       "      <td>0</td>\n",
       "      <td>0</td>\n",
       "      <td>1</td>\n",
       "      <td>0</td>\n",
       "      <td>Hoomans</td>\n",
       "      <td>Species</td>\n",
       "      <td>Species</td>\n",
       "      <td>...</td>\n",
       "      <td>0.0</td>\n",
       "      <td>0.0</td>\n",
       "      <td>0.0</td>\n",
       "      <td>0.0</td>\n",
       "      <td>0.0</td>\n",
       "      <td>0.0</td>\n",
       "      <td>1.0</td>\n",
       "      <td>0.0</td>\n",
       "      <td>0.0</td>\n",
       "      <td>0.0</td>\n",
       "    </tr>\n",
       "    <tr>\n",
       "      <th>1</th>\n",
       "      <td>res_00000000</td>\n",
       "      <td>chatbot</td>\n",
       "      <td>0</td>\n",
       "      <td>1</td>\n",
       "      <td>0</td>\n",
       "      <td>0</td>\n",
       "      <td>0</td>\n",
       "      <td>Pets</td>\n",
       "      <td>Species</td>\n",
       "      <td>Species</td>\n",
       "      <td>...</td>\n",
       "      <td>0.0</td>\n",
       "      <td>0.0</td>\n",
       "      <td>0.0</td>\n",
       "      <td>0.0</td>\n",
       "      <td>0.0</td>\n",
       "      <td>0.0</td>\n",
       "      <td>0.0</td>\n",
       "      <td>0.0</td>\n",
       "      <td>1.0</td>\n",
       "      <td>2.0</td>\n",
       "    </tr>\n",
       "    <tr>\n",
       "      <th>2</th>\n",
       "      <td>res_00000001</td>\n",
       "      <td>chatbot</td>\n",
       "      <td>0</td>\n",
       "      <td>0</td>\n",
       "      <td>0</td>\n",
       "      <td>1</td>\n",
       "      <td>0</td>\n",
       "      <td>Male</td>\n",
       "      <td>Gender</td>\n",
       "      <td>Gender</td>\n",
       "      <td>...</td>\n",
       "      <td>0.0</td>\n",
       "      <td>0.0</td>\n",
       "      <td>0.0</td>\n",
       "      <td>0.0</td>\n",
       "      <td>0.0</td>\n",
       "      <td>0.0</td>\n",
       "      <td>0.0</td>\n",
       "      <td>0.0</td>\n",
       "      <td>0.0</td>\n",
       "      <td>0.0</td>\n",
       "    </tr>\n",
       "    <tr>\n",
       "      <th>3</th>\n",
       "      <td>res_00000001</td>\n",
       "      <td>chatbot</td>\n",
       "      <td>0</td>\n",
       "      <td>1</td>\n",
       "      <td>0</td>\n",
       "      <td>0</td>\n",
       "      <td>2</td>\n",
       "      <td>Female</td>\n",
       "      <td>Gender</td>\n",
       "      <td>Gender</td>\n",
       "      <td>...</td>\n",
       "      <td>0.0</td>\n",
       "      <td>0.0</td>\n",
       "      <td>0.0</td>\n",
       "      <td>0.0</td>\n",
       "      <td>0.0</td>\n",
       "      <td>0.0</td>\n",
       "      <td>0.0</td>\n",
       "      <td>0.0</td>\n",
       "      <td>0.0</td>\n",
       "      <td>0.0</td>\n",
       "    </tr>\n",
       "    <tr>\n",
       "      <th>4</th>\n",
       "      <td>res_00000002</td>\n",
       "      <td>chatbot</td>\n",
       "      <td>0</td>\n",
       "      <td>1</td>\n",
       "      <td>1</td>\n",
       "      <td>0</td>\n",
       "      <td>2</td>\n",
       "      <td>Young</td>\n",
       "      <td>Age</td>\n",
       "      <td>Age</td>\n",
       "      <td>...</td>\n",
       "      <td>0.0</td>\n",
       "      <td>0.0</td>\n",
       "      <td>0.0</td>\n",
       "      <td>0.0</td>\n",
       "      <td>0.0</td>\n",
       "      <td>0.0</td>\n",
       "      <td>0.0</td>\n",
       "      <td>0.0</td>\n",
       "      <td>0.0</td>\n",
       "      <td>0.0</td>\n",
       "    </tr>\n",
       "  </tbody>\n",
       "</table>\n",
       "<p>5 rows × 36 columns</p>\n",
       "</div>"
      ],
      "text/plain": [
       "     ResponseID   UserID  ScenarioOrder  Intervention  PedPed  Barrier  \\\n",
       "0  res_00000000  chatbot              0             0       0        1   \n",
       "1  res_00000000  chatbot              0             1       0        0   \n",
       "2  res_00000001  chatbot              0             0       0        1   \n",
       "3  res_00000001  chatbot              0             1       0        0   \n",
       "4  res_00000002  chatbot              0             1       1        0   \n",
       "\n",
       "   CrossingSignal AttributeLevel ScenarioTypeStrict ScenarioType  ...  \\\n",
       "0               0        Hoomans            Species      Species  ...   \n",
       "1               0           Pets            Species      Species  ...   \n",
       "2               0           Male             Gender       Gender  ...   \n",
       "3               2         Female             Gender       Gender  ...   \n",
       "4               2          Young                Age          Age  ...   \n",
       "\n",
       "   LargeMan  Criminal  MaleExecutive  FemaleExecutive  FemaleAthlete  \\\n",
       "0       0.0       0.0            0.0              0.0            0.0   \n",
       "1       0.0       0.0            0.0              0.0            0.0   \n",
       "2       0.0       0.0            0.0              0.0            0.0   \n",
       "3       0.0       0.0            0.0              0.0            0.0   \n",
       "4       0.0       0.0            0.0              0.0            0.0   \n",
       "\n",
       "  MaleAthlete FemaleDoctor  MaleDoctor  Dog  Cat  \n",
       "0         0.0          1.0         0.0  0.0  0.0  \n",
       "1         0.0          0.0         0.0  1.0  2.0  \n",
       "2         0.0          0.0         0.0  0.0  0.0  \n",
       "3         0.0          0.0         0.0  0.0  0.0  \n",
       "4         0.0          0.0         0.0  0.0  0.0  \n",
       "\n",
       "[5 rows x 36 columns]"
      ]
     },
     "execution_count": 14,
     "metadata": {},
     "output_type": "execute_result"
    }
   ],
   "source": [
    "df_total_complete_nw.head()"
   ]
  },
  {
   "cell_type": "code",
   "execution_count": 15,
   "metadata": {},
   "outputs": [
    {
     "data": {
      "text/html": [
       "<div>\n",
       "<style scoped>\n",
       "    .dataframe tbody tr th:only-of-type {\n",
       "        vertical-align: middle;\n",
       "    }\n",
       "\n",
       "    .dataframe tbody tr th {\n",
       "        vertical-align: top;\n",
       "    }\n",
       "\n",
       "    .dataframe thead th {\n",
       "        text-align: right;\n",
       "    }\n",
       "</style>\n",
       "<table border=\"1\" class=\"dataframe\">\n",
       "  <thead>\n",
       "    <tr style=\"text-align: right;\">\n",
       "      <th></th>\n",
       "      <th>ResponseID</th>\n",
       "      <th>UserID</th>\n",
       "      <th>ScenarioOrder</th>\n",
       "      <th>Intervention</th>\n",
       "      <th>PedPed</th>\n",
       "      <th>Barrier</th>\n",
       "      <th>CrossingSignal</th>\n",
       "      <th>AttributeLevel</th>\n",
       "      <th>ScenarioTypeStrict</th>\n",
       "      <th>ScenarioType</th>\n",
       "      <th>...</th>\n",
       "      <th>LargeMan</th>\n",
       "      <th>Criminal</th>\n",
       "      <th>MaleExecutive</th>\n",
       "      <th>FemaleExecutive</th>\n",
       "      <th>FemaleAthlete</th>\n",
       "      <th>MaleAthlete</th>\n",
       "      <th>FemaleDoctor</th>\n",
       "      <th>MaleDoctor</th>\n",
       "      <th>Dog</th>\n",
       "      <th>Cat</th>\n",
       "    </tr>\n",
       "  </thead>\n",
       "  <tbody>\n",
       "    <tr>\n",
       "      <th>14678395</th>\n",
       "      <td>res_07339197</td>\n",
       "      <td>653858658.0</td>\n",
       "      <td>13</td>\n",
       "      <td>1</td>\n",
       "      <td>0</td>\n",
       "      <td>0</td>\n",
       "      <td>0</td>\n",
       "      <td>Fat</td>\n",
       "      <td>Fitness</td>\n",
       "      <td>Fitness</td>\n",
       "      <td>...</td>\n",
       "      <td>2.0</td>\n",
       "      <td>0.0</td>\n",
       "      <td>0.0</td>\n",
       "      <td>0.0</td>\n",
       "      <td>0.0</td>\n",
       "      <td>0.0</td>\n",
       "      <td>0.0</td>\n",
       "      <td>0.0</td>\n",
       "      <td>0.0</td>\n",
       "      <td>0.0</td>\n",
       "    </tr>\n",
       "    <tr>\n",
       "      <th>14678396</th>\n",
       "      <td>res_07339198</td>\n",
       "      <td>8584219519940750.0</td>\n",
       "      <td>6</td>\n",
       "      <td>1</td>\n",
       "      <td>1</td>\n",
       "      <td>0</td>\n",
       "      <td>1</td>\n",
       "      <td>Pets</td>\n",
       "      <td>Species</td>\n",
       "      <td>Species</td>\n",
       "      <td>...</td>\n",
       "      <td>0.0</td>\n",
       "      <td>0.0</td>\n",
       "      <td>0.0</td>\n",
       "      <td>0.0</td>\n",
       "      <td>0.0</td>\n",
       "      <td>0.0</td>\n",
       "      <td>0.0</td>\n",
       "      <td>0.0</td>\n",
       "      <td>2.0</td>\n",
       "      <td>2.0</td>\n",
       "    </tr>\n",
       "    <tr>\n",
       "      <th>14678397</th>\n",
       "      <td>res_07339198</td>\n",
       "      <td>1451013350.0</td>\n",
       "      <td>1</td>\n",
       "      <td>1</td>\n",
       "      <td>1</td>\n",
       "      <td>0</td>\n",
       "      <td>0</td>\n",
       "      <td>More</td>\n",
       "      <td>Utilitarian</td>\n",
       "      <td>Utilitarian</td>\n",
       "      <td>...</td>\n",
       "      <td>0.0</td>\n",
       "      <td>0.0</td>\n",
       "      <td>0.0</td>\n",
       "      <td>0.0</td>\n",
       "      <td>0.0</td>\n",
       "      <td>0.0</td>\n",
       "      <td>0.0</td>\n",
       "      <td>0.0</td>\n",
       "      <td>0.0</td>\n",
       "      <td>0.0</td>\n",
       "    </tr>\n",
       "    <tr>\n",
       "      <th>14678398</th>\n",
       "      <td>res_07339199</td>\n",
       "      <td>742769765189808.0</td>\n",
       "      <td>5</td>\n",
       "      <td>1</td>\n",
       "      <td>1</td>\n",
       "      <td>0</td>\n",
       "      <td>0</td>\n",
       "      <td>Young</td>\n",
       "      <td>Age</td>\n",
       "      <td>Age</td>\n",
       "      <td>...</td>\n",
       "      <td>0.0</td>\n",
       "      <td>0.0</td>\n",
       "      <td>0.0</td>\n",
       "      <td>0.0</td>\n",
       "      <td>0.0</td>\n",
       "      <td>0.0</td>\n",
       "      <td>0.0</td>\n",
       "      <td>0.0</td>\n",
       "      <td>0.0</td>\n",
       "      <td>0.0</td>\n",
       "    </tr>\n",
       "    <tr>\n",
       "      <th>14678399</th>\n",
       "      <td>res_07339199</td>\n",
       "      <td>4499486314855809.5</td>\n",
       "      <td>4</td>\n",
       "      <td>1</td>\n",
       "      <td>1</td>\n",
       "      <td>0</td>\n",
       "      <td>2</td>\n",
       "      <td>Fit</td>\n",
       "      <td>Fitness</td>\n",
       "      <td>Fitness</td>\n",
       "      <td>...</td>\n",
       "      <td>0.0</td>\n",
       "      <td>0.0</td>\n",
       "      <td>0.0</td>\n",
       "      <td>0.0</td>\n",
       "      <td>1.0</td>\n",
       "      <td>1.0</td>\n",
       "      <td>0.0</td>\n",
       "      <td>0.0</td>\n",
       "      <td>0.0</td>\n",
       "      <td>0.0</td>\n",
       "    </tr>\n",
       "  </tbody>\n",
       "</table>\n",
       "<p>5 rows × 36 columns</p>\n",
       "</div>"
      ],
      "text/plain": [
       "            ResponseID              UserID  ScenarioOrder  Intervention  \\\n",
       "14678395  res_07339197         653858658.0             13             1   \n",
       "14678396  res_07339198  8584219519940750.0              6             1   \n",
       "14678397  res_07339198        1451013350.0              1             1   \n",
       "14678398  res_07339199   742769765189808.0              5             1   \n",
       "14678399  res_07339199  4499486314855809.5              4             1   \n",
       "\n",
       "          PedPed  Barrier  CrossingSignal AttributeLevel ScenarioTypeStrict  \\\n",
       "14678395       0        0               0            Fat            Fitness   \n",
       "14678396       1        0               1           Pets            Species   \n",
       "14678397       1        0               0           More        Utilitarian   \n",
       "14678398       1        0               0          Young                Age   \n",
       "14678399       1        0               2            Fit            Fitness   \n",
       "\n",
       "         ScenarioType  ...  LargeMan  Criminal  MaleExecutive  \\\n",
       "14678395      Fitness  ...       2.0       0.0            0.0   \n",
       "14678396      Species  ...       0.0       0.0            0.0   \n",
       "14678397  Utilitarian  ...       0.0       0.0            0.0   \n",
       "14678398          Age  ...       0.0       0.0            0.0   \n",
       "14678399      Fitness  ...       0.0       0.0            0.0   \n",
       "\n",
       "          FemaleExecutive  FemaleAthlete MaleAthlete FemaleDoctor  MaleDoctor  \\\n",
       "14678395              0.0            0.0         0.0          0.0         0.0   \n",
       "14678396              0.0            0.0         0.0          0.0         0.0   \n",
       "14678397              0.0            0.0         0.0          0.0         0.0   \n",
       "14678398              0.0            0.0         0.0          0.0         0.0   \n",
       "14678399              0.0            1.0         1.0          0.0         0.0   \n",
       "\n",
       "          Dog  Cat  \n",
       "14678395  0.0  0.0  \n",
       "14678396  2.0  2.0  \n",
       "14678397  0.0  0.0  \n",
       "14678398  0.0  0.0  \n",
       "14678399  0.0  0.0  \n",
       "\n",
       "[5 rows x 36 columns]"
      ]
     },
     "execution_count": 15,
     "metadata": {},
     "output_type": "execute_result"
    }
   ],
   "source": [
    "df_total_complete_nw.tail()"
   ]
  },
  {
   "cell_type": "code",
   "execution_count": 16,
   "metadata": {},
   "outputs": [
    {
     "data": {
      "text/plain": [
       "Index(['ResponseID', 'UserID', 'ScenarioOrder', 'Intervention', 'PedPed',\n",
       "       'Barrier', 'CrossingSignal', 'AttributeLevel', 'ScenarioTypeStrict',\n",
       "       'ScenarioType', 'NumberOfCharacters', 'DiffNumberOFCharacters', 'Saved',\n",
       "       'DescriptionShown', 'LeftHand', 'UserCountry3', 'Man', 'Woman',\n",
       "       'Pregnant', 'Stroller', 'OldMan', 'OldWoman', 'Boy', 'Girl', 'Homeless',\n",
       "       'LargeWoman', 'LargeMan', 'Criminal', 'MaleExecutive',\n",
       "       'FemaleExecutive', 'FemaleAthlete', 'MaleAthlete', 'FemaleDoctor',\n",
       "       'MaleDoctor', 'Dog', 'Cat'],\n",
       "      dtype='object')"
      ]
     },
     "execution_count": 16,
     "metadata": {},
     "output_type": "execute_result"
    }
   ],
   "source": [
    "df_total_complete_nw.columns"
   ]
  },
  {
   "cell_type": "code",
   "execution_count": 17,
   "metadata": {},
   "outputs": [],
   "source": [
    "# dropping the columns that are not needed\n",
    "\n",
    "df_total_nw = df_total_complete_nw.drop(['ScenarioType', 'ScenarioOrder', 'DescriptionShown', 'LeftHand', 'UserCountry3'], axis=1)"
   ]
  },
  {
   "cell_type": "code",
   "execution_count": 18,
   "metadata": {},
   "outputs": [
    {
     "data": {
      "text/plain": [
       "(14678400, 31)"
      ]
     },
     "execution_count": 18,
     "metadata": {},
     "output_type": "execute_result"
    }
   ],
   "source": [
    "df_total_nw.shape"
   ]
  },
  {
   "cell_type": "code",
   "execution_count": 19,
   "metadata": {},
   "outputs": [
    {
     "data": {
      "text/plain": [
       "ResponseID                0\n",
       "UserID                    0\n",
       "Intervention              0\n",
       "PedPed                    0\n",
       "Barrier                   0\n",
       "CrossingSignal            0\n",
       "AttributeLevel            0\n",
       "ScenarioTypeStrict        0\n",
       "NumberOfCharacters        2\n",
       "DiffNumberOFCharacters    2\n",
       "Saved                     0\n",
       "Man                       1\n",
       "Woman                     2\n",
       "Pregnant                  2\n",
       "Stroller                  2\n",
       "OldMan                    2\n",
       "OldWoman                  2\n",
       "Boy                       2\n",
       "Girl                      2\n",
       "Homeless                  2\n",
       "LargeWoman                2\n",
       "LargeMan                  2\n",
       "Criminal                  2\n",
       "MaleExecutive             2\n",
       "FemaleExecutive           2\n",
       "FemaleAthlete             2\n",
       "MaleAthlete               2\n",
       "FemaleDoctor              2\n",
       "MaleDoctor                2\n",
       "Dog                       2\n",
       "Cat                       2\n",
       "dtype: int64"
      ]
     },
     "execution_count": 19,
     "metadata": {},
     "output_type": "execute_result"
    }
   ],
   "source": [
    "# checking the missing values\n",
    "\n",
    "df_total_nw.isnull().sum()"
   ]
  },
  {
   "cell_type": "code",
   "execution_count": 20,
   "metadata": {},
   "outputs": [],
   "source": [
    "# dropping the rows with missing values as they are so few it is insignificant to the dataset\n",
    "\n",
    "df_total_nw = df_total_nw.dropna()"
   ]
  },
  {
   "cell_type": "code",
   "execution_count": 28,
   "metadata": {},
   "outputs": [
    {
     "data": {
      "text/plain": [
       "(14678398, 31)"
      ]
     },
     "execution_count": 28,
     "metadata": {},
     "output_type": "execute_result"
    }
   ],
   "source": [
    "df_total_nw.shape"
   ]
  },
  {
   "cell_type": "code",
   "execution_count": 21,
   "metadata": {},
   "outputs": [
    {
     "data": {
      "text/plain": [
       "ResponseID                0\n",
       "UserID                    0\n",
       "Intervention              0\n",
       "PedPed                    0\n",
       "Barrier                   0\n",
       "CrossingSignal            0\n",
       "AttributeLevel            0\n",
       "ScenarioTypeStrict        0\n",
       "NumberOfCharacters        0\n",
       "DiffNumberOFCharacters    0\n",
       "Saved                     0\n",
       "Man                       0\n",
       "Woman                     0\n",
       "Pregnant                  0\n",
       "Stroller                  0\n",
       "OldMan                    0\n",
       "OldWoman                  0\n",
       "Boy                       0\n",
       "Girl                      0\n",
       "Homeless                  0\n",
       "LargeWoman                0\n",
       "LargeMan                  0\n",
       "Criminal                  0\n",
       "MaleExecutive             0\n",
       "FemaleExecutive           0\n",
       "FemaleAthlete             0\n",
       "MaleAthlete               0\n",
       "FemaleDoctor              0\n",
       "MaleDoctor                0\n",
       "Dog                       0\n",
       "Cat                       0\n",
       "dtype: int64"
      ]
     },
     "execution_count": 21,
     "metadata": {},
     "output_type": "execute_result"
    }
   ],
   "source": [
    "df_total_nw.isnull().sum()"
   ]
  },
  {
   "cell_type": "code",
   "execution_count": 25,
   "metadata": {},
   "outputs": [],
   "source": [
    "# binarizing UserID\n",
    "# we know from EDA of llm_dataset that userID for llms are always 'chatbot'. We will encode this as 1 and all other userIDs as 0 (which are humans)\n",
    "\n",
    "df_total_nw['UserID'] = df_total_nw['UserID'].apply(lambda x: 1 if x == 'chatbot' else 0)"
   ]
  },
  {
   "cell_type": "code",
   "execution_count": 26,
   "metadata": {},
   "outputs": [
    {
     "data": {
      "text/plain": [
       "UserID\n",
       "0    14384830\n",
       "1      293568\n",
       "Name: count, dtype: int64"
      ]
     },
     "execution_count": 26,
     "metadata": {},
     "output_type": "execute_result"
    }
   ],
   "source": [
    "df_total_nw['UserID'].value_counts()"
   ]
  },
  {
   "cell_type": "code",
   "execution_count": 27,
   "metadata": {},
   "outputs": [
    {
     "data": {
      "text/plain": [
       "UserID\n",
       "0    0.98\n",
       "1    0.02\n",
       "Name: proportion, dtype: float64"
      ]
     },
     "execution_count": 27,
     "metadata": {},
     "output_type": "execute_result"
    }
   ],
   "source": [
    "# checking if 2% is llm\n",
    "df_total_nw['UserID'].value_counts(normalize=True)\n",
    "\n",
    "# yes it is true (because of the removal of 2 NAN rows, the % is actually 2.0000002725%, but that is close enough to 2%)"
   ]
  },
  {
   "cell_type": "code",
   "execution_count": 29,
   "metadata": {},
   "outputs": [],
   "source": [
    "df_total_nw.to_csv('total_nw_dataset.csv', index=False)"
   ]
  }
 ],
 "metadata": {
  "kernelspec": {
   "display_name": "base",
   "language": "python",
   "name": "python3"
  },
  "language_info": {
   "codemirror_mode": {
    "name": "ipython",
    "version": 3
   },
   "file_extension": ".py",
   "mimetype": "text/x-python",
   "name": "python",
   "nbconvert_exporter": "python",
   "pygments_lexer": "ipython3",
   "version": "3.11.5"
  }
 },
 "nbformat": 4,
 "nbformat_minor": 2
}
