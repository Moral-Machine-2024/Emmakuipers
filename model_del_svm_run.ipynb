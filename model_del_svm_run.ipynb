{
 "cells": [
  {
   "cell_type": "code",
   "execution_count": 1,
   "metadata": {
    "id": "9p39JwxlVxVi"
   },
   "outputs": [],
   "source": [
    "import pandas as pd\n",
    "import numpy as np\n",
    "from sklearn.model_selection import train_test_split\n",
    "from sklearn.metrics import accuracy_score, confusion_matrix, classification_report, f1_score, recall_score\n",
    "import matplotlib.pyplot as plt\n",
    "import seaborn as sns"
   ]
  },
  {
   "cell_type": "markdown",
   "metadata": {
    "id": "5DH8xw3zVxVk"
   },
   "source": [
    "## Thunder setup"
   ]
  },
  {
   "cell_type": "code",
   "execution_count": 2,
   "metadata": {
    "colab": {
     "base_uri": "https://localhost:8080/"
    },
    "id": "YtEfy-FYVxVl",
    "outputId": "14b6e9a0-2eeb-4bcd-e8a5-31720b31e176"
   },
   "outputs": [
    {
     "name": "stdout",
     "output_type": "stream",
     "text": [
      "WARNING:tensorflow:From C:\\Users\\esmku\\AppData\\Local\\Temp\\ipykernel_25160\\2884624906.py:4: is_gpu_available (from tensorflow.python.framework.test_util) is deprecated and will be removed in a future version.\n",
      "Instructions for updating:\n",
      "Use `tf.config.list_physical_devices('GPU')` instead.\n",
      "GPU Available: False\n",
      "TPU Available: False\n"
     ]
    }
   ],
   "source": [
    "import tensorflow as tf\n",
    "\n",
    "# Check GPU availability\n",
    "print(\"GPU Available:\", tf.test.is_gpu_available())\n",
    "\n",
    "# Check TPU availability\n",
    "tpu_available = False\n",
    "devices = tf.config.list_logical_devices()\n",
    "for device in devices:\n",
    "    if device.device_type == 'TPU':\n",
    "        tpu_available = True\n",
    "        break\n",
    "\n",
    "print(\"TPU Available:\", tpu_available)"
   ]
  },
  {
   "cell_type": "code",
   "execution_count": 3,
   "metadata": {
    "colab": {
     "base_uri": "https://localhost:8080/"
    },
    "id": "EYqruhqQVxVm",
    "outputId": "13ddc7ea-6f8c-40c3-c1bc-2eedc5d79284"
   },
   "outputs": [
    {
     "name": "stderr",
     "output_type": "stream",
     "text": [
      "'wget' is not recognized as an internal or external command,\n",
      "operable program or batch file.\n",
      "'ls' is not recognized as an internal or external command,\n",
      "operable program or batch file.\n",
      "'dpkg' is not recognized as an internal or external command,\n",
      "operable program or batch file.\n",
      "'ls' is not recognized as an internal or external command,\n",
      "operable program or batch file.\n",
      "'apt-key' is not recognized as an internal or external command,\n",
      "operable program or batch file.\n",
      "'apt-get' is not recognized as an internal or external command,\n",
      "operable program or batch file.\n"
     ]
    }
   ],
   "source": [
    "!wget https://developer.nvidia.com/compute/cuda/9.0/Prod/local_installers/cuda-repo-ubuntu1704-9-0-local_9.0.176-1_amd64-deb\n",
    "!ls  # Check if required cuda 9.0 amd64-deb file is downloaded\n",
    "!dpkg -i cuda-repo-ubuntu1704-9-0-local_9.0.176-1_amd64-deb\n",
    "!ls /var/cuda-repo-9-0-local | grep .pub\n",
    "!apt-key add /var/cuda-repo-9-0-local/7fa2af80.pub\n",
    "!apt-get update"
   ]
  },
  {
   "cell_type": "code",
   "execution_count": 4,
   "metadata": {
    "colab": {
     "base_uri": "https://localhost:8080/"
    },
    "id": "uW9gvyPCVxVo",
    "outputId": "b3285016-0963-4287-95cc-d6c0befaf66e"
   },
   "outputs": [
    {
     "name": "stderr",
     "output_type": "stream",
     "text": [
      "'DEBIAN_FRONTEND' is not recognized as an internal or external command,\n",
      "operable program or batch file.\n"
     ]
    }
   ],
   "source": [
    "!DEBIAN_FRONTEND=noninteractive sudo apt-get install -y cuda-9.0"
   ]
  },
  {
   "cell_type": "code",
   "execution_count": 5,
   "metadata": {
    "colab": {
     "base_uri": "https://localhost:8080/"
    },
    "id": "IKa1YqNUVxVq",
    "outputId": "f736c98d-dfbb-4df4-cf68-c34c1135e6a6"
   },
   "outputs": [
    {
     "name": "stderr",
     "output_type": "stream",
     "text": [
      "'nvcc' is not recognized as an internal or external command,\n",
      "operable program or batch file.\n"
     ]
    }
   ],
   "source": [
    "!nvcc --version"
   ]
  },
  {
   "cell_type": "code",
   "execution_count": 6,
   "metadata": {
    "colab": {
     "base_uri": "https://localhost:8080/"
    },
    "id": "B46EQK0qVxVq",
    "outputId": "7adf1e74-d9c6-40eb-bf3e-a9864cfc92fd"
   },
   "outputs": [
    {
     "name": "stdout",
     "output_type": "stream",
     "text": [
      "Requirement already satisfied: thundersvm in c:\\anaconda\\lib\\site-packages (0.3.12)\n",
      "Requirement already satisfied: numpy in c:\\anaconda\\lib\\site-packages (from thundersvm) (1.26.4)\n",
      "Requirement already satisfied: scipy in c:\\anaconda\\lib\\site-packages (from thundersvm) (1.11.1)\n",
      "Requirement already satisfied: scikit-learn in c:\\anaconda\\lib\\site-packages (from thundersvm) (1.5.2)\n",
      "Requirement already satisfied: joblib>=1.2.0 in c:\\anaconda\\lib\\site-packages (from scikit-learn->thundersvm) (1.2.0)\n",
      "Requirement already satisfied: threadpoolctl>=3.1.0 in c:\\anaconda\\lib\\site-packages (from scikit-learn->thundersvm) (3.5.0)\n"
     ]
    }
   ],
   "source": [
    "!pip install thundersvm"
   ]
  },
  {
   "cell_type": "markdown",
   "metadata": {
    "id": "RnKFZ0e8VxVr"
   },
   "source": [
    "## Pre-processing"
   ]
  },
  {
   "cell_type": "code",
   "execution_count": 7,
   "metadata": {
    "id": "fT8vgKWzVxVs"
   },
   "outputs": [],
   "source": [
    "dtype = {\n",
    "    'ResponseID': 'category',\n",
    "    'UserID': 'int8',\n",
    "    'Intervention': 'int8',\n",
    "    'PedPed': 'int8',\n",
    "    'Barrier': 'int8',\n",
    "    'CrossingSignal': 'int8',\n",
    "    'AttributeLevel': 'category',\n",
    "    'ScenarioTypeStrict': 'category',\n",
    "    'NumberOfCharacters': 'int8',\n",
    "    'DiffNumberOFCharacters': 'int8',\n",
    "    'Saved': 'int8',\n",
    "    'Man': 'int8',\n",
    "    'Woman': 'int8',\n",
    "    'Pregnant': 'int8',\n",
    "    'Stroller': 'int8',\n",
    "    'OldMan': 'int8',\n",
    "    'OldWoman': 'int8',\n",
    "    'Boy': 'int8',\n",
    "    'Girl': 'int8',\n",
    "    'Homeless': 'int8',\n",
    "    'LargeWoman': 'int8',\n",
    "    'LargeMan': 'int8',\n",
    "    'Criminal': 'int8',\n",
    "    'MaleExecutive': 'int8',\n",
    "    'FemaleExecutive': 'int8',\n",
    "    'FemaleAthlete': 'int8',\n",
    "    'MaleAthlete': 'int8',\n",
    "    'FemaleDoctor': 'int8',\n",
    "    'MaleDoctor': 'int8',\n",
    "    'Dog': 'int8',\n",
    "    'Cat': 'int8'\n",
    "}\n"
   ]
  },
  {
   "cell_type": "code",
   "execution_count": 8,
   "metadata": {
    "id": "Ym2y8_bLVxVt"
   },
   "outputs": [],
   "source": [
    "dfdel = pd.read_csv('total_deleted_50_dataset.csv', dtype=dtype)"
   ]
  },
  {
   "cell_type": "code",
   "execution_count": 9,
   "metadata": {
    "colab": {
     "base_uri": "https://localhost:8080/"
    },
    "id": "riikRT-SVxVt",
    "outputId": "727316da-ce0c-40f7-e8ad-e793ff1843ad"
   },
   "outputs": [
    {
     "data": {
      "text/plain": [
       "(500000, 31)"
      ]
     },
     "execution_count": 9,
     "metadata": {},
     "output_type": "execute_result"
    }
   ],
   "source": [
    "dfdel.shape"
   ]
  },
  {
   "cell_type": "code",
   "execution_count": 10,
   "metadata": {},
   "outputs": [],
   "source": [
    "# Ensure the column is categorical\n",
    "dfdel['ScenarioTypeStrict'] = dfdel['ScenarioTypeStrict'].astype('category')\n",
    "\n",
    "# Renaming Social Status to Social for easier handling of the category later on\n",
    "dfdel['ScenarioTypeStrict'] = dfdel['ScenarioTypeStrict'].cat.rename_categories({'Social Status': 'Social'})\n"
   ]
  },
  {
   "cell_type": "code",
   "execution_count": 11,
   "metadata": {
    "colab": {
     "base_uri": "https://localhost:8080/"
    },
    "id": "O3DJBB5NVxVu",
    "outputId": "316e792a-4c4b-404e-a5e5-a15750a6e1a5"
   },
   "outputs": [
    {
     "name": "stdout",
     "output_type": "stream",
     "text": [
      "Index(['ResponseID', 'UserID', 'Intervention', 'PedPed', 'Barrier',\n",
      "       'CrossingSignal', 'NumberOfCharacters', 'DiffNumberOFCharacters',\n",
      "       'Saved', 'Man', 'Woman', 'Pregnant', 'Stroller', 'OldMan', 'OldWoman',\n",
      "       'Boy', 'Girl', 'Homeless', 'LargeWoman', 'LargeMan', 'Criminal',\n",
      "       'MaleExecutive', 'FemaleExecutive', 'FemaleAthlete', 'MaleAthlete',\n",
      "       'FemaleDoctor', 'MaleDoctor', 'Dog', 'Cat', 'AttributeLevel_Fat',\n",
      "       'AttributeLevel_Female', 'AttributeLevel_Fit', 'AttributeLevel_Hoomans',\n",
      "       'AttributeLevel_Less', 'AttributeLevel_Male', 'AttributeLevel_More',\n",
      "       'AttributeLevel_Old', 'AttributeLevel_Pets', 'AttributeLevel_Young',\n",
      "       'ScenarioTypeStrict_Age', 'ScenarioTypeStrict_Fitness',\n",
      "       'ScenarioTypeStrict_Gender', 'ScenarioTypeStrict_Species',\n",
      "       'ScenarioTypeStrict_Utilitarian'],\n",
      "      dtype='object')\n"
     ]
    }
   ],
   "source": [
    "# preprocessing\n",
    "\n",
    "# one-hot encode the AttributeLevel and ScenarioTypeStrict\n",
    "dfdel = pd.get_dummies(dfdel, columns=['AttributeLevel', 'ScenarioTypeStrict'])\n",
    "\n",
    "print(dfdel.columns)\n"
   ]
  },
  {
   "cell_type": "code",
   "execution_count": 12,
   "metadata": {
    "colab": {
     "base_uri": "https://localhost:8080/"
    },
    "id": "8UYbhWWoVxVv",
    "outputId": "d2fe1c48-7db5-47b1-82ba-6da690b0a029"
   },
   "outputs": [
    {
     "data": {
      "text/plain": [
       "(500000, 44)"
      ]
     },
     "execution_count": 12,
     "metadata": {},
     "output_type": "execute_result"
    }
   ],
   "source": [
    "dfdel.shape"
   ]
  },
  {
   "cell_type": "code",
   "execution_count": 13,
   "metadata": {
    "colab": {
     "base_uri": "https://localhost:8080/"
    },
    "id": "piRDZeZLVxVw",
    "outputId": "e886d9af-842d-49ed-bf6b-b64b15c435a4"
   },
   "outputs": [
    {
     "data": {
      "text/plain": [
       "0"
      ]
     },
     "execution_count": 13,
     "metadata": {},
     "output_type": "execute_result"
    }
   ],
   "source": [
    "dfdel.duplicated().sum()"
   ]
  },
  {
   "cell_type": "code",
   "execution_count": 14,
   "metadata": {
    "id": "Wh5tPa8wVxVw"
   },
   "outputs": [],
   "source": [
    "# now also dropping ResponseID\n",
    "# kept this on and pre-processed it thus far to keep track of if everything went right with the complete sessions being in the dataset (so each ResponseID has to be present twice)"
   ]
  },
  {
   "cell_type": "markdown",
   "metadata": {
    "id": "ornvxCMHVxVx"
   },
   "source": [
    "#### Splitting"
   ]
  },
  {
   "cell_type": "code",
   "execution_count": 15,
   "metadata": {
    "id": "vD80vyBKVxVx"
   },
   "outputs": [],
   "source": [
    "# Prepare features and target variable\n",
    "X = dfdel.drop(['UserID', 'ResponseID'], axis=1)     # Features\n",
    "y = dfdel['UserID']                                  # Target variable"
   ]
  },
  {
   "cell_type": "code",
   "execution_count": 16,
   "metadata": {
    "id": "gKX2i5W_VxVy"
   },
   "outputs": [],
   "source": [
    "# Split the data into train, validation and test sets\n",
    "X_trainval, X_test, y_trainval, y_test = train_test_split(X, y, test_size=0.15, random_state=42)"
   ]
  },
  {
   "cell_type": "code",
   "execution_count": 17,
   "metadata": {
    "id": "SBQmBDUUVxVy"
   },
   "outputs": [],
   "source": [
    "# Setting K for K-fold cross validation\n",
    "\n",
    "from sklearn.model_selection import KFold\n",
    "\n",
    "k = 5\n",
    "kf = KFold(n_splits=k, random_state=42, shuffle=True)"
   ]
  },
  {
   "cell_type": "markdown",
   "metadata": {
    "id": "23kuipdbVxVy"
   },
   "source": [
    "## Modelling"
   ]
  },
  {
   "cell_type": "markdown",
   "metadata": {},
   "source": [
    "### Dummy classifier"
   ]
  },
  {
   "cell_type": "code",
   "execution_count": 17,
   "metadata": {},
   "outputs": [],
   "source": [
    "from sklearn.dummy import DummyClassifier\n",
    "\n",
    "dummy = DummyClassifier(strategy='uniform')"
   ]
  },
  {
   "cell_type": "code",
   "execution_count": 23,
   "metadata": {},
   "outputs": [
    {
     "name": "stdout",
     "output_type": "stream",
     "text": [
      "Dummy Classifier on Validation set\n",
      "Accuracy: 0.50008\n",
      "Macro F1 Score: 0.500076858794044\n",
      "Recall 1 Score: 0.49929089400872334\n",
      "Confusion Matrix:\n",
      " [[18847 18782]\n",
      " [18712 18659]]\n",
      "Classification Report:\n",
      "               precision    recall  f1-score   support\n",
      "\n",
      "           0       0.50      0.50      0.50     37629\n",
      "           1       0.50      0.50      0.50     37371\n",
      "\n",
      "    accuracy                           0.50     75000\n",
      "   macro avg       0.50      0.50      0.50     75000\n",
      "weighted avg       0.50      0.50      0.50     75000\n",
      "\n"
     ]
    }
   ],
   "source": [
    "# Dummy Classifier on VAL set (70 train, / 15 validation)\n",
    "X_train, X_val, y_train, y_val = train_test_split(X_trainval, y_trainval, test_size=(15/85), random_state=42)\n",
    "\n",
    "dummy.fit(X_train, y_train)\n",
    "y_pred_trainval_dummy = dummy.predict(X_val)\n",
    "accuracy_trainval_dummy = accuracy_score(y_val, y_pred_trainval_dummy)\n",
    "confusion_matrix_trainval_dummy = confusion_matrix(y_val, y_pred_trainval_dummy)\n",
    "classification_report_trainval_dummy = classification_report(y_val, y_pred_trainval_dummy)\n",
    "f1_score_trainval_dummy = f1_score(y_val, y_pred_trainval_dummy, average='macro')\n",
    "recall1_score_trainval_dummy = recall_score(y_val, y_pred_trainval_dummy, pos_label=1)\n",
    "\n",
    "print(\"Dummy Classifier on Validation set\")\n",
    "print(\"Accuracy:\", accuracy_trainval_dummy)\n",
    "print(\"Macro F1 Score:\", f1_score_trainval_dummy)\n",
    "print(\"Recall 1 Score:\", recall1_score_trainval_dummy)\n",
    "print(\"Confusion Matrix:\\n\", confusion_matrix_trainval_dummy)\n",
    "print(\"Classification Report:\\n\", classification_report_trainval_dummy)\n"
   ]
  },
  {
   "cell_type": "code",
   "execution_count": 24,
   "metadata": {},
   "outputs": [
    {
     "name": "stdout",
     "output_type": "stream",
     "text": [
      "\n",
      "Dummy Classifier on Test set\n",
      "Accuracy: 0.4968\n",
      "Macro F1 Score: 0.49679973914098474\n",
      "Recall Score: 0.49818424566088115\n",
      "Confusion Matrix:\n",
      " [[18603 18947]\n",
      " [18793 18657]]\n",
      "Classification Report:\n",
      "               precision    recall  f1-score   support\n",
      "\n",
      "           0       0.50      0.50      0.50     37550\n",
      "           1       0.50      0.50      0.50     37450\n",
      "\n",
      "    accuracy                           0.50     75000\n",
      "   macro avg       0.50      0.50      0.50     75000\n",
      "weighted avg       0.50      0.50      0.50     75000\n",
      "\n"
     ]
    }
   ],
   "source": [
    "# Dummy Classifier on TEST set (85 train_validation / 15 test)\n",
    "dummy.fit(X_trainval, y_trainval)\n",
    "y_pred_test_dummy = dummy.predict(X_test)\n",
    "accuracy_test_dummy = accuracy_score(y_test, y_pred_test_dummy)\n",
    "confusion_matrix_test_dummy = confusion_matrix(y_test, y_pred_test_dummy)\n",
    "classification_report_test_dummy = classification_report(y_test, y_pred_test_dummy)\n",
    "f1_score_test_dummy = f1_score(y_test, y_pred_test_dummy, average='macro')\n",
    "recall1_score_test_dummy = recall_score(y_test, y_pred_test_dummy, pos_label=1)\n",
    "\n",
    "\n",
    "print(\"\\nDummy Classifier on Test set\")\n",
    "print(\"Accuracy:\", accuracy_test_dummy)\n",
    "print(\"Macro F1 Score:\", f1_score_test_dummy)\n",
    "print(\"Recall Score:\", recall1_score_test_dummy)\n",
    "print(\"Confusion Matrix:\\n\", confusion_matrix_test_dummy)\n",
    "print(\"Classification Report:\\n\", classification_report_test_dummy)"
   ]
  },
  {
   "cell_type": "code",
   "execution_count": 28,
   "metadata": {},
   "outputs": [
    {
     "name": "stdout",
     "output_type": "stream",
     "text": [
      "{'average_accuracy': 0.50008, 'average_macro_f1': 0.500076858794044, 'average_recall_class_1': 0.49929089400872334}\n",
      "{'average_accuracy': 0.4968, 'average_macro_f1': 0.49679973914098474, 'average_recall_class_1': 0.49818424566088115}\n"
     ]
    }
   ],
   "source": [
    "# saving metrics as JSON file\n",
    "\n",
    "# Metrics VAL\n",
    "metrics_dummy_val = {\n",
    "    \"average_accuracy\": accuracy_trainval_dummy,\n",
    "    \"average_macro_f1\": f1_score_trainval_dummy,\n",
    "    \"average_recall_class_1\": recall1_score_trainval_dummy,\n",
    "}\n",
    "\n",
    "# Print the dictionary to verify\n",
    "print(metrics_dummy_val)\n",
    "\n",
    "\n",
    "import json\n",
    "# Save the metrics dictionary as JSON\n",
    "with open(\"metrics_dummy_val_del.json\", \"w\") as f:\n",
    "    json.dump(metrics_dummy_val, f, indent=4)\n",
    "\n",
    "\n",
    "\n",
    "# Metrics TEST\n",
    "\n",
    "# Metrics\n",
    "metrics_dummy_test = {\n",
    "    \"average_accuracy\": accuracy_test_dummy,\n",
    "    \"average_macro_f1\": f1_score_test_dummy,\n",
    "    \"average_recall_class_1\": recall1_score_test_dummy,\n",
    "}\n",
    "\n",
    "# Print the dictionary to verify\n",
    "print(metrics_dummy_test)\n",
    "\n",
    "\n",
    "# Save the metrics dictionary as JSON\n",
    "with open(\"metrics_dummy_test_del.json\", \"w\") as f:\n",
    "    json.dump(metrics_dummy_test, f, indent=4)"
   ]
  },
  {
   "cell_type": "markdown",
   "metadata": {
    "id": "MG-4YXdEVxVz"
   },
   "source": [
    "### Logistic Regression"
   ]
  },
  {
   "cell_type": "code",
   "execution_count": 19,
   "metadata": {
    "id": "g8VsDS3pVxVz"
   },
   "outputs": [],
   "source": [
    "from sklearn.linear_model import LogisticRegression"
   ]
  },
  {
   "cell_type": "code",
   "execution_count": 20,
   "metadata": {
    "colab": {
     "base_uri": "https://localhost:8080/"
    },
    "id": "OrgkO4nlVxVz",
    "outputId": "9b217750-2921-4c21-f52c-4e7417cf1f5e"
   },
   "outputs": [
    {
     "name": "stdout",
     "output_type": "stream",
     "text": [
      "Done processing fold 1\n",
      "Done processing fold 2\n",
      "Done processing fold 3\n",
      "Done processing fold 4\n",
      "Done processing fold 5\n"
     ]
    }
   ],
   "source": [
    "# Initialize logistic regression model\n",
    "lr_model = LogisticRegression(max_iter=1000)\n",
    "\n",
    "# Lists to store results\n",
    "conf_matrices_lr = []\n",
    "classification_reports_lr = []\n",
    "macro_f1_scores_lr = []\n",
    "count = 0\n",
    "\n",
    "# Loop through each fold\n",
    "for train_index, test_index in kf.split(X_trainval):\n",
    "    count += 1\n",
    "\n",
    "    # Split data into train and test for this fold\n",
    "    X_train, X_val = X_trainval.iloc[train_index], X_trainval.iloc[test_index]\n",
    "    y_train, y_val = y_trainval.iloc[train_index], y_trainval.iloc[test_index]\n",
    "\n",
    "    # Train the model\n",
    "    lr_model.fit(X_train, y_train)\n",
    "\n",
    "    # Make predictions\n",
    "    y_pred_lr = lr_model.predict(X_val)\n",
    "\n",
    "    # Generate confusion matrix and classification report\n",
    "    conf_matrices_lr.append(confusion_matrix(y_val, y_pred_lr))\n",
    "    classification_reports_lr.append(classification_report(y_val, y_pred_lr, output_dict=True))\n",
    "\n",
    "    # Calculate and store macro F1 score for this fold\n",
    "    fold_macro_f1 = f1_score(y_val, y_pred_lr, average='macro')\n",
    "    macro_f1_scores_lr.append(fold_macro_f1)\n",
    "\n",
    "    print(\"Done processing fold \" + str(count))"
   ]
  },
  {
   "cell_type": "code",
   "execution_count": 21,
   "metadata": {
    "colab": {
     "base_uri": "https://localhost:8080/"
    },
    "id": "7THaSIi6VxVz",
    "outputId": "a0b3108e-4bb8-42d7-96d3-30022c8ee408"
   },
   "outputs": [
    {
     "name": "stdout",
     "output_type": "stream",
     "text": [
      "\n",
      "Fold 1\n",
      "Confusion Matrix:\n",
      "[[22174 20397]\n",
      " [16704 25725]]\n",
      "\n",
      "Classification Report:\n",
      "0: {'precision': 0.5703482689438757, 'recall': 0.5208710154800216, 'f1-score': 0.5444879617920416, 'support': 42571.0}\n",
      "1: {'precision': 0.5577598542994666, 'recall': 0.6063070069999293, 'f1-score': 0.5810211064810109, 'support': 42429.0}\n",
      "accuracy: 0.5635176470588236\n",
      "macro avg: {'precision': 0.5640540616216712, 'recall': 0.5635890112399755, 'f1-score': 0.5627545341365263, 'support': 85000.0}\n",
      "weighted avg: {'precision': 0.5640645766503741, 'recall': 0.5635176470588236, 'f1-score': 0.5627240182156684, 'support': 85000.0}\n",
      "\n",
      "Fold 2\n",
      "Confusion Matrix:\n",
      "[[22374 20043]\n",
      " [16878 25705]]\n",
      "\n",
      "Classification Report:\n",
      "0: {'precision': 0.5700091715071843, 'recall': 0.5274771907489921, 'f1-score': 0.547919039047864, 'support': 42417.0}\n",
      "1: {'precision': 0.5618824866660838, 'recall': 0.6036446469248291, 'f1-score': 0.5820153739910111, 'support': 42583.0}\n",
      "accuracy: 0.565635294117647\n",
      "macro avg: {'precision': 0.565945829086634, 'recall': 0.5655609188369106, 'f1-score': 0.5649672065194375, 'support': 85000.0}\n",
      "weighted avg: {'precision': 0.5659378936179068, 'recall': 0.565635294117647, 'f1-score': 0.5650005005876761, 'support': 85000.0}\n",
      "\n",
      "Fold 3\n",
      "Confusion Matrix:\n",
      "[[22377 20411]\n",
      " [16617 25595]]\n",
      "\n",
      "Classification Report:\n",
      "0: {'precision': 0.5738575165410064, 'recall': 0.5229737309526036, 'f1-score': 0.5472353329583527, 'support': 42788.0}\n",
      "1: {'precision': 0.556340477329044, 'recall': 0.6063441675352981, 'f1-score': 0.5802670656782063, 'support': 42212.0}\n",
      "accuracy: 0.5643764705882353\n",
      "macro avg: {'precision': 0.5650989969350252, 'recall': 0.5646589492439509, 'f1-score': 0.5637511993182795, 'support': 85000.0}\n",
      "weighted avg: {'precision': 0.5651583487855316, 'recall': 0.5643764705882354, 'f1-score': 0.5636392800356521, 'support': 85000.0}\n",
      "\n",
      "Fold 4\n",
      "Confusion Matrix:\n",
      "[[22461 20013]\n",
      " [16841 25685]]\n",
      "\n",
      "Classification Report:\n",
      "0: {'precision': 0.5714976337082083, 'recall': 0.5288176296087018, 'f1-score': 0.5493298767364508, 'support': 42474.0}\n",
      "1: {'precision': 0.5620596087356121, 'recall': 0.6039834454216244, 'f1-score': 0.5822678636198767, 'support': 42526.0}\n",
      "accuracy: 0.5664235294117647\n",
      "macro avg: {'precision': 0.5667786212219101, 'recall': 0.5664005375151631, 'f1-score': 0.5657988701781638, 'support': 85000.0}\n",
      "weighted avg: {'precision': 0.5667757342966244, 'recall': 0.5664235294117647, 'f1-score': 0.5658089453270928, 'support': 85000.0}\n",
      "\n",
      "Fold 5\n",
      "Confusion Matrix:\n",
      "[[22332 19868]\n",
      " [17213 25587]]\n",
      "\n",
      "Classification Report:\n",
      "0: {'precision': 0.5647237324566949, 'recall': 0.5291943127962085, 'f1-score': 0.5463820417150896, 'support': 42200.0}\n",
      "1: {'precision': 0.5629083709162909, 'recall': 0.5978271028037383, 'f1-score': 0.5798425018412554, 'support': 42800.0}\n",
      "accuracy: 0.5637529411764706\n",
      "macro avg: {'precision': 0.563816051686493, 'recall': 0.5635107077999735, 'f1-score': 0.5631122717781725, 'support': 85000.0}\n",
      "weighted avg: {'precision': 0.563809644528115, 'recall': 0.5637529411764706, 'f1-score': 0.5632303675197943, 'support': 85000.0}\n"
     ]
    }
   ],
   "source": [
    "# Display results\n",
    "for i in range(k):\n",
    "    print(f\"\\nFold {i+1}\")\n",
    "    print(\"Confusion Matrix:\")\n",
    "    print(conf_matrices_lr[i])\n",
    "    print(\"\\nClassification Report:\")\n",
    "    for label, metrics in classification_reports_lr[i].items():\n",
    "        print(f\"{label}: {metrics}\")"
   ]
  },
  {
   "cell_type": "code",
   "execution_count": 22,
   "metadata": {
    "colab": {
     "base_uri": "https://localhost:8080/"
    },
    "id": "B2Af8xmzVxVz",
    "outputId": "f8da4377-9659-4b74-c9d3-e6e2952e341c"
   },
   "outputs": [
    {
     "name": "stdout",
     "output_type": "stream",
     "text": [
      "\n",
      "Average Accuracy LR: 0.5647411764705882\n",
      "Standard Deviation: 0.0011168170292472066\n",
      "Average Macro F1 Score LR: 0.5640768163861158\n",
      "\n",
      "Average Recall for class 1: 0.6036212739370839\n"
     ]
    }
   ],
   "source": [
    "# Calculate average accuracy\n",
    "accuracies_lr = [report['accuracy'] for report in classification_reports_lr]\n",
    "average_accuracy_lr = np.mean(accuracies_lr)\n",
    "print(f\"\\nAverage Accuracy LR: {average_accuracy_lr}\")\n",
    "\n",
    "\n",
    "# Caluculate average standard deviation\n",
    "std_dev_lr = np.std(accuracies_lr)\n",
    "print(f\"Standard Deviation: {std_dev_lr}\")\n",
    "\n",
    "\n",
    "# Calculate average macro f1-score\n",
    "average_macro_f1_lr = sum(macro_f1_scores_lr) / len(macro_f1_scores_lr)\n",
    "print(f\"Average Macro F1 Score LR: {average_macro_f1_lr}\")\n",
    "\n",
    "\n",
    "# Collect the recall for the '1' class from each fold\n",
    "recall_class_1_lr = [report['1']['recall'] for report in classification_reports_lr]\n",
    "# Calculate the average recall for the '1' class across all folds\n",
    "average_recall_class_1_lr = np.mean(recall_class_1_lr)\n",
    "print(f\"\\nAverage Recall for class 1: {average_recall_class_1_lr}\")"
   ]
  },
  {
   "cell_type": "code",
   "execution_count": 23,
   "metadata": {
    "colab": {
     "base_uri": "https://localhost:8080/"
    },
    "id": "BY-u1RGUVxVz",
    "outputId": "ed70ee67-bada-414e-f3e0-eee7a420d075"
   },
   "outputs": [
    {
     "name": "stdout",
     "output_type": "stream",
     "text": [
      "{'average_accuracy': 0.5647411764705882, 'std_dev_accuracy': 0.0011168170292472066, 'average_macro_f1': 0.5640768163861158, 'average_recall_class_1': 0.6036212739370839, 'accuracies_per_fold': [0.5635176470588236, 0.565635294117647, 0.5643764705882353, 0.5664235294117647, 0.5637529411764706], 'recall_class_1_per_fold': [0.6063070069999293, 0.6036446469248291, 0.6063441675352981, 0.6039834454216244, 0.5978271028037383]}\n"
     ]
    }
   ],
   "source": [
    "# saving outputs\n",
    "\n",
    "# Example metrics\n",
    "metrics_lr = {\n",
    "    \"average_accuracy\": average_accuracy_lr,\n",
    "    \"std_dev_accuracy\": std_dev_lr,\n",
    "    \"average_macro_f1\": average_macro_f1_lr,\n",
    "    \"average_recall_class_1\": average_recall_class_1_lr,\n",
    "    \"accuracies_per_fold\": accuracies_lr,\n",
    "    \"recall_class_1_per_fold\": recall_class_1_lr\n",
    "}\n",
    "\n",
    "# Print the dictionary to verify\n",
    "print(metrics_lr)\n",
    "\n",
    "\n",
    "import json\n",
    "# Save the metrics dictionary as JSON\n",
    "with open(\"metrics_lr_del.json\", \"w\") as f:\n",
    "    json.dump(metrics_lr, f, indent=4)\n"
   ]
  },
  {
   "cell_type": "markdown",
   "metadata": {
    "id": "KyyyWD8GVxVz"
   },
   "source": [
    "### Random Forest"
   ]
  },
  {
   "cell_type": "code",
   "execution_count": 24,
   "metadata": {
    "id": "wr2vw0PxVxVz"
   },
   "outputs": [],
   "source": [
    "from sklearn.ensemble import RandomForestClassifier"
   ]
  },
  {
   "cell_type": "code",
   "execution_count": 25,
   "metadata": {
    "colab": {
     "base_uri": "https://localhost:8080/"
    },
    "id": "jcg2UJZdVxV0",
    "outputId": "a6b8d18f-77d5-452b-af4c-15ca1a1149c1"
   },
   "outputs": [
    {
     "name": "stdout",
     "output_type": "stream",
     "text": [
      "Start processing fold 1\n",
      "Done processing fold 1\n",
      "Start processing fold 2\n",
      "Done processing fold 2\n",
      "Start processing fold 3\n",
      "Done processing fold 3\n",
      "Start processing fold 4\n",
      "Done processing fold 4\n",
      "Start processing fold 5\n",
      "Done processing fold 5\n"
     ]
    }
   ],
   "source": [
    "# Initialize Random Forest model\n",
    "rf_model = RandomForestClassifier(n_estimators=100, random_state=42)\n",
    "\n",
    "# Lists to store results\n",
    "conf_matrices_rf = []\n",
    "classification_reports_rf = []\n",
    "macro_f1_scores_rf = []\n",
    "count = 0\n",
    "\n",
    "# Manually loop through each fold\n",
    "for train_index, test_index in kf.split(X_trainval):\n",
    "    count += 1\n",
    "    print(\"Start processing fold \" + str(count))\n",
    "\n",
    "    # Split the data for this fold\n",
    "    X_train, X_val = X_trainval.iloc[train_index], X_trainval.iloc[test_index]\n",
    "    y_train, y_val = y_trainval.iloc[train_index], y_trainval.iloc[test_index]\n",
    "\n",
    "    # Train the model\n",
    "    rf_model.fit(X_train, y_train)\n",
    "\n",
    "    # Make predictions\n",
    "    y_pred_rf = rf_model.predict(X_val)\n",
    "\n",
    "    # Store confusion matrix and classification report for each fold\n",
    "    conf_matrices_rf.append(confusion_matrix(y_val, y_pred_rf))\n",
    "    classification_reports_rf.append(classification_report(y_val, y_pred_rf, output_dict=True))\n",
    "\n",
    "    fold_macro_f1 = f1_score(y_val, y_pred_rf, average='macro')\n",
    "    macro_f1_scores_rf.append(fold_macro_f1)\n",
    "\n",
    "    print(\"Done processing fold \" + str(count))"
   ]
  },
  {
   "cell_type": "code",
   "execution_count": 26,
   "metadata": {
    "colab": {
     "base_uri": "https://localhost:8080/"
    },
    "id": "4Z7NDrxPVxV0",
    "outputId": "ec8bf94b-4c43-4ce9-d10d-45594d95e131"
   },
   "outputs": [
    {
     "name": "stdout",
     "output_type": "stream",
     "text": [
      "\n",
      "Fold 1\n",
      "Confusion Matrix:\n",
      "[[29125 13446]\n",
      " [13383 29046]]\n",
      "\n",
      "Classification Report:\n",
      "0: {'precision': 0.6851651453843982, 'recall': 0.6841511827300275, 'f1-score': 0.684657788643496, 'support': 42571.0}\n",
      "1: {'precision': 0.6835639649816436, 'recall': 0.6845789436470339, 'f1-score': 0.6840710778252729, 'support': 42429.0}\n",
      "accuracy: 0.684364705882353\n",
      "macro avg: {'precision': 0.6843645551830209, 'recall': 0.6843650631885307, 'f1-score': 0.6843644332343845, 'support': 85000.0}\n",
      "weighted avg: {'precision': 0.6843658926395926, 'recall': 0.684364705882353, 'f1-score': 0.6843649233104796, 'support': 85000.0}\n",
      "\n",
      "Fold 2\n",
      "Confusion Matrix:\n",
      "[[28958 13459]\n",
      " [13097 29486]]\n",
      "\n",
      "Classification Report:\n",
      "0: {'precision': 0.6885744857924146, 'recall': 0.6826979748685669, 'f1-score': 0.6856236386021404, 'support': 42417.0}\n",
      "1: {'precision': 0.6865991384328792, 'recall': 0.6924359486179931, 'f1-score': 0.6895051912823871, 'support': 42583.0}\n",
      "accuracy: 0.6875764705882353\n",
      "macro avg: {'precision': 0.6875868121126469, 'recall': 0.68756696174328, 'f1-score': 0.6875644149422637, 'support': 85000.0}\n",
      "weighted avg: {'precision': 0.6875848832440488, 'recall': 0.6875764705882353, 'f1-score': 0.6875682051642926, 'support': 85000.0}\n",
      "\n",
      "Fold 3\n",
      "Confusion Matrix:\n",
      "[[29473 13315]\n",
      " [13229 28983]]\n",
      "\n",
      "Classification Report:\n",
      "0: {'precision': 0.6902018640813077, 'recall': 0.6888146209217537, 'f1-score': 0.6895075447420751, 'support': 42788.0}\n",
      "1: {'precision': 0.6852097025864107, 'recall': 0.6866057045389936, 'f1-score': 0.6859069932552361, 'support': 42212.0}\n",
      "accuracy: 0.6877176470588235\n",
      "macro avg: {'precision': 0.6877057833338591, 'recall': 0.6877101627303737, 'f1-score': 0.6877072689986556, 'support': 85000.0}\n",
      "weighted avg: {'precision': 0.6877226979516301, 'recall': 0.6877176470588235, 'f1-score': 0.6877194685142816, 'support': 85000.0}\n",
      "\n",
      "Fold 4\n",
      "Confusion Matrix:\n",
      "[[28968 13506]\n",
      " [13055 29471]]\n",
      "\n",
      "Classification Report:\n",
      "0: {'precision': 0.689336791756895, 'recall': 0.6820172340726092, 'f1-score': 0.6856574789637502, 'support': 42474.0}\n",
      "1: {'precision': 0.6857388835888963, 'recall': 0.693011334242581, 'f1-score': 0.6893559290317299, 'support': 42526.0}\n",
      "accuracy: 0.6875176470588236\n",
      "macro avg: {'precision': 0.6875378376728957, 'recall': 0.6875142841575951, 'f1-score': 0.68750670399774, 'support': 85000.0}\n",
      "weighted avg: {'precision': 0.6875367371362795, 'recall': 0.6875176470588236, 'f1-score': 0.687507835288349, 'support': 85000.0}\n",
      "\n",
      "Fold 5\n",
      "Confusion Matrix:\n",
      "[[28986 13214]\n",
      " [13277 29523]]\n",
      "\n",
      "Classification Report:\n",
      "0: {'precision': 0.6858481414002792, 'recall': 0.686872037914692, 'f1-score': 0.6863597078010489, 'support': 42200.0}\n",
      "1: {'precision': 0.6908065610595034, 'recall': 0.6897897196261682, 'f1-score': 0.6902977658790933, 'support': 42800.0}\n",
      "accuracy: 0.6883411764705882\n",
      "macro avg: {'precision': 0.6883273512298913, 'recall': 0.6883308787704301, 'f1-score': 0.6883287368400711, 'support': 85000.0}\n",
      "weighted avg: {'precision': 0.6883448515345709, 'recall': 0.6883411764705882, 'f1-score': 0.6883426358685818, 'support': 85000.0}\n"
     ]
    }
   ],
   "source": [
    "# Display results for each fold\n",
    "for i in range(k):\n",
    "    print(f\"\\nFold {i+1}\")\n",
    "    print(\"Confusion Matrix:\")\n",
    "    print(conf_matrices_rf[i])\n",
    "    print(\"\\nClassification Report:\")\n",
    "    for label, metrics in classification_reports_rf[i].items():\n",
    "        print(f\"{label}: {metrics}\")"
   ]
  },
  {
   "cell_type": "code",
   "execution_count": 27,
   "metadata": {
    "colab": {
     "base_uri": "https://localhost:8080/"
    },
    "id": "yrX2w4LaVxV1",
    "outputId": "5348c866-48b4-4ec1-961e-271d3d07232e"
   },
   "outputs": [
    {
     "name": "stdout",
     "output_type": "stream",
     "text": [
      "\n",
      "Average Accuracy RF: 0.6871035294117648\n",
      "Standard Deviation: 0.0014003736525591934\n",
      "Average Macro F1 Score RF: 0.6870943116026229\n",
      "\n",
      "Average Recall for class 1: 0.6892843301345539\n"
     ]
    }
   ],
   "source": [
    "# Calculate average accuracy\n",
    "accuracies_rf = [report['accuracy'] for report in classification_reports_rf]\n",
    "average_accuracy_rf = np.mean(accuracies_rf)\n",
    "print(f\"\\nAverage Accuracy RF: {average_accuracy_rf}\")\n",
    "\n",
    "\n",
    "# Caluculate average standard deviation of accuracies\n",
    "std_dev_rf = np.std(accuracies_rf)\n",
    "print(f\"Standard Deviation: {std_dev_rf}\")\n",
    "\n",
    "\n",
    "# Calculate average f1-score\n",
    "average_macro_f1_rf = sum(macro_f1_scores_rf) / len(macro_f1_scores_rf)\n",
    "print(f\"Average Macro F1 Score RF: {average_macro_f1_rf}\")\n",
    "\n",
    "\n",
    "# Collect the recall for the '1' class from each fold\n",
    "recall_class_1_rf = [report['1']['recall'] for report in classification_reports_rf]\n",
    "# Calculate the average recall for the '1' class across all folds\n",
    "average_recall_class_1_rf = np.mean(recall_class_1_rf)\n",
    "print(f\"\\nAverage Recall for class 1: {average_recall_class_1_rf}\")"
   ]
  },
  {
   "cell_type": "code",
   "execution_count": 28,
   "metadata": {
    "colab": {
     "base_uri": "https://localhost:8080/"
    },
    "id": "_gJP8kxrVxV2",
    "outputId": "5b9594f1-35bd-4421-b478-eed74aeb1050"
   },
   "outputs": [
    {
     "name": "stdout",
     "output_type": "stream",
     "text": [
      "{'average_accuracy': 0.6871035294117648, 'std_dev_accuracy': 0.0014003736525591934, 'average_macro_f1': 0.6870943116026229, 'average_recall_class_1': 0.6892843301345539, 'accuracies_per_fold': [0.684364705882353, 0.6875764705882353, 0.6877176470588235, 0.6875176470588236, 0.6883411764705882], 'recall_class_1_per_fold': [0.6845789436470339, 0.6924359486179931, 0.6866057045389936, 0.693011334242581, 0.6897897196261682]}\n"
     ]
    }
   ],
   "source": [
    "# saving outputs\n",
    "\n",
    "# Example metrics\n",
    "metrics_rf = {\n",
    "    \"average_accuracy\": average_accuracy_rf,\n",
    "    \"std_dev_accuracy\": std_dev_rf,\n",
    "    \"average_macro_f1\": average_macro_f1_rf,\n",
    "    \"average_recall_class_1\": average_recall_class_1_rf,\n",
    "    \"accuracies_per_fold\": accuracies_rf,\n",
    "    \"recall_class_1_per_fold\": recall_class_1_rf\n",
    "}\n",
    "\n",
    "# Print the dictionary to verify\n",
    "print(metrics_rf)\n",
    "\n",
    "\n",
    "import json\n",
    "# Save the metrics dictionary as JSON\n",
    "with open(\"metrics_rf_del.json\", \"w\") as f:\n",
    "    json.dump(metrics_rf, f, indent=4)\n"
   ]
  },
  {
   "cell_type": "markdown",
   "metadata": {
    "id": "5UIQayifVxV2"
   },
   "source": [
    "### Support Vector Machine"
   ]
  },
  {
   "cell_type": "code",
   "execution_count": 29,
   "metadata": {
    "id": "-AWNiNkHVxV2"
   },
   "outputs": [],
   "source": [
    "from thundersvm import SVC"
   ]
  },
  {
   "cell_type": "code",
   "execution_count": 30,
   "metadata": {
    "id": "SdNPRrsuVxV2"
   },
   "outputs": [],
   "source": [
    "# Initialize SVC\n",
    "\n",
    "svc = SVC(kernel='rbf', random_state=45)\n",
    "\n",
    "# choosing rbf cause not linearly separable"
   ]
  },
  {
   "cell_type": "code",
   "execution_count": 31,
   "metadata": {
    "colab": {
     "base_uri": "https://localhost:8080/"
    },
    "id": "0VEqXnK1VxV3",
    "outputId": "2f7d2fb5-8934-47fe-cd39-5dd26261ad05"
   },
   "outputs": [
    {
     "name": "stdout",
     "output_type": "stream",
     "text": [
      "Starting fold 1\n",
      "Model fitted\n",
      "Done processing fold 1\n",
      "Starting fold 2\n",
      "Model fitted\n",
      "Done processing fold 2\n",
      "Starting fold 3\n",
      "Model fitted\n",
      "Done processing fold 3\n",
      "Starting fold 4\n",
      "Model fitted\n",
      "Done processing fold 4\n",
      "Starting fold 5\n",
      "Model fitted\n",
      "Done processing fold 5\n"
     ]
    }
   ],
   "source": [
    "# Lists to store results\n",
    "conf_matrices_svm = []\n",
    "classification_reports_svm = []\n",
    "macro_f1_scores_svm = []\n",
    "count = 0\n",
    "\n",
    "# Manually loop through each fold\n",
    "for train_index, test_index in kf.split(X_trainval):\n",
    "    count += 1\n",
    "\n",
    "    print(\"Starting fold \" + str(count))\n",
    "    # Split the data for this fold\n",
    "    X_train, X_val = X_trainval.iloc[train_index], X_trainval.iloc[test_index]\n",
    "    y_train, y_val = y_trainval.iloc[train_index], y_trainval.iloc[test_index]\n",
    "\n",
    "    # Train the model\n",
    "    svc.fit(X_train, y_train)\n",
    "    print(\"Model fitted\")\n",
    "\n",
    "    # Make predictions\n",
    "    y_pred_svm = svc.predict(X_val)\n",
    "\n",
    "    # Store confusion matrix and classification report for each fold\n",
    "    conf_matrices_svm.append(confusion_matrix(y_val, y_pred_svm))\n",
    "    classification_reports_svm.append(classification_report(y_val, y_pred_svm, output_dict=True))\n",
    "\n",
    "    # Calculate and store macro F1 score for this fold\n",
    "    fold_macro_f1 = f1_score(y_val, y_pred_svm, average='macro')\n",
    "    macro_f1_scores_svm.append(fold_macro_f1)\n",
    "\n",
    "    print(\"Done processing fold \" + str(count))"
   ]
  },
  {
   "cell_type": "code",
   "execution_count": 32,
   "metadata": {
    "colab": {
     "base_uri": "https://localhost:8080/"
    },
    "id": "OIJ8u8S9VxV3",
    "outputId": "b15b470b-0c43-4316-be70-da7c6f8faf3e"
   },
   "outputs": [
    {
     "name": "stdout",
     "output_type": "stream",
     "text": [
      "\n",
      "Fold 1\n",
      "Confusion Matrix:\n",
      "[[25332 17239]\n",
      " [13809 28620]]\n",
      "\n",
      "Classification Report:\n",
      "0: {'precision': 0.6471985897141105, 'recall': 0.5950529703319161, 'f1-score': 0.6200313295476797, 'support': 42571.0}\n",
      "1: {'precision': 0.6240868749863713, 'recall': 0.674538641023828, 'f1-score': 0.6483327292497282, 'support': 42429.0}\n",
      "accuracy: 0.6347294117647059\n",
      "macro avg: {'precision': 0.6356427323502409, 'recall': 0.634795805677872, 'f1-score': 0.6341820293987039, 'support': 85000.0}\n",
      "weighted avg: {'precision': 0.6356620374296016, 'recall': 0.6347294117647059, 'f1-score': 0.6341583894060117, 'support': 85000.0}\n",
      "\n",
      "Fold 2\n",
      "Confusion Matrix:\n",
      "[[25311 17106]\n",
      " [13835 28748]]\n",
      "\n",
      "Classification Report:\n",
      "0: {'precision': 0.6465794717212486, 'recall': 0.596718296909258, 'f1-score': 0.6206490688179689, 'support': 42417.0}\n",
      "1: {'precision': 0.6269463950800367, 'recall': 0.6751050888852359, 'f1-score': 0.6501351244388661, 'support': 42583.0}\n",
      "accuracy: 0.6359882352941176\n",
      "macro avg: {'precision': 0.6367629334006426, 'recall': 0.635911692897247, 'f1-score': 0.6353920966284174, 'support': 85000.0}\n",
      "weighted avg: {'precision': 0.636743762278746, 'recall': 0.6359882352941176, 'f1-score': 0.6354208888944943, 'support': 85000.0}\n",
      "\n",
      "Fold 3\n",
      "Confusion Matrix:\n",
      "[[25520 17268]\n",
      " [13670 28542]]\n",
      "\n",
      "Classification Report:\n",
      "0: {'precision': 0.6511865271752998, 'recall': 0.5964289053005516, 'f1-score': 0.6226060650418405, 'support': 42788.0}\n",
      "1: {'precision': 0.6230517354289457, 'recall': 0.6761584383587605, 'f1-score': 0.6485196882597533, 'support': 42212.0}\n",
      "accuracy: 0.6360235294117647\n",
      "macro avg: {'precision': 0.6371191313021227, 'recall': 0.6362936718296561, 'f1-score': 0.6355628766507968, 'support': 85000.0}\n",
      "weighted avg: {'precision': 0.6372144585965104, 'recall': 0.6360235294117647, 'f1-score': 0.6354750751980115, 'support': 85000.0}\n",
      "\n",
      "Fold 4\n",
      "Confusion Matrix:\n",
      "[[25753 16721]\n",
      " [14107 28419]]\n",
      "\n",
      "Classification Report:\n",
      "0: {'precision': 0.6460863020572002, 'recall': 0.6063238687196874, 'f1-score': 0.6255738819928583, 'support': 42474.0}\n",
      "1: {'precision': 0.6295746566238369, 'recall': 0.6682735267836147, 'f1-score': 0.6483471357196633, 'support': 42526.0}\n",
      "accuracy: 0.6373176470588235\n",
      "macro avg: {'precision': 0.6378304793405185, 'recall': 0.637298697751651, 'f1-score': 0.6369605088562609, 'support': 85000.0}\n",
      "weighted avg: {'precision': 0.6378254287195625, 'recall': 0.6373176470588235, 'f1-score': 0.6369674747926949, 'support': 85000.0}\n",
      "\n",
      "Fold 5\n",
      "Confusion Matrix:\n",
      "[[26004 16196]\n",
      " [14798 28002]]\n",
      "\n",
      "Classification Report:\n",
      "0: {'precision': 0.6373216999166708, 'recall': 0.6162085308056872, 'f1-score': 0.6265873111491289, 'support': 42200.0}\n",
      "1: {'precision': 0.6335580795511109, 'recall': 0.6542523364485981, 'f1-score': 0.6437389365272765, 'support': 42800.0}\n",
      "accuracy: 0.6353647058823529\n",
      "macro avg: {'precision': 0.6354398897338909, 'recall': 0.6352304336271426, 'f1-score': 0.6351631238382027, 'support': 85000.0}\n",
      "weighted avg: {'precision': 0.6354266063678947, 'recall': 0.6353647058823529, 'f1-score': 0.6352236589865962, 'support': 85000.0}\n"
     ]
    }
   ],
   "source": [
    "# Display results for each fold\n",
    "for i in range(k):\n",
    "    print(f\"\\nFold {i+1}\")\n",
    "    print(\"Confusion Matrix:\")\n",
    "    print(conf_matrices_svm[i])\n",
    "    print(\"\\nClassification Report:\")\n",
    "    for label, metrics in classification_reports_svm[i].items():\n",
    "        print(f\"{label}: {metrics}\")"
   ]
  },
  {
   "cell_type": "code",
   "execution_count": 33,
   "metadata": {
    "colab": {
     "base_uri": "https://localhost:8080/"
    },
    "id": "OMIwvs8vVxV3",
    "outputId": "242c0fbb-6b2b-456d-f474-60929a4154da"
   },
   "outputs": [
    {
     "name": "stdout",
     "output_type": "stream",
     "text": [
      "\n",
      "Average Accuracy LR: 0.6358847058823529\n",
      "Standard Deviation: 0.0008588847681631727\n",
      "Average Macro F1 Score LR: 0.6354521270744764\n",
      "\n",
      "Average Recall for class 1: 0.6696656063000074\n"
     ]
    }
   ],
   "source": [
    "# Calculate average accuracy\n",
    "accuracies_svm = [report['accuracy'] for report in classification_reports_svm]\n",
    "average_accuracy_svm = np.mean(accuracies_svm)\n",
    "print(f\"\\nAverage Accuracy LR: {average_accuracy_svm}\")\n",
    "\n",
    "\n",
    "# Caluculate average standard deviation\n",
    "std_dev_svm = np.std(accuracies_svm)\n",
    "print(f\"Standard Deviation: {std_dev_svm}\")\n",
    "\n",
    "\n",
    "# Calculate average macro f1-score\n",
    "average_macro_f1_svm = sum(macro_f1_scores_svm) / len(macro_f1_scores_svm)\n",
    "print(f\"Average Macro F1 Score LR: {average_macro_f1_svm}\")\n",
    "\n",
    "\n",
    "# Collect the recall for the '1' class from each fold\n",
    "recall_class_1_svm = [report['1']['recall'] for report in classification_reports_svm]\n",
    "# Calculate the average recall for the '1' class across all folds\n",
    "average_recall_class_1_svm = np.mean(recall_class_1_svm)\n",
    "print(f\"\\nAverage Recall for class 1: {average_recall_class_1_svm}\")"
   ]
  },
  {
   "cell_type": "code",
   "execution_count": 34,
   "metadata": {
    "colab": {
     "base_uri": "https://localhost:8080/"
    },
    "id": "i33tff3QVxV3",
    "outputId": "71b7a78a-d144-4635-bb70-f5589949a371"
   },
   "outputs": [
    {
     "name": "stdout",
     "output_type": "stream",
     "text": [
      "{'average_accuracy': 0.6358847058823529, 'std_dev_accuracy': 0.0008588847681631727, 'average_macro_f1': 0.6354521270744764, 'average_recall_class_1': 0.6696656063000074, 'accuracies_per_fold': [0.6347294117647059, 0.6359882352941176, 0.6360235294117647, 0.6373176470588235, 0.6353647058823529], 'recall_class_1_per_fold': [0.674538641023828, 0.6751050888852359, 0.6761584383587605, 0.6682735267836147, 0.6542523364485981]}\n"
     ]
    }
   ],
   "source": [
    "# saving outputs\n",
    "\n",
    "# Example metrics\n",
    "metrics_svm = {\n",
    "    \"average_accuracy\": average_accuracy_svm,\n",
    "    \"std_dev_accuracy\": std_dev_svm,\n",
    "    \"average_macro_f1\": average_macro_f1_svm,\n",
    "    \"average_recall_class_1\": average_recall_class_1_svm,\n",
    "    \"accuracies_per_fold\": accuracies_svm,\n",
    "    \"recall_class_1_per_fold\": recall_class_1_svm\n",
    "}\n",
    "\n",
    "# Print the dictionary to verify\n",
    "print(metrics_svm)\n",
    "\n",
    "\n",
    "import json\n",
    "# Save the metrics dictionary as JSON\n",
    "with open(\"metrics_svm_del.json\", \"w\") as f:\n",
    "    json.dump(metrics_svm, f, indent=4)"
   ]
  },
  {
   "cell_type": "markdown",
   "metadata": {
    "id": "HcoibFHHVxV4"
   },
   "source": [
    "### MLP"
   ]
  },
  {
   "cell_type": "code",
   "execution_count": 35,
   "metadata": {
    "id": "fiamFOX7VxV5"
   },
   "outputs": [],
   "source": [
    "from tensorflow.keras import layers, optimizers, models, callbacks\n",
    "from tensorflow.keras.optimizers.schedules import ExponentialDecay\n",
    "from tensorflow import keras"
   ]
  },
  {
   "cell_type": "code",
   "execution_count": 36,
   "metadata": {
    "id": "jv9IHbP1VxV5"
   },
   "outputs": [],
   "source": [
    "# Define parameters\n",
    "initial_learning_rate = 5e-4\n",
    "decay_rate = 0.1  # Decay rate per step\n",
    "\n",
    "# Define the learning rate schedule\n",
    "lr_schedule = ExponentialDecay(\n",
    "    initial_learning_rate,\n",
    "    decay_steps=10000,\n",
    "    decay_rate=decay_rate)\n",
    "\n",
    "# Define early stopping\n",
    "early_stopping = callbacks.EarlyStopping(\n",
    "    monitor='val_accuracy',             # Watch accuracy\n",
    "    patience=5,                         # Stop after 3 epochs with no improvement\n",
    "    restore_best_weights=True,          # Restore weights from the best epoch\n",
    "    min_delta=0.0005                    # Minimum change in accuracy to qualify as an improvement\n",
    ")\n",
    "\n",
    "# Function to build the model\n",
    "def build_model():\n",
    "    model_mlp = models.Sequential()\n",
    "    model_mlp.add(layers.Dense(64, activation='relu', input_shape=(X.shape[1],)))\n",
    "    model_mlp.add(layers.BatchNormalization())\n",
    "    model_mlp.add(layers.Dense(64, activation='relu'))\n",
    "    model_mlp.add(layers.BatchNormalization())\n",
    "    model_mlp.add(layers.Dense(1, activation='sigmoid'))\n",
    "    model_mlp.compile(optimizer=optimizers.Adam(learning_rate=lr_schedule), loss='binary_crossentropy', metrics=['accuracy', keras.metrics.Recall()])\n",
    "    return model_mlp"
   ]
  },
  {
   "cell_type": "code",
   "execution_count": 37,
   "metadata": {
    "colab": {
     "base_uri": "https://localhost:8080/"
    },
    "id": "x51esfv0VxV5",
    "outputId": "345753d4-2a99-43b7-982d-7a8bc6309eb3"
   },
   "outputs": [
    {
     "name": "stdout",
     "output_type": "stream",
     "text": [
      "\n",
      "Fold 1\n"
     ]
    },
    {
     "name": "stderr",
     "output_type": "stream",
     "text": [
      "/usr/local/lib/python3.10/dist-packages/keras/src/layers/core/dense.py:87: UserWarning: Do not pass an `input_shape`/`input_dim` argument to a layer. When using Sequential models, prefer using an `Input(shape)` object as the first layer in the model instead.\n",
      "  super().__init__(activity_regularizer=activity_regularizer, **kwargs)\n"
     ]
    },
    {
     "name": "stdout",
     "output_type": "stream",
     "text": [
      "Epoch 1/20\n",
      "\u001b[1m10625/10625\u001b[0m \u001b[32m━━━━━━━━━━━━━━━━━━━━\u001b[0m\u001b[37m\u001b[0m \u001b[1m24s\u001b[0m 2ms/step - accuracy: 0.5838 - loss: 0.6737 - recall: 0.5813 - val_accuracy: 0.6213 - val_loss: 0.6327 - val_recall: 0.6129\n",
      "Epoch 2/20\n",
      "\u001b[1m10625/10625\u001b[0m \u001b[32m━━━━━━━━━━━━━━━━━━━━\u001b[0m\u001b[37m\u001b[0m \u001b[1m20s\u001b[0m 2ms/step - accuracy: 0.6170 - loss: 0.6362 - recall: 0.5993 - val_accuracy: 0.6248 - val_loss: 0.6304 - val_recall: 0.6129\n",
      "Epoch 3/20\n",
      "\u001b[1m10625/10625\u001b[0m \u001b[32m━━━━━━━━━━━━━━━━━━━━\u001b[0m\u001b[37m\u001b[0m \u001b[1m20s\u001b[0m 2ms/step - accuracy: 0.6176 - loss: 0.6358 - recall: 0.6015 - val_accuracy: 0.6237 - val_loss: 0.6305 - val_recall: 0.6169\n",
      "Epoch 4/20\n",
      "\u001b[1m10625/10625\u001b[0m \u001b[32m━━━━━━━━━━━━━━━━━━━━\u001b[0m\u001b[37m\u001b[0m \u001b[1m20s\u001b[0m 2ms/step - accuracy: 0.6188 - loss: 0.6345 - recall: 0.6017 - val_accuracy: 0.6241 - val_loss: 0.6304 - val_recall: 0.6239\n",
      "Epoch 5/20\n",
      "\u001b[1m10625/10625\u001b[0m \u001b[32m━━━━━━━━━━━━━━━━━━━━\u001b[0m\u001b[37m\u001b[0m \u001b[1m20s\u001b[0m 2ms/step - accuracy: 0.6191 - loss: 0.6341 - recall: 0.6058 - val_accuracy: 0.6239 - val_loss: 0.6304 - val_recall: 0.6132\n",
      "Epoch 6/20\n",
      "\u001b[1m10625/10625\u001b[0m \u001b[32m━━━━━━━━━━━━━━━━━━━━\u001b[0m\u001b[37m\u001b[0m \u001b[1m20s\u001b[0m 2ms/step - accuracy: 0.6208 - loss: 0.6340 - recall: 0.6057 - val_accuracy: 0.6240 - val_loss: 0.6306 - val_recall: 0.6295\n",
      "Epoch 7/20\n",
      "\u001b[1m10625/10625\u001b[0m \u001b[32m━━━━━━━━━━━━━━━━━━━━\u001b[0m\u001b[37m\u001b[0m \u001b[1m20s\u001b[0m 2ms/step - accuracy: 0.6194 - loss: 0.6349 - recall: 0.6066 - val_accuracy: 0.6244 - val_loss: 0.6304 - val_recall: 0.6167\n",
      "\u001b[1m2657/2657\u001b[0m \u001b[32m━━━━━━━━━━━━━━━━━━━━\u001b[0m\u001b[37m\u001b[0m \u001b[1m3s\u001b[0m 1ms/step\n",
      "\n",
      "Fold 2\n",
      "Epoch 1/20\n"
     ]
    },
    {
     "name": "stderr",
     "output_type": "stream",
     "text": [
      "/usr/local/lib/python3.10/dist-packages/keras/src/layers/core/dense.py:87: UserWarning: Do not pass an `input_shape`/`input_dim` argument to a layer. When using Sequential models, prefer using an `Input(shape)` object as the first layer in the model instead.\n",
      "  super().__init__(activity_regularizer=activity_regularizer, **kwargs)\n"
     ]
    },
    {
     "name": "stdout",
     "output_type": "stream",
     "text": [
      "\u001b[1m10625/10625\u001b[0m \u001b[32m━━━━━━━━━━━━━━━━━━━━\u001b[0m\u001b[37m\u001b[0m \u001b[1m24s\u001b[0m 2ms/step - accuracy: 0.5813 - loss: 0.6710 - recall_1: 0.5842 - val_accuracy: 0.6257 - val_loss: 0.6297 - val_recall_1: 0.6339\n",
      "Epoch 2/20\n",
      "\u001b[1m10625/10625\u001b[0m \u001b[32m━━━━━━━━━━━━━━━━━━━━\u001b[0m\u001b[37m\u001b[0m \u001b[1m20s\u001b[0m 2ms/step - accuracy: 0.6168 - loss: 0.6362 - recall_1: 0.6132 - val_accuracy: 0.6268 - val_loss: 0.6276 - val_recall_1: 0.6366\n",
      "Epoch 3/20\n",
      "\u001b[1m10625/10625\u001b[0m \u001b[32m━━━━━━━━━━━━━━━━━━━━\u001b[0m\u001b[37m\u001b[0m \u001b[1m20s\u001b[0m 2ms/step - accuracy: 0.6187 - loss: 0.6358 - recall_1: 0.6117 - val_accuracy: 0.6275 - val_loss: 0.6276 - val_recall_1: 0.6347\n",
      "Epoch 4/20\n",
      "\u001b[1m10625/10625\u001b[0m \u001b[32m━━━━━━━━━━━━━━━━━━━━\u001b[0m\u001b[37m\u001b[0m \u001b[1m20s\u001b[0m 2ms/step - accuracy: 0.6205 - loss: 0.6340 - recall_1: 0.6095 - val_accuracy: 0.6271 - val_loss: 0.6274 - val_recall_1: 0.6283\n",
      "Epoch 5/20\n",
      "\u001b[1m10625/10625\u001b[0m \u001b[32m━━━━━━━━━━━━━━━━━━━━\u001b[0m\u001b[37m\u001b[0m \u001b[1m20s\u001b[0m 2ms/step - accuracy: 0.6191 - loss: 0.6356 - recall_1: 0.6119 - val_accuracy: 0.6268 - val_loss: 0.6274 - val_recall_1: 0.6288\n",
      "Epoch 6/20\n",
      "\u001b[1m10625/10625\u001b[0m \u001b[32m━━━━━━━━━━━━━━━━━━━━\u001b[0m\u001b[37m\u001b[0m \u001b[1m20s\u001b[0m 2ms/step - accuracy: 0.6199 - loss: 0.6351 - recall_1: 0.6109 - val_accuracy: 0.6269 - val_loss: 0.6273 - val_recall_1: 0.6413\n",
      "Epoch 7/20\n",
      "\u001b[1m10625/10625\u001b[0m \u001b[32m━━━━━━━━━━━━━━━━━━━━\u001b[0m\u001b[37m\u001b[0m \u001b[1m20s\u001b[0m 2ms/step - accuracy: 0.6195 - loss: 0.6357 - recall_1: 0.6119 - val_accuracy: 0.6272 - val_loss: 0.6276 - val_recall_1: 0.6327\n",
      "Epoch 8/20\n",
      "\u001b[1m10625/10625\u001b[0m \u001b[32m━━━━━━━━━━━━━━━━━━━━\u001b[0m\u001b[37m\u001b[0m \u001b[1m20s\u001b[0m 2ms/step - accuracy: 0.6187 - loss: 0.6358 - recall_1: 0.6119 - val_accuracy: 0.6267 - val_loss: 0.6275 - val_recall_1: 0.6292\n",
      "\u001b[1m2657/2657\u001b[0m \u001b[32m━━━━━━━━━━━━━━━━━━━━\u001b[0m\u001b[37m\u001b[0m \u001b[1m3s\u001b[0m 1ms/step\n",
      "\n",
      "Fold 3\n",
      "Epoch 1/20\n"
     ]
    },
    {
     "name": "stderr",
     "output_type": "stream",
     "text": [
      "/usr/local/lib/python3.10/dist-packages/keras/src/layers/core/dense.py:87: UserWarning: Do not pass an `input_shape`/`input_dim` argument to a layer. When using Sequential models, prefer using an `Input(shape)` object as the first layer in the model instead.\n",
      "  super().__init__(activity_regularizer=activity_regularizer, **kwargs)\n"
     ]
    },
    {
     "name": "stdout",
     "output_type": "stream",
     "text": [
      "\u001b[1m10625/10625\u001b[0m \u001b[32m━━━━━━━━━━━━━━━━━━━━\u001b[0m\u001b[37m\u001b[0m \u001b[1m23s\u001b[0m 2ms/step - accuracy: 0.5810 - loss: 0.6710 - recall_2: 0.5911 - val_accuracy: 0.6224 - val_loss: 0.6318 - val_recall_2: 0.6218\n",
      "Epoch 2/20\n",
      "\u001b[1m10625/10625\u001b[0m \u001b[32m━━━━━━━━━━━━━━━━━━━━\u001b[0m\u001b[37m\u001b[0m \u001b[1m20s\u001b[0m 2ms/step - accuracy: 0.6158 - loss: 0.6383 - recall_2: 0.6200 - val_accuracy: 0.6247 - val_loss: 0.6297 - val_recall_2: 0.6082\n",
      "Epoch 3/20\n",
      "\u001b[1m10625/10625\u001b[0m \u001b[32m━━━━━━━━━━━━━━━━━━━━\u001b[0m\u001b[37m\u001b[0m \u001b[1m20s\u001b[0m 2ms/step - accuracy: 0.6197 - loss: 0.6358 - recall_2: 0.6227 - val_accuracy: 0.6249 - val_loss: 0.6296 - val_recall_2: 0.6134\n",
      "Epoch 4/20\n",
      "\u001b[1m10625/10625\u001b[0m \u001b[32m━━━━━━━━━━━━━━━━━━━━\u001b[0m\u001b[37m\u001b[0m \u001b[1m20s\u001b[0m 2ms/step - accuracy: 0.6188 - loss: 0.6361 - recall_2: 0.6211 - val_accuracy: 0.6244 - val_loss: 0.6296 - val_recall_2: 0.6076\n",
      "Epoch 5/20\n",
      "\u001b[1m10625/10625\u001b[0m \u001b[32m━━━━━━━━━━━━━━━━━━━━\u001b[0m\u001b[37m\u001b[0m \u001b[1m20s\u001b[0m 2ms/step - accuracy: 0.6186 - loss: 0.6359 - recall_2: 0.6214 - val_accuracy: 0.6243 - val_loss: 0.6294 - val_recall_2: 0.6138\n",
      "\u001b[1m2657/2657\u001b[0m \u001b[32m━━━━━━━━━━━━━━━━━━━━\u001b[0m\u001b[37m\u001b[0m \u001b[1m3s\u001b[0m 1ms/step\n",
      "\n",
      "Fold 4\n",
      "Epoch 1/20\n"
     ]
    },
    {
     "name": "stderr",
     "output_type": "stream",
     "text": [
      "/usr/local/lib/python3.10/dist-packages/keras/src/layers/core/dense.py:87: UserWarning: Do not pass an `input_shape`/`input_dim` argument to a layer. When using Sequential models, prefer using an `Input(shape)` object as the first layer in the model instead.\n",
      "  super().__init__(activity_regularizer=activity_regularizer, **kwargs)\n"
     ]
    },
    {
     "name": "stdout",
     "output_type": "stream",
     "text": [
      "\u001b[1m10625/10625\u001b[0m \u001b[32m━━━━━━━━━━━━━━━━━━━━\u001b[0m\u001b[37m\u001b[0m \u001b[1m23s\u001b[0m 2ms/step - accuracy: 0.5819 - loss: 0.6685 - recall_3: 0.5871 - val_accuracy: 0.6234 - val_loss: 0.6303 - val_recall_3: 0.6181\n",
      "Epoch 2/20\n",
      "\u001b[1m10625/10625\u001b[0m \u001b[32m━━━━━━━━━━━━━━━━━━━━\u001b[0m\u001b[37m\u001b[0m \u001b[1m20s\u001b[0m 2ms/step - accuracy: 0.6146 - loss: 0.6372 - recall_3: 0.6040 - val_accuracy: 0.6282 - val_loss: 0.6281 - val_recall_3: 0.6234\n",
      "Epoch 3/20\n",
      "\u001b[1m10625/10625\u001b[0m \u001b[32m━━━━━━━━━━━━━━━━━━━━\u001b[0m\u001b[37m\u001b[0m \u001b[1m20s\u001b[0m 2ms/step - accuracy: 0.6165 - loss: 0.6358 - recall_3: 0.6131 - val_accuracy: 0.6276 - val_loss: 0.6279 - val_recall_3: 0.6319\n",
      "Epoch 4/20\n",
      "\u001b[1m10625/10625\u001b[0m \u001b[32m━━━━━━━━━━━━━━━━━━━━\u001b[0m\u001b[37m\u001b[0m \u001b[1m20s\u001b[0m 2ms/step - accuracy: 0.6191 - loss: 0.6354 - recall_3: 0.6140 - val_accuracy: 0.6288 - val_loss: 0.6279 - val_recall_3: 0.6152\n",
      "Epoch 5/20\n",
      "\u001b[1m10625/10625\u001b[0m \u001b[32m━━━━━━━━━━━━━━━━━━━━\u001b[0m\u001b[37m\u001b[0m \u001b[1m20s\u001b[0m 2ms/step - accuracy: 0.6179 - loss: 0.6360 - recall_3: 0.6144 - val_accuracy: 0.6277 - val_loss: 0.6281 - val_recall_3: 0.6114\n",
      "Epoch 6/20\n",
      "\u001b[1m10625/10625\u001b[0m \u001b[32m━━━━━━━━━━━━━━━━━━━━\u001b[0m\u001b[37m\u001b[0m \u001b[1m20s\u001b[0m 2ms/step - accuracy: 0.6190 - loss: 0.6350 - recall_3: 0.6139 - val_accuracy: 0.6279 - val_loss: 0.6279 - val_recall_3: 0.6383\n",
      "Epoch 7/20\n",
      "\u001b[1m10625/10625\u001b[0m \u001b[32m━━━━━━━━━━━━━━━━━━━━\u001b[0m\u001b[37m\u001b[0m \u001b[1m20s\u001b[0m 2ms/step - accuracy: 0.6175 - loss: 0.6354 - recall_3: 0.6132 - val_accuracy: 0.6283 - val_loss: 0.6279 - val_recall_3: 0.6296\n",
      "Epoch 8/20\n",
      "\u001b[1m10625/10625\u001b[0m \u001b[32m━━━━━━━━━━━━━━━━━━━━\u001b[0m\u001b[37m\u001b[0m \u001b[1m20s\u001b[0m 2ms/step - accuracy: 0.6182 - loss: 0.6363 - recall_3: 0.6132 - val_accuracy: 0.6282 - val_loss: 0.6278 - val_recall_3: 0.6247\n",
      "Epoch 9/20\n",
      "\u001b[1m10625/10625\u001b[0m \u001b[32m━━━━━━━━━━━━━━━━━━━━\u001b[0m\u001b[37m\u001b[0m \u001b[1m20s\u001b[0m 2ms/step - accuracy: 0.6177 - loss: 0.6354 - recall_3: 0.6126 - val_accuracy: 0.6282 - val_loss: 0.6280 - val_recall_3: 0.6215\n",
      "\u001b[1m2657/2657\u001b[0m \u001b[32m━━━━━━━━━━━━━━━━━━━━\u001b[0m\u001b[37m\u001b[0m \u001b[1m3s\u001b[0m 1ms/step\n",
      "\n",
      "Fold 5\n",
      "Epoch 1/20\n"
     ]
    },
    {
     "name": "stderr",
     "output_type": "stream",
     "text": [
      "/usr/local/lib/python3.10/dist-packages/keras/src/layers/core/dense.py:87: UserWarning: Do not pass an `input_shape`/`input_dim` argument to a layer. When using Sequential models, prefer using an `Input(shape)` object as the first layer in the model instead.\n",
      "  super().__init__(activity_regularizer=activity_regularizer, **kwargs)\n"
     ]
    },
    {
     "name": "stdout",
     "output_type": "stream",
     "text": [
      "\u001b[1m10625/10625\u001b[0m \u001b[32m━━━━━━━━━━━━━━━━━━━━\u001b[0m\u001b[37m\u001b[0m \u001b[1m24s\u001b[0m 2ms/step - accuracy: 0.5833 - loss: 0.6661 - recall_4: 0.5827 - val_accuracy: 0.6255 - val_loss: 0.6296 - val_recall_4: 0.5942\n",
      "Epoch 2/20\n",
      "\u001b[1m10625/10625\u001b[0m \u001b[32m━━━━━━━━━━━━━━━━━━━━\u001b[0m\u001b[37m\u001b[0m \u001b[1m21s\u001b[0m 2ms/step - accuracy: 0.6186 - loss: 0.6350 - recall_4: 0.6087 - val_accuracy: 0.6273 - val_loss: 0.6278 - val_recall_4: 0.6327\n",
      "Epoch 3/20\n",
      "\u001b[1m10625/10625\u001b[0m \u001b[32m━━━━━━━━━━━━━━━━━━━━\u001b[0m\u001b[37m\u001b[0m \u001b[1m20s\u001b[0m 2ms/step - accuracy: 0.6179 - loss: 0.6342 - recall_4: 0.6097 - val_accuracy: 0.6272 - val_loss: 0.6277 - val_recall_4: 0.6149\n",
      "Epoch 4/20\n",
      "\u001b[1m10625/10625\u001b[0m \u001b[32m━━━━━━━━━━━━━━━━━━━━\u001b[0m\u001b[37m\u001b[0m \u001b[1m20s\u001b[0m 2ms/step - accuracy: 0.6197 - loss: 0.6338 - recall_4: 0.6101 - val_accuracy: 0.6277 - val_loss: 0.6277 - val_recall_4: 0.6136\n",
      "Epoch 5/20\n",
      "\u001b[1m10625/10625\u001b[0m \u001b[32m━━━━━━━━━━━━━━━━━━━━\u001b[0m\u001b[37m\u001b[0m \u001b[1m20s\u001b[0m 2ms/step - accuracy: 0.6185 - loss: 0.6340 - recall_4: 0.6104 - val_accuracy: 0.6283 - val_loss: 0.6277 - val_recall_4: 0.6253\n",
      "\u001b[1m2657/2657\u001b[0m \u001b[32m━━━━━━━━━━━━━━━━━━━━\u001b[0m\u001b[37m\u001b[0m \u001b[1m3s\u001b[0m 1ms/step\n"
     ]
    }
   ],
   "source": [
    "# Convert data to float32 (required by TensorFlow)\n",
    "X_trainval = np.array(X_trainval, dtype=np.float32)\n",
    "y_trainval = np.array(y_trainval, dtype=np.float32)\n",
    "\n",
    "# Lists to store results\n",
    "conf_matrices_mlp = []\n",
    "classification_reports_mlp = []\n",
    "macro_f1_scores_mlp = []\n",
    "count = 0\n",
    "\n",
    "# Manually loop over each fold\n",
    "for train_index, test_index in kf.split(X_trainval):\n",
    "    count += 1\n",
    "    print(f\"\\nFold {count}\")\n",
    "\n",
    "    # Split data for this fold\n",
    "    X_train, X_val = X_trainval[train_index], X_trainval[test_index]\n",
    "    y_train, y_val = y_trainval[train_index], y_trainval[test_index]\n",
    "\n",
    "    # Build and train the model\n",
    "    model_mlp = build_model()\n",
    "    model_mlp.fit(X_train, y_train, validation_data=(X_val, y_val), epochs=20, batch_size=32, verbose=1, callbacks=[early_stopping])\n",
    "\n",
    "    # Make predictions\n",
    "    y_pred_mlp = model_mlp.predict(X_val)\n",
    "    y_pred_mlp = (y_pred_mlp > 0.5).astype(int)  # Convert probabilities to binary class predictions\n",
    "\n",
    "    # Store confusion matrix and classification report for each fold\n",
    "    conf_matrices_mlp.append(confusion_matrix(y_val, y_pred_mlp))\n",
    "    classification_reports_mlp.append(classification_report(y_val, y_pred_mlp, output_dict=True))\n",
    "\n",
    "    fold_macro_f1 = f1_score(y_val, y_pred_mlp, average='macro')\n",
    "    macro_f1_scores_mlp.append(fold_macro_f1)"
   ]
  },
  {
   "cell_type": "code",
   "execution_count": 38,
   "metadata": {
    "colab": {
     "base_uri": "https://localhost:8080/"
    },
    "id": "EDTiyy8DVxV5",
    "outputId": "8588a8af-b78b-4f50-96be-c46158001fe3"
   },
   "outputs": [
    {
     "name": "stdout",
     "output_type": "stream",
     "text": [
      "\n",
      "Fold 1\n",
      "Confusion Matrix:\n",
      "[[27103 15468]\n",
      " [16426 26003]]\n",
      "\n",
      "Classification Report:\n",
      "0.0: {'precision': 0.6226423763468033, 'recall': 0.6366540602757745, 'f1-score': 0.6295702671312428, 'support': 42571.0}\n",
      "1.0: {'precision': 0.6270164693400208, 'recall': 0.6128591293690636, 'f1-score': 0.6198569725864124, 'support': 42429.0}\n",
      "accuracy: 0.6247764705882353\n",
      "macro avg: {'precision': 0.624829422843412, 'recall': 0.6247565948224191, 'f1-score': 0.6247136198588276, 'support': 85000.0}\n",
      "weighted avg: {'precision': 0.6248257691892648, 'recall': 0.6247764705882353, 'f1-score': 0.6247217333166238, 'support': 85000.0}\n",
      "\n",
      "Fold 2\n",
      "Confusion Matrix:\n",
      "[[26311 16106]\n",
      " [15556 27027]]\n",
      "\n",
      "Classification Report:\n",
      "0.0: {'precision': 0.6284424487066186, 'recall': 0.6202937501473466, 'f1-score': 0.6243415120307532, 'support': 42417.0}\n",
      "1.0: {'precision': 0.6265968052303341, 'recall': 0.6346898997252425, 'f1-score': 0.630617387652247, 'support': 42583.0}\n",
      "accuracy: 0.6275058823529411\n",
      "macro avg: {'precision': 0.6275196269684764, 'recall': 0.6274918249362945, 'f1-score': 0.6274794498415001, 'support': 85000.0}\n",
      "weighted avg: {'precision': 0.6275178247519054, 'recall': 0.6275058823529411, 'f1-score': 0.6274855780494599, 'support': 85000.0}\n",
      "\n",
      "Fold 3\n",
      "Confusion Matrix:\n",
      "[[26656 16132]\n",
      " [15963 26249]]\n",
      "\n",
      "Classification Report:\n",
      "0.0: {'precision': 0.6254487435181492, 'recall': 0.6229784051603253, 'f1-score': 0.6242111302352267, 'support': 42788.0}\n",
      "1.0: {'precision': 0.6193577310587292, 'recall': 0.6218373922107457, 'f1-score': 0.6205950846996796, 'support': 42212.0}\n",
      "accuracy: 0.6224117647058823\n",
      "macro avg: {'precision': 0.6224032372884392, 'recall': 0.6224078986855355, 'f1-score': 0.6224031074674532, 'support': 85000.0}\n",
      "weighted avg: {'precision': 0.6224238750718312, 'recall': 0.6224117647058823, 'f1-score': 0.6224153594805618, 'support': 85000.0}\n",
      "\n",
      "Fold 4\n",
      "Confusion Matrix:\n",
      "[[27287 15187]\n",
      " [16364 26162]]\n",
      "\n",
      "Classification Report:\n",
      "0.0: {'precision': 0.6251174085358869, 'recall': 0.6424400809907237, 'f1-score': 0.6336603773584906, 'support': 42474.0}\n",
      "1.0: {'precision': 0.6327117947229679, 'recall': 0.6152001128721253, 'f1-score': 0.6238330849478391, 'support': 42526.0}\n",
      "accuracy: 0.6288117647058824\n",
      "macro avg: {'precision': 0.6289146016294274, 'recall': 0.6288200969314245, 'f1-score': 0.6287467311531648, 'support': 85000.0}\n",
      "weighted avg: {'precision': 0.6289169246181435, 'recall': 0.6288117647058824, 'f1-score': 0.6287437251578392, 'support': 85000.0}\n",
      "\n",
      "Fold 5\n",
      "Confusion Matrix:\n",
      "[[27738 14462]\n",
      " [17368 25432]]\n",
      "\n",
      "Classification Report:\n",
      "0.0: {'precision': 0.6149514477009711, 'recall': 0.6572985781990521, 'f1-score': 0.6354202460312006, 'support': 42200.0}\n",
      "1.0: {'precision': 0.6374893467689376, 'recall': 0.5942056074766355, 'f1-score': 0.6150869470578276, 'support': 42800.0}\n",
      "accuracy: 0.6255294117647059\n",
      "macro avg: {'precision': 0.6262203972349544, 'recall': 0.6257520928378438, 'f1-score': 0.6252535965445141, 'support': 85000.0}\n",
      "weighted avg: {'precision': 0.6262999427610766, 'recall': 0.6255294117647059, 'f1-score': 0.6251818319599023, 'support': 85000.0}\n"
     ]
    }
   ],
   "source": [
    "# Display results for each fold\n",
    "for i in range(k):\n",
    "    print(f\"\\nFold {i+1}\")\n",
    "    print(\"Confusion Matrix:\")\n",
    "    print(conf_matrices_mlp[i])\n",
    "    print(\"\\nClassification Report:\")\n",
    "    for label, metrics in classification_reports_mlp[i].items():\n",
    "        print(f\"{label}: {metrics}\")"
   ]
  },
  {
   "cell_type": "code",
   "execution_count": 39,
   "metadata": {
    "colab": {
     "base_uri": "https://localhost:8080/"
    },
    "id": "LL1aKERyVxV6",
    "outputId": "277a6009-2fbb-46a8-bbaf-0226813f84f1"
   },
   "outputs": [
    {
     "name": "stdout",
     "output_type": "stream",
     "text": [
      "\n",
      "Average Accuracy MLP: 0.6258070588235294\n",
      "Standard Deviation: 0.002217272241690609\n",
      "\n",
      "Average Macro F1 Score MLP: 0.6257193009730919\n",
      "\n",
      "Average Recall for class 1.0: 0.6157584283307624\n"
     ]
    }
   ],
   "source": [
    "# Calculate average accuracy\n",
    "accuracies_mlp = [report['accuracy'] for report in classification_reports_mlp]\n",
    "average_accuracy_mlp = np.mean(accuracies_mlp)\n",
    "print(f\"\\nAverage Accuracy MLP: {average_accuracy_mlp}\")\n",
    "\n",
    "\n",
    "# Caluculate average standard deviation of accuracies\n",
    "std_dev_mlp = np.std(accuracies_mlp)\n",
    "print(f\"Standard Deviation: {std_dev_mlp}\")\n",
    "\n",
    "\n",
    "# Calculate average f1-score\n",
    "average_macro_f1_mlp = sum(macro_f1_scores_mlp) / len(macro_f1_scores_mlp)\n",
    "print(f\"\\nAverage Macro F1 Score MLP: {average_macro_f1_mlp}\")\n",
    "\n",
    "\n",
    "# Collect the recall for the '1.0' class from each fold\n",
    "recall_class_1_mlp = [report_mlp['1.0']['recall'] for report_mlp in classification_reports_mlp]\n",
    "# Calculate the average recall for the '1.0' class across all folds\n",
    "average_recall_class_1_mlp = np.mean(recall_class_1_mlp)\n",
    "print(f\"\\nAverage Recall for class 1.0: {average_recall_class_1_mlp}\")"
   ]
  },
  {
   "cell_type": "code",
   "execution_count": 40,
   "metadata": {
    "colab": {
     "base_uri": "https://localhost:8080/"
    },
    "id": "d_AXaDrjVxV6",
    "outputId": "060f900a-425b-4eee-d370-18bc8d27346c"
   },
   "outputs": [
    {
     "name": "stdout",
     "output_type": "stream",
     "text": [
      "{'average_accuracy': 0.6258070588235294, 'std_dev_accuracy': 0.002217272241690609, 'average_macro_f1': 0.6257193009730919, 'average_recall_class_1': 0.6157584283307624, 'accuracies_per_fold': [0.6247764705882353, 0.6275058823529411, 0.6224117647058823, 0.6288117647058824, 0.6255294117647059], 'recall_class_1_per_fold': [0.6128591293690636, 0.6346898997252425, 0.6218373922107457, 0.6152001128721253, 0.5942056074766355]}\n"
     ]
    }
   ],
   "source": [
    "# saving outputs\n",
    "\n",
    "# Example metrics\n",
    "metrics_mlp = {\n",
    "    \"average_accuracy\": average_accuracy_mlp,\n",
    "    \"std_dev_accuracy\": std_dev_mlp,\n",
    "    \"average_macro_f1\": average_macro_f1_mlp,\n",
    "    \"average_recall_class_1\": average_recall_class_1_mlp,\n",
    "    \"accuracies_per_fold\": accuracies_mlp,\n",
    "    \"recall_class_1_per_fold\": recall_class_1_mlp\n",
    "}\n",
    "\n",
    "# Print the dictionary to verify\n",
    "print(metrics_mlp)\n",
    "\n",
    "\n",
    "import json\n",
    "# Save the metrics dictionary as JSON\n",
    "with open(\"metrics_mlp_del.json\", \"w\") as f:\n",
    "    json.dump(metrics_mlp, f, indent=4)"
   ]
  },
  {
   "cell_type": "markdown",
   "metadata": {
    "id": "7xhpAtu3VxV6"
   },
   "source": [
    "## Dataframe with results"
   ]
  },
  {
   "cell_type": "code",
   "execution_count": 26,
   "metadata": {},
   "outputs": [],
   "source": [
    "import json\n",
    "import pandas as pd"
   ]
  },
  {
   "cell_type": "code",
   "execution_count": 29,
   "metadata": {
    "id": "_SkGPchMVxV6"
   },
   "outputs": [],
   "source": [
    "# Load the metrics dictionaries\n",
    "with open(\"metrics_dummy_val_del.json\", \"r\") as f:\n",
    "    metrics_dummy_val = json.load(f)\n",
    "\n",
    "with open(\"metrics_lr_del.json\", \"r\") as f:\n",
    "    metrics_lr = json.load(f)\n",
    "\n",
    "with open(\"metrics_rf_del.json\", \"r\") as f:\n",
    "    metrics_rf = json.load(f)\n",
    "\n",
    "with open(\"metrics_svm_del.json\", \"r\") as f:\n",
    "    metrics_svm = json.load(f)\n",
    "\n",
    "with open(\"metrics_mlp_del.json\", \"r\") as f:\n",
    "    metrics_mlp = json.load(f)"
   ]
  },
  {
   "cell_type": "code",
   "execution_count": 32,
   "metadata": {
    "id": "l-bZdc_8VxV8"
   },
   "outputs": [],
   "source": [
    "# List of model names\n",
    "model_names = ['Dummy Classifier', 'Logistic Regression', 'Random Forest', 'SVM', 'MLP']\n",
    "\n",
    "# Calculate the delta values\n",
    "deltaLR = (metrics_lr['average_recall_class_1'] - metrics_dummy_val['average_recall_class_1']) / metrics_dummy_val['average_recall_class_1'] * 100\n",
    "deltaRF = (metrics_rf['average_recall_class_1'] - metrics_dummy_val['average_recall_class_1']) / metrics_dummy_val['average_recall_class_1'] * 100\n",
    "deltaSVM = (metrics_svm['average_recall_class_1'] - metrics_dummy_val['average_recall_class_1']) / metrics_dummy_val['average_recall_class_1'] * 100\n",
    "deltaMLP = (metrics_mlp['average_recall_class_1'] - metrics_dummy_val['average_recall_class_1']) / metrics_dummy_val['average_recall_class_1'] * 100\n",
    "\n",
    "# Collect the accuracy and recall values by calling the variables\n",
    "accuracies = [metrics_dummy_val['average_accuracy'], metrics_lr['average_accuracy'], metrics_rf['average_accuracy'], metrics_svm['average_accuracy'], metrics_mlp['average_accuracy']]\n",
    "recalls = [metrics_dummy_val['average_recall_class_1'], metrics_lr['average_recall_class_1'], metrics_rf['average_recall_class_1'], metrics_svm['average_recall_class_1'], metrics_mlp['average_recall_class_1']]\n",
    "f1s = [metrics_dummy_val['average_macro_f1'], metrics_lr['average_macro_f1'], metrics_rf['average_macro_f1'], metrics_svm['average_macro_f1'], metrics_mlp['average_macro_f1']]\n",
    "std_devs = ['-', metrics_lr['std_dev_accuracy'], metrics_rf['std_dev_accuracy'], metrics_svm['std_dev_accuracy'], metrics_mlp['std_dev_accuracy']]\n",
    "delta = ['-', deltaLR, deltaRF, deltaSVM, deltaMLP]\n",
    "\n",
    "# Create a dictionary for the DataFrame\n",
    "data = {\n",
    "    'Model': model_names,\n",
    "    'Recall class 1': recalls,\n",
    "    'F1-score': f1s,\n",
    "    'Accuracy': accuracies,\n",
    "    'Std Dev Accuracy': std_devs,\n",
    "    'Delta Recall 1 (%)': delta\n",
    "}\n",
    "\n",
    "# Create the DataFrame\n",
    "df_results = pd.DataFrame(data)"
   ]
  },
  {
   "cell_type": "code",
   "execution_count": 33,
   "metadata": {
    "colab": {
     "base_uri": "https://localhost:8080/",
     "height": 175
    },
    "id": "IrftByPgVxV8",
    "outputId": "41a62499-88ff-4e99-be23-3782f5e25e61"
   },
   "outputs": [
    {
     "data": {
      "text/html": [
       "<div>\n",
       "<style scoped>\n",
       "    .dataframe tbody tr th:only-of-type {\n",
       "        vertical-align: middle;\n",
       "    }\n",
       "\n",
       "    .dataframe tbody tr th {\n",
       "        vertical-align: top;\n",
       "    }\n",
       "\n",
       "    .dataframe thead th {\n",
       "        text-align: right;\n",
       "    }\n",
       "</style>\n",
       "<table border=\"1\" class=\"dataframe\">\n",
       "  <thead>\n",
       "    <tr style=\"text-align: right;\">\n",
       "      <th></th>\n",
       "      <th>Model</th>\n",
       "      <th>Recall class 1</th>\n",
       "      <th>F1-score</th>\n",
       "      <th>Accuracy</th>\n",
       "      <th>Std Dev Accuracy</th>\n",
       "      <th>Delta Recall 1 (%)</th>\n",
       "    </tr>\n",
       "  </thead>\n",
       "  <tbody>\n",
       "    <tr>\n",
       "      <th>0</th>\n",
       "      <td>Dummy Classifier</td>\n",
       "      <td>0.499291</td>\n",
       "      <td>0.500077</td>\n",
       "      <td>0.500080</td>\n",
       "      <td>-</td>\n",
       "      <td>-</td>\n",
       "    </tr>\n",
       "    <tr>\n",
       "      <th>1</th>\n",
       "      <td>Logistic Regression</td>\n",
       "      <td>0.603621</td>\n",
       "      <td>0.564077</td>\n",
       "      <td>0.564741</td>\n",
       "      <td>0.001117</td>\n",
       "      <td>20.895711</td>\n",
       "    </tr>\n",
       "    <tr>\n",
       "      <th>2</th>\n",
       "      <td>Random Forest</td>\n",
       "      <td>0.689284</td>\n",
       "      <td>0.687094</td>\n",
       "      <td>0.687104</td>\n",
       "      <td>0.0014</td>\n",
       "      <td>38.052654</td>\n",
       "    </tr>\n",
       "    <tr>\n",
       "      <th>3</th>\n",
       "      <td>SVM</td>\n",
       "      <td>0.669666</td>\n",
       "      <td>0.635452</td>\n",
       "      <td>0.635885</td>\n",
       "      <td>0.000859</td>\n",
       "      <td>34.123337</td>\n",
       "    </tr>\n",
       "    <tr>\n",
       "      <th>4</th>\n",
       "      <td>MLP</td>\n",
       "      <td>0.615758</td>\n",
       "      <td>0.625719</td>\n",
       "      <td>0.625807</td>\n",
       "      <td>0.002217</td>\n",
       "      <td>23.326589</td>\n",
       "    </tr>\n",
       "  </tbody>\n",
       "</table>\n",
       "</div>"
      ],
      "text/plain": [
       "                 Model  Recall class 1  F1-score  Accuracy Std Dev Accuracy  \\\n",
       "0     Dummy Classifier        0.499291  0.500077  0.500080                -   \n",
       "1  Logistic Regression        0.603621  0.564077  0.564741         0.001117   \n",
       "2        Random Forest        0.689284  0.687094  0.687104           0.0014   \n",
       "3                  SVM        0.669666  0.635452  0.635885         0.000859   \n",
       "4                  MLP        0.615758  0.625719  0.625807         0.002217   \n",
       "\n",
       "  Delta Recall 1 (%)  \n",
       "0                  -  \n",
       "1          20.895711  \n",
       "2          38.052654  \n",
       "3          34.123337  \n",
       "4          23.326589  "
      ]
     },
     "execution_count": 33,
     "metadata": {},
     "output_type": "execute_result"
    }
   ],
   "source": [
    "df_results"
   ]
  },
  {
   "cell_type": "code",
   "execution_count": 34,
   "metadata": {
    "colab": {
     "base_uri": "https://localhost:8080/",
     "height": 617
    },
    "id": "7uhdHrnrVxV9",
    "outputId": "3c7e13c3-0dc6-4d46-b537-1ab821d2a383"
   },
   "outputs": [
    {
     "data": {
      "image/png": "[encoded data removed]",
      "text/plain": [
       "<Figure size 600x600 with 1 Axes>"
      ]
     },
     "metadata": {},
     "output_type": "display_data"
    }
   ],
   "source": [
    "import numpy as np\n",
    "import matplotlib.pyplot as plt\n",
    "\n",
    "# Data\n",
    "labels = ['Recall', 'F1 Score', 'Accuracy']\n",
    "datasets = {\n",
    "    'Dummy': [df_results.loc[0, \"Recall class 1\"], df_results.loc[0, \"F1-score\"],\tdf_results.loc[0, \"Accuracy\"]],\n",
    "    'Logistic Regression': [df_results.loc[1, \"Recall class 1\"], df_results.loc[1, \"F1-score\"],\tdf_results.loc[1, \"Accuracy\"]],\n",
    "    'Random Forest': [df_results.loc[2, \"Recall class 1\"], df_results.loc[2, \"F1-score\"],\tdf_results.loc[2, \"Accuracy\"]],\n",
    "    'SVM': [df_results.loc[3, \"Recall class 1\"], df_results.loc[3, \"F1-score\"],\tdf_results.loc[3, \"Accuracy\"]],\n",
    "    'MLP': [df_results.loc[4, \"Recall class 1\"], df_results.loc[4, \"F1-score\"],\tdf_results.loc[4, \"Accuracy\"]]\n",
    "}\n",
    "\n",
    "# Number of variables (features)\n",
    "num_vars = len(labels)\n",
    "\n",
    "# Calculate angle for each axis\n",
    "angles = np.linspace(0, 2 * np.pi, num_vars, endpoint=False).tolist()\n",
    "\n",
    "# Complete the loop by repeating the first point to close the polygon\n",
    "angles += angles[:1]\n",
    "\n",
    "# Create a radar chart\n",
    "fig, ax = plt.subplots(figsize=(6, 6), dpi=100, subplot_kw=dict(polar=True))\n",
    "\n",
    "# Colors for each dataset\n",
    "colors = ['#a020f0', '#1f77b4', '#ff7f0e', '#2ca02c', '#d62728']\n",
    "\n",
    "# Plot each dataset\n",
    "for idx, (dataset, values) in enumerate(datasets.items()):\n",
    "    values += values[:1]  # Ensure the loop closes\n",
    "    ax.fill(angles, values, color=colors[idx], alpha=0.25)  # Fill the area\n",
    "    ax.plot(angles, values, color=colors[idx], linewidth=2, label=dataset)  # Plot the line\n",
    "\n",
    "# Add labels\n",
    "ax.set_yticklabels([])  # Hide radial ticks\n",
    "ax.set_xticks(angles[:-1])  # Place labels at each axis\n",
    "ax.set_xticklabels(labels)\n",
    "\n",
    "# Add legend\n",
    "plt.legend(loc='upper center', bbox_to_anchor=(0.5, -0.1), ncol=2)\n",
    "\n",
    "# Show plot\n",
    "plt.show()"
   ]
  },
  {
   "cell_type": "markdown",
   "metadata": {
    "id": "4z1MoBIzVxV9"
   },
   "source": [
    "## Random search on best model"
   ]
  },
  {
   "cell_type": "markdown",
   "metadata": {
    "id": "n7zuK-HWVxV9"
   },
   "source": [
    "After looking at the df of above, it can be seen that the best model is the Random Forest model. I therefore will perform random search on this model"
   ]
  },
  {
   "cell_type": "code",
   "execution_count": 45,
   "metadata": {
    "id": "kEb0oEBAVxV9"
   },
   "outputs": [],
   "source": [
    "# Further splitting trainval into train and validation set to tune hyperparameters on the validation set\n",
    "# Training set: 70%, Validation set: 15%, Test set: 15% (still the same test set)\n",
    "\n",
    "X_train, X_val, y_train, y_val = train_test_split(X_trainval, y_trainval, test_size=(15/85), random_state=42)"
   ]
  },
  {
   "cell_type": "code",
   "execution_count": 46,
   "metadata": {
    "colab": {
     "base_uri": "https://localhost:8080/"
    },
    "id": "yM2ITCKNVxV9",
    "outputId": "2531b301-a177-41c3-84ae-47dce1f4791b"
   },
   "outputs": [
    {
     "name": "stdout",
     "output_type": "stream",
     "text": [
      "(350000, 42)\n",
      "The percentage of the original dataset that is used for training is: 70.0 %\n"
     ]
    }
   ],
   "source": [
    "print(X_train.shape)\n",
    "print(f\"The percentage of the original dataset that is used for training is: {X_train.shape[0]/df50.shape[0]*100} %\")"
   ]
  },
  {
   "cell_type": "code",
   "execution_count": 47,
   "metadata": {
    "id": "vPz52zAfVxV9"
   },
   "outputs": [],
   "source": [
    "from scipy.stats import randint  # For defining distributions for random search\n",
    "\n",
    "param_dist = {\n",
    "    'n_estimators': randint(50, 300),                       # Number of trees in the forest (uniform distribution between 50 and 200)\n",
    "    'max_depth': [None] + list(randint(1, 30).rvs(10)),     # Random depth values including None\n",
    "    'min_samples_split': randint(2, 10),                    # Minimum samples required to split an internal node\n",
    "    'min_samples_leaf': randint(1, 5)                       # Minimum samples required to be at a leaf node\n",
    "}"
   ]
  },
  {
   "cell_type": "code",
   "execution_count": 48,
   "metadata": {
    "id": "hAfAEmE0VxV-"
   },
   "outputs": [],
   "source": [
    "# Initialize the Random Forest Classifier\n",
    "from sklearn.ensemble import RandomForestClassifier\n",
    "from sklearn.model_selection import RandomizedSearchCV\n",
    "\n",
    "rf_model_search = RandomForestClassifier(random_state=42)  # Random state for reproducibility\n"
   ]
  },
  {
   "cell_type": "code",
   "execution_count": 49,
   "metadata": {
    "colab": {
     "base_uri": "https://localhost:8080/"
    },
    "id": "fHMaRLX8VxV-",
    "outputId": "5a7fa025-b6da-4298-a826-aa290dd7a834"
   },
   "outputs": [
    {
     "name": "stdout",
     "output_type": "stream",
     "text": [
      "Fitting 5 folds for each of 20 candidates, totalling 100 fits\n",
      "Best Parameters: {'max_depth': None, 'min_samples_leaf': 2, 'min_samples_split': 7, 'n_estimators': 93}\n",
      "Best Cross-Validation Score: 0.6718457142857142\n"
     ]
    }
   ],
   "source": [
    "# Set up RandomizedSearchCV\n",
    "random_search = RandomizedSearchCV(estimator=rf_model_search,\n",
    "                           param_distributions=param_dist,\n",
    "                           n_iter=20,               # Number of parameter settings that are sampled\n",
    "                           scoring='accuracy',      # Use recall as the evaluation metric\n",
    "                           cv=k,\n",
    "                           verbose=2,\n",
    "                           n_jobs=-1)               # Use all available cores\n",
    "\n",
    "# Fit RandomizedSearchCV\n",
    "random_search.fit(X_train, y_train)\n",
    "\n",
    "# Get the best parameters and best score\n",
    "print(\"Best Parameters:\", random_search.best_params_)\n",
    "print(\"Best Cross-Validation Score:\", random_search.best_score_)"
   ]
  },
  {
   "cell_type": "code",
   "execution_count": 50,
   "metadata": {
    "id": "bc8ybVdrVxV-"
   },
   "outputs": [],
   "source": [
    "import json\n",
    "import numpy as np\n",
    "\n",
    "# Convert numpy.int64 to int (or other numpy types to native types)\n",
    "best_params = {key: int(value) if isinstance(value, np.integer) else value\n",
    "               for key, value in random_search.best_params_.items()}\n",
    "\n",
    "# save parameters to json file\n",
    "\n",
    "with open('best_params_del50.json', 'w') as file:\n",
    "    json.dump(best_params, file)"
   ]
  },
  {
   "cell_type": "code",
   "execution_count": 51,
   "metadata": {
    "colab": {
     "base_uri": "https://localhost:8080/"
    },
    "id": "RMyYbaScVxV-",
    "outputId": "b1cc6b96-f675-4aeb-82e8-1843956f4702"
   },
   "outputs": [
    {
     "name": "stdout",
     "output_type": "stream",
     "text": [
      "Accuracy on Validation Set: 0.6741466666666667\n",
      "[[25911 11718]\n",
      " [12721 24650]]\n",
      "              precision    recall  f1-score   support\n",
      "\n",
      "         0.0       0.67      0.69      0.68     37629\n",
      "         1.0       0.68      0.66      0.67     37371\n",
      "\n",
      "    accuracy                           0.67     75000\n",
      "   macro avg       0.67      0.67      0.67     75000\n",
      "weighted avg       0.67      0.67      0.67     75000\n",
      "\n",
      "Recall on Validation Set: 0.6596023654705521\n"
     ]
    }
   ],
   "source": [
    "y_pred_rf_random = random_search.predict(X_val)\n",
    "\n",
    "print(\"Accuracy on Validation Set:\", accuracy_score(y_val, y_pred_rf_random))\n",
    "print(confusion_matrix(y_val, y_pred_rf_random))\n",
    "print(classification_report(y_val, y_pred_rf_random))\n",
    "\n",
    "from sklearn.metrics import recall_score\n",
    "print(\"Recall on Validation Set:\", recall_score(y_val, y_pred_rf_random))"
   ]
  },
  {
   "cell_type": "markdown",
   "metadata": {
    "id": "ZfP-U8akVxV-"
   },
   "source": [
    "# Best found model on the test set"
   ]
  },
  {
   "cell_type": "code",
   "execution_count": 18,
   "metadata": {
    "id": "iw5-nsOSVxV-"
   },
   "outputs": [],
   "source": [
    "from sklearn.ensemble import RandomForestClassifier\n",
    "import json"
   ]
  },
  {
   "cell_type": "code",
   "execution_count": 19,
   "metadata": {
    "id": "hRBAZVOMVxV-"
   },
   "outputs": [],
   "source": [
    "# Load best found parameters from a JSON file\n",
    "with open(\"best_params_del50.json\", \"r\") as file:\n",
    "    best_params_del50 = json.load(file)"
   ]
  },
  {
   "cell_type": "code",
   "execution_count": 20,
   "metadata": {
    "id": "bRprb3gvVxV-"
   },
   "outputs": [],
   "source": [
    "# Retrain the model with the best parameters on the entire train-validation set\n",
    "final_model = RandomForestClassifier(**best_params_del50, random_state=42)\n",
    "\n",
    "final_model.fit(X_trainval, y_trainval)\n",
    "\n",
    "# Make predictions on the test set\n",
    "y_pred_test = final_model.predict(X_test)"
   ]
  },
  {
   "cell_type": "code",
   "execution_count": 21,
   "metadata": {
    "id": "DGyBbzzJVxV-"
   },
   "outputs": [],
   "source": [
    "# predicting on the training set to be able to compare whether there is overfitting\n",
    "y_pred_train = final_model.predict(X_trainval)"
   ]
  },
  {
   "cell_type": "code",
   "execution_count": 22,
   "metadata": {
    "id": "hVPXIQlZVxV-"
   },
   "outputs": [
    {
     "name": "stdout",
     "output_type": "stream",
     "text": [
      "Accuracy train: 0.7487\n",
      "Accuracy test: 0.6846\n"
     ]
    }
   ],
   "source": [
    "# Calculate accuracy train set\n",
    "accuracy_train = accuracy_score(y_trainval, y_pred_train)\n",
    "print(f\"Accuracy train: {accuracy_train:.4f}\")\n",
    "\n",
    "# Calculate accuracy test set\n",
    "accuracy_test = accuracy_score(y_test, y_pred_test)\n",
    "print(f\"Accuracy test: {accuracy_test:.4f}\")"
   ]
  },
  {
   "cell_type": "code",
   "execution_count": 23,
   "metadata": {
    "id": "c8Q0DdPLVxV_"
   },
   "outputs": [
    {
     "name": "stdout",
     "output_type": "stream",
     "text": [
      "Recall for Class 1 test: 0.7390\n",
      "Recall for Class 1 test: 0.6721\n"
     ]
    }
   ],
   "source": [
    "# Calculate recall for class 1 on train set\n",
    "recall_class_1_train = recall_score(y_trainval, y_pred_train, pos_label=1)\n",
    "print(f\"Recall for Class 1 test: {recall_class_1_train:.4f}\")\n",
    "\n",
    "# Calculate recall for class 1 on test set\n",
    "recall_class_1_test = recall_score(y_test, y_pred_test, pos_label=1)\n",
    "print(f\"Recall for Class 1 test: {recall_class_1_test:.4f}\")"
   ]
  },
  {
   "cell_type": "code",
   "execution_count": 24,
   "metadata": {
    "id": "bMoO_T4uVxV_"
   },
   "outputs": [
    {
     "name": "stdout",
     "output_type": "stream",
     "text": [
      "F1-score train: 0.7486\n",
      "F1-score test: 0.6845\n"
     ]
    }
   ],
   "source": [
    "from sklearn.metrics import f1_score\n",
    "\n",
    "# Calculate F1-score for the train set\n",
    "f1_train = f1_score(y_trainval, y_pred_train, average='macro')\n",
    "print(f\"F1-score train: {f1_train:.4f}\")\n",
    "\n",
    "# Calculate F1-score for the test set\n",
    "f1_test = f1_score(y_test, y_pred_test, average='macro')\n",
    "print(f\"F1-score test: {f1_test:.4f}\")"
   ]
  },
  {
   "cell_type": "code",
   "execution_count": 25,
   "metadata": {
    "id": "LAll5JgRVxV_"
   },
   "outputs": [
    {
     "name": "stdout",
     "output_type": "stream",
     "text": [
      "Confusion Matrix:\n",
      " [[161105  51345]\n",
      " [ 55476 157074]]\n",
      "Classification Report:\n",
      "               precision    recall  f1-score   support\n",
      "\n",
      "           0       0.74      0.76      0.75    212450\n",
      "           1       0.75      0.74      0.75    212550\n",
      "\n",
      "    accuracy                           0.75    425000\n",
      "   macro avg       0.75      0.75      0.75    425000\n",
      "weighted avg       0.75      0.75      0.75    425000\n",
      "\n",
      "\n",
      "\n",
      "Confusion Matrix:\n",
      " [[26173 11377]\n",
      " [12279 25171]]\n",
      "Classification Report:\n",
      "               precision    recall  f1-score   support\n",
      "\n",
      "           0       0.68      0.70      0.69     37550\n",
      "           1       0.69      0.67      0.68     37450\n",
      "\n",
      "    accuracy                           0.68     75000\n",
      "   macro avg       0.68      0.68      0.68     75000\n",
      "weighted avg       0.68      0.68      0.68     75000\n",
      "\n"
     ]
    }
   ],
   "source": [
    "# Evaluate the model\n",
    "from sklearn.metrics import classification_report, confusion_matrix\n",
    "\n",
    "\n",
    "# Confusion Matrix train\n",
    "conf_matrix_train = confusion_matrix(y_trainval, y_pred_train)\n",
    "print(\"Confusion Matrix:\\n\", conf_matrix_train)\n",
    "\n",
    "# Classification Report train\n",
    "class_report_train = classification_report(y_trainval, y_pred_train)\n",
    "print(\"Classification Report:\\n\", class_report_train)\n",
    "\n",
    "print(\"\\n\")\n",
    "\n",
    "# Confusion Matrix test\n",
    "conf_matrix_test = confusion_matrix(y_test, y_pred_test)\n",
    "print(\"Confusion Matrix:\\n\", conf_matrix_test)\n",
    "\n",
    "# Classification Report test\n",
    "class_report_test = classification_report(y_test, y_pred_test)\n",
    "print(\"Classification Report:\\n\", class_report_test)"
   ]
  },
  {
   "cell_type": "code",
   "execution_count": 26,
   "metadata": {
    "id": "gzEnUc-VVxV_"
   },
   "outputs": [
    {
     "data": {
      "image/png": "[encoded data removed]",
      "text/plain": [
       "<Figure size 800x600 with 2 Axes>"
      ]
     },
     "metadata": {},
     "output_type": "display_data"
    }
   ],
   "source": [
    "# Plot the confusion matrix\n",
    "plt.figure(figsize=(8, 6))\n",
    "sns.heatmap(conf_matrix_test, annot=True, fmt='d', cmap='Blues', xticklabels=[\"Class 0\", \"Class 1\"], yticklabels=[\"Class 0\", \"Class 1\"])\n",
    "plt.title(\"Confusion Matrix\")\n",
    "plt.xlabel(\"Predicted Label\")\n",
    "plt.ylabel(\"True Label\")\n",
    "plt.show()"
   ]
  },
  {
   "cell_type": "code",
   "execution_count": 23,
   "metadata": {
    "id": "17jtV8HVVxV_"
   },
   "outputs": [],
   "source": [
    "# saving so I can open in another notebook\n",
    "\n",
    "import pickle\n",
    "\n",
    "performance_metrics = {\"Train\": {\"accuracy\": accuracy_train, \"conf_matrix\": conf_matrix_train, \"f1_score\": f1_train, \"recall\": recall_class_1_train},\n",
    "                       \"Test\": {\"accuracy\": accuracy_test, \"conf_matrix\": conf_matrix_test, \"f1_score\": f1_test, \"recall\": recall_class_1_test},\n",
    "                       }\n",
    "\n",
    "# Save to a pickle file\n",
    "with open(\"performance_metrics_del50.pkl\", \"wb\") as f:\n",
    "    pickle.dump(performance_metrics, f)"
   ]
  },
  {
   "cell_type": "code",
   "execution_count": 24,
   "metadata": {
    "id": "Frd99vo8VxV_"
   },
   "outputs": [
    {
     "name": "stdout",
     "output_type": "stream",
     "text": [
      "0.7486564705882353\n"
     ]
    }
   ],
   "source": [
    "# test with loading from a pickle file to see if it works\n",
    "with open(\"performance_metrics_del50.pkl\", \"rb\") as f:\n",
    "    loaded_metrics = pickle.load(f)\n",
    "\n",
    "print(loaded_metrics['Train']['accuracy'])"
   ]
  },
  {
   "cell_type": "markdown",
   "metadata": {
    "id": "_9IMu5qzVxWA"
   },
   "source": [
    "### Permutation feature importance"
   ]
  },
  {
   "cell_type": "code",
   "execution_count": 68,
   "metadata": {
    "id": "_Gd6L4c8VxWA"
   },
   "outputs": [],
   "source": [
    "from sklearn.inspection import permutation_importance\n",
    "\n",
    "# Calculate permutation feature importance\n",
    "result = permutation_importance(final_model, X_test, y_test, n_repeats=10, random_state=42)"
   ]
  },
  {
   "cell_type": "code",
   "execution_count": 69,
   "metadata": {
    "id": "SLEI8g9zVxWA",
    "outputId": "4081e64d-0e76-4079-bba0-336908ba1558"
   },
   "outputs": [
    {
     "data": {
      "image/png": "[encoded data removed]",
      "text/plain": [
       "<Figure size 1000x1000 with 1 Axes>"
      ]
     },
     "metadata": {},
     "output_type": "display_data"
    }
   ],
   "source": [
    "# Feature names\n",
    "feature_names = X.columns\n",
    "\n",
    "# Extract feature importances and standard deviations\n",
    "importances = result.importances_mean\n",
    "std = result.importances_std\n",
    "\n",
    "# Sort the features by importance\n",
    "indices = np.argsort(importances)[::-1]\n",
    "\n",
    "# Plot the feature importances\n",
    "plt.figure(figsize=(10, 10))\n",
    "plt.barh(range(len(indices)), importances[indices], xerr=std[indices], align='center')\n",
    "plt.yticks(range(len(indices)), [feature_names[i] for i in indices])\n",
    "plt.xlabel(\"Permutation Importance\")\n",
    "plt.title(\"Permutation Feature Importance\")\n",
    "plt.gca().invert_yaxis()  # Invert y-axis to show the most important feature at the top\n",
    "plt.show()"
   ]
  },
  {
   "cell_type": "code",
   "execution_count": 70,
   "metadata": {},
   "outputs": [
    {
     "name": "stdout",
     "output_type": "stream",
     "text": [
      "                           Feature  Importance   Std Dev\n",
      "0               NumberOfCharacters    0.071843  0.000953\n",
      "1                            Saved    0.054511  0.001091\n",
      "2           DiffNumberOFCharacters    0.041956  0.000729\n",
      "3                           PedPed    0.040117  0.000841\n",
      "4                     Intervention    0.039476  0.001276\n",
      "5                   CrossingSignal    0.035893  0.000796\n",
      "6                          Barrier    0.026341  0.000604\n",
      "7              AttributeLevel_Less    0.017564  0.000443\n",
      "8                              Man    0.014069  0.000595\n",
      "9                            Woman    0.012781  0.000678\n",
      "10                             Boy    0.010944  0.000453\n",
      "11  ScenarioTypeStrict_Utilitarian    0.010480  0.000807\n",
      "12                          OldMan    0.008996  0.000561\n",
      "13                            Girl    0.008981  0.000368\n",
      "14             AttributeLevel_More    0.008172  0.000551\n",
      "15                        LargeMan    0.007805  0.000280\n",
      "16                      LargeWoman    0.007747  0.000449\n",
      "17                        OldWoman    0.007275  0.000478\n",
      "18                     MaleAthlete    0.006232  0.000684\n",
      "19                   FemaleAthlete    0.005940  0.000350\n",
      "20                      MaleDoctor    0.005509  0.000266\n",
      "21                   MaleExecutive    0.005387  0.000220\n",
      "22                    FemaleDoctor    0.004569  0.000354\n",
      "23                 FemaleExecutive    0.004519  0.000258\n",
      "24                        Criminal    0.004120  0.000223\n",
      "25       ScenarioTypeStrict_Gender    0.003528  0.000433\n",
      "26                        Pregnant    0.003513  0.000156\n",
      "27                        Stroller    0.003411  0.000194\n",
      "28                        Homeless    0.003392  0.000184\n",
      "29              AttributeLevel_Fat    0.003317  0.000259\n",
      "30            AttributeLevel_Young    0.003172  0.000260\n",
      "31                             Dog    0.002275  0.000241\n",
      "32              AttributeLevel_Old    0.002252  0.000389\n",
      "33                             Cat    0.002235  0.000188\n",
      "34              AttributeLevel_Fit    0.001720  0.000284\n",
      "35      ScenarioTypeStrict_Species    0.001705  0.000273\n",
      "36          AttributeLevel_Hoomans    0.001567  0.000307\n",
      "37      ScenarioTypeStrict_Fitness    0.000615  0.000312\n",
      "38          ScenarioTypeStrict_Age    0.000307  0.000432\n",
      "39             AttributeLevel_Male    0.000037  0.000270\n",
      "40           AttributeLevel_Female   -0.000105  0.000217\n",
      "41             AttributeLevel_Pets   -0.000300  0.000177\n"
     ]
    }
   ],
   "source": [
    "import pandas as pd\n",
    "\n",
    "# Extract feature importances and standard deviations\n",
    "data = {\n",
    "    \"Feature\": [feature_names[i] for i in indices],\n",
    "    \"Importance\": importances[indices],\n",
    "    \"Std Dev\": std[indices],\n",
    "}\n",
    "\n",
    "# Create a DataFrame for better readability\n",
    "importance_df = pd.DataFrame(data)\n",
    "\n",
    "# Print the table\n",
    "print(importance_df)\n"
   ]
  },
  {
   "cell_type": "markdown",
   "metadata": {},
   "source": [
    "### Error analysis"
   ]
  },
  {
   "cell_type": "code",
   "execution_count": 26,
   "metadata": {},
   "outputs": [],
   "source": [
    "# concatting X_test and Y_test to recreate a the test set with both explanatory features as the target feature\n",
    "dfdel_con = pd.concat([X_test, y_test], axis=1)"
   ]
  },
  {
   "cell_type": "code",
   "execution_count": 27,
   "metadata": {},
   "outputs": [
    {
     "data": {
      "text/plain": [
       "Index(['Intervention', 'PedPed', 'Barrier', 'CrossingSignal',\n",
       "       'NumberOfCharacters', 'DiffNumberOFCharacters', 'Saved', 'Man', 'Woman',\n",
       "       'Pregnant', 'Stroller', 'OldMan', 'OldWoman', 'Boy', 'Girl', 'Homeless',\n",
       "       'LargeWoman', 'LargeMan', 'Criminal', 'MaleExecutive',\n",
       "       'FemaleExecutive', 'FemaleAthlete', 'MaleAthlete', 'FemaleDoctor',\n",
       "       'MaleDoctor', 'Dog', 'Cat', 'AttributeLevel_Fat',\n",
       "       'AttributeLevel_Female', 'AttributeLevel_Fit', 'AttributeLevel_Hoomans',\n",
       "       'AttributeLevel_Less', 'AttributeLevel_Male', 'AttributeLevel_More',\n",
       "       'AttributeLevel_Old', 'AttributeLevel_Pets', 'AttributeLevel_Young',\n",
       "       'ScenarioTypeStrict_Age', 'ScenarioTypeStrict_Fitness',\n",
       "       'ScenarioTypeStrict_Gender', 'ScenarioTypeStrict_Species',\n",
       "       'ScenarioTypeStrict_Utilitarian', 'UserID'],\n",
       "      dtype='object')"
      ]
     },
     "execution_count": 27,
     "metadata": {},
     "output_type": "execute_result"
    }
   ],
   "source": [
    "dfdel_con.columns"
   ]
  },
  {
   "cell_type": "code",
   "execution_count": 54,
   "metadata": {},
   "outputs": [
    {
     "data": {
      "image/png": "[encoded data removed]",
      "text/plain": [
       "<Figure size 1000x600 with 2 Axes>"
      ]
     },
     "metadata": {},
     "output_type": "display_data"
    }
   ],
   "source": [
    "import pandas as pd\n",
    "import matplotlib.pyplot as plt\n",
    "import numpy as np\n",
    "\n",
    "categories = ['Age', 'Fitness', 'Gender', 'Species', 'Utilitarian']\n",
    "one_hot_columns = [f'ScenarioTypeStrict_{cat}' for cat in categories]\n",
    "\n",
    "# Map one-hot encoded values back to the original category\n",
    "dfdel_con['ScenarioTypeStrict'] = dfdel_con[one_hot_columns].idxmax(axis=1).str.replace('ScenarioTypeStrict_', '')\n",
    "\n",
    "# Add actual and predicted values to the DataFrame\n",
    "dfdel_con['y_true'] = y_test\n",
    "dfdel_con['y_pred'] = y_pred_test\n",
    "\n",
    "# Calculate errors\n",
    "dfdel_con['FN'] = np.where((dfdel_con['y_true'] == 1) & (dfdel_con['y_pred'] == 0), 1, 0)\n",
    "dfdel_con['FP'] = np.where((dfdel_con['y_true'] == 0) & (dfdel_con['y_pred'] == 1), 1, 0)\n",
    "dfdel_con['TP'] = np.where((dfdel_con['y_true'] == 1) & (dfdel_con['y_pred'] == 1), 1, 0)\n",
    "dfdel_con['TN'] = np.where((dfdel_con['y_true'] == 0) & (dfdel_con['y_pred'] == 0), 1, 0)\n",
    "\n",
    "# Aggregate errors by category\n",
    "error_summary = dfdel_con.groupby('ScenarioTypeStrict')[['FN', 'FP', 'TP', 'TN']].sum().reset_index()\n",
    "\n",
    "# Calculate total and percentages\n",
    "error_summary['Total'] = error_summary[['FN', 'FP', 'TP', 'TN']].sum(axis=1)\n",
    "error_summary['% False'] = (error_summary[['FN', 'FP']].sum(axis=1) / error_summary['Total']) * 100\n",
    "error_summary['% True'] = (error_summary[['TP', 'TN']].sum(axis=1) / error_summary['Total']) * 100\n",
    "error_summary['% Difference'] = error_summary['% True'] - error_summary['% False']\n",
    "\n",
    "# Plotting\n",
    "fig, ax = plt.subplots(figsize=(10, 6))\n",
    "x = np.arange(len(categories))  # Category positions\n",
    "width = 0.2  # Width of each bar\n",
    "\n",
    "# Adjust positions for each bar group\n",
    "fn_bars = ax.bar(x - 1.5 * width, error_summary['FN'], width, label='False Negatives', color='crimson')\n",
    "fp_bars = ax.bar(x - 0.5 * width, error_summary['FP'], width, label='False Positives', color='lightcoral')\n",
    "tn_bars = ax.bar(x + 0.5 * width, error_summary['TN'], width, label='True Negatives', color='lightgreen')\n",
    "tp_bars = ax.bar(x + 1.5 * width, error_summary['TP'], width, label='True Positives', color='limegreen')\n",
    "\n",
    "# Add labels above the bars\n",
    "for bar in fn_bars:\n",
    "    height = bar.get_height()\n",
    "    ax.text(bar.get_x() + bar.get_width() / 2, height + 50, f'{int(height)}', ha='center', va='bottom', fontsize=8)\n",
    "\n",
    "for bar in fp_bars:\n",
    "    height = bar.get_height()\n",
    "    ax.text(bar.get_x() + bar.get_width() / 2, height + 50, f'{int(height)}', ha='center', va='bottom', fontsize=8)\n",
    "\n",
    "for bar in tn_bars:\n",
    "    height = bar.get_height()\n",
    "    ax.text(bar.get_x() + bar.get_width() / 2, height + 50, f'{int(height)}', ha='center', va='bottom', fontsize=8)\n",
    "\n",
    "for bar in tp_bars:\n",
    "    height = bar.get_height()\n",
    "    ax.text(bar.get_x() + bar.get_width() / 2, height + 50, f'{int(height)}', ha='center', va='bottom', fontsize=8)\n",
    "\n",
    "# Line plot for % difference\n",
    "ax2 = ax.twinx()\n",
    "ax2.plot(x, error_summary['% Difference'], label='Difference in p.p.', color='darkgrey', marker='o', markerfacecolor='black', markeredgecolor='black', linestyle='-', linewidth=1.5)\n",
    "for i, val in enumerate(error_summary['% Difference']):\n",
    "    ax2.text(x[i], val + 1, f'{val:.1f} p.p.', color='black', fontsize=10, ha='center')\n",
    "\n",
    "# Labels and Legends\n",
    "ax.set_xlabel('ScenarioTypeStrict Categories')\n",
    "ax.set_ylabel('Counts')\n",
    "ax2.set_ylabel('% Difference (p.p.)', color='black')\n",
    "ax2.tick_params(axis='y', labelcolor='black')\n",
    "ax2.set_ylim(20,100)\n",
    "ax.set_xticks(x)\n",
    "ax.set_xticklabels(categories)\n",
    "ax.legend(loc='upper left')\n",
    "ax2.legend(loc='lower right')\n",
    "\n",
    "# Add text in the middle of the graph\n",
    "ax.text(2, 7000, 'df_deleted', \n",
    "        fontsize=12, color='black', ha='center', va='top', bbox=dict(facecolor='white', alpha=0.5))\n",
    "\n",
    "\n",
    "plt.tight_layout()\n",
    "plt.show()"
   ]
  }
 ],
 "metadata": {
  "accelerator": "GPU",
  "colab": {
   "gpuType": "A100",
   "provenance": []
  },
  "kernelspec": {
   "display_name": "base",
   "language": "python",
   "name": "python3"
  },
  "language_info": {
   "codemirror_mode": {
    "name": "ipython",
    "version": 3
   },
   "file_extension": ".py",
   "mimetype": "text/x-python",
   "name": "python",
   "nbconvert_exporter": "python",
   "pygments_lexer": "ipython3",
   "version": "3.11.5"
  }
 },
 "nbformat": 4,
 "nbformat_minor": 0
}
