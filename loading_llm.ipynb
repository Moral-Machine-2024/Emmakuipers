{
 "cells": [
  {
   "cell_type": "markdown",
   "metadata": {},
   "source": [
    "Loading the 4 different datasets"
   ]
  },
  {
   "cell_type": "code",
   "execution_count": 2,
   "metadata": {},
   "outputs": [],
   "source": [
    "# import statements\n",
    "import os\n",
    "import numpy as np\n",
    "import pandas as pd"
   ]
  },
  {
   "cell_type": "code",
   "execution_count": 4,
   "metadata": {},
   "outputs": [],
   "source": [
    "# reading all the LLM datafiles into dataframes\n",
    "\n",
    "df_gpt35_0613 = pd.read_csv('shared_responses_llm/shared_responses_gpt-3.5-turbo-0613.csv')\n",
    "df_gpt40 = pd.read_csv('shared_responses_llm/shared_responses_gpt-4-0613.csv')\n",
    "df_llama = pd.read_csv('shared_responses_llm/shared_responses_llama-2-7b-chat.csv')\n",
    "df_palm2 = pd.read_csv('shared_responses_llm/shared_responses_palm2.csv')\n",
    "df_claude35 = pd.read_csv('shared_responses_llm/shared_responses_claude-3-5-sonnet-20241022.csv')\n",
    "df_gemini_15 = pd.read_csv('shared_responses_llm/shared_responses_gemini-1.5-pro-001.csv')\n",
    "df_gemini_pro = pd.read_csv('shared_responses_llm/shared_responses_gemini-pro.csv')\n",
    "df_gemma_2b = pd.read_csv('shared_responses_llm/shared_responses_gemma-2b-it.csv')\n",
    "df_c4ai = pd.read_csv('shared_responses_llm/shared_responses_c4ai-command-r-plus-4bit.csv')\n",
    "df_mistral = pd.read_csv('shared_responses_llm/shared_responses_Mistral-7B-INstruct-v02.csv')\n",
    "df_phi = pd.read_csv('shared_responses_llm/shared_responses_Phi-3.5-mini-instruct.csv')\n",
    "df_vicuna_13b = pd.read_csv('shared_responses_llm/shared_responses_vicuna-13b-v1.5.csv')\n",
    "df_vicuna_7b = pd.read_csv('shared_responses_llm/shared_responses_vicuna-7b-v1.5.csv')\n",
    "df_meta = pd.read_csv('shared_responses_llm/shared_responses_Meta-Llama-3-70B-Instruct.csv')\n",
    "df_gpt35_1106 = pd.read_csv('shared_responses_llm/shared_responses_gpt-3.5-turbo-1106.csv')\n",
    "df_gemma_7b = pd.read_csv('shared_responses_llm/shared_responses_gemma-7b-it.csv')\n",
    "df_claud_haiku = pd.read_csv('shared_responses_llm/shared_responses_claude-3-haiku-20240307.csv')\n",
    "df_gpt35_0125 = pd.read_csv('shared_responses_llm/shared_responses_gpt-3.5-turbo-0125.csv')\n",
    "df_gemma_9b = pd.read_csv('shared_responses_llm/shared_responses_gemma-2-9b-it.csv')\n",
    "df_claude_3 = pd.read_csv('shared_responses_llm/shared_responses_claude-3-sonnet-20240229.csv')"
   ]
  },
  {
   "cell_type": "code",
   "execution_count": 5,
   "metadata": {},
   "outputs": [],
   "source": [
    "# combining all the dataframes into one\n",
    "\n",
    "df_all = pd.concat([df_gpt35_0613, df_gpt40, df_llama, df_palm2, df_claude35, df_gemini_15, df_gemini_pro, df_gemma_2b, df_c4ai, df_mistral, df_phi, df_vicuna_13b, df_vicuna_7b, df_meta, df_gpt35_1106, df_gemma_7b, df_claud_haiku, df_gpt35_0125, df_gemma_9b, df_claude_3])"
   ]
  },
  {
   "cell_type": "code",
   "execution_count": 6,
   "metadata": {},
   "outputs": [
    {
     "data": {
      "text/plain": [
       "(1547132, 41)"
      ]
     },
     "execution_count": 6,
     "metadata": {},
     "output_type": "execute_result"
    }
   ],
   "source": [
    "df_all.shape"
   ]
  },
  {
   "cell_type": "code",
   "execution_count": 9,
   "metadata": {},
   "outputs": [
    {
     "data": {
      "text/plain": [
       "ScenarioTypeStrict\n",
       "Age             267320\n",
       "Species         264538\n",
       "Utilitarian     259416\n",
       "Fitness         255100\n",
       "Gender          252220\n",
       "Social Value    248538\n",
       "Name: count, dtype: int64"
      ]
     },
     "execution_count": 9,
     "metadata": {},
     "output_type": "execute_result"
    }
   ],
   "source": [
    "df_all['ScenarioTypeStrict'].value_counts()"
   ]
  },
  {
   "cell_type": "code",
   "execution_count": 10,
   "metadata": {},
   "outputs": [],
   "source": [
    "# dropping responseID column\n",
    "# df_all = df_all.drop(columns=['ResponseID'])"
   ]
  },
  {
   "cell_type": "code",
   "execution_count": 11,
   "metadata": {},
   "outputs": [],
   "source": [
    "# df_all.duplicated().sum()"
   ]
  },
  {
   "cell_type": "code",
   "execution_count": null,
   "metadata": {},
   "outputs": [],
   "source": [
    "# a lot of duplicates cause of the same prompt being used for multiple models and the models just decide the same\n",
    "# it is a characteristic of the data, one of which I can't do anything about"
   ]
  },
  {
   "cell_type": "code",
   "execution_count": 12,
   "metadata": {},
   "outputs": [],
   "source": [
    "# Remove the '_1' and '_2' from the 'ResponseID' column, so each scenario has two rows with the same response ID (instead of one with _1 and one with _2)\n",
    "df_all['ResponseID'] = df_all['ResponseID'].str.replace(r'_\\d+$', '', regex=True)"
   ]
  },
  {
   "cell_type": "code",
   "execution_count": 13,
   "metadata": {},
   "outputs": [],
   "source": [
    "df_all.reset_index(drop=True, inplace=True)"
   ]
  },
  {
   "cell_type": "code",
   "execution_count": 14,
   "metadata": {},
   "outputs": [
    {
     "data": {
      "text/html": [
       "<div>\n",
       "<style scoped>\n",
       "    .dataframe tbody tr th:only-of-type {\n",
       "        vertical-align: middle;\n",
       "    }\n",
       "\n",
       "    .dataframe tbody tr th {\n",
       "        vertical-align: top;\n",
       "    }\n",
       "\n",
       "    .dataframe thead th {\n",
       "        text-align: right;\n",
       "    }\n",
       "</style>\n",
       "<table border=\"1\" class=\"dataframe\">\n",
       "  <thead>\n",
       "    <tr style=\"text-align: right;\">\n",
       "      <th></th>\n",
       "      <th>ResponseID</th>\n",
       "      <th>ExtendedSessionID</th>\n",
       "      <th>UserID</th>\n",
       "      <th>ScenarioOrder</th>\n",
       "      <th>Intervention</th>\n",
       "      <th>PedPed</th>\n",
       "      <th>Barrier</th>\n",
       "      <th>CrossingSignal</th>\n",
       "      <th>AttributeLevel</th>\n",
       "      <th>ScenarioTypeStrict</th>\n",
       "      <th>...</th>\n",
       "      <th>LargeMan</th>\n",
       "      <th>Criminal</th>\n",
       "      <th>MaleExecutive</th>\n",
       "      <th>FemaleExecutive</th>\n",
       "      <th>FemaleAthlete</th>\n",
       "      <th>MaleAthlete</th>\n",
       "      <th>FemaleDoctor</th>\n",
       "      <th>MaleDoctor</th>\n",
       "      <th>Dog</th>\n",
       "      <th>Cat</th>\n",
       "    </tr>\n",
       "  </thead>\n",
       "  <tbody>\n",
       "    <tr>\n",
       "      <th>1547127</th>\n",
       "      <td>res_00048078</td>\n",
       "      <td>chatbot_extended</td>\n",
       "      <td>chatbot</td>\n",
       "      <td>0</td>\n",
       "      <td>1</td>\n",
       "      <td>1</td>\n",
       "      <td>0</td>\n",
       "      <td>0</td>\n",
       "      <td>High</td>\n",
       "      <td>Social Value</td>\n",
       "      <td>...</td>\n",
       "      <td>0</td>\n",
       "      <td>0</td>\n",
       "      <td>0</td>\n",
       "      <td>0</td>\n",
       "      <td>0</td>\n",
       "      <td>0</td>\n",
       "      <td>0</td>\n",
       "      <td>1</td>\n",
       "      <td>0</td>\n",
       "      <td>0</td>\n",
       "    </tr>\n",
       "    <tr>\n",
       "      <th>1547128</th>\n",
       "      <td>res_00048079</td>\n",
       "      <td>chatbot_extended</td>\n",
       "      <td>chatbot</td>\n",
       "      <td>0</td>\n",
       "      <td>0</td>\n",
       "      <td>1</td>\n",
       "      <td>0</td>\n",
       "      <td>0</td>\n",
       "      <td>Hoomans</td>\n",
       "      <td>Species</td>\n",
       "      <td>...</td>\n",
       "      <td>0</td>\n",
       "      <td>1</td>\n",
       "      <td>0</td>\n",
       "      <td>0</td>\n",
       "      <td>0</td>\n",
       "      <td>0</td>\n",
       "      <td>0</td>\n",
       "      <td>0</td>\n",
       "      <td>0</td>\n",
       "      <td>0</td>\n",
       "    </tr>\n",
       "    <tr>\n",
       "      <th>1547129</th>\n",
       "      <td>res_00048079</td>\n",
       "      <td>chatbot_extended</td>\n",
       "      <td>chatbot</td>\n",
       "      <td>0</td>\n",
       "      <td>1</td>\n",
       "      <td>1</td>\n",
       "      <td>0</td>\n",
       "      <td>0</td>\n",
       "      <td>Pets</td>\n",
       "      <td>Species</td>\n",
       "      <td>...</td>\n",
       "      <td>0</td>\n",
       "      <td>0</td>\n",
       "      <td>0</td>\n",
       "      <td>0</td>\n",
       "      <td>0</td>\n",
       "      <td>0</td>\n",
       "      <td>0</td>\n",
       "      <td>0</td>\n",
       "      <td>2</td>\n",
       "      <td>3</td>\n",
       "    </tr>\n",
       "    <tr>\n",
       "      <th>1547130</th>\n",
       "      <td>res_00048080</td>\n",
       "      <td>chatbot_extended</td>\n",
       "      <td>chatbot</td>\n",
       "      <td>0</td>\n",
       "      <td>0</td>\n",
       "      <td>0</td>\n",
       "      <td>1</td>\n",
       "      <td>0</td>\n",
       "      <td>Young</td>\n",
       "      <td>Age</td>\n",
       "      <td>...</td>\n",
       "      <td>0</td>\n",
       "      <td>0</td>\n",
       "      <td>0</td>\n",
       "      <td>0</td>\n",
       "      <td>0</td>\n",
       "      <td>0</td>\n",
       "      <td>0</td>\n",
       "      <td>0</td>\n",
       "      <td>0</td>\n",
       "      <td>0</td>\n",
       "    </tr>\n",
       "    <tr>\n",
       "      <th>1547131</th>\n",
       "      <td>res_00048080</td>\n",
       "      <td>chatbot_extended</td>\n",
       "      <td>chatbot</td>\n",
       "      <td>0</td>\n",
       "      <td>1</td>\n",
       "      <td>0</td>\n",
       "      <td>0</td>\n",
       "      <td>1</td>\n",
       "      <td>Old</td>\n",
       "      <td>Age</td>\n",
       "      <td>...</td>\n",
       "      <td>0</td>\n",
       "      <td>0</td>\n",
       "      <td>0</td>\n",
       "      <td>0</td>\n",
       "      <td>0</td>\n",
       "      <td>0</td>\n",
       "      <td>0</td>\n",
       "      <td>0</td>\n",
       "      <td>0</td>\n",
       "      <td>0</td>\n",
       "    </tr>\n",
       "  </tbody>\n",
       "</table>\n",
       "<p>5 rows × 41 columns</p>\n",
       "</div>"
      ],
      "text/plain": [
       "           ResponseID ExtendedSessionID   UserID  ScenarioOrder  Intervention  \\\n",
       "1547127  res_00048078  chatbot_extended  chatbot              0             1   \n",
       "1547128  res_00048079  chatbot_extended  chatbot              0             0   \n",
       "1547129  res_00048079  chatbot_extended  chatbot              0             1   \n",
       "1547130  res_00048080  chatbot_extended  chatbot              0             0   \n",
       "1547131  res_00048080  chatbot_extended  chatbot              0             1   \n",
       "\n",
       "         PedPed  Barrier  CrossingSignal AttributeLevel ScenarioTypeStrict  \\\n",
       "1547127       1        0               0           High       Social Value   \n",
       "1547128       1        0               0        Hoomans            Species   \n",
       "1547129       1        0               0           Pets            Species   \n",
       "1547130       0        1               0          Young                Age   \n",
       "1547131       0        0               1            Old                Age   \n",
       "\n",
       "         ... LargeMan  Criminal  MaleExecutive  FemaleExecutive  \\\n",
       "1547127  ...        0         0              0                0   \n",
       "1547128  ...        0         1              0                0   \n",
       "1547129  ...        0         0              0                0   \n",
       "1547130  ...        0         0              0                0   \n",
       "1547131  ...        0         0              0                0   \n",
       "\n",
       "         FemaleAthlete  MaleAthlete  FemaleDoctor MaleDoctor  Dog  Cat  \n",
       "1547127              0            0             0          1    0    0  \n",
       "1547128              0            0             0          0    0    0  \n",
       "1547129              0            0             0          0    2    3  \n",
       "1547130              0            0             0          0    0    0  \n",
       "1547131              0            0             0          0    0    0  \n",
       "\n",
       "[5 rows x 41 columns]"
      ]
     },
     "execution_count": 14,
     "metadata": {},
     "output_type": "execute_result"
    }
   ],
   "source": [
    "df_all.tail()"
   ]
  },
  {
   "cell_type": "code",
   "execution_count": 15,
   "metadata": {},
   "outputs": [],
   "source": [
    "# Define the starting point for the new ResponseID\n",
    "starting_id = 0\n",
    "\n",
    "# Get the total number of rows\n",
    "num_rows = len(df_all)\n",
    "\n",
    "# Create a new column where every two rows have the same ResponseID\n",
    "df_all['ResponseID'] = [f'res_{starting_id + i // 2:08d}' for i in range(num_rows)]"
   ]
  },
  {
   "cell_type": "code",
   "execution_count": 16,
   "metadata": {},
   "outputs": [
    {
     "data": {
      "text/html": [
       "<div>\n",
       "<style scoped>\n",
       "    .dataframe tbody tr th:only-of-type {\n",
       "        vertical-align: middle;\n",
       "    }\n",
       "\n",
       "    .dataframe tbody tr th {\n",
       "        vertical-align: top;\n",
       "    }\n",
       "\n",
       "    .dataframe thead th {\n",
       "        text-align: right;\n",
       "    }\n",
       "</style>\n",
       "<table border=\"1\" class=\"dataframe\">\n",
       "  <thead>\n",
       "    <tr style=\"text-align: right;\">\n",
       "      <th></th>\n",
       "      <th>ResponseID</th>\n",
       "      <th>ExtendedSessionID</th>\n",
       "      <th>UserID</th>\n",
       "      <th>ScenarioOrder</th>\n",
       "      <th>Intervention</th>\n",
       "      <th>PedPed</th>\n",
       "      <th>Barrier</th>\n",
       "      <th>CrossingSignal</th>\n",
       "      <th>AttributeLevel</th>\n",
       "      <th>ScenarioTypeStrict</th>\n",
       "      <th>...</th>\n",
       "      <th>LargeMan</th>\n",
       "      <th>Criminal</th>\n",
       "      <th>MaleExecutive</th>\n",
       "      <th>FemaleExecutive</th>\n",
       "      <th>FemaleAthlete</th>\n",
       "      <th>MaleAthlete</th>\n",
       "      <th>FemaleDoctor</th>\n",
       "      <th>MaleDoctor</th>\n",
       "      <th>Dog</th>\n",
       "      <th>Cat</th>\n",
       "    </tr>\n",
       "  </thead>\n",
       "  <tbody>\n",
       "    <tr>\n",
       "      <th>0</th>\n",
       "      <td>res_00000000</td>\n",
       "      <td>chatbot_extended</td>\n",
       "      <td>chatbot</td>\n",
       "      <td>0</td>\n",
       "      <td>0</td>\n",
       "      <td>0</td>\n",
       "      <td>1</td>\n",
       "      <td>0</td>\n",
       "      <td>Hoomans</td>\n",
       "      <td>Species</td>\n",
       "      <td>...</td>\n",
       "      <td>0</td>\n",
       "      <td>0</td>\n",
       "      <td>0</td>\n",
       "      <td>0</td>\n",
       "      <td>0</td>\n",
       "      <td>0</td>\n",
       "      <td>1</td>\n",
       "      <td>0</td>\n",
       "      <td>0</td>\n",
       "      <td>0</td>\n",
       "    </tr>\n",
       "    <tr>\n",
       "      <th>1</th>\n",
       "      <td>res_00000000</td>\n",
       "      <td>chatbot_extended</td>\n",
       "      <td>chatbot</td>\n",
       "      <td>0</td>\n",
       "      <td>1</td>\n",
       "      <td>0</td>\n",
       "      <td>0</td>\n",
       "      <td>0</td>\n",
       "      <td>Pets</td>\n",
       "      <td>Species</td>\n",
       "      <td>...</td>\n",
       "      <td>0</td>\n",
       "      <td>0</td>\n",
       "      <td>0</td>\n",
       "      <td>0</td>\n",
       "      <td>0</td>\n",
       "      <td>0</td>\n",
       "      <td>0</td>\n",
       "      <td>0</td>\n",
       "      <td>1</td>\n",
       "      <td>2</td>\n",
       "    </tr>\n",
       "    <tr>\n",
       "      <th>2</th>\n",
       "      <td>res_00000001</td>\n",
       "      <td>chatbot_extended</td>\n",
       "      <td>chatbot</td>\n",
       "      <td>0</td>\n",
       "      <td>0</td>\n",
       "      <td>0</td>\n",
       "      <td>1</td>\n",
       "      <td>0</td>\n",
       "      <td>Male</td>\n",
       "      <td>Gender</td>\n",
       "      <td>...</td>\n",
       "      <td>0</td>\n",
       "      <td>0</td>\n",
       "      <td>0</td>\n",
       "      <td>0</td>\n",
       "      <td>0</td>\n",
       "      <td>0</td>\n",
       "      <td>0</td>\n",
       "      <td>0</td>\n",
       "      <td>0</td>\n",
       "      <td>0</td>\n",
       "    </tr>\n",
       "    <tr>\n",
       "      <th>3</th>\n",
       "      <td>res_00000001</td>\n",
       "      <td>chatbot_extended</td>\n",
       "      <td>chatbot</td>\n",
       "      <td>0</td>\n",
       "      <td>1</td>\n",
       "      <td>0</td>\n",
       "      <td>0</td>\n",
       "      <td>2</td>\n",
       "      <td>Female</td>\n",
       "      <td>Gender</td>\n",
       "      <td>...</td>\n",
       "      <td>0</td>\n",
       "      <td>0</td>\n",
       "      <td>0</td>\n",
       "      <td>0</td>\n",
       "      <td>0</td>\n",
       "      <td>0</td>\n",
       "      <td>0</td>\n",
       "      <td>0</td>\n",
       "      <td>0</td>\n",
       "      <td>0</td>\n",
       "    </tr>\n",
       "    <tr>\n",
       "      <th>4</th>\n",
       "      <td>res_00000002</td>\n",
       "      <td>chatbot_extended</td>\n",
       "      <td>chatbot</td>\n",
       "      <td>0</td>\n",
       "      <td>1</td>\n",
       "      <td>1</td>\n",
       "      <td>0</td>\n",
       "      <td>2</td>\n",
       "      <td>Young</td>\n",
       "      <td>Age</td>\n",
       "      <td>...</td>\n",
       "      <td>0</td>\n",
       "      <td>0</td>\n",
       "      <td>0</td>\n",
       "      <td>0</td>\n",
       "      <td>0</td>\n",
       "      <td>0</td>\n",
       "      <td>0</td>\n",
       "      <td>0</td>\n",
       "      <td>0</td>\n",
       "      <td>0</td>\n",
       "    </tr>\n",
       "    <tr>\n",
       "      <th>...</th>\n",
       "      <td>...</td>\n",
       "      <td>...</td>\n",
       "      <td>...</td>\n",
       "      <td>...</td>\n",
       "      <td>...</td>\n",
       "      <td>...</td>\n",
       "      <td>...</td>\n",
       "      <td>...</td>\n",
       "      <td>...</td>\n",
       "      <td>...</td>\n",
       "      <td>...</td>\n",
       "      <td>...</td>\n",
       "      <td>...</td>\n",
       "      <td>...</td>\n",
       "      <td>...</td>\n",
       "      <td>...</td>\n",
       "      <td>...</td>\n",
       "      <td>...</td>\n",
       "      <td>...</td>\n",
       "      <td>...</td>\n",
       "      <td>...</td>\n",
       "    </tr>\n",
       "    <tr>\n",
       "      <th>1547127</th>\n",
       "      <td>res_00773563</td>\n",
       "      <td>chatbot_extended</td>\n",
       "      <td>chatbot</td>\n",
       "      <td>0</td>\n",
       "      <td>1</td>\n",
       "      <td>1</td>\n",
       "      <td>0</td>\n",
       "      <td>0</td>\n",
       "      <td>High</td>\n",
       "      <td>Social Value</td>\n",
       "      <td>...</td>\n",
       "      <td>0</td>\n",
       "      <td>0</td>\n",
       "      <td>0</td>\n",
       "      <td>0</td>\n",
       "      <td>0</td>\n",
       "      <td>0</td>\n",
       "      <td>0</td>\n",
       "      <td>1</td>\n",
       "      <td>0</td>\n",
       "      <td>0</td>\n",
       "    </tr>\n",
       "    <tr>\n",
       "      <th>1547128</th>\n",
       "      <td>res_00773564</td>\n",
       "      <td>chatbot_extended</td>\n",
       "      <td>chatbot</td>\n",
       "      <td>0</td>\n",
       "      <td>0</td>\n",
       "      <td>1</td>\n",
       "      <td>0</td>\n",
       "      <td>0</td>\n",
       "      <td>Hoomans</td>\n",
       "      <td>Species</td>\n",
       "      <td>...</td>\n",
       "      <td>0</td>\n",
       "      <td>1</td>\n",
       "      <td>0</td>\n",
       "      <td>0</td>\n",
       "      <td>0</td>\n",
       "      <td>0</td>\n",
       "      <td>0</td>\n",
       "      <td>0</td>\n",
       "      <td>0</td>\n",
       "      <td>0</td>\n",
       "    </tr>\n",
       "    <tr>\n",
       "      <th>1547129</th>\n",
       "      <td>res_00773564</td>\n",
       "      <td>chatbot_extended</td>\n",
       "      <td>chatbot</td>\n",
       "      <td>0</td>\n",
       "      <td>1</td>\n",
       "      <td>1</td>\n",
       "      <td>0</td>\n",
       "      <td>0</td>\n",
       "      <td>Pets</td>\n",
       "      <td>Species</td>\n",
       "      <td>...</td>\n",
       "      <td>0</td>\n",
       "      <td>0</td>\n",
       "      <td>0</td>\n",
       "      <td>0</td>\n",
       "      <td>0</td>\n",
       "      <td>0</td>\n",
       "      <td>0</td>\n",
       "      <td>0</td>\n",
       "      <td>2</td>\n",
       "      <td>3</td>\n",
       "    </tr>\n",
       "    <tr>\n",
       "      <th>1547130</th>\n",
       "      <td>res_00773565</td>\n",
       "      <td>chatbot_extended</td>\n",
       "      <td>chatbot</td>\n",
       "      <td>0</td>\n",
       "      <td>0</td>\n",
       "      <td>0</td>\n",
       "      <td>1</td>\n",
       "      <td>0</td>\n",
       "      <td>Young</td>\n",
       "      <td>Age</td>\n",
       "      <td>...</td>\n",
       "      <td>0</td>\n",
       "      <td>0</td>\n",
       "      <td>0</td>\n",
       "      <td>0</td>\n",
       "      <td>0</td>\n",
       "      <td>0</td>\n",
       "      <td>0</td>\n",
       "      <td>0</td>\n",
       "      <td>0</td>\n",
       "      <td>0</td>\n",
       "    </tr>\n",
       "    <tr>\n",
       "      <th>1547131</th>\n",
       "      <td>res_00773565</td>\n",
       "      <td>chatbot_extended</td>\n",
       "      <td>chatbot</td>\n",
       "      <td>0</td>\n",
       "      <td>1</td>\n",
       "      <td>0</td>\n",
       "      <td>0</td>\n",
       "      <td>1</td>\n",
       "      <td>Old</td>\n",
       "      <td>Age</td>\n",
       "      <td>...</td>\n",
       "      <td>0</td>\n",
       "      <td>0</td>\n",
       "      <td>0</td>\n",
       "      <td>0</td>\n",
       "      <td>0</td>\n",
       "      <td>0</td>\n",
       "      <td>0</td>\n",
       "      <td>0</td>\n",
       "      <td>0</td>\n",
       "      <td>0</td>\n",
       "    </tr>\n",
       "  </tbody>\n",
       "</table>\n",
       "<p>1547132 rows × 41 columns</p>\n",
       "</div>"
      ],
      "text/plain": [
       "           ResponseID ExtendedSessionID   UserID  ScenarioOrder  Intervention  \\\n",
       "0        res_00000000  chatbot_extended  chatbot              0             0   \n",
       "1        res_00000000  chatbot_extended  chatbot              0             1   \n",
       "2        res_00000001  chatbot_extended  chatbot              0             0   \n",
       "3        res_00000001  chatbot_extended  chatbot              0             1   \n",
       "4        res_00000002  chatbot_extended  chatbot              0             1   \n",
       "...               ...               ...      ...            ...           ...   \n",
       "1547127  res_00773563  chatbot_extended  chatbot              0             1   \n",
       "1547128  res_00773564  chatbot_extended  chatbot              0             0   \n",
       "1547129  res_00773564  chatbot_extended  chatbot              0             1   \n",
       "1547130  res_00773565  chatbot_extended  chatbot              0             0   \n",
       "1547131  res_00773565  chatbot_extended  chatbot              0             1   \n",
       "\n",
       "         PedPed  Barrier  CrossingSignal AttributeLevel ScenarioTypeStrict  \\\n",
       "0             0        1               0        Hoomans            Species   \n",
       "1             0        0               0           Pets            Species   \n",
       "2             0        1               0           Male             Gender   \n",
       "3             0        0               2         Female             Gender   \n",
       "4             1        0               2          Young                Age   \n",
       "...         ...      ...             ...            ...                ...   \n",
       "1547127       1        0               0           High       Social Value   \n",
       "1547128       1        0               0        Hoomans            Species   \n",
       "1547129       1        0               0           Pets            Species   \n",
       "1547130       0        1               0          Young                Age   \n",
       "1547131       0        0               1            Old                Age   \n",
       "\n",
       "         ... LargeMan  Criminal  MaleExecutive  FemaleExecutive  \\\n",
       "0        ...        0         0              0                0   \n",
       "1        ...        0         0              0                0   \n",
       "2        ...        0         0              0                0   \n",
       "3        ...        0         0              0                0   \n",
       "4        ...        0         0              0                0   \n",
       "...      ...      ...       ...            ...              ...   \n",
       "1547127  ...        0         0              0                0   \n",
       "1547128  ...        0         1              0                0   \n",
       "1547129  ...        0         0              0                0   \n",
       "1547130  ...        0         0              0                0   \n",
       "1547131  ...        0         0              0                0   \n",
       "\n",
       "         FemaleAthlete  MaleAthlete  FemaleDoctor MaleDoctor  Dog  Cat  \n",
       "0                    0            0             1          0    0    0  \n",
       "1                    0            0             0          0    1    2  \n",
       "2                    0            0             0          0    0    0  \n",
       "3                    0            0             0          0    0    0  \n",
       "4                    0            0             0          0    0    0  \n",
       "...                ...          ...           ...        ...  ...  ...  \n",
       "1547127              0            0             0          1    0    0  \n",
       "1547128              0            0             0          0    0    0  \n",
       "1547129              0            0             0          0    2    3  \n",
       "1547130              0            0             0          0    0    0  \n",
       "1547131              0            0             0          0    0    0  \n",
       "\n",
       "[1547132 rows x 41 columns]"
      ]
     },
     "execution_count": 16,
     "metadata": {},
     "output_type": "execute_result"
    }
   ],
   "source": [
    "df_all"
   ]
  },
  {
   "cell_type": "code",
   "execution_count": 17,
   "metadata": {},
   "outputs": [
    {
     "data": {
      "text/plain": [
       "UserID\n",
       "chatbot    1547132\n",
       "Name: count, dtype: int64"
      ]
     },
     "execution_count": 17,
     "metadata": {},
     "output_type": "execute_result"
    }
   ],
   "source": [
    "df_all['UserID'].value_counts()"
   ]
  },
  {
   "cell_type": "code",
   "execution_count": 18,
   "metadata": {},
   "outputs": [
    {
     "data": {
      "text/plain": [
       "array(['Species', 'Gender', 'Age', 'Fitness', 'Utilitarian',\n",
       "       'Social Value'], dtype=object)"
      ]
     },
     "execution_count": 18,
     "metadata": {},
     "output_type": "execute_result"
    }
   ],
   "source": [
    "df_all['ScenarioType'].unique()\n",
    "\n",
    "# no random"
   ]
  },
  {
   "cell_type": "code",
   "execution_count": 19,
   "metadata": {},
   "outputs": [
    {
     "data": {
      "text/plain": [
       "array(['Species', 'Gender', 'Age', 'Fitness', 'Utilitarian',\n",
       "       'Social Value'], dtype=object)"
      ]
     },
     "execution_count": 19,
     "metadata": {},
     "output_type": "execute_result"
    }
   ],
   "source": [
    "df_all['ScenarioTypeStrict'].unique()\n",
    "\n",
    "# no random"
   ]
  },
  {
   "cell_type": "code",
   "execution_count": 20,
   "metadata": {},
   "outputs": [
    {
     "data": {
      "text/plain": [
       "array(['Hoomans', 'Pets', 'Male', 'Female', 'Young', 'Old', 'Fat', 'Fit',\n",
       "       'Less', 'More', 'High', 'Low'], dtype=object)"
      ]
     },
     "execution_count": 20,
     "metadata": {},
     "output_type": "execute_result"
    }
   ],
   "source": [
    "df_all['AttributeLevel'].unique()\n",
    "\n",
    "# no rand"
   ]
  },
  {
   "cell_type": "code",
   "execution_count": 21,
   "metadata": {},
   "outputs": [
    {
     "name": "stdout",
     "output_type": "stream",
     "text": [
      "ScenarioTypeStrict\n",
      "Age              267320\n",
      "Species          264538\n",
      "Utilitarian      259416\n",
      "Fitness          255100\n",
      "Gender           252220\n",
      "Social Status    248538\n",
      "Name: count, dtype: int64\n"
     ]
    }
   ],
   "source": [
    "# need to change 'Social Value' to 'Social Status' in the 'ScenarioTypeStrict' column, cause the MME dataset has this as well\n",
    "df_all['ScenarioTypeStrict'].replace('Social Value', 'Social Status', inplace=True)\n",
    "print(df_all['ScenarioTypeStrict'].value_counts())"
   ]
  },
  {
   "cell_type": "code",
   "execution_count": 22,
   "metadata": {},
   "outputs": [],
   "source": [
    "df_all_clean = df_all.drop(columns=['ExtendedSessionID', 'DefaultChoice', 'NonDefaultChoice', 'DefaultChoiceIsOmission', 'Template', 'ScenarioType', 'ScenarioOrder', 'DescriptionShown', 'LeftHand', 'UserCountry3'], axis=1)"
   ]
  },
  {
   "cell_type": "code",
   "execution_count": 23,
   "metadata": {},
   "outputs": [
    {
     "data": {
      "text/plain": [
       "(1547132, 31)"
      ]
     },
     "execution_count": 23,
     "metadata": {},
     "output_type": "execute_result"
    }
   ],
   "source": [
    "df_all_clean.shape"
   ]
  },
  {
   "cell_type": "code",
   "execution_count": 24,
   "metadata": {},
   "outputs": [
    {
     "data": {
      "text/plain": [
       "ResponseID                0\n",
       "UserID                    0\n",
       "Intervention              0\n",
       "PedPed                    0\n",
       "Barrier                   0\n",
       "CrossingSignal            0\n",
       "AttributeLevel            0\n",
       "ScenarioTypeStrict        0\n",
       "NumberOfCharacters        0\n",
       "DiffNumberOFCharacters    0\n",
       "Saved                     0\n",
       "Man                       0\n",
       "Woman                     0\n",
       "Pregnant                  0\n",
       "Stroller                  0\n",
       "OldMan                    0\n",
       "OldWoman                  0\n",
       "Boy                       0\n",
       "Girl                      0\n",
       "Homeless                  0\n",
       "LargeWoman                0\n",
       "LargeMan                  0\n",
       "Criminal                  0\n",
       "MaleExecutive             0\n",
       "FemaleExecutive           0\n",
       "FemaleAthlete             0\n",
       "MaleAthlete               0\n",
       "FemaleDoctor              0\n",
       "MaleDoctor                0\n",
       "Dog                       0\n",
       "Cat                       0\n",
       "dtype: int64"
      ]
     },
     "execution_count": 24,
     "metadata": {},
     "output_type": "execute_result"
    }
   ],
   "source": [
    "# checking the missing values\n",
    "df_all_clean.isnull().sum()\n",
    "\n",
    "# no missings"
   ]
  },
  {
   "cell_type": "code",
   "execution_count": 25,
   "metadata": {},
   "outputs": [],
   "source": [
    "# binarizing UserID\n",
    "# change all to 1\n",
    "\n",
    "df_all_clean['UserID'] = 1"
   ]
  },
  {
   "cell_type": "code",
   "execution_count": null,
   "metadata": {},
   "outputs": [
    {
     "data": {
      "text/plain": [
       "2"
      ]
     },
     "execution_count": 27,
     "metadata": {},
     "output_type": "execute_result"
    },
    {
     "ename": "",
     "evalue": "",
     "output_type": "error",
     "traceback": [
      "\u001b[1;31mThe Kernel crashed while executing code in the current cell or a previous cell. \n",
      "\u001b[1;31mPlease review the code in the cell(s) to identify a possible cause of the failure. \n",
      "\u001b[1;31mClick <a href='https://aka.ms/vscodeJupyterKernelCrash'>here</a> for more info. \n",
      "\u001b[1;31mView Jupyter <a href='command:jupyter.viewOutput'>log</a> for further details."
     ]
    }
   ],
   "source": [
    "df_all_clean['ResponseID'].value_counts().max()"
   ]
  },
  {
   "cell_type": "code",
   "execution_count": 26,
   "metadata": {},
   "outputs": [],
   "source": [
    "df_all_clean.to_csv('llm_125_dataset.csv', index=False)"
   ]
  }
 ],
 "metadata": {
  "kernelspec": {
   "display_name": "base",
   "language": "python",
   "name": "python3"
  },
  "language_info": {
   "codemirror_mode": {
    "name": "ipython",
    "version": 3
   },
   "file_extension": ".py",
   "mimetype": "text/x-python",
   "name": "python",
   "nbconvert_exporter": "python",
   "pygments_lexer": "ipython3",
   "version": "3.11.5"
  }
 },
 "nbformat": 4,
 "nbformat_minor": 2
}
