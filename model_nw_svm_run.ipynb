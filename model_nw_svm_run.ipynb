{
 "cells": [
  {
   "cell_type": "code",
   "execution_count": 1,
   "metadata": {
    "id": "9p39JwxlVxVi"
   },
   "outputs": [],
   "source": [
    "import pandas as pd\n",
    "import numpy as np\n",
    "from sklearn.model_selection import train_test_split\n",
    "from sklearn.metrics import accuracy_score, confusion_matrix, classification_report, f1_score, recall_score\n",
    "import matplotlib.pyplot as plt\n",
    "import seaborn as sns"
   ]
  },
  {
   "cell_type": "markdown",
   "metadata": {
    "id": "5DH8xw3zVxVk"
   },
   "source": [
    "## Thunder setup"
   ]
  },
  {
   "cell_type": "code",
   "execution_count": 2,
   "metadata": {
    "colab": {
     "base_uri": "https://localhost:8080/"
    },
    "id": "YtEfy-FYVxVl",
    "outputId": "ffdd2637-24c5-4560-e57f-f90d774c453a"
   },
   "outputs": [
    {
     "name": "stderr",
     "output_type": "stream",
     "text": [
      "WARNING:tensorflow:From <ipython-input-2-b45a89b3bdbf>:4: is_gpu_available (from tensorflow.python.framework.test_util) is deprecated and will be removed in a future version.\n",
      "Instructions for updating:\n",
      "Use `tf.config.list_physical_devices('GPU')` instead.\n"
     ]
    },
    {
     "name": "stdout",
     "output_type": "stream",
     "text": [
      "GPU Available: True\n",
      "TPU Available: False\n"
     ]
    }
   ],
   "source": [
    "import tensorflow as tf\n",
    "\n",
    "# Check GPU availability\n",
    "print(\"GPU Available:\", tf.test.is_gpu_available())\n",
    "\n",
    "# Check TPU availability\n",
    "tpu_available = False\n",
    "devices = tf.config.list_logical_devices()\n",
    "for device in devices:\n",
    "    if device.device_type == 'TPU':\n",
    "        tpu_available = True\n",
    "        break\n",
    "\n",
    "print(\"TPU Available:\", tpu_available)"
   ]
  },
  {
   "cell_type": "code",
   "execution_count": 3,
   "metadata": {
    "colab": {
     "base_uri": "https://localhost:8080/"
    },
    "id": "EYqruhqQVxVm",
    "outputId": "1b16c192-4bb6-4e91-b9dd-4fe3c6945c73"
   },
   "outputs": [
    {
     "name": "stdout",
     "output_type": "stream",
     "text": [
      "--2024-11-28 12:28:38--  https://developer.nvidia.com/compute/cuda/9.0/Prod/local_installers/cuda-repo-ubuntu1704-9-0-local_9.0.176-1_amd64-deb\n",
      "Resolving developer.nvidia.com (developer.nvidia.com)... 152.195.19.142\n",
      "Connecting to developer.nvidia.com (developer.nvidia.com)|152.195.19.142|:443... connected.\n",
      "HTTP request sent, awaiting response... 302 Found\n",
      "Location: https://developer.nvidia.com/downloads/compute/cuda/9.0/prod/local_installers/cuda-repo-ubuntu1704-9-0-local_9.0.176-1_amd64-deb [following]\n",
      "--2024-11-28 12:28:38--  https://developer.nvidia.com/downloads/compute/cuda/9.0/prod/local_installers/cuda-repo-ubuntu1704-9-0-local_9.0.176-1_amd64-deb\n",
      "Reusing existing connection to developer.nvidia.com:443.\n",
      "HTTP request sent, awaiting response... 302 Found\n",
      "Location: https://developer.download.nvidia.com/compute/cuda/9.0/secure/Prod/local_installers/cuda-repo-ubuntu1704-9-0-local_9.0.176-1_amd64.deb?V0mwuKX_jbqnLtkKM3Qnr0qaENIq9ituo5Oz3BsBB0QDeuPuSDL7veeaOJn63poNF4peIXKVIUVsM5WRQnmwRNBJ0qM5rphneUhBVShm9dMktfCgAl-ipdABCcPXAIxAGj6XsLeG03GKj3mLQpfwsVp4t8QDCxx2CaGRxfimMZxghrxBm74xHCz7mLIdQ0NtOufR_hEtUmE_49BicjS2 [following]\n",
      "--2024-11-28 12:28:38--  https://developer.download.nvidia.com/compute/cuda/9.0/secure/Prod/local_installers/cuda-repo-ubuntu1704-9-0-local_9.0.176-1_amd64.deb?V0mwuKX_jbqnLtkKM3Qnr0qaENIq9ituo5Oz3BsBB0QDeuPuSDL7veeaOJn63poNF4peIXKVIUVsM5WRQnmwRNBJ0qM5rphneUhBVShm9dMktfCgAl-ipdABCcPXAIxAGj6XsLeG03GKj3mLQpfwsVp4t8QDCxx2CaGRxfimMZxghrxBm74xHCz7mLIdQ0NtOufR_hEtUmE_49BicjS2\n",
      "Resolving developer.download.nvidia.com (developer.download.nvidia.com)... 152.195.19.142\n",
      "Connecting to developer.download.nvidia.com (developer.download.nvidia.com)|152.195.19.142|:443... connected.\n",
      "HTTP request sent, awaiting response... 200 OK\n",
      "Length: 1216133170 (1.1G) [application/x-deb]\n",
      "Saving to: ‘cuda-repo-ubuntu1704-9-0-local_9.0.176-1_amd64-deb’\n",
      "\n",
      "cuda-repo-ubuntu170 100%[===================>]   1.13G   286MB/s    in 4.0s    \n",
      "\n",
      "2024-11-28 12:28:42 (287 MB/s) - ‘cuda-repo-ubuntu1704-9-0-local_9.0.176-1_amd64-deb’ saved [1216133170/1216133170]\n",
      "\n",
      "cuda-repo-ubuntu1704-9-0-local_9.0.176-1_amd64-deb  sample_data  total_nw_50_dataset.csv\n",
      "Selecting previously unselected package cuda-repo-ubuntu1704-9-0-local.\n",
      "(Reading database ... 123630 files and directories currently installed.)\n",
      "Preparing to unpack cuda-repo-ubuntu1704-9-0-local_9.0.176-1_amd64-deb ...\n",
      "Unpacking cuda-repo-ubuntu1704-9-0-local (9.0.176-1) ...\n",
      "Setting up cuda-repo-ubuntu1704-9-0-local (9.0.176-1) ...\n",
      "\n",
      "The public CUDA GPG key does not appear to be installed.\n",
      "To install the key, run this command:\n",
      "sudo apt-key add /var/cuda-repo-9-0-local/7fa2af80.pub\n",
      "\n",
      "7fa2af80.pub\n",
      "Warning: apt-key is deprecated. Manage keyring files in trusted.gpg.d instead (see apt-key(8)).\n",
      "OK\n",
      "Get:1 file:/var/cuda-repo-9-0-local  InRelease\n",
      "Ign:1 file:/var/cuda-repo-9-0-local  InRelease\n",
      "Get:2 file:/var/cuda-repo-9-0-local  Release [574 B]\n",
      "Get:2 file:/var/cuda-repo-9-0-local  Release [574 B]\n",
      "Get:3 file:/var/cuda-repo-9-0-local  Release.gpg [819 B]\n",
      "Get:3 file:/var/cuda-repo-9-0-local  Release.gpg [819 B]\n",
      "Get:4 https://cloud.r-project.org/bin/linux/ubuntu jammy-cran40/ InRelease [3,626 B]\n",
      "Get:5 http://security.ubuntu.com/ubuntu jammy-security InRelease [129 kB]\n",
      "Hit:6 https://developer.download.nvidia.com/compute/cuda/repos/ubuntu2204/x86_64  InRelease\n",
      "Get:7 file:/var/cuda-repo-9-0-local  Packages [15.8 kB]\n",
      "Get:8 https://r2u.stat.illinois.edu/ubuntu jammy InRelease [6,555 B]\n",
      "Hit:9 http://archive.ubuntu.com/ubuntu jammy InRelease\n",
      "Get:10 https://r2u.stat.illinois.edu/ubuntu jammy/main all Packages [8,506 kB]\n",
      "Get:11 http://archive.ubuntu.com/ubuntu jammy-updates InRelease [128 kB]\n",
      "Get:12 http://security.ubuntu.com/ubuntu jammy-security/universe amd64 Packages [1,224 kB]\n",
      "Hit:13 https://ppa.launchpadcontent.net/deadsnakes/ppa/ubuntu jammy InRelease\n",
      "Get:14 http://security.ubuntu.com/ubuntu jammy-security/main amd64 Packages [2,454 kB]\n",
      "Get:15 https://r2u.stat.illinois.edu/ubuntu jammy/main amd64 Packages [2,619 kB]\n",
      "Hit:16 https://ppa.launchpadcontent.net/graphics-drivers/ppa/ubuntu jammy InRelease\n",
      "Hit:17 https://ppa.launchpadcontent.net/ubuntugis/ppa/ubuntu jammy InRelease\n",
      "Get:18 http://archive.ubuntu.com/ubuntu jammy-backports InRelease [127 kB]\n",
      "Get:19 http://archive.ubuntu.com/ubuntu jammy-updates/main amd64 Packages [2,738 kB]\n",
      "Get:20 http://archive.ubuntu.com/ubuntu jammy-updates/universe amd64 Packages [1,513 kB]\n",
      "Get:21 http://archive.ubuntu.com/ubuntu jammy-backports/universe amd64 Packages [33.8 kB]\n",
      "Fetched 19.5 MB in 2s (10.0 MB/s)\n",
      "Reading package lists... Done\n",
      "W: file:/var/cuda-repo-9-0-local/Release.gpg: Key is stored in legacy trusted.gpg keyring (/etc/apt/trusted.gpg), see the DEPRECATION section in apt-key(8) for details.\n",
      "W: Skipping acquire of configured file 'main/source/Sources' as repository 'https://r2u.stat.illinois.edu/ubuntu jammy InRelease' does not seem to provide it (sources.list entry misspelt?)\n"
     ]
    }
   ],
   "source": [
    "!wget https://developer.nvidia.com/compute/cuda/9.0/Prod/local_installers/cuda-repo-ubuntu1704-9-0-local_9.0.176-1_amd64-deb\n",
    "!ls  # Check if required cuda 9.0 amd64-deb file is downloaded\n",
    "!dpkg -i cuda-repo-ubuntu1704-9-0-local_9.0.176-1_amd64-deb\n",
    "!ls /var/cuda-repo-9-0-local | grep .pub\n",
    "!apt-key add /var/cuda-repo-9-0-local/7fa2af80.pub\n",
    "!apt-get update"
   ]
  },
  {
   "cell_type": "code",
   "execution_count": 4,
   "metadata": {
    "colab": {
     "base_uri": "https://localhost:8080/"
    },
    "id": "uW9gvyPCVxVo",
    "outputId": "e6acffad-b4ef-4e90-b770-d4db5e39b419"
   },
   "outputs": [
    {
     "name": "stdout",
     "output_type": "stream",
     "text": [
      "Reading package lists... Done\n",
      "Building dependency tree... Done\n",
      "Reading state information... Done\n",
      "Note, selecting 'libcuda-9.0-1' for regex 'cuda-9.0'\n",
      "Note, selecting 'cuda-9-0' for regex 'cuda-9.0'\n",
      "The following additional packages will be installed:\n",
      "  cpp-12 cuda-command-line-tools-9-0 cuda-core-9-0 cuda-cublas-9-0\n",
      "  cuda-cublas-dev-9-0 cuda-cudart-9-0 cuda-cudart-dev-9-0 cuda-cufft-9-0\n",
      "  cuda-cufft-dev-9-0 cuda-curand-9-0 cuda-curand-dev-9-0 cuda-cusolver-9-0\n",
      "  cuda-cusolver-dev-9-0 cuda-cusparse-9-0 cuda-cusparse-dev-9-0\n",
      "  cuda-demo-suite-9-0 cuda-documentation-9-0 cuda-driver-dev-9-0 cuda-drivers\n",
      "  cuda-drivers-565 cuda-libraries-9-0 cuda-libraries-dev-9-0 cuda-license-9-0\n",
      "  cuda-misc-headers-9-0 cuda-npp-9-0 cuda-npp-dev-9-0 cuda-nvgraph-9-0\n",
      "  cuda-nvgraph-dev-9-0 cuda-nvml-dev-9-0 cuda-nvrtc-9-0 cuda-nvrtc-dev-9-0\n",
      "  cuda-runtime-9-0 cuda-samples-9-0 cuda-toolkit-9-0 cuda-visual-tools-9-0\n",
      "  dctrl-tools default-jre default-jre-headless dkms fakeroot fonts-dejavu-core\n",
      "  fonts-dejavu-extra freeglut3 freeglut3-dev gcc-12 keyboard-configuration\n",
      "  libasan8 libatk-wrapper-java libatk-wrapper-java-jni libegl-dev libfakeroot\n",
      "  libfontenc1 libgail-common libgail18 libgcc-12-dev libgl-dev libgl1-mesa-dev\n",
      "  libgles-dev libgles1 libglu1-mesa libglu1-mesa-dev libglvnd-core-dev\n",
      "  libglvnd-dev libglx-dev libgtk2.0-0 libgtk2.0-bin libgtk2.0-common\n",
      "  libice-dev libjansson4 liblocale-gettext-perl libnvidia-cfg1-565\n",
      "  libnvidia-common-565 libnvidia-compute-565 libnvidia-decode-565\n",
      "  libnvidia-encode-565 libnvidia-extra-565 libnvidia-fbc1-565 libnvidia-gl-565\n",
      "  libopengl-dev librsvg2-common libsm-dev libtsan2 libudev1 libxcvt0\n",
      "  libxfixes-dev libxfont2 libxi-dev libxkbfile1 libxmu-dev libxmu-headers\n",
      "  libxt-dev libxtst6 libxxf86dga1 nvidia-compute-utils-565 nvidia-dkms-565\n",
      "  nvidia-driver-565 nvidia-firmware-565-565.57.01 nvidia-kernel-common-565\n",
      "  nvidia-kernel-source-565 nvidia-modprobe nvidia-prime nvidia-settings\n",
      "  nvidia-utils-565 openjdk-11-jre python3-xkit screen-resolution-extra\n",
      "  systemd-hwe-hwdb udev x11-utils x11-xkb-utils xcvt xfonts-base\n",
      "  xfonts-encodings xfonts-utils xserver-common xserver-xorg-core\n",
      "  xserver-xorg-video-nvidia-565\n",
      "Suggested packages:\n",
      "  gcc-12-locales cpp-12-doc debtags menu gcc-12-multilib gcc-12-doc gvfs\n",
      "  libice-doc libsm-doc libxt-doc mesa-utils xfs | xserver xfonts-100dpi\n",
      "  | xfonts-75dpi xfonts-scalable\n",
      "Recommended packages:\n",
      "  libnvidia-compute-565:i386 libnvidia-decode-565:i386\n",
      "  libnvidia-encode-565:i386 libnvidia-fbc1-565:i386 libnvidia-gl-565:i386\n",
      "The following NEW packages will be installed:\n",
      "  cpp-12 cuda-9-0 cuda-command-line-tools-9-0 cuda-core-9-0 cuda-cublas-9-0\n",
      "  cuda-cublas-dev-9-0 cuda-cudart-9-0 cuda-cudart-dev-9-0 cuda-cufft-9-0\n",
      "  cuda-cufft-dev-9-0 cuda-curand-9-0 cuda-curand-dev-9-0 cuda-cusolver-9-0\n",
      "  cuda-cusolver-dev-9-0 cuda-cusparse-9-0 cuda-cusparse-dev-9-0\n",
      "  cuda-demo-suite-9-0 cuda-documentation-9-0 cuda-driver-dev-9-0 cuda-drivers\n",
      "  cuda-drivers-565 cuda-libraries-9-0 cuda-libraries-dev-9-0 cuda-license-9-0\n",
      "  cuda-misc-headers-9-0 cuda-npp-9-0 cuda-npp-dev-9-0 cuda-nvgraph-9-0\n",
      "  cuda-nvgraph-dev-9-0 cuda-nvml-dev-9-0 cuda-nvrtc-9-0 cuda-nvrtc-dev-9-0\n",
      "  cuda-runtime-9-0 cuda-samples-9-0 cuda-toolkit-9-0 cuda-visual-tools-9-0\n",
      "  dctrl-tools default-jre default-jre-headless dkms fakeroot fonts-dejavu-core\n",
      "  fonts-dejavu-extra freeglut3 freeglut3-dev gcc-12 keyboard-configuration\n",
      "  libasan8 libatk-wrapper-java libatk-wrapper-java-jni libegl-dev libfakeroot\n",
      "  libfontenc1 libgail-common libgail18 libgcc-12-dev libgl-dev libgl1-mesa-dev\n",
      "  libgles-dev libgles1 libglu1-mesa libglu1-mesa-dev libglvnd-core-dev\n",
      "  libglvnd-dev libglx-dev libgtk2.0-0 libgtk2.0-bin libgtk2.0-common\n",
      "  libice-dev libjansson4 liblocale-gettext-perl libnvidia-cfg1-565\n",
      "  libnvidia-common-565 libnvidia-compute-565 libnvidia-decode-565\n",
      "  libnvidia-encode-565 libnvidia-extra-565 libnvidia-fbc1-565 libnvidia-gl-565\n",
      "  libopengl-dev librsvg2-common libsm-dev libtsan2 libxcvt0 libxfixes-dev\n",
      "  libxfont2 libxi-dev libxkbfile1 libxmu-dev libxmu-headers libxt-dev libxtst6\n",
      "  libxxf86dga1 nvidia-compute-utils-565 nvidia-dkms-565 nvidia-driver-565\n",
      "  nvidia-firmware-565-565.57.01 nvidia-kernel-common-565\n",
      "  nvidia-kernel-source-565 nvidia-modprobe nvidia-prime nvidia-settings\n",
      "  nvidia-utils-565 openjdk-11-jre python3-xkit screen-resolution-extra\n",
      "  systemd-hwe-hwdb udev x11-utils x11-xkb-utils xcvt xfonts-base\n",
      "  xfonts-encodings xfonts-utils xserver-common xserver-xorg-core\n",
      "  xserver-xorg-video-nvidia-565\n",
      "The following packages will be upgraded:\n",
      "  libudev1\n",
      "1 upgraded, 117 newly installed, 0 to remove and 52 not upgraded.\n",
      "Need to get 361 MB/1,458 MB of archives.\n",
      "After this operation, 3,367 MB of additional disk space will be used.\n",
      "Get:1 file:/var/cuda-repo-9-0-local  cuda-license-9-0 9.0.176-1 [22.0 kB]\n",
      "Get:2 file:/var/cuda-repo-9-0-local  cuda-misc-headers-9-0 9.0.176-1 [684 kB]\n",
      "Get:3 https://developer.download.nvidia.com/compute/cuda/repos/ubuntu2204/x86_64  libnvidia-common-565 565.57.01-0ubuntu1 [15.7 kB]\n",
      "Get:4 file:/var/cuda-repo-9-0-local  cuda-core-9-0 9.0.176-1 [16.9 MB]\n",
      "Get:5 file:/var/cuda-repo-9-0-local  cuda-cudart-9-0 9.0.176-1 [106 kB]\n",
      "Get:6 file:/var/cuda-repo-9-0-local  cuda-driver-dev-9-0 9.0.176-1 [10.9 kB]\n",
      "Get:7 https://developer.download.nvidia.com/compute/cuda/repos/ubuntu2204/x86_64  libnvidia-decode-565 565.57.01-0ubuntu1 [2,105 kB]\n",
      "Get:8 file:/var/cuda-repo-9-0-local  cuda-cudart-dev-9-0 9.0.176-1 [767 kB]\n",
      "Get:9 http://archive.ubuntu.com/ubuntu jammy/main amd64 liblocale-gettext-perl amd64 1.07-4build3 [17.1 kB]\n",
      "Get:10 https://developer.download.nvidia.com/compute/cuda/repos/ubuntu2204/x86_64  libnvidia-compute-565 565.57.01-0ubuntu1 [55.6 MB]\n",
      "Get:11 file:/var/cuda-repo-9-0-local  cuda-command-line-tools-9-0 9.0.176-1 [25.4 MB]\n",
      "Get:12 file:/var/cuda-repo-9-0-local  cuda-nvrtc-9-0 9.0.176-1 [6,348 kB]\n",
      "Get:13 file:/var/cuda-repo-9-0-local  cuda-nvrtc-dev-9-0 9.0.176-1 [9,334 B]\n",
      "Get:14 http://archive.ubuntu.com/ubuntu jammy/main amd64 keyboard-configuration all 1.205ubuntu3 [206 kB]\n",
      "Get:15 file:/var/cuda-repo-9-0-local  cuda-cusolver-9-0 9.0.176-1 [26.2 MB]\n",
      "Get:16 file:/var/cuda-repo-9-0-local  cuda-cusolver-dev-9-0 9.0.176-1 [5,317 kB]\n",
      "Get:17 https://developer.download.nvidia.com/compute/cuda/repos/ubuntu2204/x86_64  libnvidia-gl-565 565.57.01-0ubuntu1 [139 MB]\n",
      "Get:18 http://archive.ubuntu.com/ubuntu jammy-updates/main amd64 cpp-12 amd64 12.3.0-1ubuntu1~22.04 [10.8 MB]\n",
      "Get:19 file:/var/cuda-repo-9-0-local  cuda-cublas-9-0 9.0.176-1 [25.0 MB]\n",
      "Get:20 file:/var/cuda-repo-9-0-local  cuda-cublas-dev-9-0 9.0.176-1 [49.4 MB]\n",
      "Get:21 http://archive.ubuntu.com/ubuntu jammy-updates/main amd64 libasan8 amd64 12.3.0-1ubuntu1~22.04 [2,442 kB]\n",
      "Get:22 http://archive.ubuntu.com/ubuntu jammy-updates/main amd64 libtsan2 amd64 12.3.0-1ubuntu1~22.04 [2,477 kB]\n",
      "Get:23 http://archive.ubuntu.com/ubuntu jammy-updates/main amd64 libgcc-12-dev amd64 12.3.0-1ubuntu1~22.04 [2,618 kB]\n",
      "Get:24 http://archive.ubuntu.com/ubuntu jammy-updates/main amd64 gcc-12 amd64 12.3.0-1ubuntu1~22.04 [21.7 MB]\n",
      "Get:25 file:/var/cuda-repo-9-0-local  cuda-cufft-9-0 9.0.176-1 [84.1 MB]\n",
      "Get:26 https://developer.download.nvidia.com/compute/cuda/repos/ubuntu2204/x86_64  nvidia-kernel-source-565 565.57.01-0ubuntu1 [54.1 MB]\n",
      "Get:27 file:/var/cuda-repo-9-0-local  cuda-cufft-dev-9-0 9.0.176-1 [73.7 MB]\n",
      "Get:28 http://archive.ubuntu.com/ubuntu jammy/main amd64 dctrl-tools amd64 2.24-3build2 [66.9 kB]\n",
      "Get:29 http://archive.ubuntu.com/ubuntu jammy-updates/main amd64 dkms all 2.8.7-2ubuntu2.2 [70.1 kB]\n",
      "Get:30 http://archive.ubuntu.com/ubuntu jammy-updates/main amd64 libudev1 amd64 249.11-0ubuntu3.12 [78.2 kB]\n",
      "Get:31 http://archive.ubuntu.com/ubuntu jammy-updates/main amd64 udev amd64 249.11-0ubuntu3.12 [1,557 kB]\n",
      "Get:32 http://archive.ubuntu.com/ubuntu jammy/main amd64 libjansson4 amd64 2.13.1-1.1build3 [32.4 kB]\n",
      "Get:33 http://archive.ubuntu.com/ubuntu jammy/universe amd64 freeglut3 amd64 2.8.1-6 [74.0 kB]\n",
      "Get:34 http://archive.ubuntu.com/ubuntu jammy/main amd64 libglx-dev amd64 1.4.0-1 [14.1 kB]\n",
      "Get:35 http://archive.ubuntu.com/ubuntu jammy/main amd64 libgl-dev amd64 1.4.0-1 [101 kB]\n",
      "Get:36 http://archive.ubuntu.com/ubuntu jammy/main amd64 libglvnd-core-dev amd64 1.4.0-1 [12.7 kB]\n",
      "Get:37 http://archive.ubuntu.com/ubuntu jammy/main amd64 libegl-dev amd64 1.4.0-1 [18.0 kB]\n",
      "Get:38 https://developer.download.nvidia.com/compute/cuda/repos/ubuntu2204/x86_64  nvidia-firmware-565-565.57.01 565.57.01-0ubuntu1 [48.4 MB]\n",
      "Get:39 file:/var/cuda-repo-9-0-local  cuda-curand-9-0 9.0.176-1 [38.8 MB]\n",
      "Get:40 http://archive.ubuntu.com/ubuntu jammy/main amd64 libgles1 amd64 1.4.0-1 [11.5 kB]\n",
      "Get:41 http://archive.ubuntu.com/ubuntu jammy/main amd64 libgles-dev amd64 1.4.0-1 [49.4 kB]\n",
      "Get:42 http://archive.ubuntu.com/ubuntu jammy/main amd64 libopengl-dev amd64 1.4.0-1 [3,400 B]\n",
      "Get:43 http://archive.ubuntu.com/ubuntu jammy/main amd64 libglvnd-dev amd64 1.4.0-1 [3,162 B]\n",
      "Get:44 http://archive.ubuntu.com/ubuntu jammy-updates/main amd64 libgl1-mesa-dev amd64 23.2.1-1ubuntu3.1~22.04.2 [6,842 B]\n",
      "Get:45 http://archive.ubuntu.com/ubuntu jammy/main amd64 libglu1-mesa amd64 9.0.2-1 [145 kB]\n",
      "Get:46 http://archive.ubuntu.com/ubuntu jammy/main amd64 libglu1-mesa-dev amd64 9.0.2-1 [231 kB]\n",
      "Get:47 http://archive.ubuntu.com/ubuntu jammy/main amd64 libice-dev amd64 2:1.0.10-1build2 [51.4 kB]\n",
      "Get:48 http://archive.ubuntu.com/ubuntu jammy/main amd64 libsm-dev amd64 2:1.2.3-1build2 [18.1 kB]\n",
      "Get:49 http://archive.ubuntu.com/ubuntu jammy/main amd64 libxt-dev amd64 1:1.2.1-1 [396 kB]\n",
      "Get:50 http://archive.ubuntu.com/ubuntu jammy/universe amd64 freeglut3-dev amd64 2.8.1-6 [126 kB]\n",
      "Get:51 http://archive.ubuntu.com/ubuntu jammy/main amd64 libxmu-headers all 2:1.1.3-3 [54.1 kB]\n",
      "Get:52 http://archive.ubuntu.com/ubuntu jammy/main amd64 libxmu-dev amd64 2:1.1.3-3 [54.6 kB]\n",
      "Get:53 http://archive.ubuntu.com/ubuntu jammy/main amd64 libxfixes-dev amd64 1:6.0.0-1 [12.2 kB]\n",
      "Get:54 http://archive.ubuntu.com/ubuntu jammy/main amd64 libxi-dev amd64 2:1.8-1build1 [193 kB]\n",
      "Get:55 http://archive.ubuntu.com/ubuntu jammy/main amd64 default-jre-headless amd64 2:1.11-72build2 [3,042 B]\n",
      "Get:56 http://archive.ubuntu.com/ubuntu jammy/main amd64 libxtst6 amd64 2:1.2.3-1build4 [13.4 kB]\n",
      "Get:57 http://archive.ubuntu.com/ubuntu jammy-updates/main amd64 openjdk-11-jre amd64 11.0.25+9-1ubuntu1~22.04 [216 kB]\n",
      "Get:58 http://archive.ubuntu.com/ubuntu jammy/main amd64 default-jre amd64 2:1.11-72build2 [896 B]\n",
      "Get:59 http://archive.ubuntu.com/ubuntu jammy/main amd64 libxkbfile1 amd64 1:1.1.0-1build3 [71.8 kB]\n",
      "Get:60 http://archive.ubuntu.com/ubuntu jammy/main amd64 x11-xkb-utils amd64 7.7+5build4 [172 kB]\n",
      "Get:61 http://archive.ubuntu.com/ubuntu jammy-updates/main amd64 xserver-common all 2:21.1.4-2ubuntu1.7~22.04.12 [28.7 kB]\n",
      "Get:62 http://archive.ubuntu.com/ubuntu jammy/main amd64 libxcvt0 amd64 0.1.1-3 [5,494 B]\n",
      "Get:63 http://archive.ubuntu.com/ubuntu jammy/main amd64 libfontenc1 amd64 1:1.1.4-1build3 [14.7 kB]\n",
      "Get:64 http://archive.ubuntu.com/ubuntu jammy/main amd64 libxfont2 amd64 1:2.0.5-1build1 [94.5 kB]\n",
      "Get:65 http://archive.ubuntu.com/ubuntu jammy-updates/main amd64 xserver-xorg-core amd64 2:21.1.4-2ubuntu1.7~22.04.12 [1,477 kB]\n",
      "Get:66 file:/var/cuda-repo-9-0-local  cuda-curand-dev-9-0 9.0.176-1 [57.9 MB]\n",
      "Get:67 https://developer.download.nvidia.com/compute/cuda/repos/ubuntu2204/x86_64  nvidia-modprobe 565.57.01-0ubuntu1 [21.7 kB]\n",
      "Get:68 https://developer.download.nvidia.com/compute/cuda/repos/ubuntu2204/x86_64  nvidia-kernel-common-565 565.57.01-0ubuntu1 [97.6 kB]\n",
      "Get:69 http://archive.ubuntu.com/ubuntu jammy/main amd64 libfakeroot amd64 1.28-1ubuntu1 [31.5 kB]\n",
      "Get:70 http://archive.ubuntu.com/ubuntu jammy/main amd64 fakeroot amd64 1.28-1ubuntu1 [60.4 kB]\n",
      "Get:71 http://archive.ubuntu.com/ubuntu jammy/main amd64 fonts-dejavu-core all 2.37-2build1 [1,041 kB]\n",
      "Get:72 https://developer.download.nvidia.com/compute/cuda/repos/ubuntu2204/x86_64  nvidia-dkms-565 565.57.01-0ubuntu1 [34.4 kB]\n",
      "Get:73 https://developer.download.nvidia.com/compute/cuda/repos/ubuntu2204/x86_64  libnvidia-extra-565 565.57.01-0ubuntu1 [71.5 kB]\n",
      "Get:74 https://developer.download.nvidia.com/compute/cuda/repos/ubuntu2204/x86_64  nvidia-compute-utils-565 565.57.01-0ubuntu1 [107 kB]\n",
      "Get:75 https://developer.download.nvidia.com/compute/cuda/repos/ubuntu2204/x86_64  libnvidia-encode-565 565.57.01-0ubuntu1 [105 kB]\n",
      "Get:76 http://archive.ubuntu.com/ubuntu jammy/main amd64 fonts-dejavu-extra all 2.37-2build1 [2,041 kB]\n",
      "Get:77 https://developer.download.nvidia.com/compute/cuda/repos/ubuntu2204/x86_64  nvidia-utils-565 565.57.01-0ubuntu1 [498 kB]\n",
      "Get:78 https://developer.download.nvidia.com/compute/cuda/repos/ubuntu2204/x86_64  libnvidia-cfg1-565 565.57.01-0ubuntu1 [145 kB]\n",
      "Get:79 https://developer.download.nvidia.com/compute/cuda/repos/ubuntu2204/x86_64  xserver-xorg-video-nvidia-565 565.57.01-0ubuntu1 [1,614 kB]\n",
      "Get:80 http://archive.ubuntu.com/ubuntu jammy/main amd64 libxxf86dga1 amd64 2:1.1.5-0ubuntu3 [12.6 kB]\n",
      "Get:81 http://archive.ubuntu.com/ubuntu jammy/main amd64 x11-utils amd64 7.7+5build2 [206 kB]\n",
      "Get:82 http://archive.ubuntu.com/ubuntu jammy/main amd64 libatk-wrapper-java all 0.38.0-5build1 [53.1 kB]\n",
      "Get:83 http://archive.ubuntu.com/ubuntu jammy/main amd64 libatk-wrapper-java-jni amd64 0.38.0-5build1 [49.0 kB]\n",
      "Get:84 http://archive.ubuntu.com/ubuntu jammy-updates/main amd64 libgtk2.0-common all 2.24.33-2ubuntu2.1 [125 kB]\n",
      "Get:85 http://archive.ubuntu.com/ubuntu jammy-updates/main amd64 libgtk2.0-0 amd64 2.24.33-2ubuntu2.1 [2,038 kB]\n",
      "Get:86 https://developer.download.nvidia.com/compute/cuda/repos/ubuntu2204/x86_64  libnvidia-fbc1-565 565.57.01-0ubuntu1 [92.9 kB]\n",
      "Get:87 https://developer.download.nvidia.com/compute/cuda/repos/ubuntu2204/x86_64  nvidia-driver-565 565.57.01-0ubuntu1 [488 kB]\n",
      "Get:88 https://developer.download.nvidia.com/compute/cuda/repos/ubuntu2204/x86_64  cuda-drivers-565 565.57.01-0ubuntu1 [2,546 B]\n",
      "Get:89 https://developer.download.nvidia.com/compute/cuda/repos/ubuntu2204/x86_64  cuda-drivers 565.57.01-0ubuntu1 [2,494 B]\n",
      "Get:90 http://archive.ubuntu.com/ubuntu jammy-updates/main amd64 libgail18 amd64 2.24.33-2ubuntu2.1 [15.9 kB]\n",
      "Get:91 http://archive.ubuntu.com/ubuntu jammy-updates/main amd64 libgail-common amd64 2.24.33-2ubuntu2.1 [132 kB]\n",
      "Get:92 https://developer.download.nvidia.com/compute/cuda/repos/ubuntu2204/x86_64  nvidia-settings 565.57.01-0ubuntu1 [959 kB]\n",
      "Get:93 file:/var/cuda-repo-9-0-local  cuda-cusparse-9-0 9.0.176-1 [25.2 MB]\n",
      "Get:94 http://archive.ubuntu.com/ubuntu jammy-updates/main amd64 libgtk2.0-bin amd64 2.24.33-2ubuntu2.1 [7,936 B]\n",
      "Get:95 http://archive.ubuntu.com/ubuntu jammy-updates/main amd64 librsvg2-common amd64 2.52.5+dfsg-3ubuntu0.2 [17.7 kB]\n",
      "Get:96 http://archive.ubuntu.com/ubuntu jammy/main amd64 nvidia-prime all 0.8.17.1 [9,956 B]\n",
      "Get:97 http://archive.ubuntu.com/ubuntu jammy/main amd64 python3-xkit all 0.5.0ubuntu5 [18.5 kB]\n",
      "Get:98 http://archive.ubuntu.com/ubuntu jammy/main amd64 screen-resolution-extra all 0.18.2 [4,396 B]\n",
      "Get:99 http://archive.ubuntu.com/ubuntu jammy-updates/main amd64 systemd-hwe-hwdb all 249.11.5 [3,228 B]\n",
      "Get:100 http://archive.ubuntu.com/ubuntu jammy/main amd64 xcvt amd64 0.1.1-3 [7,140 B]\n",
      "Get:101 http://archive.ubuntu.com/ubuntu jammy/main amd64 xfonts-encodings all 1:1.0.5-0ubuntu2 [578 kB]\n",
      "Get:102 http://archive.ubuntu.com/ubuntu jammy/main amd64 xfonts-utils amd64 1:7.7+6build2 [94.6 kB]\n",
      "Get:103 http://archive.ubuntu.com/ubuntu jammy/main amd64 xfonts-base all 1:1.0.5 [5,896 kB]\n",
      "Get:104 file:/var/cuda-repo-9-0-local  cuda-cusparse-dev-9-0 9.0.176-1 [25.3 MB]\n",
      "Get:105 file:/var/cuda-repo-9-0-local  cuda-npp-9-0 9.0.176-1 [46.6 MB]\n",
      "Get:106 file:/var/cuda-repo-9-0-local  cuda-npp-dev-9-0 9.0.176-1 [46.6 MB]\n",
      "Get:107 file:/var/cuda-repo-9-0-local  cuda-nvgraph-9-0 9.0.176-1 [6,081 kB]\n",
      "Get:108 file:/var/cuda-repo-9-0-local  cuda-nvgraph-dev-9-0 9.0.176-1 [5,658 kB]\n",
      "Get:109 file:/var/cuda-repo-9-0-local  cuda-samples-9-0 9.0.176-1 [75.9 MB]\n",
      "Get:110 file:/var/cuda-repo-9-0-local  cuda-documentation-9-0 9.0.176-1 [53.1 MB]\n",
      "Get:111 file:/var/cuda-repo-9-0-local  cuda-libraries-dev-9-0 9.0.176-1 [2,596 B]\n",
      "Get:112 file:/var/cuda-repo-9-0-local  cuda-nvml-dev-9-0 9.0.176-1 [47.6 kB]\n",
      "Get:113 file:/var/cuda-repo-9-0-local  cuda-visual-tools-9-0 9.0.176-1 [398 MB]\n",
      "Get:114 file:/var/cuda-repo-9-0-local  cuda-toolkit-9-0 9.0.176-1 [2,836 B]\n",
      "Get:115 file:/var/cuda-repo-9-0-local  cuda-libraries-9-0 9.0.176-1 [2,566 B]\n",
      "Get:116 file:/var/cuda-repo-9-0-local  cuda-runtime-9-0 9.0.176-1 [2,526 B]\n",
      "Get:117 file:/var/cuda-repo-9-0-local  cuda-demo-suite-9-0 9.0.176-1 [3,880 kB]\n",
      "Get:118 file:/var/cuda-repo-9-0-local  cuda-9-0 9.0.176-1 [2,552 B]\n",
      "Fetched 361 MB in 9s (39.3 MB/s)\n",
      "debconf: unable to initialize frontend: Dialog\n",
      "debconf: (No usable dialog-like program is installed, so the dialog based frontend cannot be used. at /usr/share/perl5/Debconf/FrontEnd/Dialog.pm line 78, <> line 118.)\n",
      "debconf: falling back to frontend: Readline\n",
      "debconf: unable to initialize frontend: Readline\n",
      "debconf: (This frontend requires a controlling tty.)\n",
      "debconf: falling back to frontend: Teletype\n",
      "dpkg-preconfigure: unable to re-open stdin: \n",
      "Selecting previously unselected package liblocale-gettext-perl.\n",
      "(Reading database ... 123689 files and directories currently installed.)\n",
      "Preparing to unpack .../0-liblocale-gettext-perl_1.07-4build3_amd64.deb ...\n",
      "Unpacking liblocale-gettext-perl (1.07-4build3) ...\n",
      "Selecting previously unselected package keyboard-configuration.\n",
      "Preparing to unpack .../1-keyboard-configuration_1.205ubuntu3_all.deb ...\n",
      "Unpacking keyboard-configuration (1.205ubuntu3) ...\n",
      "Selecting previously unselected package cpp-12.\n",
      "Preparing to unpack .../2-cpp-12_12.3.0-1ubuntu1~22.04_amd64.deb ...\n",
      "Unpacking cpp-12 (12.3.0-1ubuntu1~22.04) ...\n",
      "Selecting previously unselected package libasan8:amd64.\n",
      "Preparing to unpack .../3-libasan8_12.3.0-1ubuntu1~22.04_amd64.deb ...\n",
      "Unpacking libasan8:amd64 (12.3.0-1ubuntu1~22.04) ...\n",
      "Selecting previously unselected package libtsan2:amd64.\n",
      "Preparing to unpack .../4-libtsan2_12.3.0-1ubuntu1~22.04_amd64.deb ...\n",
      "Unpacking libtsan2:amd64 (12.3.0-1ubuntu1~22.04) ...\n",
      "Selecting previously unselected package libgcc-12-dev:amd64.\n",
      "Preparing to unpack .../5-libgcc-12-dev_12.3.0-1ubuntu1~22.04_amd64.deb ...\n",
      "Unpacking libgcc-12-dev:amd64 (12.3.0-1ubuntu1~22.04) ...\n",
      "Selecting previously unselected package gcc-12.\n",
      "Preparing to unpack .../6-gcc-12_12.3.0-1ubuntu1~22.04_amd64.deb ...\n",
      "Unpacking gcc-12 (12.3.0-1ubuntu1~22.04) ...\n",
      "Selecting previously unselected package dctrl-tools.\n",
      "Preparing to unpack .../7-dctrl-tools_2.24-3build2_amd64.deb ...\n",
      "Unpacking dctrl-tools (2.24-3build2) ...\n",
      "Selecting previously unselected package dkms.\n",
      "Preparing to unpack .../8-dkms_2.8.7-2ubuntu2.2_all.deb ...\n",
      "Unpacking dkms (2.8.7-2ubuntu2.2) ...\n",
      "Preparing to unpack .../9-libudev1_249.11-0ubuntu3.12_amd64.deb ...\n",
      "Unpacking libudev1:amd64 (249.11-0ubuntu3.12) over (249.11-0ubuntu3.10) ...\n",
      "Setting up libudev1:amd64 (249.11-0ubuntu3.12) ...\n",
      "Selecting previously unselected package udev.\n",
      "(Reading database ... 124049 files and directories currently installed.)\n",
      "Preparing to unpack .../000-udev_249.11-0ubuntu3.12_amd64.deb ...\n",
      "Unpacking udev (249.11-0ubuntu3.12) ...\n",
      "Selecting previously unselected package libjansson4:amd64.\n",
      "Preparing to unpack .../001-libjansson4_2.13.1-1.1build3_amd64.deb ...\n",
      "Unpacking libjansson4:amd64 (2.13.1-1.1build3) ...\n",
      "Selecting previously unselected package cuda-license-9-0.\n",
      "Preparing to unpack .../002-cuda-license-9-0_9.0.176-1_amd64.deb ...\n",
      "Unpacking cuda-license-9-0 (9.0.176-1) ...\n",
      "Selecting previously unselected package cuda-misc-headers-9-0.\n",
      "Preparing to unpack .../003-cuda-misc-headers-9-0_9.0.176-1_amd64.deb ...\n",
      "Unpacking cuda-misc-headers-9-0 (9.0.176-1) ...\n",
      "Selecting previously unselected package cuda-core-9-0.\n",
      "Preparing to unpack .../004-cuda-core-9-0_9.0.176-1_amd64.deb ...\n",
      "Unpacking cuda-core-9-0 (9.0.176-1) ...\n",
      "Selecting previously unselected package cuda-cudart-9-0.\n",
      "Preparing to unpack .../005-cuda-cudart-9-0_9.0.176-1_amd64.deb ...\n",
      "Unpacking cuda-cudart-9-0 (9.0.176-1) ...\n",
      "Selecting previously unselected package cuda-driver-dev-9-0.\n",
      "Preparing to unpack .../006-cuda-driver-dev-9-0_9.0.176-1_amd64.deb ...\n",
      "Unpacking cuda-driver-dev-9-0 (9.0.176-1) ...\n",
      "Selecting previously unselected package cuda-cudart-dev-9-0.\n",
      "Preparing to unpack .../007-cuda-cudart-dev-9-0_9.0.176-1_amd64.deb ...\n",
      "Unpacking cuda-cudart-dev-9-0 (9.0.176-1) ...\n",
      "Selecting previously unselected package cuda-command-line-tools-9-0.\n",
      "Preparing to unpack .../008-cuda-command-line-tools-9-0_9.0.176-1_amd64.deb ...\n",
      "Unpacking cuda-command-line-tools-9-0 (9.0.176-1) ...\n",
      "Selecting previously unselected package freeglut3:amd64.\n",
      "Preparing to unpack .../009-freeglut3_2.8.1-6_amd64.deb ...\n",
      "Unpacking freeglut3:amd64 (2.8.1-6) ...\n",
      "Selecting previously unselected package libglx-dev:amd64.\n",
      "Preparing to unpack .../010-libglx-dev_1.4.0-1_amd64.deb ...\n",
      "Unpacking libglx-dev:amd64 (1.4.0-1) ...\n",
      "Selecting previously unselected package libgl-dev:amd64.\n",
      "Preparing to unpack .../011-libgl-dev_1.4.0-1_amd64.deb ...\n",
      "Unpacking libgl-dev:amd64 (1.4.0-1) ...\n",
      "Selecting previously unselected package libglvnd-core-dev:amd64.\n",
      "Preparing to unpack .../012-libglvnd-core-dev_1.4.0-1_amd64.deb ...\n",
      "Unpacking libglvnd-core-dev:amd64 (1.4.0-1) ...\n",
      "Selecting previously unselected package libegl-dev:amd64.\n",
      "Preparing to unpack .../013-libegl-dev_1.4.0-1_amd64.deb ...\n",
      "Unpacking libegl-dev:amd64 (1.4.0-1) ...\n",
      "Selecting previously unselected package libgles1:amd64.\n",
      "Preparing to unpack .../014-libgles1_1.4.0-1_amd64.deb ...\n",
      "Unpacking libgles1:amd64 (1.4.0-1) ...\n",
      "Selecting previously unselected package libgles-dev:amd64.\n",
      "Preparing to unpack .../015-libgles-dev_1.4.0-1_amd64.deb ...\n",
      "Unpacking libgles-dev:amd64 (1.4.0-1) ...\n",
      "Selecting previously unselected package libopengl-dev:amd64.\n",
      "Preparing to unpack .../016-libopengl-dev_1.4.0-1_amd64.deb ...\n",
      "Unpacking libopengl-dev:amd64 (1.4.0-1) ...\n",
      "Selecting previously unselected package libglvnd-dev:amd64.\n",
      "Preparing to unpack .../017-libglvnd-dev_1.4.0-1_amd64.deb ...\n",
      "Unpacking libglvnd-dev:amd64 (1.4.0-1) ...\n",
      "Selecting previously unselected package libgl1-mesa-dev:amd64.\n",
      "Preparing to unpack .../018-libgl1-mesa-dev_23.2.1-1ubuntu3.1~22.04.2_amd64.deb ...\n",
      "Unpacking libgl1-mesa-dev:amd64 (23.2.1-1ubuntu3.1~22.04.2) ...\n",
      "Selecting previously unselected package libglu1-mesa:amd64.\n",
      "Preparing to unpack .../019-libglu1-mesa_9.0.2-1_amd64.deb ...\n",
      "Unpacking libglu1-mesa:amd64 (9.0.2-1) ...\n",
      "Selecting previously unselected package libglu1-mesa-dev:amd64.\n",
      "Preparing to unpack .../020-libglu1-mesa-dev_9.0.2-1_amd64.deb ...\n",
      "Unpacking libglu1-mesa-dev:amd64 (9.0.2-1) ...\n",
      "Selecting previously unselected package libice-dev:amd64.\n",
      "Preparing to unpack .../021-libice-dev_2%3a1.0.10-1build2_amd64.deb ...\n",
      "Unpacking libice-dev:amd64 (2:1.0.10-1build2) ...\n",
      "Selecting previously unselected package libsm-dev:amd64.\n",
      "Preparing to unpack .../022-libsm-dev_2%3a1.2.3-1build2_amd64.deb ...\n",
      "Unpacking libsm-dev:amd64 (2:1.2.3-1build2) ...\n",
      "Selecting previously unselected package libxt-dev:amd64.\n",
      "Preparing to unpack .../023-libxt-dev_1%3a1.2.1-1_amd64.deb ...\n",
      "Unpacking libxt-dev:amd64 (1:1.2.1-1) ...\n",
      "Selecting previously unselected package freeglut3-dev:amd64.\n",
      "Preparing to unpack .../024-freeglut3-dev_2.8.1-6_amd64.deb ...\n",
      "Unpacking freeglut3-dev:amd64 (2.8.1-6) ...\n",
      "Selecting previously unselected package libxmu-headers.\n",
      "Preparing to unpack .../025-libxmu-headers_2%3a1.1.3-3_all.deb ...\n",
      "Unpacking libxmu-headers (2:1.1.3-3) ...\n",
      "Selecting previously unselected package libxmu-dev:amd64.\n",
      "Preparing to unpack .../026-libxmu-dev_2%3a1.1.3-3_amd64.deb ...\n",
      "Unpacking libxmu-dev:amd64 (2:1.1.3-3) ...\n",
      "Selecting previously unselected package libxfixes-dev:amd64.\n",
      "Preparing to unpack .../027-libxfixes-dev_1%3a6.0.0-1_amd64.deb ...\n",
      "Unpacking libxfixes-dev:amd64 (1:6.0.0-1) ...\n",
      "Selecting previously unselected package libxi-dev:amd64.\n",
      "Preparing to unpack .../028-libxi-dev_2%3a1.8-1build1_amd64.deb ...\n",
      "Unpacking libxi-dev:amd64 (2:1.8-1build1) ...\n",
      "Selecting previously unselected package cuda-nvrtc-9-0.\n",
      "Preparing to unpack .../029-cuda-nvrtc-9-0_9.0.176-1_amd64.deb ...\n",
      "Unpacking cuda-nvrtc-9-0 (9.0.176-1) ...\n",
      "Selecting previously unselected package cuda-nvrtc-dev-9-0.\n",
      "Preparing to unpack .../030-cuda-nvrtc-dev-9-0_9.0.176-1_amd64.deb ...\n",
      "Unpacking cuda-nvrtc-dev-9-0 (9.0.176-1) ...\n",
      "Selecting previously unselected package cuda-cusolver-9-0.\n",
      "Preparing to unpack .../031-cuda-cusolver-9-0_9.0.176-1_amd64.deb ...\n",
      "Unpacking cuda-cusolver-9-0 (9.0.176-1) ...\n",
      "Selecting previously unselected package cuda-cusolver-dev-9-0.\n",
      "Preparing to unpack .../032-cuda-cusolver-dev-9-0_9.0.176-1_amd64.deb ...\n",
      "Unpacking cuda-cusolver-dev-9-0 (9.0.176-1) ...\n",
      "Selecting previously unselected package cuda-cublas-9-0.\n",
      "Preparing to unpack .../033-cuda-cublas-9-0_9.0.176-1_amd64.deb ...\n",
      "Unpacking cuda-cublas-9-0 (9.0.176-1) ...\n",
      "Selecting previously unselected package cuda-cublas-dev-9-0.\n",
      "Preparing to unpack .../034-cuda-cublas-dev-9-0_9.0.176-1_amd64.deb ...\n",
      "Unpacking cuda-cublas-dev-9-0 (9.0.176-1) ...\n",
      "Selecting previously unselected package cuda-cufft-9-0.\n",
      "Preparing to unpack .../035-cuda-cufft-9-0_9.0.176-1_amd64.deb ...\n",
      "Unpacking cuda-cufft-9-0 (9.0.176-1) ...\n",
      "Selecting previously unselected package cuda-cufft-dev-9-0.\n",
      "Preparing to unpack .../036-cuda-cufft-dev-9-0_9.0.176-1_amd64.deb ...\n",
      "Unpacking cuda-cufft-dev-9-0 (9.0.176-1) ...\n",
      "Selecting previously unselected package cuda-curand-9-0.\n",
      "Preparing to unpack .../037-cuda-curand-9-0_9.0.176-1_amd64.deb ...\n",
      "Unpacking cuda-curand-9-0 (9.0.176-1) ...\n",
      "Selecting previously unselected package cuda-curand-dev-9-0.\n",
      "Preparing to unpack .../038-cuda-curand-dev-9-0_9.0.176-1_amd64.deb ...\n",
      "Unpacking cuda-curand-dev-9-0 (9.0.176-1) ...\n",
      "Selecting previously unselected package cuda-cusparse-9-0.\n",
      "Preparing to unpack .../039-cuda-cusparse-9-0_9.0.176-1_amd64.deb ...\n",
      "Unpacking cuda-cusparse-9-0 (9.0.176-1) ...\n",
      "Selecting previously unselected package cuda-cusparse-dev-9-0.\n",
      "Preparing to unpack .../040-cuda-cusparse-dev-9-0_9.0.176-1_amd64.deb ...\n",
      "Unpacking cuda-cusparse-dev-9-0 (9.0.176-1) ...\n",
      "Selecting previously unselected package cuda-npp-9-0.\n",
      "Preparing to unpack .../041-cuda-npp-9-0_9.0.176-1_amd64.deb ...\n",
      "Unpacking cuda-npp-9-0 (9.0.176-1) ...\n",
      "Selecting previously unselected package cuda-npp-dev-9-0.\n",
      "Preparing to unpack .../042-cuda-npp-dev-9-0_9.0.176-1_amd64.deb ...\n",
      "Unpacking cuda-npp-dev-9-0 (9.0.176-1) ...\n",
      "Selecting previously unselected package cuda-nvgraph-9-0.\n",
      "Preparing to unpack .../043-cuda-nvgraph-9-0_9.0.176-1_amd64.deb ...\n",
      "Unpacking cuda-nvgraph-9-0 (9.0.176-1) ...\n",
      "Selecting previously unselected package cuda-nvgraph-dev-9-0.\n",
      "Preparing to unpack .../044-cuda-nvgraph-dev-9-0_9.0.176-1_amd64.deb ...\n",
      "Unpacking cuda-nvgraph-dev-9-0 (9.0.176-1) ...\n",
      "Selecting previously unselected package cuda-samples-9-0.\n",
      "Preparing to unpack .../045-cuda-samples-9-0_9.0.176-1_amd64.deb ...\n",
      "Unpacking cuda-samples-9-0 (9.0.176-1) ...\n",
      "Selecting previously unselected package cuda-documentation-9-0.\n",
      "Preparing to unpack .../046-cuda-documentation-9-0_9.0.176-1_amd64.deb ...\n",
      "Unpacking cuda-documentation-9-0 (9.0.176-1) ...\n",
      "Selecting previously unselected package cuda-libraries-dev-9-0.\n",
      "Preparing to unpack .../047-cuda-libraries-dev-9-0_9.0.176-1_amd64.deb ...\n",
      "Unpacking cuda-libraries-dev-9-0 (9.0.176-1) ...\n",
      "Selecting previously unselected package cuda-nvml-dev-9-0.\n",
      "Preparing to unpack .../048-cuda-nvml-dev-9-0_9.0.176-1_amd64.deb ...\n",
      "Unpacking cuda-nvml-dev-9-0 (9.0.176-1) ...\n",
      "Selecting previously unselected package default-jre-headless.\n",
      "Preparing to unpack .../049-default-jre-headless_2%3a1.11-72build2_amd64.deb ...\n",
      "Unpacking default-jre-headless (2:1.11-72build2) ...\n",
      "Selecting previously unselected package libxtst6:amd64.\n",
      "Preparing to unpack .../050-libxtst6_2%3a1.2.3-1build4_amd64.deb ...\n",
      "Unpacking libxtst6:amd64 (2:1.2.3-1build4) ...\n",
      "Selecting previously unselected package openjdk-11-jre:amd64.\n",
      "Preparing to unpack .../051-openjdk-11-jre_11.0.25+9-1ubuntu1~22.04_amd64.deb ...\n",
      "Unpacking openjdk-11-jre:amd64 (11.0.25+9-1ubuntu1~22.04) ...\n",
      "Selecting previously unselected package default-jre.\n",
      "Preparing to unpack .../052-default-jre_2%3a1.11-72build2_amd64.deb ...\n",
      "Unpacking default-jre (2:1.11-72build2) ...\n",
      "Selecting previously unselected package cuda-visual-tools-9-0.\n",
      "Preparing to unpack .../053-cuda-visual-tools-9-0_9.0.176-1_amd64.deb ...\n",
      "Unpacking cuda-visual-tools-9-0 (9.0.176-1) ...\n",
      "Selecting previously unselected package cuda-toolkit-9-0.\n",
      "Preparing to unpack .../054-cuda-toolkit-9-0_9.0.176-1_amd64.deb ...\n",
      "Unpacking cuda-toolkit-9-0 (9.0.176-1) ...\n",
      "Selecting previously unselected package libnvidia-common-565.\n",
      "Preparing to unpack .../055-libnvidia-common-565_565.57.01-0ubuntu1_all.deb ...\n",
      "Unpacking libnvidia-common-565 (565.57.01-0ubuntu1) ...\n",
      "Selecting previously unselected package libnvidia-decode-565:amd64.\n",
      "Preparing to unpack .../056-libnvidia-decode-565_565.57.01-0ubuntu1_amd64.deb ...\n",
      "Unpacking libnvidia-decode-565:amd64 (565.57.01-0ubuntu1) ...\n",
      "Selecting previously unselected package libnvidia-compute-565:amd64.\n",
      "Preparing to unpack .../057-libnvidia-compute-565_565.57.01-0ubuntu1_amd64.deb ...\n",
      "Unpacking libnvidia-compute-565:amd64 (565.57.01-0ubuntu1) ...\n",
      "Selecting previously unselected package libnvidia-gl-565:amd64.\n",
      "Preparing to unpack .../058-libnvidia-gl-565_565.57.01-0ubuntu1_amd64.deb ...\n",
      "dpkg-query: no packages found matching libnvidia-gl-535\n",
      "Unpacking libnvidia-gl-565:amd64 (565.57.01-0ubuntu1) ...\n",
      "Selecting previously unselected package nvidia-kernel-source-565.\n",
      "Preparing to unpack .../059-nvidia-kernel-source-565_565.57.01-0ubuntu1_amd64.deb ...\n",
      "Unpacking nvidia-kernel-source-565 (565.57.01-0ubuntu1) ...\n",
      "Selecting previously unselected package nvidia-firmware-565-565.57.01.\n",
      "Preparing to unpack .../060-nvidia-firmware-565-565.57.01_565.57.01-0ubuntu1_amd64.deb ...\n",
      "Unpacking nvidia-firmware-565-565.57.01 (565.57.01-0ubuntu1) ...\n",
      "Selecting previously unselected package nvidia-modprobe.\n",
      "Preparing to unpack .../061-nvidia-modprobe_565.57.01-0ubuntu1_amd64.deb ...\n",
      "Unpacking nvidia-modprobe (565.57.01-0ubuntu1) ...\n",
      "Selecting previously unselected package nvidia-kernel-common-565.\n",
      "Preparing to unpack .../062-nvidia-kernel-common-565_565.57.01-0ubuntu1_amd64.deb ...\n",
      "Unpacking nvidia-kernel-common-565 (565.57.01-0ubuntu1) ...\n",
      "Selecting previously unselected package nvidia-dkms-565.\n",
      "Preparing to unpack .../063-nvidia-dkms-565_565.57.01-0ubuntu1_amd64.deb ...\n",
      "Unpacking nvidia-dkms-565 (565.57.01-0ubuntu1) ...\n",
      "Selecting previously unselected package libnvidia-extra-565:amd64.\n",
      "Preparing to unpack .../064-libnvidia-extra-565_565.57.01-0ubuntu1_amd64.deb ...\n",
      "Unpacking libnvidia-extra-565:amd64 (565.57.01-0ubuntu1) ...\n",
      "Selecting previously unselected package nvidia-compute-utils-565.\n",
      "Preparing to unpack .../065-nvidia-compute-utils-565_565.57.01-0ubuntu1_amd64.deb ...\n",
      "Unpacking nvidia-compute-utils-565 (565.57.01-0ubuntu1) ...\n",
      "Selecting previously unselected package libnvidia-encode-565:amd64.\n",
      "Preparing to unpack .../066-libnvidia-encode-565_565.57.01-0ubuntu1_amd64.deb ...\n",
      "Unpacking libnvidia-encode-565:amd64 (565.57.01-0ubuntu1) ...\n",
      "Selecting previously unselected package nvidia-utils-565.\n",
      "Preparing to unpack .../067-nvidia-utils-565_565.57.01-0ubuntu1_amd64.deb ...\n",
      "Unpacking nvidia-utils-565 (565.57.01-0ubuntu1) ...\n",
      "Selecting previously unselected package libnvidia-cfg1-565:amd64.\n",
      "Preparing to unpack .../068-libnvidia-cfg1-565_565.57.01-0ubuntu1_amd64.deb ...\n",
      "Unpacking libnvidia-cfg1-565:amd64 (565.57.01-0ubuntu1) ...\n",
      "Selecting previously unselected package libxkbfile1:amd64.\n",
      "Preparing to unpack .../069-libxkbfile1_1%3a1.1.0-1build3_amd64.deb ...\n",
      "Unpacking libxkbfile1:amd64 (1:1.1.0-1build3) ...\n",
      "Selecting previously unselected package x11-xkb-utils.\n",
      "Preparing to unpack .../070-x11-xkb-utils_7.7+5build4_amd64.deb ...\n",
      "Unpacking x11-xkb-utils (7.7+5build4) ...\n",
      "Selecting previously unselected package xserver-common.\n",
      "Preparing to unpack .../071-xserver-common_2%3a21.1.4-2ubuntu1.7~22.04.12_all.deb ...\n",
      "Unpacking xserver-common (2:21.1.4-2ubuntu1.7~22.04.12) ...\n",
      "Selecting previously unselected package libxcvt0:amd64.\n",
      "Preparing to unpack .../072-libxcvt0_0.1.1-3_amd64.deb ...\n",
      "Unpacking libxcvt0:amd64 (0.1.1-3) ...\n",
      "Selecting previously unselected package libfontenc1:amd64.\n",
      "Preparing to unpack .../073-libfontenc1_1%3a1.1.4-1build3_amd64.deb ...\n",
      "Unpacking libfontenc1:amd64 (1:1.1.4-1build3) ...\n",
      "Selecting previously unselected package libxfont2:amd64.\n",
      "Preparing to unpack .../074-libxfont2_1%3a2.0.5-1build1_amd64.deb ...\n",
      "Unpacking libxfont2:amd64 (1:2.0.5-1build1) ...\n",
      "Selecting previously unselected package xserver-xorg-core.\n",
      "Preparing to unpack .../075-xserver-xorg-core_2%3a21.1.4-2ubuntu1.7~22.04.12_amd64.deb ...\n",
      "Unpacking xserver-xorg-core (2:21.1.4-2ubuntu1.7~22.04.12) ...\n",
      "Selecting previously unselected package xserver-xorg-video-nvidia-565.\n",
      "Preparing to unpack .../076-xserver-xorg-video-nvidia-565_565.57.01-0ubuntu1_amd64.deb ...\n",
      "Unpacking xserver-xorg-video-nvidia-565 (565.57.01-0ubuntu1) ...\n",
      "Selecting previously unselected package libnvidia-fbc1-565:amd64.\n",
      "Preparing to unpack .../077-libnvidia-fbc1-565_565.57.01-0ubuntu1_amd64.deb ...\n",
      "Unpacking libnvidia-fbc1-565:amd64 (565.57.01-0ubuntu1) ...\n",
      "Selecting previously unselected package nvidia-driver-565.\n",
      "Preparing to unpack .../078-nvidia-driver-565_565.57.01-0ubuntu1_amd64.deb ...\n",
      "Unpacking nvidia-driver-565 (565.57.01-0ubuntu1) ...\n",
      "Selecting previously unselected package cuda-drivers-565.\n",
      "Preparing to unpack .../079-cuda-drivers-565_565.57.01-0ubuntu1_amd64.deb ...\n",
      "Unpacking cuda-drivers-565 (565.57.01-0ubuntu1) ...\n",
      "Selecting previously unselected package cuda-drivers.\n",
      "Preparing to unpack .../080-cuda-drivers_565.57.01-0ubuntu1_amd64.deb ...\n",
      "Unpacking cuda-drivers (565.57.01-0ubuntu1) ...\n",
      "Selecting previously unselected package cuda-libraries-9-0.\n",
      "Preparing to unpack .../081-cuda-libraries-9-0_9.0.176-1_amd64.deb ...\n",
      "Unpacking cuda-libraries-9-0 (9.0.176-1) ...\n",
      "Selecting previously unselected package cuda-runtime-9-0.\n",
      "Preparing to unpack .../082-cuda-runtime-9-0_9.0.176-1_amd64.deb ...\n",
      "Unpacking cuda-runtime-9-0 (9.0.176-1) ...\n",
      "Selecting previously unselected package cuda-demo-suite-9-0.\n",
      "Preparing to unpack .../083-cuda-demo-suite-9-0_9.0.176-1_amd64.deb ...\n",
      "Unpacking cuda-demo-suite-9-0 (9.0.176-1) ...\n",
      "Selecting previously unselected package cuda-9-0.\n",
      "Preparing to unpack .../084-cuda-9-0_9.0.176-1_amd64.deb ...\n",
      "Unpacking cuda-9-0 (9.0.176-1) ...\n",
      "Selecting previously unselected package libfakeroot:amd64.\n",
      "Preparing to unpack .../085-libfakeroot_1.28-1ubuntu1_amd64.deb ...\n",
      "Unpacking libfakeroot:amd64 (1.28-1ubuntu1) ...\n",
      "Selecting previously unselected package fakeroot.\n",
      "Preparing to unpack .../086-fakeroot_1.28-1ubuntu1_amd64.deb ...\n",
      "Unpacking fakeroot (1.28-1ubuntu1) ...\n",
      "Selecting previously unselected package fonts-dejavu-core.\n",
      "Preparing to unpack .../087-fonts-dejavu-core_2.37-2build1_all.deb ...\n",
      "Unpacking fonts-dejavu-core (2.37-2build1) ...\n",
      "Selecting previously unselected package fonts-dejavu-extra.\n",
      "Preparing to unpack .../088-fonts-dejavu-extra_2.37-2build1_all.deb ...\n",
      "Unpacking fonts-dejavu-extra (2.37-2build1) ...\n",
      "Selecting previously unselected package libxxf86dga1:amd64.\n",
      "Preparing to unpack .../089-libxxf86dga1_2%3a1.1.5-0ubuntu3_amd64.deb ...\n",
      "Unpacking libxxf86dga1:amd64 (2:1.1.5-0ubuntu3) ...\n",
      "Selecting previously unselected package x11-utils.\n",
      "Preparing to unpack .../090-x11-utils_7.7+5build2_amd64.deb ...\n",
      "Unpacking x11-utils (7.7+5build2) ...\n",
      "Selecting previously unselected package libatk-wrapper-java.\n",
      "Preparing to unpack .../091-libatk-wrapper-java_0.38.0-5build1_all.deb ...\n",
      "Unpacking libatk-wrapper-java (0.38.0-5build1) ...\n",
      "Selecting previously unselected package libatk-wrapper-java-jni:amd64.\n",
      "Preparing to unpack .../092-libatk-wrapper-java-jni_0.38.0-5build1_amd64.deb ...\n",
      "Unpacking libatk-wrapper-java-jni:amd64 (0.38.0-5build1) ...\n",
      "Selecting previously unselected package libgtk2.0-common.\n",
      "Preparing to unpack .../093-libgtk2.0-common_2.24.33-2ubuntu2.1_all.deb ...\n",
      "Unpacking libgtk2.0-common (2.24.33-2ubuntu2.1) ...\n",
      "Selecting previously unselected package libgtk2.0-0:amd64.\n",
      "Preparing to unpack .../094-libgtk2.0-0_2.24.33-2ubuntu2.1_amd64.deb ...\n",
      "Unpacking libgtk2.0-0:amd64 (2.24.33-2ubuntu2.1) ...\n",
      "Selecting previously unselected package libgail18:amd64.\n",
      "Preparing to unpack .../095-libgail18_2.24.33-2ubuntu2.1_amd64.deb ...\n",
      "Unpacking libgail18:amd64 (2.24.33-2ubuntu2.1) ...\n",
      "Selecting previously unselected package libgail-common:amd64.\n",
      "Preparing to unpack .../096-libgail-common_2.24.33-2ubuntu2.1_amd64.deb ...\n",
      "Unpacking libgail-common:amd64 (2.24.33-2ubuntu2.1) ...\n",
      "Selecting previously unselected package libgtk2.0-bin.\n",
      "Preparing to unpack .../097-libgtk2.0-bin_2.24.33-2ubuntu2.1_amd64.deb ...\n",
      "Unpacking libgtk2.0-bin (2.24.33-2ubuntu2.1) ...\n",
      "Selecting previously unselected package librsvg2-common:amd64.\n",
      "Preparing to unpack .../098-librsvg2-common_2.52.5+dfsg-3ubuntu0.2_amd64.deb ...\n",
      "Unpacking librsvg2-common:amd64 (2.52.5+dfsg-3ubuntu0.2) ...\n",
      "Selecting previously unselected package nvidia-prime.\n",
      "Preparing to unpack .../099-nvidia-prime_0.8.17.1_all.deb ...\n",
      "Unpacking nvidia-prime (0.8.17.1) ...\n",
      "Selecting previously unselected package python3-xkit.\n",
      "Preparing to unpack .../100-python3-xkit_0.5.0ubuntu5_all.deb ...\n",
      "Unpacking python3-xkit (0.5.0ubuntu5) ...\n",
      "Selecting previously unselected package screen-resolution-extra.\n",
      "Preparing to unpack .../101-screen-resolution-extra_0.18.2_all.deb ...\n",
      "Unpacking screen-resolution-extra (0.18.2) ...\n",
      "Selecting previously unselected package nvidia-settings.\n",
      "Preparing to unpack .../102-nvidia-settings_565.57.01-0ubuntu1_amd64.deb ...\n",
      "Unpacking nvidia-settings (565.57.01-0ubuntu1) ...\n",
      "Selecting previously unselected package systemd-hwe-hwdb.\n",
      "Preparing to unpack .../103-systemd-hwe-hwdb_249.11.5_all.deb ...\n",
      "Unpacking systemd-hwe-hwdb (249.11.5) ...\n",
      "Selecting previously unselected package xcvt.\n",
      "Preparing to unpack .../104-xcvt_0.1.1-3_amd64.deb ...\n",
      "Unpacking xcvt (0.1.1-3) ...\n",
      "Selecting previously unselected package xfonts-encodings.\n",
      "Preparing to unpack .../105-xfonts-encodings_1%3a1.0.5-0ubuntu2_all.deb ...\n",
      "Unpacking xfonts-encodings (1:1.0.5-0ubuntu2) ...\n",
      "Selecting previously unselected package xfonts-utils.\n",
      "Preparing to unpack .../106-xfonts-utils_1%3a7.7+6build2_amd64.deb ...\n",
      "Unpacking xfonts-utils (1:7.7+6build2) ...\n",
      "Selecting previously unselected package xfonts-base.\n",
      "Preparing to unpack .../107-xfonts-base_1%3a1.0.5_all.deb ...\n",
      "Unpacking xfonts-base (1:1.0.5) ...\n",
      "Setting up libxmu-headers (2:1.1.3-3) ...\n",
      "Setting up cpp-12 (12.3.0-1ubuntu1~22.04) ...\n",
      "Setting up libnvidia-common-565 (565.57.01-0ubuntu1) ...\n",
      "Setting up freeglut3:amd64 (2.8.1-6) ...\n",
      "Setting up default-jre-headless (2:1.11-72build2) ...\n",
      "Setting up libglvnd-core-dev:amd64 (1.4.0-1) ...\n",
      "Setting up libice-dev:amd64 (2:1.0.10-1build2) ...\n",
      "Setting up libnvidia-cfg1-565:amd64 (565.57.01-0ubuntu1) ...\n",
      "Setting up libsm-dev:amd64 (2:1.2.3-1build2) ...\n",
      "Setting up nvidia-prime (0.8.17.1) ...\n",
      "Setting up libxtst6:amd64 (2:1.2.3-1build4) ...\n",
      "Setting up nvidia-kernel-source-565 (565.57.01-0ubuntu1) ...\n",
      "Setting up nvidia-firmware-565-565.57.01 (565.57.01-0ubuntu1) ...\n",
      "Setting up libxxf86dga1:amd64 (2:1.1.5-0ubuntu3) ...\n",
      "Setting up openjdk-11-jre:amd64 (11.0.25+9-1ubuntu1~22.04) ...\n",
      "Setting up libnvidia-fbc1-565:amd64 (565.57.01-0ubuntu1) ...\n",
      "Setting up default-jre (2:1.11-72build2) ...\n",
      "Setting up libnvidia-extra-565:amd64 (565.57.01-0ubuntu1) ...\n",
      "Setting up libfakeroot:amd64 (1.28-1ubuntu1) ...\n",
      "Setting up libjansson4:amd64 (2.13.1-1.1build3) ...\n",
      "Setting up nvidia-modprobe (565.57.01-0ubuntu1) ...\n",
      "Setting up fakeroot (1.28-1ubuntu1) ...\n",
      "update-alternatives: using /usr/bin/fakeroot-sysv to provide /usr/bin/fakeroot (fakeroot) in auto mode\n",
      "Setting up libxfixes-dev:amd64 (1:6.0.0-1) ...\n",
      "Setting up libfontenc1:amd64 (1:1.1.4-1build3) ...\n",
      "Setting up libxt-dev:amd64 (1:1.2.1-1) ...\n",
      "Setting up libgles1:amd64 (1.4.0-1) ...\n",
      "Setting up xfonts-encodings (1:1.0.5-0ubuntu2) ...\n",
      "Setting up udev (249.11-0ubuntu3.12) ...\n",
      "invoke-rc.d: could not determine current runlevel\n",
      "invoke-rc.d: policy-rc.d denied execution of start.\n",
      "Setting up fonts-dejavu-core (2.37-2build1) ...\n",
      "Setting up librsvg2-common:amd64 (2.52.5+dfsg-3ubuntu0.2) ...\n",
      "Setting up nvidia-kernel-common-565 (565.57.01-0ubuntu1) ...\n",
      "Created symlink /etc/systemd/system/systemd-hibernate.service.wants/nvidia-hibernate.service → /lib/systemd/system/nvidia-hibernate.service.\n",
      "Created symlink /etc/systemd/system/systemd-suspend.service.wants/nvidia-resume.service → /lib/systemd/system/nvidia-resume.service.\n",
      "Created symlink /etc/systemd/system/systemd-hibernate.service.wants/nvidia-resume.service → /lib/systemd/system/nvidia-resume.service.\n",
      "Created symlink /etc/systemd/system/systemd-suspend.service.wants/nvidia-suspend.service → /lib/systemd/system/nvidia-suspend.service.\n",
      "Setting up systemd-hwe-hwdb (249.11.5) ...\n",
      "Setting up cuda-license-9-0 (9.0.176-1) ...\n",
      "*** LICENSE AGREEMENT ***\n",
      "By using this software you agree to fully comply with the terms and \n",
      "conditions of the EULA (End User License Agreement). The EULA is located\n",
      "at /usr/local/cuda-9.0/doc/EULA.txt. The EULA can also be found at\n",
      "http://docs.nvidia.com/cuda/eula/index.html. If you do not agree to the\n",
      "terms and conditions of the EULA, do not use the software.\n",
      "\n",
      "Setting up fonts-dejavu-extra (2.37-2build1) ...\n",
      "Setting up libasan8:amd64 (12.3.0-1ubuntu1~22.04) ...\n",
      "Setting up cuda-nvgraph-9-0 (9.0.176-1) ...\n",
      "Setting up libxcvt0:amd64 (0.1.1-3) ...\n",
      "Setting up libglx-dev:amd64 (1.4.0-1) ...\n",
      "Setting up libgtk2.0-common (2.24.33-2ubuntu2.1) ...\n",
      "Setting up libglu1-mesa:amd64 (9.0.2-1) ...\n",
      "Setting up libxkbfile1:amd64 (1:1.1.0-1build3) ...\n",
      "Setting up libtsan2:amd64 (12.3.0-1ubuntu1~22.04) ...\n",
      "Setting up cuda-npp-9-0 (9.0.176-1) ...\n",
      "Setting up libopengl-dev:amd64 (1.4.0-1) ...\n",
      "Setting up cuda-cusolver-9-0 (9.0.176-1) ...\n",
      "Setting up libxi-dev:amd64 (2:1.8-1build1) ...\n",
      "Setting up python3-xkit (0.5.0ubuntu5) ...\n",
      "Setting up libxfont2:amd64 (1:2.0.5-1build1) ...\n",
      "Setting up cuda-cusolver-dev-9-0 (9.0.176-1) ...\n",
      "Setting up libgl-dev:amd64 (1.4.0-1) ...\n",
      "Setting up liblocale-gettext-perl (1.07-4build3) ...\n",
      "Setting up dctrl-tools (2.24-3build2) ...\n",
      "Setting up cuda-misc-headers-9-0 (9.0.176-1) ...\n",
      "Setting up cuda-cufft-9-0 (9.0.176-1) ...\n",
      "Setting up libegl-dev:amd64 (1.4.0-1) ...\n",
      "Setting up cuda-nvrtc-9-0 (9.0.176-1) ...\n",
      "Setting up cuda-core-9-0 (9.0.176-1) ...\n",
      "Setting up x11-xkb-utils (7.7+5build4) ...\n",
      "Setting up libgtk2.0-0:amd64 (2.24.33-2ubuntu2.1) ...\n",
      "Setting up cuda-cudart-9-0 (9.0.176-1) ...\n",
      "Setting up cuda-curand-9-0 (9.0.176-1) ...\n",
      "Setting up libxmu-dev:amd64 (2:1.1.3-3) ...\n",
      "Setting up xfonts-utils (1:7.7+6build2) ...\n",
      "Setting up cuda-cufft-dev-9-0 (9.0.176-1) ...\n",
      "Setting up cuda-cusparse-9-0 (9.0.176-1) ...\n",
      "Setting up xcvt (0.1.1-3) ...\n",
      "Setting up cuda-driver-dev-9-0 (9.0.176-1) ...\n",
      "Setting up xfonts-base (1:1.0.5) ...\n",
      "Setting up libgcc-12-dev:amd64 (12.3.0-1ubuntu1~22.04) ...\n",
      "Setting up cuda-cublas-9-0 (9.0.176-1) ...\n",
      "Setting up cuda-npp-dev-9-0 (9.0.176-1) ...\n",
      "Setting up libglu1-mesa-dev:amd64 (9.0.2-1) ...\n",
      "Setting up cuda-nvml-dev-9-0 (9.0.176-1) ...\n",
      "Setting up cuda-nvgraph-dev-9-0 (9.0.176-1) ...\n",
      "Setting up screen-resolution-extra (0.18.2) ...\n",
      "Setting up libgail18:amd64 (2.24.33-2ubuntu2.1) ...\n",
      "Setting up libgtk2.0-bin (2.24.33-2ubuntu2.1) ...\n",
      "Setting up x11-utils (7.7+5build2) ...\n",
      "Setting up nvidia-settings (565.57.01-0ubuntu1) ...\n",
      "Setting up libatk-wrapper-java (0.38.0-5build1) ...\n",
      "Setting up xserver-common (2:21.1.4-2ubuntu1.7~22.04.12) ...\n",
      "Setting up keyboard-configuration (1.205ubuntu3) ...\n",
      "debconf: unable to initialize frontend: Dialog\n",
      "debconf: (No usable dialog-like program is installed, so the dialog based frontend cannot be used. at /usr/share/perl5/Debconf/FrontEnd/Dialog.pm line 78.)\n",
      "debconf: falling back to frontend: Readline\n",
      "Configuring keyboard-configuration\n",
      "----------------------------------\n",
      "\n",
      "The layout of keyboards varies per country, with some countries having multiple\n",
      "common layouts. Please select the country of origin for the keyboard of this\n",
      "computer.\n",
      "\n",
      "  1. Afghani\n",
      "  2. Albanian\n",
      "  3. Amharic\n",
      "  4. Arabic\n",
      "  5. Arabic (Morocco)\n",
      "  6. Arabic (Syria)\n",
      "  7. Armenian\n",
      "  8. A user-defined custom Layout\n",
      "  9. Azerbaijani\n",
      "  10. Bambara\n",
      "  11. Bangla\n",
      "  12. Belarusian\n",
      "  13. Belgian\n",
      "  14. Berber (Algeria, Latin)\n",
      "  15. Bosnian\n",
      "  16. Braille\n",
      "  17. Bulgarian\n",
      "  18. Burmese\n",
      "  19. Chinese\n",
      "  20. Croatian\n",
      "  21. Czech\n",
      "  22. Danish\n",
      "  23. Dhivehi\n",
      "  24. Dutch\n",
      "  25. Dzongkha\n",
      "  26. English (Australian)\n",
      "  27. English (Cameroon)\n",
      "  28. English (Ghana)\n",
      "  29. English (Nigeria)\n",
      "  30. English (South Africa)\n",
      "  31. English (UK)\n",
      "  32. English (US)\n",
      "  33. Esperanto\n",
      "  34. Estonian\n",
      "  35. Faroese\n",
      "  36. Filipino\n",
      "  37. Finnish\n",
      "  38. French\n",
      "  39. French (Canada)\n",
      "  40. French (Democratic Republic of the Congo)\n",
      "  41. French (Togo)\n",
      "  42. Georgian\n",
      "  43. German\n",
      "  44. German (Austria)\n",
      "  45. Greek\n",
      "  46. Hebrew\n",
      "  47. Hungarian\n",
      "  48. Icelandic\n",
      "  49. Indian\n",
      "  50. Indonesian (Javanese)\n",
      "  51. Indonesian (Latin)\n",
      "  52. Iraqi\n",
      "  53. Irish\n",
      "  54. Italian\n",
      "  55. Japanese\n",
      "  56. Japanese (PC-98)\n",
      "  57. Kazakh\n",
      "  58. Khmer (Cambodia)\n",
      "  59. Korean\n",
      "  60. Kyrgyz\n",
      "  61. Lao\n",
      "  62. Latvian\n",
      "  63. Lithuanian\n",
      "  64. Macedonian\n",
      "  65. Malay (Jawi, Arabic Keyboard)\n",
      "  66. Maltese\n",
      "  67. Maori\n",
      "  68. Moldavian\n",
      "  69. Mongolian\n",
      "  70. Montenegrin\n",
      "  71. Nepali\n",
      "  72. NKo (AZERTY)\n",
      "  73. Norwegian\n",
      "  74. Persian\n",
      "  75. Polish\n",
      "  76. Portuguese\n",
      "  77. Portuguese (Brazil)\n",
      "  78. Romanian\n",
      "  79. Russian\n",
      "  80. Serbian\n",
      "  81. Sinhala (phonetic)\n",
      "  82. Slovak\n",
      "  83. Slovenian\n",
      "  84. Spanish\n",
      "  85. Spanish (Latin American)\n",
      "  86. Swahili (Kenya)\n",
      "  87. Swahili (Tanzania)\n",
      "  88. Swedish\n",
      "  89. Switzerland\n",
      "  90. Taiwanese\n",
      "  91. Tajik\n",
      "  92. Thai\n",
      "  93. Tswana\n",
      "  94. Turkish\n",
      "  95. Turkmen\n",
      "  96. Ukrainian\n",
      "  97. Urdu (Pakistan)\n",
      "  98. Uzbek\n",
      "  99. Vietnamese\n",
      "  100. Wolof\n",
      "\u001b[4mCountry of origin for the keyboard: \u001b[m\u001b[1m32\n",
      "\u001b[m\u001b[m\n",
      "Please select the layout matching the keyboard for this machine.\n",
      "\n",
      "  1. English (US)\n",
      "  2. English (US) - Cherokee\n",
      "  3. English (US) - English (classic Dvorak)\n",
      "  4. English (US) - English (Colemak)\n",
      "  5. English (US) - English (Colemak-DH)\n",
      "  6. English (US) - English (Colemak-DH ISO)\n",
      "  7. English (US) - English (Dvorak)\n",
      "  8. English (US) - English (Dvorak, alt. intl.)\n",
      "  9. English (US) - English (Dvorak, intl., with dead keys)\n",
      "  10. English (US) - English (Dvorak, left-handed)\n",
      "  11. English (US) - English (Dvorak, right-handed)\n",
      "  12. English (US) - English (intl., with AltGr dead keys)\n",
      "  13. English (US) - English (Macintosh)\n",
      "  14. English (US) - English (Norman)\n",
      "  15. English (US) - English (programmer Dvorak)\n",
      "  16. English (US) - English (the divide/multiply toggle the layout)\n",
      "  17. English (US) - English (US, alt. intl.)\n",
      "  18. English (US) - English (US, euro on 5)\n",
      "  19. English (US) - English (US, intl., with dead keys)\n",
      "  20. English (US) - English (US, Symbolic)\n",
      "  21. English (US) - English (Workman)\n",
      "  22. English (US) - English (Workman, intl., with dead keys)\n",
      "  23. English (US) - Hawaiian\n",
      "  24. English (US) - Russian (US, phonetic)\n",
      "  25. English (US) - Serbo-Croatian (US)\n",
      "\u001b[4mKeyboard layout: \u001b[m\u001b[1m18\n",
      "\u001b[m\u001b[m\n",
      "Your console font configuration will be updated the next time your system\n",
      "boots. If you want to update it now, run 'setupcon' from a virtual console.\n",
      "Setting up libgles-dev:amd64 (1.4.0-1) ...\n",
      "Setting up cuda-cublas-dev-9-0 (9.0.176-1) ...\n",
      "Setting up cuda-nvrtc-dev-9-0 (9.0.176-1) ...\n",
      "Setting up cuda-libraries-9-0 (9.0.176-1) ...\n",
      "Setting up cuda-cudart-dev-9-0 (9.0.176-1) ...\n",
      "Setting up libgail-common:amd64 (2.24.33-2ubuntu2.1) ...\n",
      "Setting up cuda-curand-dev-9-0 (9.0.176-1) ...\n",
      "Setting up xserver-xorg-core (2:21.1.4-2ubuntu1.7~22.04.12) ...\n",
      "Setting up libglvnd-dev:amd64 (1.4.0-1) ...\n",
      "Setting up cuda-command-line-tools-9-0 (9.0.176-1) ...\n",
      "Setting up cuda-cusparse-dev-9-0 (9.0.176-1) ...\n",
      "Setting up libatk-wrapper-java-jni:amd64 (0.38.0-5build1) ...\n",
      "Setting up gcc-12 (12.3.0-1ubuntu1~22.04) ...\n",
      "Setting up cuda-visual-tools-9-0 (9.0.176-1) ...\n",
      "Setting up libgl1-mesa-dev:amd64 (23.2.1-1ubuntu3.1~22.04.2) ...\n",
      "Setting up xserver-xorg-video-nvidia-565 (565.57.01-0ubuntu1) ...\n",
      "Setting up cuda-libraries-dev-9-0 (9.0.176-1) ...\n",
      "Setting up dkms (2.8.7-2ubuntu2.2) ...\n",
      "Setting up freeglut3-dev:amd64 (2.8.1-6) ...\n",
      "Setting up nvidia-dkms-565 (565.57.01-0ubuntu1) ...\n",
      "debconf: unable to initialize frontend: Dialog\n",
      "debconf: (No usable dialog-like program is installed, so the dialog based frontend cannot be used. at /usr/share/perl5/Debconf/FrontEnd/Dialog.pm line 78.)\n",
      "debconf: falling back to frontend: Readline\n",
      "Loading new nvidia-565.57.01 DKMS files...\n",
      "It is likely that 6.1.85+ belongs to a chroot's host\n",
      "Building for 5.15.0-126-generic\n",
      "Building for architecture x86_64\n",
      "Building initial module for 5.15.0-126-generic\n",
      "Done.\n",
      "\n",
      "nvidia.ko:\n",
      "Running module version sanity check.\n",
      " - Original module\n",
      "   - No original module exists within this kernel\n",
      " - Installation\n",
      "   - Installing to /lib/modules/5.15.0-126-generic/updates/dkms/\n",
      "\n",
      "nvidia-modeset.ko:\n",
      "Running module version sanity check.\n",
      " - Original module\n",
      "   - No original module exists within this kernel\n",
      " - Installation\n",
      "   - Installing to /lib/modules/5.15.0-126-generic/updates/dkms/\n",
      "\n",
      "nvidia-drm.ko:\n",
      "Running module version sanity check.\n",
      " - Original module\n",
      "   - No original module exists within this kernel\n",
      " - Installation\n",
      "   - Installing to /lib/modules/5.15.0-126-generic/updates/dkms/\n",
      "\n",
      "nvidia-uvm.ko:\n",
      "Running module version sanity check.\n",
      " - Original module\n",
      "   - No original module exists within this kernel\n",
      " - Installation\n",
      "   - Installing to /lib/modules/5.15.0-126-generic/updates/dkms/\n",
      "\n",
      "nvidia-peermem.ko:\n",
      "Running module version sanity check.\n",
      " - Original module\n",
      "   - No original module exists within this kernel\n",
      " - Installation\n",
      "   - Installing to /lib/modules/5.15.0-126-generic/updates/dkms/\n",
      "\n",
      "depmod...\n",
      "Setting up cuda-samples-9-0 (9.0.176-1) ...\n",
      "Setting up cuda-documentation-9-0 (9.0.176-1) ...\n",
      "Setting up cuda-toolkit-9-0 (9.0.176-1) ...\n",
      "Setting up libnvidia-decode-565:amd64 (565.57.01-0ubuntu1) ...\n",
      "Setting up libnvidia-compute-565:amd64 (565.57.01-0ubuntu1) ...\n",
      "Setting up libnvidia-gl-565:amd64 (565.57.01-0ubuntu1) ...\n",
      "Setting up libnvidia-encode-565:amd64 (565.57.01-0ubuntu1) ...\n",
      "Setting up nvidia-utils-565 (565.57.01-0ubuntu1) ...\n",
      "Setting up nvidia-compute-utils-565 (565.57.01-0ubuntu1) ...\n",
      "Setting up nvidia-driver-565 (565.57.01-0ubuntu1) ...\n",
      "Setting up cuda-drivers-565 (565.57.01-0ubuntu1) ...\n",
      "Setting up cuda-drivers (565.57.01-0ubuntu1) ...\n",
      "Setting up cuda-runtime-9-0 (9.0.176-1) ...\n",
      "Setting up cuda-demo-suite-9-0 (9.0.176-1) ...\n",
      "Setting up cuda-9-0 (9.0.176-1) ...\n",
      "Processing triggers for libgdk-pixbuf-2.0-0:amd64 (2.42.8+dfsg-1ubuntu0.3) ...\n",
      "Processing triggers for fontconfig (2.13.1-4.2ubuntu5) ...\n",
      "Processing triggers for hicolor-icon-theme (0.17-2) ...\n",
      "Processing triggers for libc-bin (2.35-0ubuntu3.4) ...\n",
      "/sbin/ldconfig.real: /usr/local/lib/libtbb.so.12 is not a symbolic link\n",
      "\n",
      "/sbin/ldconfig.real: /usr/local/lib/libumf.so.0 is not a symbolic link\n",
      "\n",
      "/sbin/ldconfig.real: /usr/local/lib/libtbbmalloc.so.2 is not a symbolic link\n",
      "\n",
      "/sbin/ldconfig.real: /usr/local/lib/libur_loader.so.0 is not a symbolic link\n",
      "\n",
      "/sbin/ldconfig.real: /usr/local/lib/libtbbbind_2_5.so.3 is not a symbolic link\n",
      "\n",
      "/sbin/ldconfig.real: /usr/local/lib/libtcm_debug.so.1 is not a symbolic link\n",
      "\n",
      "/sbin/ldconfig.real: /usr/local/lib/libur_adapter_level_zero.so.0 is not a symbolic link\n",
      "\n",
      "/sbin/ldconfig.real: /usr/local/lib/libur_adapter_opencl.so.0 is not a symbolic link\n",
      "\n",
      "/sbin/ldconfig.real: /usr/local/lib/libtbbbind_2_0.so.3 is not a symbolic link\n",
      "\n",
      "/sbin/ldconfig.real: /usr/local/lib/libtbbmalloc_proxy.so.2 is not a symbolic link\n",
      "\n",
      "/sbin/ldconfig.real: /usr/local/lib/libtcm.so.1 is not a symbolic link\n",
      "\n",
      "/sbin/ldconfig.real: /usr/local/lib/libtbbbind.so.3 is not a symbolic link\n",
      "\n",
      "/sbin/ldconfig.real: /usr/local/lib/libhwloc.so.15 is not a symbolic link\n",
      "\n",
      "Processing triggers for man-db (2.10.2-1) ...\n"
     ]
    }
   ],
   "source": [
    "!DEBIAN_FRONTEND=noninteractive sudo apt-get install -y cuda-9.0"
   ]
  },
  {
   "cell_type": "code",
   "execution_count": 5,
   "metadata": {
    "colab": {
     "base_uri": "https://localhost:8080/"
    },
    "id": "IKa1YqNUVxVq",
    "outputId": "bc65aca5-84ae-4fc6-8d97-5b45338050b4"
   },
   "outputs": [
    {
     "name": "stdout",
     "output_type": "stream",
     "text": [
      "nvcc: NVIDIA (R) Cuda compiler driver\n",
      "Copyright (c) 2005-2017 NVIDIA Corporation\n",
      "Built on Fri_Sep__1_21:08:03_CDT_2017\n",
      "Cuda compilation tools, release 9.0, V9.0.176\n"
     ]
    }
   ],
   "source": [
    "!nvcc --version"
   ]
  },
  {
   "cell_type": "code",
   "execution_count": 6,
   "metadata": {
    "colab": {
     "base_uri": "https://localhost:8080/"
    },
    "id": "B46EQK0qVxVq",
    "outputId": "564a515a-099e-46d3-a47c-618d678d5bef"
   },
   "outputs": [
    {
     "name": "stdout",
     "output_type": "stream",
     "text": [
      "Collecting thundersvm\n",
      "  Downloading thundersvm-0.3.12-py3-none-any.whl.metadata (601 bytes)\n",
      "Requirement already satisfied: numpy in /usr/local/lib/python3.10/dist-packages (from thundersvm) (1.26.4)\n",
      "Requirement already satisfied: scipy in /usr/local/lib/python3.10/dist-packages (from thundersvm) (1.13.1)\n",
      "Requirement already satisfied: scikit-learn in /usr/local/lib/python3.10/dist-packages (from thundersvm) (1.5.2)\n",
      "Requirement already satisfied: joblib>=1.2.0 in /usr/local/lib/python3.10/dist-packages (from scikit-learn->thundersvm) (1.4.2)\n",
      "Requirement already satisfied: threadpoolctl>=3.1.0 in /usr/local/lib/python3.10/dist-packages (from scikit-learn->thundersvm) (3.5.0)\n",
      "Downloading thundersvm-0.3.12-py3-none-any.whl (507 kB)\n",
      "\u001b[2K   \u001b[90m━━━━━━━━━━━━━━━━━━━━━━━━━━━━━━━━━━━━━━━━\u001b[0m \u001b[32m507.4/507.4 kB\u001b[0m \u001b[31m9.1 MB/s\u001b[0m eta \u001b[36m0:00:00\u001b[0m\n",
      "\u001b[?25hInstalling collected packages: thundersvm\n",
      "Successfully installed thundersvm-0.3.12\n"
     ]
    }
   ],
   "source": [
    "!pip install thundersvm"
   ]
  },
  {
   "cell_type": "markdown",
   "metadata": {
    "id": "RnKFZ0e8VxVr"
   },
   "source": [
    "## Pre-processing"
   ]
  },
  {
   "cell_type": "code",
   "execution_count": 2,
   "metadata": {
    "id": "fT8vgKWzVxVs"
   },
   "outputs": [],
   "source": [
    "dtype = {\n",
    "    'ResponseID': 'category',\n",
    "    'UserID': 'int8',\n",
    "    'Intervention': 'int8',\n",
    "    'PedPed': 'int8',\n",
    "    'Barrier': 'int8',\n",
    "    'CrossingSignal': 'int8',\n",
    "    'AttributeLevel': 'category',\n",
    "    'ScenarioTypeStrict': 'category',\n",
    "    'NumberOfCharacters': 'int8',\n",
    "    'DiffNumberOFCharacters': 'int8',\n",
    "    'Saved': 'int8',\n",
    "    'Man': 'int8',\n",
    "    'Woman': 'int8',\n",
    "    'Pregnant': 'int8',\n",
    "    'Stroller': 'int8',\n",
    "    'OldMan': 'int8',\n",
    "    'OldWoman': 'int8',\n",
    "    'Boy': 'int8',\n",
    "    'Girl': 'int8',\n",
    "    'Homeless': 'int8',\n",
    "    'LargeWoman': 'int8',\n",
    "    'LargeMan': 'int8',\n",
    "    'Criminal': 'int8',\n",
    "    'MaleExecutive': 'int8',\n",
    "    'FemaleExecutive': 'int8',\n",
    "    'FemaleAthlete': 'int8',\n",
    "    'MaleAthlete': 'int8',\n",
    "    'FemaleDoctor': 'int8',\n",
    "    'MaleDoctor': 'int8',\n",
    "    'Dog': 'int8',\n",
    "    'Cat': 'int8'\n",
    "}\n"
   ]
  },
  {
   "cell_type": "code",
   "execution_count": 3,
   "metadata": {
    "id": "Ym2y8_bLVxVt"
   },
   "outputs": [],
   "source": [
    "dfnw = pd.read_csv('total_nw_50_dataset.csv', dtype=dtype)"
   ]
  },
  {
   "cell_type": "code",
   "execution_count": 4,
   "metadata": {
    "colab": {
     "base_uri": "https://localhost:8080/"
    },
    "id": "riikRT-SVxVt",
    "outputId": "80152e5f-b625-4b3b-b7f2-ece24097ba37"
   },
   "outputs": [
    {
     "data": {
      "text/plain": [
       "(500000, 31)"
      ]
     },
     "execution_count": 4,
     "metadata": {},
     "output_type": "execute_result"
    }
   ],
   "source": [
    "dfnw.shape"
   ]
  },
  {
   "cell_type": "code",
   "execution_count": 5,
   "metadata": {
    "colab": {
     "base_uri": "https://localhost:8080/"
    },
    "id": "O3DJBB5NVxVu",
    "outputId": "7aa2f3b3-7d38-4f96-ec2a-f3cad80387c4"
   },
   "outputs": [
    {
     "name": "stdout",
     "output_type": "stream",
     "text": [
      "Index(['ResponseID', 'UserID', 'Intervention', 'PedPed', 'Barrier',\n",
      "       'CrossingSignal', 'NumberOfCharacters', 'DiffNumberOFCharacters',\n",
      "       'Saved', 'Man', 'Woman', 'Pregnant', 'Stroller', 'OldMan', 'OldWoman',\n",
      "       'Boy', 'Girl', 'Homeless', 'LargeWoman', 'LargeMan', 'Criminal',\n",
      "       'MaleExecutive', 'FemaleExecutive', 'FemaleAthlete', 'MaleAthlete',\n",
      "       'FemaleDoctor', 'MaleDoctor', 'Dog', 'Cat', 'AttributeLevel_Fat',\n",
      "       'AttributeLevel_Female', 'AttributeLevel_Fit', 'AttributeLevel_High',\n",
      "       'AttributeLevel_Hoomans', 'AttributeLevel_Less', 'AttributeLevel_Low',\n",
      "       'AttributeLevel_Male', 'AttributeLevel_More', 'AttributeLevel_Old',\n",
      "       'AttributeLevel_Pets', 'AttributeLevel_Young', 'ScenarioTypeStrict_Age',\n",
      "       'ScenarioTypeStrict_Fitness', 'ScenarioTypeStrict_Gender',\n",
      "       'ScenarioTypeStrict_Social Status', 'ScenarioTypeStrict_Species',\n",
      "       'ScenarioTypeStrict_Utilitarian'],\n",
      "      dtype='object')\n"
     ]
    }
   ],
   "source": [
    "# preprocessing\n",
    "\n",
    "# one-hot encode the AttributeLevel and ScenarioTypeStrict\n",
    "dfnw = pd.get_dummies(dfnw, columns=['AttributeLevel', 'ScenarioTypeStrict'])\n",
    "\n",
    "print(dfnw.columns)\n"
   ]
  },
  {
   "cell_type": "code",
   "execution_count": 6,
   "metadata": {
    "colab": {
     "base_uri": "https://localhost:8080/"
    },
    "id": "8UYbhWWoVxVv",
    "outputId": "cb4310d8-0d60-47ed-b949-2fa6b53e467e"
   },
   "outputs": [
    {
     "data": {
      "text/plain": [
       "(500000, 47)"
      ]
     },
     "execution_count": 6,
     "metadata": {},
     "output_type": "execute_result"
    }
   ],
   "source": [
    "dfnw.shape"
   ]
  },
  {
   "cell_type": "code",
   "execution_count": 7,
   "metadata": {
    "colab": {
     "base_uri": "https://localhost:8080/"
    },
    "id": "piRDZeZLVxVw",
    "outputId": "8ba9c97e-479c-43eb-c2c8-5cb44b4b10e6"
   },
   "outputs": [
    {
     "data": {
      "text/plain": [
       "0"
      ]
     },
     "execution_count": 7,
     "metadata": {},
     "output_type": "execute_result"
    }
   ],
   "source": [
    "dfnw.duplicated().sum()"
   ]
  },
  {
   "cell_type": "code",
   "execution_count": 8,
   "metadata": {
    "id": "Wh5tPa8wVxVw"
   },
   "outputs": [],
   "source": [
    "# now also dropping ResponseID\n",
    "# kept this on and pre-processed it thus far to keep track of if everything went right with the complete sessions being in the dataset (so each ResponseID has to be present twice)"
   ]
  },
  {
   "cell_type": "markdown",
   "metadata": {
    "id": "ornvxCMHVxVx"
   },
   "source": [
    "#### Splitting"
   ]
  },
  {
   "cell_type": "code",
   "execution_count": 9,
   "metadata": {
    "id": "vD80vyBKVxVx"
   },
   "outputs": [],
   "source": [
    "# Prepare features and target variable\n",
    "X = dfnw.drop(['UserID', 'ResponseID'], axis=1)     # Features\n",
    "y = dfnw['UserID']                                  # Target variable"
   ]
  },
  {
   "cell_type": "code",
   "execution_count": 10,
   "metadata": {
    "id": "gKX2i5W_VxVy"
   },
   "outputs": [],
   "source": [
    "# Split the data into train, validation and test sets\n",
    "X_trainval, X_test, y_trainval, y_test = train_test_split(X, y, test_size=0.15, random_state=42)"
   ]
  },
  {
   "cell_type": "code",
   "execution_count": 11,
   "metadata": {
    "id": "SBQmBDUUVxVy"
   },
   "outputs": [],
   "source": [
    "# Setting K for K-fold cross validation\n",
    "\n",
    "from sklearn.model_selection import KFold\n",
    "\n",
    "k = 5\n",
    "kf = KFold(n_splits=k, random_state=42, shuffle=True)"
   ]
  },
  {
   "cell_type": "markdown",
   "metadata": {
    "id": "23kuipdbVxVy"
   },
   "source": [
    "## Modelling"
   ]
  },
  {
   "cell_type": "markdown",
   "metadata": {
    "id": "MG-4YXdEVxVz"
   },
   "source": [
    "### Logistic Regression"
   ]
  },
  {
   "cell_type": "code",
   "execution_count": 18,
   "metadata": {
    "id": "g8VsDS3pVxVz"
   },
   "outputs": [],
   "source": [
    "from sklearn.linear_model import LogisticRegression"
   ]
  },
  {
   "cell_type": "code",
   "execution_count": 19,
   "metadata": {
    "colab": {
     "base_uri": "https://localhost:8080/"
    },
    "id": "OrgkO4nlVxVz",
    "outputId": "268f7ec9-d1c1-49ba-9a6a-45d5b26cc163"
   },
   "outputs": [
    {
     "name": "stdout",
     "output_type": "stream",
     "text": [
      "Done processing fold 1\n",
      "Done processing fold 2\n",
      "Done processing fold 3\n",
      "Done processing fold 4\n",
      "Done processing fold 5\n"
     ]
    }
   ],
   "source": [
    "# Initialize logistic regression model\n",
    "lr_model = LogisticRegression(max_iter=1000)\n",
    "\n",
    "# Lists to store results\n",
    "conf_matrices_lr = []\n",
    "classification_reports_lr = []\n",
    "macro_f1_scores_lr = []\n",
    "count = 0\n",
    "\n",
    "# Loop through each fold\n",
    "for train_index, test_index in kf.split(X_trainval):\n",
    "    count += 1\n",
    "\n",
    "    # Split data into train and test for this fold\n",
    "    X_train, X_val = X_trainval.iloc[train_index], X_trainval.iloc[test_index]\n",
    "    y_train, y_val = y_trainval.iloc[train_index], y_trainval.iloc[test_index]\n",
    "\n",
    "    # Train the model\n",
    "    lr_model.fit(X_train, y_train)\n",
    "\n",
    "    # Make predictions\n",
    "    y_pred_lr = lr_model.predict(X_val)\n",
    "\n",
    "    # Generate confusion matrix and classification report\n",
    "    conf_matrices_lr.append(confusion_matrix(y_val, y_pred_lr))\n",
    "    classification_reports_lr.append(classification_report(y_val, y_pred_lr, output_dict=True))\n",
    "\n",
    "    # Calculate and store macro F1 score for this fold\n",
    "    fold_macro_f1 = f1_score(y_val, y_pred_lr, average='macro')\n",
    "    macro_f1_scores_lr.append(fold_macro_f1)\n",
    "\n",
    "    print(\"Done processing fold \" + str(count))"
   ]
  },
  {
   "cell_type": "code",
   "execution_count": 20,
   "metadata": {
    "colab": {
     "base_uri": "https://localhost:8080/"
    },
    "id": "7THaSIi6VxVz",
    "outputId": "49ac27a8-4dc4-48e4-cb7b-9be8c46a40ac"
   },
   "outputs": [
    {
     "name": "stdout",
     "output_type": "stream",
     "text": [
      "\n",
      "Fold 1\n",
      "Confusion Matrix:\n",
      "[[30719 11852]\n",
      " [22304 20125]]\n",
      "\n",
      "Classification Report:\n",
      "0: {'precision': 0.5793523565245271, 'recall': 0.7215945126964366, 'f1-score': 0.6426972404125781, 'support': 42571.0}\n",
      "1: {'precision': 0.6293586014948244, 'recall': 0.4743218081972236, 'f1-score': 0.5409509985753838, 'support': 42429.0}\n",
      "accuracy: 0.5981647058823529\n",
      "macro avg: {'precision': 0.6043554790096757, 'recall': 0.59795816044683, 'f1-score': 0.591824119493981, 'support': 85000.0}\n",
      "weighted avg: {'precision': 0.6043137090874063, 'recall': 0.5981647058823529, 'f1-score': 0.5919091075312803, 'support': 85000.0}\n",
      "\n",
      "Fold 2\n",
      "Confusion Matrix:\n",
      "[[30871 11546]\n",
      " [22402 20181]]\n",
      "\n",
      "Classification Report:\n",
      "0: {'precision': 0.579486794436206, 'recall': 0.7277978169130301, 'f1-score': 0.6452293865607691, 'support': 42417.0}\n",
      "1: {'precision': 0.6360828316575787, 'recall': 0.4739215179766573, 'f1-score': 0.5431570448122729, 'support': 42583.0}\n",
      "accuracy: 0.6006117647058824\n",
      "macro avg: {'precision': 0.6077848130468924, 'recall': 0.6008596674448438, 'f1-score': 0.5941932156865211, 'support': 85000.0}\n",
      "weighted avg: {'precision': 0.6078400774126498, 'recall': 0.6006117647058824, 'f1-score': 0.5940935450469313, 'support': 85000.0}\n",
      "\n",
      "Fold 3\n",
      "Confusion Matrix:\n",
      "[[30591 12197]\n",
      " [22040 20172]]\n",
      "\n",
      "Classification Report:\n",
      "0: {'precision': 0.5812353935893295, 'recall': 0.7149434420865663, 'f1-score': 0.6411930537943177, 'support': 42788.0}\n",
      "1: {'precision': 0.623188853532701, 'recall': 0.47787359044821376, 'f1-score': 0.5409420629919148, 'support': 42212.0}\n",
      "accuracy: 0.5972117647058823\n",
      "macro avg: {'precision': 0.6022121235610153, 'recall': 0.59640851626739, 'f1-score': 0.5910675583931162, 'support': 85000.0}\n",
      "weighted avg: {'precision': 0.6020699753673248, 'recall': 0.5972117647058823, 'f1-score': 0.5914072323384233, 'support': 85000.0}\n",
      "\n",
      "Fold 4\n",
      "Confusion Matrix:\n",
      "[[30616 11858]\n",
      " [22355 20171]]\n",
      "\n",
      "Classification Report:\n",
      "0: {'precision': 0.5779766287213759, 'recall': 0.7208174412581815, 'f1-score': 0.6415422494630415, 'support': 42474.0}\n",
      "1: {'precision': 0.6297730182022542, 'recall': 0.47432159149696657, 'f1-score': 0.541103883039367, 'support': 42526.0}\n",
      "accuracy: 0.5974941176470588\n",
      "macro avg: {'precision': 0.603874823461815, 'recall': 0.597569516377574, 'f1-score': 0.5913230662512042, 'support': 85000.0}\n",
      "weighted avg: {'precision': 0.6038906670633033, 'recall': 0.5974941176470588, 'f1-score': 0.591292343927357, 'support': 85000.0}\n",
      "\n",
      "Fold 5\n",
      "Confusion Matrix:\n",
      "[[30622 11578]\n",
      " [22709 20091]]\n",
      "\n",
      "Classification Report:\n",
      "0: {'precision': 0.574187620708406, 'recall': 0.7256398104265402, 'f1-score': 0.6410903267002335, 'support': 42200.0}\n",
      "1: {'precision': 0.6344058858820929, 'recall': 0.4694158878504673, 'f1-score': 0.5395802280143416, 'support': 42800.0}\n",
      "accuracy: 0.5966235294117647\n",
      "macro avg: {'precision': 0.6042967532952495, 'recall': 0.5975278491385038, 'f1-score': 0.5903352773572875, 'support': 85000.0}\n",
      "weighted avg: {'precision': 0.6045092883488037, 'recall': 0.5966235294117647, 'f1-score': 0.589977006420749, 'support': 85000.0}\n"
     ]
    }
   ],
   "source": [
    "# Display results\n",
    "for i in range(k):\n",
    "    print(f\"\\nFold {i+1}\")\n",
    "    print(\"Confusion Matrix:\")\n",
    "    print(conf_matrices_lr[i])\n",
    "    print(\"\\nClassification Report:\")\n",
    "    for label, metrics in classification_reports_lr[i].items():\n",
    "        print(f\"{label}: {metrics}\")"
   ]
  },
  {
   "cell_type": "code",
   "execution_count": 21,
   "metadata": {
    "colab": {
     "base_uri": "https://localhost:8080/"
    },
    "id": "B2Af8xmzVxVz",
    "outputId": "075ed815-6b73-4e6b-de0e-0817644dee49"
   },
   "outputs": [
    {
     "name": "stdout",
     "output_type": "stream",
     "text": [
      "\n",
      "Average Accuracy LR: 0.5980211764705883\n",
      "Standard Deviation: 0.0013869465603424489\n",
      "Average Macro F1 Score LR: 0.591748647436422\n",
      "\n",
      "Average Recall for class 1: 0.4739708791939057\n"
     ]
    }
   ],
   "source": [
    "# Calculate average accuracy\n",
    "accuracies_lr = [report['accuracy'] for report in classification_reports_lr]\n",
    "average_accuracy_lr = np.mean(accuracies_lr)\n",
    "print(f\"\\nAverage Accuracy LR: {average_accuracy_lr}\")\n",
    "\n",
    "\n",
    "# Caluculate average standard deviation\n",
    "std_dev_lr = np.std(accuracies_lr)\n",
    "print(f\"Standard Deviation: {std_dev_lr}\")\n",
    "\n",
    "\n",
    "# Calculate average macro f1-score\n",
    "average_macro_f1_lr = sum(macro_f1_scores_lr) / len(macro_f1_scores_lr)\n",
    "print(f\"Average Macro F1 Score LR: {average_macro_f1_lr}\")\n",
    "\n",
    "\n",
    "# Collect the recall for the '1' class from each fold\n",
    "recall_class_1_lr = [report['1']['recall'] for report in classification_reports_lr]\n",
    "# Calculate the average recall for the '1' class across all folds\n",
    "average_recall_class_1_lr = np.mean(recall_class_1_lr)\n",
    "print(f\"\\nAverage Recall for class 1: {average_recall_class_1_lr}\")"
   ]
  },
  {
   "cell_type": "code",
   "execution_count": 22,
   "metadata": {
    "colab": {
     "base_uri": "https://localhost:8080/"
    },
    "id": "BY-u1RGUVxVz",
    "outputId": "57fc0b38-6a6c-4de5-d298-185eb7ce07dc"
   },
   "outputs": [
    {
     "name": "stdout",
     "output_type": "stream",
     "text": [
      "{'average_accuracy': 0.5980211764705883, 'std_dev_accuracy': 0.0013869465603424489, 'average_macro_f1': 0.591748647436422, 'average_recall_class_1': 0.4739708791939057, 'accuracies_per_fold': [0.5981647058823529, 0.6006117647058824, 0.5972117647058823, 0.5974941176470588, 0.5966235294117647], 'recall_class_1_per_fold': [0.4743218081972236, 0.4739215179766573, 0.47787359044821376, 0.47432159149696657, 0.4694158878504673]}\n"
     ]
    }
   ],
   "source": [
    "# saving outputs\n",
    "\n",
    "# Example metrics\n",
    "metrics_lr = {\n",
    "    \"average_accuracy\": average_accuracy_lr,\n",
    "    \"std_dev_accuracy\": std_dev_lr,\n",
    "    \"average_macro_f1\": average_macro_f1_lr,\n",
    "    \"average_recall_class_1\": average_recall_class_1_lr,\n",
    "    \"accuracies_per_fold\": accuracies_lr,\n",
    "    \"recall_class_1_per_fold\": recall_class_1_lr\n",
    "}\n",
    "\n",
    "# Print the dictionary to verify\n",
    "print(metrics_lr)\n",
    "\n",
    "\n",
    "import json\n",
    "# Save the metrics dictionary as JSON\n",
    "with open(\"metrics_lr_nw.json\", \"w\") as f:\n",
    "    json.dump(metrics_lr, f, indent=4)\n"
   ]
  },
  {
   "cell_type": "markdown",
   "metadata": {
    "id": "KyyyWD8GVxVz"
   },
   "source": [
    "### Random Forest"
   ]
  },
  {
   "cell_type": "code",
   "execution_count": 23,
   "metadata": {
    "id": "wr2vw0PxVxVz"
   },
   "outputs": [],
   "source": [
    "from sklearn.ensemble import RandomForestClassifier"
   ]
  },
  {
   "cell_type": "code",
   "execution_count": 24,
   "metadata": {
    "colab": {
     "base_uri": "https://localhost:8080/"
    },
    "id": "jcg2UJZdVxV0",
    "outputId": "8d3057d7-4c3c-4f08-8f44-b97a38693434"
   },
   "outputs": [
    {
     "name": "stdout",
     "output_type": "stream",
     "text": [
      "Start processing fold 1\n",
      "Done processing fold 1\n",
      "Start processing fold 2\n",
      "Done processing fold 2\n",
      "Start processing fold 3\n",
      "Done processing fold 3\n",
      "Start processing fold 4\n",
      "Done processing fold 4\n",
      "Start processing fold 5\n",
      "Done processing fold 5\n"
     ]
    }
   ],
   "source": [
    "# Initialize Random Forest model\n",
    "rf_model = RandomForestClassifier(n_estimators=100, random_state=42)\n",
    "\n",
    "# Lists to store results\n",
    "conf_matrices_rf = []\n",
    "classification_reports_rf = []\n",
    "macro_f1_scores_rf = []\n",
    "count = 0\n",
    "\n",
    "# Manually loop through each fold\n",
    "for train_index, test_index in kf.split(X_trainval):\n",
    "    count += 1\n",
    "    print(\"Start processing fold \" + str(count))\n",
    "\n",
    "    # Split the data for this fold\n",
    "    X_train, X_val = X_trainval.iloc[train_index], X_trainval.iloc[test_index]\n",
    "    y_train, y_val = y_trainval.iloc[train_index], y_trainval.iloc[test_index]\n",
    "\n",
    "    # Train the model\n",
    "    rf_model.fit(X_train, y_train)\n",
    "\n",
    "    # Make predictions\n",
    "    y_pred_rf = rf_model.predict(X_val)\n",
    "\n",
    "    # Store confusion matrix and classification report for each fold\n",
    "    conf_matrices_rf.append(confusion_matrix(y_val, y_pred_rf))\n",
    "    classification_reports_rf.append(classification_report(y_val, y_pred_rf, output_dict=True))\n",
    "\n",
    "    fold_macro_f1 = f1_score(y_val, y_pred_rf, average='macro')\n",
    "    macro_f1_scores_rf.append(fold_macro_f1)\n",
    "\n",
    "    print(\"Done processing fold \" + str(count))"
   ]
  },
  {
   "cell_type": "code",
   "execution_count": 25,
   "metadata": {
    "colab": {
     "base_uri": "https://localhost:8080/"
    },
    "id": "4Z7NDrxPVxV0",
    "outputId": "12e02c98-ef4f-4ce8-b0fc-75e2fa1b20e4"
   },
   "outputs": [
    {
     "name": "stdout",
     "output_type": "stream",
     "text": [
      "\n",
      "Fold 1\n",
      "Confusion Matrix:\n",
      "[[31246 11325]\n",
      " [13742 28687]]\n",
      "\n",
      "Classification Report:\n",
      "0: {'precision': 0.6945407664266027, 'recall': 0.7339738319513284, 'f1-score': 0.7137130392078485, 'support': 42571.0}\n",
      "1: {'precision': 0.7169599120263921, 'recall': 0.6761177496523604, 'f1-score': 0.6959401268786162, 'support': 42429.0}\n",
      "accuracy: 0.7050941176470589\n",
      "macro avg: {'precision': 0.7057503392264974, 'recall': 0.7050457908018444, 'f1-score': 0.7048265830432323, 'support': 85000.0}\n",
      "weighted avg: {'precision': 0.7057316126460552, 'recall': 0.7050941176470589, 'f1-score': 0.7048414286523543, 'support': 85000.0}\n",
      "\n",
      "Fold 2\n",
      "Confusion Matrix:\n",
      "[[31169 11248]\n",
      " [13755 28828]]\n",
      "\n",
      "Classification Report:\n",
      "0: {'precision': 0.6938162229543229, 'recall': 0.7348233019779805, 'f1-score': 0.7137312373341271, 'support': 42417.0}\n",
      "1: {'precision': 0.7193332667930932, 'recall': 0.6769837728671065, 'f1-score': 0.697516301915097, 'support': 42583.0}\n",
      "accuracy: 0.7058470588235294\n",
      "macro avg: {'precision': 0.7065747448737081, 'recall': 0.7059035374225435, 'f1-score': 0.705623769624612, 'support': 85000.0}\n",
      "weighted avg: {'precision': 0.7065996615165153, 'recall': 0.7058470588235294, 'f1-score': 0.7056079362170852, 'support': 85000.0}\n",
      "\n",
      "Fold 3\n",
      "Confusion Matrix:\n",
      "[[31357 11431]\n",
      " [13373 28839]]\n",
      "\n",
      "Classification Report:\n",
      "0: {'precision': 0.7010283925776883, 'recall': 0.7328456576610265, 'f1-score': 0.7165840170022166, 'support': 42788.0}\n",
      "1: {'precision': 0.7161410479264961, 'recall': 0.6831943523168768, 'f1-score': 0.699279842874809, 'support': 42212.0}\n",
      "accuracy: 0.7081882352941177\n",
      "macro avg: {'precision': 0.7085847202520923, 'recall': 0.7080200049889516, 'f1-score': 0.7079319299385128, 'support': 85000.0}\n",
      "weighted avg: {'precision': 0.7085335150198516, 'recall': 0.7081882352941177, 'f1-score': 0.7079905605520269, 'support': 85000.0}\n",
      "\n",
      "Fold 4\n",
      "Confusion Matrix:\n",
      "[[31289 11185]\n",
      " [13644 28882]]\n",
      "\n",
      "Classification Report:\n",
      "0: {'precision': 0.6963478957559033, 'recall': 0.7366624287799595, 'f1-score': 0.7159380827622501, 'support': 42474.0}\n",
      "1: {'precision': 0.7208425886639879, 'recall': 0.6791609838686921, 'f1-score': 0.6993813035002966, 'support': 42526.0}\n",
      "accuracy: 0.7078941176470588\n",
      "macro avg: {'precision': 0.7085952422099455, 'recall': 0.7079117063243258, 'f1-score': 0.7076596931312733, 'support': 85000.0}\n",
      "weighted avg: {'precision': 0.7086027347042468, 'recall': 0.7078941176470588, 'f1-score': 0.7076546287046755, 'support': 85000.0}\n",
      "\n",
      "Fold 5\n",
      "Confusion Matrix:\n",
      "[[31212 10988]\n",
      " [13956 28844]]\n",
      "\n",
      "Classification Report:\n",
      "0: {'precision': 0.6910201912858661, 'recall': 0.7396208530805687, 'f1-score': 0.7144950096145042, 'support': 42200.0}\n",
      "1: {'precision': 0.7241413938541876, 'recall': 0.6739252336448598, 'f1-score': 0.698131474489302, 'support': 42800.0}\n",
      "accuracy: 0.7065411764705882\n",
      "macro avg: {'precision': 0.7075807925700268, 'recall': 0.7067730433627142, 'f1-score': 0.7063132420519032, 'support': 85000.0}\n",
      "weighted avg: {'precision': 0.7076976909320327, 'recall': 0.7065411764705882, 'f1-score': 0.7062554883985199, 'support': 85000.0}\n"
     ]
    }
   ],
   "source": [
    "# Display results for each fold\n",
    "for i in range(k):\n",
    "    print(f\"\\nFold {i+1}\")\n",
    "    print(\"Confusion Matrix:\")\n",
    "    print(conf_matrices_rf[i])\n",
    "    print(\"\\nClassification Report:\")\n",
    "    for label, metrics in classification_reports_rf[i].items():\n",
    "        print(f\"{label}: {metrics}\")"
   ]
  },
  {
   "cell_type": "code",
   "execution_count": 26,
   "metadata": {
    "colab": {
     "base_uri": "https://localhost:8080/"
    },
    "id": "yrX2w4LaVxV1",
    "outputId": "027814f8-7f14-4e13-c0ae-3dc75e4f8ad3"
   },
   "outputs": [
    {
     "name": "stdout",
     "output_type": "stream",
     "text": [
      "\n",
      "Average Accuracy RF: 0.7067129411764705\n",
      "Standard Deviation: 0.0011808061289588687\n",
      "Average Macro F1 Score RF: 0.7064710435579067\n",
      "\n",
      "Average Recall for class 1: 0.677876418469979\n"
     ]
    }
   ],
   "source": [
    "# Calculate average accuracy\n",
    "accuracies_rf = [report['accuracy'] for report in classification_reports_rf]\n",
    "average_accuracy_rf = np.mean(accuracies_rf)\n",
    "print(f\"\\nAverage Accuracy RF: {average_accuracy_rf}\")\n",
    "\n",
    "\n",
    "# Caluculate average standard deviation of accuracies\n",
    "std_dev_rf = np.std(accuracies_rf)\n",
    "print(f\"Standard Deviation: {std_dev_rf}\")\n",
    "\n",
    "\n",
    "# Calculate average f1-score\n",
    "average_macro_f1_rf = sum(macro_f1_scores_rf) / len(macro_f1_scores_rf)\n",
    "print(f\"Average Macro F1 Score RF: {average_macro_f1_rf}\")\n",
    "\n",
    "\n",
    "# Collect the recall for the '1' class from each fold\n",
    "recall_class_1_rf = [report['1']['recall'] for report in classification_reports_rf]\n",
    "# Calculate the average recall for the '1' class across all folds\n",
    "average_recall_class_1_rf = np.mean(recall_class_1_rf)\n",
    "print(f\"\\nAverage Recall for class 1: {average_recall_class_1_rf}\")"
   ]
  },
  {
   "cell_type": "code",
   "execution_count": 27,
   "metadata": {
    "colab": {
     "base_uri": "https://localhost:8080/"
    },
    "id": "_gJP8kxrVxV2",
    "outputId": "2537aafe-6a34-4edf-f5d9-dfe79068529a"
   },
   "outputs": [
    {
     "name": "stdout",
     "output_type": "stream",
     "text": [
      "{'average_accuracy': 0.7067129411764705, 'std_dev_accuracy': 0.0011808061289588687, 'average_macro_f1': 0.7064710435579067, 'average_recall_class_1': 0.677876418469979, 'accuracies_per_fold': [0.7050941176470589, 0.7058470588235294, 0.7081882352941177, 0.7078941176470588, 0.7065411764705882], 'recall_class_1_per_fold': [0.6761177496523604, 0.6769837728671065, 0.6831943523168768, 0.6791609838686921, 0.6739252336448598]}\n"
     ]
    }
   ],
   "source": [
    "# saving outputs\n",
    "\n",
    "# Example metrics\n",
    "metrics_rf = {\n",
    "    \"average_accuracy\": average_accuracy_rf,\n",
    "    \"std_dev_accuracy\": std_dev_rf,\n",
    "    \"average_macro_f1\": average_macro_f1_rf,\n",
    "    \"average_recall_class_1\": average_recall_class_1_rf,\n",
    "    \"accuracies_per_fold\": accuracies_rf,\n",
    "    \"recall_class_1_per_fold\": recall_class_1_rf\n",
    "}\n",
    "\n",
    "# Print the dictionary to verify\n",
    "print(metrics_rf)\n",
    "\n",
    "\n",
    "import json\n",
    "# Save the metrics dictionary as JSON\n",
    "with open(\"metrics_rf_nw.json\", \"w\") as f:\n",
    "    json.dump(metrics_rf, f, indent=4)\n"
   ]
  },
  {
   "cell_type": "markdown",
   "metadata": {
    "id": "5UIQayifVxV2"
   },
   "source": [
    "### Support Vector Machine"
   ]
  },
  {
   "cell_type": "code",
   "execution_count": 28,
   "metadata": {
    "id": "-AWNiNkHVxV2"
   },
   "outputs": [],
   "source": [
    "from thundersvm import SVC"
   ]
  },
  {
   "cell_type": "code",
   "execution_count": 29,
   "metadata": {
    "id": "SdNPRrsuVxV2"
   },
   "outputs": [],
   "source": [
    "# Initialize SVC\n",
    "\n",
    "svc = SVC(kernel='rbf', random_state=45)\n",
    "\n",
    "# choosing rbf cause not linearly separable"
   ]
  },
  {
   "cell_type": "code",
   "execution_count": 30,
   "metadata": {
    "colab": {
     "base_uri": "https://localhost:8080/"
    },
    "id": "0VEqXnK1VxV3",
    "outputId": "aaa9759f-34d6-46a3-d004-ef09db5a08ca"
   },
   "outputs": [
    {
     "name": "stdout",
     "output_type": "stream",
     "text": [
      "Starting fold 1\n",
      "Model fitted\n",
      "Done processing fold 1\n",
      "Starting fold 2\n",
      "Model fitted\n",
      "Done processing fold 2\n",
      "Starting fold 3\n",
      "Model fitted\n",
      "Done processing fold 3\n",
      "Starting fold 4\n",
      "Model fitted\n",
      "Done processing fold 4\n",
      "Starting fold 5\n",
      "Model fitted\n",
      "Done processing fold 5\n"
     ]
    }
   ],
   "source": [
    "# Lists to store results\n",
    "conf_matrices_svm = []\n",
    "classification_reports_svm = []\n",
    "macro_f1_scores_svm = []\n",
    "count = 0\n",
    "\n",
    "# Manually loop through each fold\n",
    "for train_index, test_index in kf.split(X_trainval):\n",
    "    count += 1\n",
    "\n",
    "    print(\"Starting fold \" + str(count))\n",
    "    # Split the data for this fold\n",
    "    X_train, X_val = X_trainval.iloc[train_index], X_trainval.iloc[test_index]\n",
    "    y_train, y_val = y_trainval.iloc[train_index], y_trainval.iloc[test_index]\n",
    "\n",
    "    # Train the model\n",
    "    svc.fit(X_train, y_train)\n",
    "    print(\"Model fitted\")\n",
    "\n",
    "    # Make predictions\n",
    "    y_pred_svm = svc.predict(X_val)\n",
    "\n",
    "    # Store confusion matrix and classification report for each fold\n",
    "    conf_matrices_svm.append(confusion_matrix(y_val, y_pred_svm))\n",
    "    classification_reports_svm.append(classification_report(y_val, y_pred_svm, output_dict=True))\n",
    "\n",
    "    # Calculate and store macro F1 score for this fold\n",
    "    fold_macro_f1 = f1_score(y_val, y_pred_svm, average='macro')\n",
    "    macro_f1_scores_svm.append(fold_macro_f1)\n",
    "\n",
    "    print(\"Done processing fold \" + str(count))"
   ]
  },
  {
   "cell_type": "code",
   "execution_count": 31,
   "metadata": {
    "colab": {
     "base_uri": "https://localhost:8080/"
    },
    "id": "OIJ8u8S9VxV3",
    "outputId": "9644e643-5fae-466b-b047-08187b23e267"
   },
   "outputs": [
    {
     "name": "stdout",
     "output_type": "stream",
     "text": [
      "\n",
      "Fold 1\n",
      "Confusion Matrix:\n",
      "[[35173  7398]\n",
      " [21698 20731]]\n",
      "\n",
      "Classification Report:\n",
      "0: {'precision': 0.6184698704084682, 'recall': 0.826219727044232, 'f1-score': 0.7074073329176807, 'support': 42571.0}\n",
      "1: {'precision': 0.7369974048135376, 'recall': 0.4886044922105164, 'f1-score': 0.5876300348649338, 'support': 42429.0}\n",
      "accuracy: 0.6576941176470589\n",
      "macro avg: {'precision': 0.6777336376110029, 'recall': 0.6574121096273742, 'f1-score': 0.6475186838913072, 'support': 85000.0}\n",
      "weighted avg: {'precision': 0.6776346322587351, 'recall': 0.6576941176470589, 'f1-score': 0.6476187331637984, 'support': 85000.0}\n",
      "\n",
      "Fold 2\n",
      "Confusion Matrix:\n",
      "[[35098  7319]\n",
      " [22026 20557]]\n",
      "\n",
      "Classification Report:\n",
      "0: {'precision': 0.6144177578600938, 'recall': 0.8274512577504303, 'f1-score': 0.7051968535578305, 'support': 42417.0}\n",
      "1: {'precision': 0.7374443966135744, 'recall': 0.48275133269144965, 'f1-score': 0.5835166550760017, 'support': 42583.0}\n",
      "accuracy: 0.6547647058823529\n",
      "macro avg: {'precision': 0.6759310772368341, 'recall': 0.65510129522094, 'f1-score': 0.6443567543169161, 'support': 85000.0}\n",
      "weighted avg: {'precision': 0.6760512091311464, 'recall': 0.6547647058823529, 'f1-score': 0.644237937181928, 'support': 85000.0}\n",
      "\n",
      "Fold 3\n",
      "Confusion Matrix:\n",
      "[[35215  7573]\n",
      " [21666 20546]]\n",
      "\n",
      "Classification Report:\n",
      "0: {'precision': 0.6190995235667446, 'recall': 0.8230111246143779, 'f1-score': 0.7066389750072741, 'support': 42788.0}\n",
      "1: {'precision': 0.7306803229133326, 'recall': 0.486733630247323, 'f1-score': 0.5842658287241757, 'support': 42212.0}\n",
      "accuracy: 0.6560117647058824\n",
      "macro avg: {'precision': 0.6748899232400386, 'recall': 0.6548723774308505, 'f1-score': 0.6454524018657248, 'support': 85000.0}\n",
      "weighted avg: {'precision': 0.6745118612375467, 'recall': 0.6560117647058824, 'f1-score': 0.6458670308790135, 'support': 85000.0}\n",
      "\n",
      "Fold 4\n",
      "Confusion Matrix:\n",
      "[[35100  7374]\n",
      " [21838 20688]]\n",
      "\n",
      "Classification Report:\n",
      "0: {'precision': 0.6164600091327409, 'recall': 0.8263879078965956, 'f1-score': 0.7061521747877519, 'support': 42474.0}\n",
      "1: {'precision': 0.7372247166987385, 'recall': 0.4864788599915346, 'f1-score': 0.5861619538731796, 'support': 42526.0}\n",
      "accuracy: 0.6563294117647058\n",
      "macro avg: {'precision': 0.6768423629157396, 'recall': 0.656433383944065, 'f1-score': 0.6461570643304657, 'support': 85000.0}\n",
      "weighted avg: {'precision': 0.6768793027086423, 'recall': 0.6563294117647058, 'f1-score': 0.6461203614393624, 'support': 85000.0}\n",
      "\n",
      "Fold 5\n",
      "Confusion Matrix:\n",
      "[[34698  7502]\n",
      " [21973 20827]]\n",
      "\n",
      "Classification Report:\n",
      "0: {'precision': 0.6122708263485733, 'recall': 0.8222274881516588, 'f1-score': 0.7018842734472192, 'support': 42200.0}\n",
      "1: {'precision': 0.7351830279925166, 'recall': 0.48661214953271026, 'f1-score': 0.5856120569669193, 'support': 42800.0}\n",
      "accuracy: 0.653235294117647\n",
      "macro avg: {'precision': 0.6737269271705449, 'recall': 0.6544198188421846, 'f1-score': 0.6437481652070692, 'support': 85000.0}\n",
      "weighted avg: {'precision': 0.674160734941053, 'recall': 0.653235294117647, 'f1-score': 0.6433377926783151, 'support': 85000.0}\n"
     ]
    }
   ],
   "source": [
    "# Display results for each fold\n",
    "for i in range(k):\n",
    "    print(f\"\\nFold {i+1}\")\n",
    "    print(\"Confusion Matrix:\")\n",
    "    print(conf_matrices_svm[i])\n",
    "    print(\"\\nClassification Report:\")\n",
    "    for label, metrics in classification_reports_svm[i].items():\n",
    "        print(f\"{label}: {metrics}\")"
   ]
  },
  {
   "cell_type": "code",
   "execution_count": 32,
   "metadata": {
    "colab": {
     "base_uri": "https://localhost:8080/"
    },
    "id": "OMIwvs8vVxV3",
    "outputId": "28e42897-126d-437d-cca2-f42b8daec104"
   },
   "outputs": [
    {
     "name": "stdout",
     "output_type": "stream",
     "text": [
      "\n",
      "Average Accuracy LR: 0.6556070588235294\n",
      "Standard Deviation: 0.0015083912922904039\n",
      "Average Macro F1 Score LR: 0.6454466139222966\n",
      "\n",
      "Average Recall for class 1: 0.48623609293470677\n"
     ]
    }
   ],
   "source": [
    "# Calculate average accuracy\n",
    "accuracies_svm = [report['accuracy'] for report in classification_reports_svm]\n",
    "average_accuracy_svm = np.mean(accuracies_svm)\n",
    "print(f\"\\nAverage Accuracy LR: {average_accuracy_svm}\")\n",
    "\n",
    "\n",
    "# Caluculate average standard deviation\n",
    "std_dev_svm = np.std(accuracies_svm)\n",
    "print(f\"Standard Deviation: {std_dev_svm}\")\n",
    "\n",
    "\n",
    "# Calculate average macro f1-score\n",
    "average_macro_f1_svm = sum(macro_f1_scores_svm) / len(macro_f1_scores_svm)\n",
    "print(f\"Average Macro F1 Score LR: {average_macro_f1_svm}\")\n",
    "\n",
    "\n",
    "# Collect the recall for the '1' class from each fold\n",
    "recall_class_1_svm = [report['1']['recall'] for report in classification_reports_svm]\n",
    "# Calculate the average recall for the '1' class across all folds\n",
    "average_recall_class_1_svm = np.mean(recall_class_1_svm)\n",
    "print(f\"\\nAverage Recall for class 1: {average_recall_class_1_svm}\")"
   ]
  },
  {
   "cell_type": "code",
   "execution_count": 33,
   "metadata": {
    "colab": {
     "base_uri": "https://localhost:8080/"
    },
    "id": "i33tff3QVxV3",
    "outputId": "9de5e9a4-97e9-4310-ade9-c85e2115447c"
   },
   "outputs": [
    {
     "name": "stdout",
     "output_type": "stream",
     "text": [
      "{'average_accuracy': 0.6556070588235294, 'std_dev_accuracy': 0.0015083912922904039, 'average_macro_f1': 0.6454466139222966, 'average_recall_class_1': 0.48623609293470677, 'accuracies_per_fold': [0.6576941176470589, 0.6547647058823529, 0.6560117647058824, 0.6563294117647058, 0.653235294117647], 'recall_class_1_per_fold': [0.4886044922105164, 0.48275133269144965, 0.486733630247323, 0.4864788599915346, 0.48661214953271026]}\n"
     ]
    }
   ],
   "source": [
    "# saving outputs\n",
    "\n",
    "# Example metrics\n",
    "metrics_svm = {\n",
    "    \"average_accuracy\": average_accuracy_svm,\n",
    "    \"std_dev_accuracy\": std_dev_svm,\n",
    "    \"average_macro_f1\": average_macro_f1_svm,\n",
    "    \"average_recall_class_1\": average_recall_class_1_svm,\n",
    "    \"accuracies_per_fold\": accuracies_svm,\n",
    "    \"recall_class_1_per_fold\": recall_class_1_svm\n",
    "}\n",
    "\n",
    "# Print the dictionary to verify\n",
    "print(metrics_svm)\n",
    "\n",
    "\n",
    "import json\n",
    "# Save the metrics dictionary as JSON\n",
    "with open(\"metrics_svm_nw.json\", \"w\") as f:\n",
    "    json.dump(metrics_svm, f, indent=4)"
   ]
  },
  {
   "cell_type": "markdown",
   "metadata": {
    "id": "HcoibFHHVxV4"
   },
   "source": [
    "### MLP"
   ]
  },
  {
   "cell_type": "code",
   "execution_count": 34,
   "metadata": {
    "id": "fiamFOX7VxV5"
   },
   "outputs": [],
   "source": [
    "from tensorflow.keras import layers, optimizers, models, callbacks\n",
    "from tensorflow.keras.optimizers.schedules import ExponentialDecay\n",
    "from tensorflow import keras"
   ]
  },
  {
   "cell_type": "code",
   "execution_count": 35,
   "metadata": {
    "id": "jv9IHbP1VxV5"
   },
   "outputs": [],
   "source": [
    "# Define parameters\n",
    "initial_learning_rate = 5e-4\n",
    "decay_rate = 0.1  # Decay rate per step\n",
    "\n",
    "# Define the learning rate schedule\n",
    "lr_schedule = ExponentialDecay(\n",
    "    initial_learning_rate,\n",
    "    decay_steps=10000,\n",
    "    decay_rate=decay_rate)\n",
    "\n",
    "# Define early stopping\n",
    "early_stopping = callbacks.EarlyStopping(\n",
    "    monitor='val_accuracy',             # Watch accuracy\n",
    "    patience=5,                         # Stop after 3 epochs with no improvement\n",
    "    restore_best_weights=True,          # Restore weights from the best epoch\n",
    "    min_delta=0.0005                    # Minimum change in accuracy to qualify as an improvement\n",
    ")\n",
    "\n",
    "# Function to build the model\n",
    "def build_model():\n",
    "    model_mlp = models.Sequential()\n",
    "    model_mlp.add(layers.Dense(64, activation='relu', input_shape=(X.shape[1],)))\n",
    "    model_mlp.add(layers.BatchNormalization())\n",
    "    model_mlp.add(layers.Dense(64, activation='relu'))\n",
    "    model_mlp.add(layers.BatchNormalization())\n",
    "    model_mlp.add(layers.Dense(1, activation='sigmoid'))\n",
    "    model_mlp.compile(optimizer=optimizers.Adam(learning_rate=lr_schedule), loss='binary_crossentropy', metrics=['accuracy', keras.metrics.Recall()])\n",
    "    return model_mlp"
   ]
  },
  {
   "cell_type": "code",
   "execution_count": 36,
   "metadata": {
    "colab": {
     "base_uri": "https://localhost:8080/"
    },
    "id": "x51esfv0VxV5",
    "outputId": "89839caa-0bb1-44d4-b24c-f85c5bfa2cda"
   },
   "outputs": [
    {
     "name": "stdout",
     "output_type": "stream",
     "text": [
      "\n",
      "Fold 1\n"
     ]
    },
    {
     "name": "stderr",
     "output_type": "stream",
     "text": [
      "/usr/local/lib/python3.10/dist-packages/keras/src/layers/core/dense.py:87: UserWarning: Do not pass an `input_shape`/`input_dim` argument to a layer. When using Sequential models, prefer using an `Input(shape)` object as the first layer in the model instead.\n",
      "  super().__init__(activity_regularizer=activity_regularizer, **kwargs)\n"
     ]
    },
    {
     "name": "stdout",
     "output_type": "stream",
     "text": [
      "Epoch 1/20\n",
      "\u001b[1m10625/10625\u001b[0m \u001b[32m━━━━━━━━━━━━━━━━━━━━\u001b[0m\u001b[37m\u001b[0m \u001b[1m24s\u001b[0m 2ms/step - accuracy: 0.6115 - loss: 0.6390 - recall: 0.5718 - val_accuracy: 0.6538 - val_loss: 0.5933 - val_recall: 0.5898\n",
      "Epoch 2/20\n",
      "\u001b[1m10625/10625\u001b[0m \u001b[32m━━━━━━━━━━━━━━━━━━━━\u001b[0m\u001b[37m\u001b[0m \u001b[1m20s\u001b[0m 2ms/step - accuracy: 0.6420 - loss: 0.6032 - recall: 0.5885 - val_accuracy: 0.6573 - val_loss: 0.5914 - val_recall: 0.5598\n",
      "Epoch 3/20\n",
      "\u001b[1m10625/10625\u001b[0m \u001b[32m━━━━━━━━━━━━━━━━━━━━\u001b[0m\u001b[37m\u001b[0m \u001b[1m20s\u001b[0m 2ms/step - accuracy: 0.6434 - loss: 0.6024 - recall: 0.5916 - val_accuracy: 0.6570 - val_loss: 0.5910 - val_recall: 0.5752\n",
      "Epoch 4/20\n",
      "\u001b[1m10625/10625\u001b[0m \u001b[32m━━━━━━━━━━━━━━━━━━━━\u001b[0m\u001b[37m\u001b[0m \u001b[1m20s\u001b[0m 2ms/step - accuracy: 0.6454 - loss: 0.6007 - recall: 0.5943 - val_accuracy: 0.6574 - val_loss: 0.5914 - val_recall: 0.5647\n",
      "Epoch 5/20\n",
      "\u001b[1m10625/10625\u001b[0m \u001b[32m━━━━━━━━━━━━━━━━━━━━\u001b[0m\u001b[37m\u001b[0m \u001b[1m19s\u001b[0m 2ms/step - accuracy: 0.6435 - loss: 0.6015 - recall: 0.5898 - val_accuracy: 0.6571 - val_loss: 0.5911 - val_recall: 0.5794\n",
      "Epoch 6/20\n",
      "\u001b[1m10625/10625\u001b[0m \u001b[32m━━━━━━━━━━━━━━━━━━━━\u001b[0m\u001b[37m\u001b[0m \u001b[1m19s\u001b[0m 2ms/step - accuracy: 0.6451 - loss: 0.6015 - recall: 0.5932 - val_accuracy: 0.6571 - val_loss: 0.5911 - val_recall: 0.5731\n",
      "Epoch 7/20\n",
      "\u001b[1m10625/10625\u001b[0m \u001b[32m━━━━━━━━━━━━━━━━━━━━\u001b[0m\u001b[37m\u001b[0m \u001b[1m20s\u001b[0m 2ms/step - accuracy: 0.6435 - loss: 0.6007 - recall: 0.5922 - val_accuracy: 0.6569 - val_loss: 0.5910 - val_recall: 0.5850\n",
      "\u001b[1m2657/2657\u001b[0m \u001b[32m━━━━━━━━━━━━━━━━━━━━\u001b[0m\u001b[37m\u001b[0m \u001b[1m3s\u001b[0m 1ms/step\n",
      "\n",
      "Fold 2\n",
      "Epoch 1/20\n"
     ]
    },
    {
     "name": "stderr",
     "output_type": "stream",
     "text": [
      "/usr/local/lib/python3.10/dist-packages/keras/src/layers/core/dense.py:87: UserWarning: Do not pass an `input_shape`/`input_dim` argument to a layer. When using Sequential models, prefer using an `Input(shape)` object as the first layer in the model instead.\n",
      "  super().__init__(activity_regularizer=activity_regularizer, **kwargs)\n"
     ]
    },
    {
     "name": "stdout",
     "output_type": "stream",
     "text": [
      "\u001b[1m10625/10625\u001b[0m \u001b[32m━━━━━━━━━━━━━━━━━━━━\u001b[0m\u001b[37m\u001b[0m \u001b[1m24s\u001b[0m 2ms/step - accuracy: 0.6087 - loss: 0.6442 - recall_1: 0.5660 - val_accuracy: 0.6516 - val_loss: 0.5946 - val_recall_1: 0.5602\n",
      "Epoch 2/20\n",
      "\u001b[1m10625/10625\u001b[0m \u001b[32m━━━━━━━━━━━━━━━━━━━━\u001b[0m\u001b[37m\u001b[0m \u001b[1m20s\u001b[0m 2ms/step - accuracy: 0.6430 - loss: 0.6041 - recall_1: 0.5760 - val_accuracy: 0.6544 - val_loss: 0.5928 - val_recall_1: 0.5380\n",
      "Epoch 3/20\n",
      "\u001b[1m10625/10625\u001b[0m \u001b[32m━━━━━━━━━━━━━━━━━━━━\u001b[0m\u001b[37m\u001b[0m \u001b[1m20s\u001b[0m 2ms/step - accuracy: 0.6438 - loss: 0.6034 - recall_1: 0.5819 - val_accuracy: 0.6544 - val_loss: 0.5923 - val_recall_1: 0.5400\n",
      "Epoch 4/20\n",
      "\u001b[1m10625/10625\u001b[0m \u001b[32m━━━━━━━━━━━━━━━━━━━━\u001b[0m\u001b[37m\u001b[0m \u001b[1m20s\u001b[0m 2ms/step - accuracy: 0.6443 - loss: 0.6030 - recall_1: 0.5820 - val_accuracy: 0.6546 - val_loss: 0.5921 - val_recall_1: 0.5482\n",
      "Epoch 5/20\n",
      "\u001b[1m10625/10625\u001b[0m \u001b[32m━━━━━━━━━━━━━━━━━━━━\u001b[0m\u001b[37m\u001b[0m \u001b[1m20s\u001b[0m 2ms/step - accuracy: 0.6427 - loss: 0.6033 - recall_1: 0.5805 - val_accuracy: 0.6547 - val_loss: 0.5919 - val_recall_1: 0.5621\n",
      "\u001b[1m2657/2657\u001b[0m \u001b[32m━━━━━━━━━━━━━━━━━━━━\u001b[0m\u001b[37m\u001b[0m \u001b[1m3s\u001b[0m 1ms/step\n",
      "\n",
      "Fold 3\n",
      "Epoch 1/20\n"
     ]
    },
    {
     "name": "stderr",
     "output_type": "stream",
     "text": [
      "/usr/local/lib/python3.10/dist-packages/keras/src/layers/core/dense.py:87: UserWarning: Do not pass an `input_shape`/`input_dim` argument to a layer. When using Sequential models, prefer using an `Input(shape)` object as the first layer in the model instead.\n",
      "  super().__init__(activity_regularizer=activity_regularizer, **kwargs)\n"
     ]
    },
    {
     "name": "stdout",
     "output_type": "stream",
     "text": [
      "\u001b[1m10625/10625\u001b[0m \u001b[32m━━━━━━━━━━━━━━━━━━━━\u001b[0m\u001b[37m\u001b[0m \u001b[1m23s\u001b[0m 2ms/step - accuracy: 0.6080 - loss: 0.6405 - recall_2: 0.5682 - val_accuracy: 0.6523 - val_loss: 0.5947 - val_recall_2: 0.5525\n",
      "Epoch 2/20\n",
      "\u001b[1m10625/10625\u001b[0m \u001b[32m━━━━━━━━━━━━━━━━━━━━\u001b[0m\u001b[37m\u001b[0m \u001b[1m20s\u001b[0m 2ms/step - accuracy: 0.6437 - loss: 0.6032 - recall_2: 0.5799 - val_accuracy: 0.6559 - val_loss: 0.5920 - val_recall_2: 0.5586\n",
      "Epoch 3/20\n",
      "\u001b[1m10625/10625\u001b[0m \u001b[32m━━━━━━━━━━━━━━━━━━━━\u001b[0m\u001b[37m\u001b[0m \u001b[1m20s\u001b[0m 2ms/step - accuracy: 0.6433 - loss: 0.6027 - recall_2: 0.5840 - val_accuracy: 0.6562 - val_loss: 0.5917 - val_recall_2: 0.5592\n",
      "Epoch 4/20\n",
      "\u001b[1m10625/10625\u001b[0m \u001b[32m━━━━━━━━━━━━━━━━━━━━\u001b[0m\u001b[37m\u001b[0m \u001b[1m20s\u001b[0m 2ms/step - accuracy: 0.6441 - loss: 0.6022 - recall_2: 0.5851 - val_accuracy: 0.6553 - val_loss: 0.5915 - val_recall_2: 0.5719\n",
      "Epoch 5/20\n",
      "\u001b[1m10625/10625\u001b[0m \u001b[32m━━━━━━━━━━━━━━━━━━━━\u001b[0m\u001b[37m\u001b[0m \u001b[1m20s\u001b[0m 2ms/step - accuracy: 0.6436 - loss: 0.6030 - recall_2: 0.5829 - val_accuracy: 0.6554 - val_loss: 0.5914 - val_recall_2: 0.5816\n",
      "\u001b[1m2657/2657\u001b[0m \u001b[32m━━━━━━━━━━━━━━━━━━━━\u001b[0m\u001b[37m\u001b[0m \u001b[1m3s\u001b[0m 1ms/step\n",
      "\n",
      "Fold 4\n",
      "Epoch 1/20\n"
     ]
    },
    {
     "name": "stderr",
     "output_type": "stream",
     "text": [
      "/usr/local/lib/python3.10/dist-packages/keras/src/layers/core/dense.py:87: UserWarning: Do not pass an `input_shape`/`input_dim` argument to a layer. When using Sequential models, prefer using an `Input(shape)` object as the first layer in the model instead.\n",
      "  super().__init__(activity_regularizer=activity_regularizer, **kwargs)\n"
     ]
    },
    {
     "name": "stdout",
     "output_type": "stream",
     "text": [
      "\u001b[1m10625/10625\u001b[0m \u001b[32m━━━━━━━━━━━━━━━━━━━━\u001b[0m\u001b[37m\u001b[0m \u001b[1m23s\u001b[0m 2ms/step - accuracy: 0.6108 - loss: 0.6374 - recall_3: 0.5655 - val_accuracy: 0.6548 - val_loss: 0.5927 - val_recall_3: 0.5730\n",
      "Epoch 2/20\n",
      "\u001b[1m10625/10625\u001b[0m \u001b[32m━━━━━━━━━━━━━━━━━━━━\u001b[0m\u001b[37m\u001b[0m \u001b[1m20s\u001b[0m 2ms/step - accuracy: 0.6434 - loss: 0.6020 - recall_3: 0.5844 - val_accuracy: 0.6575 - val_loss: 0.5908 - val_recall_3: 0.5629\n",
      "Epoch 3/20\n",
      "\u001b[1m10625/10625\u001b[0m \u001b[32m━━━━━━━━━━━━━━━━━━━━\u001b[0m\u001b[37m\u001b[0m \u001b[1m20s\u001b[0m 2ms/step - accuracy: 0.6472 - loss: 0.6005 - recall_3: 0.5890 - val_accuracy: 0.6572 - val_loss: 0.5906 - val_recall_3: 0.5605\n",
      "Epoch 4/20\n",
      "\u001b[1m10625/10625\u001b[0m \u001b[32m━━━━━━━━━━━━━━━━━━━━\u001b[0m\u001b[37m\u001b[0m \u001b[1m20s\u001b[0m 2ms/step - accuracy: 0.6467 - loss: 0.6004 - recall_3: 0.5863 - val_accuracy: 0.6578 - val_loss: 0.5903 - val_recall_3: 0.5824\n",
      "Epoch 5/20\n",
      "\u001b[1m10625/10625\u001b[0m \u001b[32m━━━━━━━━━━━━━━━━━━━━\u001b[0m\u001b[37m\u001b[0m \u001b[1m20s\u001b[0m 2ms/step - accuracy: 0.6463 - loss: 0.6002 - recall_3: 0.5868 - val_accuracy: 0.6571 - val_loss: 0.5905 - val_recall_3: 0.5700\n",
      "\u001b[1m2657/2657\u001b[0m \u001b[32m━━━━━━━━━━━━━━━━━━━━\u001b[0m\u001b[37m\u001b[0m \u001b[1m3s\u001b[0m 1ms/step\n",
      "\n",
      "Fold 5\n",
      "Epoch 1/20\n"
     ]
    },
    {
     "name": "stderr",
     "output_type": "stream",
     "text": [
      "/usr/local/lib/python3.10/dist-packages/keras/src/layers/core/dense.py:87: UserWarning: Do not pass an `input_shape`/`input_dim` argument to a layer. When using Sequential models, prefer using an `Input(shape)` object as the first layer in the model instead.\n",
      "  super().__init__(activity_regularizer=activity_regularizer, **kwargs)\n"
     ]
    },
    {
     "name": "stdout",
     "output_type": "stream",
     "text": [
      "\u001b[1m10625/10625\u001b[0m \u001b[32m━━━━━━━━━━━━━━━━━━━━\u001b[0m\u001b[37m\u001b[0m \u001b[1m23s\u001b[0m 2ms/step - accuracy: 0.6119 - loss: 0.6371 - recall_4: 0.5644 - val_accuracy: 0.6520 - val_loss: 0.5947 - val_recall_4: 0.5544\n",
      "Epoch 2/20\n",
      "\u001b[1m10625/10625\u001b[0m \u001b[32m━━━━━━━━━━━━━━━━━━━━\u001b[0m\u001b[37m\u001b[0m \u001b[1m20s\u001b[0m 2ms/step - accuracy: 0.6450 - loss: 0.6005 - recall_4: 0.5842 - val_accuracy: 0.6542 - val_loss: 0.5922 - val_recall_4: 0.5715\n",
      "Epoch 3/20\n",
      "\u001b[1m10625/10625\u001b[0m \u001b[32m━━━━━━━━━━━━━━━━━━━━\u001b[0m\u001b[37m\u001b[0m \u001b[1m20s\u001b[0m 2ms/step - accuracy: 0.6451 - loss: 0.6016 - recall_4: 0.5836 - val_accuracy: 0.6541 - val_loss: 0.5921 - val_recall_4: 0.5781\n",
      "Epoch 4/20\n",
      "\u001b[1m10625/10625\u001b[0m \u001b[32m━━━━━━━━━━━━━━━━━━━━\u001b[0m\u001b[37m\u001b[0m \u001b[1m20s\u001b[0m 2ms/step - accuracy: 0.6468 - loss: 0.6004 - recall_4: 0.5829 - val_accuracy: 0.6540 - val_loss: 0.5923 - val_recall_4: 0.5564\n",
      "Epoch 5/20\n",
      "\u001b[1m10625/10625\u001b[0m \u001b[32m━━━━━━━━━━━━━━━━━━━━\u001b[0m\u001b[37m\u001b[0m \u001b[1m20s\u001b[0m 2ms/step - accuracy: 0.6450 - loss: 0.6000 - recall_4: 0.5822 - val_accuracy: 0.6540 - val_loss: 0.5921 - val_recall_4: 0.5887\n",
      "\u001b[1m2657/2657\u001b[0m \u001b[32m━━━━━━━━━━━━━━━━━━━━\u001b[0m\u001b[37m\u001b[0m \u001b[1m3s\u001b[0m 1ms/step\n"
     ]
    }
   ],
   "source": [
    "# Convert data to float32 (required by TensorFlow)\n",
    "X_trainval = np.array(X_trainval, dtype=np.float32)\n",
    "y_trainval = np.array(y_trainval, dtype=np.float32)\n",
    "\n",
    "# Lists to store results\n",
    "conf_matrices_mlp = []\n",
    "classification_reports_mlp = []\n",
    "macro_f1_scores_mlp = []\n",
    "count = 0\n",
    "\n",
    "# Manually loop over each fold\n",
    "for train_index, test_index in kf.split(X_trainval):\n",
    "    count += 1\n",
    "    print(f\"\\nFold {count}\")\n",
    "\n",
    "    # Split data for this fold\n",
    "    X_train, X_val = X_trainval[train_index], X_trainval[test_index]\n",
    "    y_train, y_val = y_trainval[train_index], y_trainval[test_index]\n",
    "\n",
    "    # Build and train the model\n",
    "    model_mlp = build_model()\n",
    "    model_mlp.fit(X_train, y_train, validation_data=(X_val, y_val), epochs=20, batch_size=32, verbose=1, callbacks=[early_stopping])\n",
    "\n",
    "    # Make predictions\n",
    "    y_pred_mlp = model_mlp.predict(X_val)\n",
    "    y_pred_mlp = (y_pred_mlp > 0.5).astype(int)  # Convert probabilities to binary class predictions\n",
    "\n",
    "    # Store confusion matrix and classification report for each fold\n",
    "    conf_matrices_mlp.append(confusion_matrix(y_val, y_pred_mlp))\n",
    "    classification_reports_mlp.append(classification_report(y_val, y_pred_mlp, output_dict=True))\n",
    "\n",
    "    fold_macro_f1 = f1_score(y_val, y_pred_mlp, average='macro')\n",
    "    macro_f1_scores_mlp.append(fold_macro_f1)"
   ]
  },
  {
   "cell_type": "code",
   "execution_count": 37,
   "metadata": {
    "colab": {
     "base_uri": "https://localhost:8080/"
    },
    "id": "EDTiyy8DVxV5",
    "outputId": "e6ff222b-330f-4313-8efc-7bf05f26a537"
   },
   "outputs": [
    {
     "name": "stdout",
     "output_type": "stream",
     "text": [
      "\n",
      "Fold 1\n",
      "Confusion Matrix:\n",
      "[[32122 10449]\n",
      " [18677 23752]]\n",
      "\n",
      "Classification Report:\n",
      "0.0: {'precision': 0.6323352821905943, 'recall': 0.7545512203142984, 'f1-score': 0.6880582628253187, 'support': 42571.0}\n",
      "1.0: {'precision': 0.6944826174673255, 'recall': 0.559805793207476, 'f1-score': 0.6199138718517552, 'support': 42429.0}\n",
      "accuracy: 0.6573411764705882\n",
      "macro avg: {'precision': 0.6634089498289599, 'recall': 0.6571785067608873, 'f1-score': 0.6539860673385369, 'support': 85000.0}\n",
      "weighted avg: {'precision': 0.6633570385253759, 'recall': 0.6573411764705882, 'f1-score': 0.6540429879474677, 'support': 85000.0}\n",
      "\n",
      "Fold 2\n",
      "Confusion Matrix:\n",
      "[[31530 10887]\n",
      " [18729 23854]]\n",
      "\n",
      "Classification Report:\n",
      "0.0: {'precision': 0.627350325314869, 'recall': 0.7433340405969304, 'f1-score': 0.6804350640942639, 'support': 42417.0}\n",
      "1.0: {'precision': 0.6866238738090441, 'recall': 0.5601765962942958, 'f1-score': 0.6169882572034556, 'support': 42583.0}\n",
      "accuracy: 0.6515764705882353\n",
      "macro avg: {'precision': 0.6569870995619566, 'recall': 0.6517553184456131, 'f1-score': 0.6487116606488598, 'support': 85000.0}\n",
      "weighted avg: {'precision': 0.6570449784387214, 'recall': 0.6515764705882353, 'f1-score': 0.6486497067080135, 'support': 85000.0}\n",
      "\n",
      "Fold 3\n",
      "Confusion Matrix:\n",
      "[[32118 10670]\n",
      " [18888 23324]]\n",
      "\n",
      "Classification Report:\n",
      "0.0: {'precision': 0.6296906246323962, 'recall': 0.7506310180424418, 'f1-score': 0.6848625711665991, 'support': 42788.0}\n",
      "1.0: {'precision': 0.6861210801906219, 'recall': 0.5525443001989956, 'f1-score': 0.6121302784557646, 'support': 42212.0}\n",
      "accuracy: 0.6522588235294118\n",
      "macro avg: {'precision': 0.6579058524115091, 'recall': 0.6515876591207187, 'f1-score': 0.6484964248111819, 'support': 85000.0}\n",
      "weighted avg: {'precision': 0.6577146527503235, 'recall': 0.6522588235294118, 'f1-score': 0.6487428589323667, 'support': 85000.0}\n",
      "\n",
      "Fold 4\n",
      "Confusion Matrix:\n",
      "[[31293 11181]\n",
      " [18160 24366]]\n",
      "\n",
      "Classification Report:\n",
      "0.0: {'precision': 0.6327826421046245, 'recall': 0.7367566040401187, 'f1-score': 0.6808228268082283, 'support': 42474.0}\n",
      "1.0: {'precision': 0.6854586884969196, 'recall': 0.5729671259935099, 'f1-score': 0.6241850575743215, 'support': 42526.0}\n",
      "accuracy: 0.6548117647058823\n",
      "macro avg: {'precision': 0.6591206653007721, 'recall': 0.6548618650168143, 'f1-score': 0.6525039421912748, 'support': 85000.0}\n",
      "weighted avg: {'precision': 0.6591367779737862, 'recall': 0.6548117647058823, 'f1-score': 0.6524866176971563, 'support': 85000.0}\n",
      "\n",
      "Fold 5\n",
      "Confusion Matrix:\n",
      "[[31689 10511]\n",
      " [19072 23728]]\n",
      "\n",
      "Classification Report:\n",
      "0.0: {'precision': 0.6242784815113965, 'recall': 0.7509241706161137, 'f1-score': 0.6817697744215316, 'support': 42200.0}\n",
      "1.0: {'precision': 0.6930108940097549, 'recall': 0.554392523364486, 'f1-score': 0.6159996884694765, 'support': 42800.0}\n",
      "accuracy: 0.6519647058823529\n",
      "macro avg: {'precision': 0.6586446877605757, 'recall': 0.6526583469902998, 'f1-score': 0.6488847314455041, 'support': 85000.0}\n",
      "weighted avg: {'precision': 0.6588872727458641, 'recall': 0.6519647058823529, 'f1-score': 0.6486526017303792, 'support': 85000.0}\n"
     ]
    }
   ],
   "source": [
    "# Display results for each fold\n",
    "for i in range(k):\n",
    "    print(f\"\\nFold {i+1}\")\n",
    "    print(\"Confusion Matrix:\")\n",
    "    print(conf_matrices_mlp[i])\n",
    "    print(\"\\nClassification Report:\")\n",
    "    for label, metrics in classification_reports_mlp[i].items():\n",
    "        print(f\"{label}: {metrics}\")"
   ]
  },
  {
   "cell_type": "code",
   "execution_count": 38,
   "metadata": {
    "colab": {
     "base_uri": "https://localhost:8080/"
    },
    "id": "LL1aKERyVxV6",
    "outputId": "b1dd1ce5-1610-49d1-8865-7df83733a484"
   },
   "outputs": [
    {
     "name": "stdout",
     "output_type": "stream",
     "text": [
      "\n",
      "Average Accuracy MLP: 0.6535905882352941\n",
      "Standard Deviation: 0.0021923478116703085\n",
      "\n",
      "Average Macro F1 Score MLP: 0.6505165652870716\n",
      "\n",
      "Average Recall for class 1.0: 0.5599772678117526\n"
     ]
    }
   ],
   "source": [
    "# Calculate average accuracy\n",
    "accuracies_mlp = [report['accuracy'] for report in classification_reports_mlp]\n",
    "average_accuracy_mlp = np.mean(accuracies_mlp)\n",
    "print(f\"\\nAverage Accuracy MLP: {average_accuracy_mlp}\")\n",
    "\n",
    "\n",
    "# Caluculate average standard deviation of accuracies\n",
    "std_dev_mlp = np.std(accuracies_mlp)\n",
    "print(f\"Standard Deviation: {std_dev_mlp}\")\n",
    "\n",
    "\n",
    "# Calculate average f1-score\n",
    "average_macro_f1_mlp = sum(macro_f1_scores_mlp) / len(macro_f1_scores_mlp)\n",
    "print(f\"\\nAverage Macro F1 Score MLP: {average_macro_f1_mlp}\")\n",
    "\n",
    "\n",
    "# Collect the recall for the '1.0' class from each fold\n",
    "recall_class_1_mlp = [report_mlp['1.0']['recall'] for report_mlp in classification_reports_mlp]\n",
    "# Calculate the average recall for the '1.0' class across all folds\n",
    "average_recall_class_1_mlp = np.mean(recall_class_1_mlp)\n",
    "print(f\"\\nAverage Recall for class 1.0: {average_recall_class_1_mlp}\")"
   ]
  },
  {
   "cell_type": "code",
   "execution_count": 39,
   "metadata": {
    "colab": {
     "base_uri": "https://localhost:8080/"
    },
    "id": "d_AXaDrjVxV6",
    "outputId": "b045ffd6-b59f-42a1-a3a1-878fc0582a45"
   },
   "outputs": [
    {
     "name": "stdout",
     "output_type": "stream",
     "text": [
      "{'average_accuracy': 0.6535905882352941, 'std_dev_accuracy': 0.0021923478116703085, 'average_macro_f1': 0.6505165652870716, 'average_recall_class_1': 0.5599772678117526, 'accuracies_per_fold': [0.6573411764705882, 0.6515764705882353, 0.6522588235294118, 0.6548117647058823, 0.6519647058823529], 'recall_class_1_per_fold': [0.559805793207476, 0.5601765962942958, 0.5525443001989956, 0.5729671259935099, 0.554392523364486]}\n"
     ]
    }
   ],
   "source": [
    "# saving outputs\n",
    "\n",
    "# Example metrics\n",
    "metrics_mlp = {\n",
    "    \"average_accuracy\": average_accuracy_mlp,\n",
    "    \"std_dev_accuracy\": std_dev_mlp,\n",
    "    \"average_macro_f1\": average_macro_f1_mlp,\n",
    "    \"average_recall_class_1\": average_recall_class_1_mlp,\n",
    "    \"accuracies_per_fold\": accuracies_mlp,\n",
    "    \"recall_class_1_per_fold\": recall_class_1_mlp\n",
    "}\n",
    "\n",
    "# Print the dictionary to verify\n",
    "print(metrics_mlp)\n",
    "\n",
    "\n",
    "import json\n",
    "# Save the metrics dictionary as JSON\n",
    "with open(\"metrics_mlp_nw.json\", \"w\") as f:\n",
    "    json.dump(metrics_mlp, f, indent=4)"
   ]
  },
  {
   "cell_type": "markdown",
   "metadata": {
    "id": "7xhpAtu3VxV6"
   },
   "source": [
    "## Dataframe with results"
   ]
  },
  {
   "cell_type": "code",
   "execution_count": 1,
   "metadata": {},
   "outputs": [],
   "source": [
    "import json\n",
    "import pandas as pd"
   ]
  },
  {
   "cell_type": "code",
   "execution_count": 2,
   "metadata": {
    "id": "_SkGPchMVxV6"
   },
   "outputs": [],
   "source": [
    "# Load the metrics dictionaries\n",
    "with open(\"metrics_lr_nw.json\", \"r\") as f:\n",
    "    metrics_lr = json.load(f)\n",
    "\n",
    "with open(\"metrics_rf_nw.json\", \"r\") as f:\n",
    "    metrics_rf = json.load(f)\n",
    "\n",
    "with open(\"metrics_svm_nw.json\", \"r\") as f:\n",
    "    metrics_svm = json.load(f)\n",
    "\n",
    "with open(\"metrics_mlp_nw.json\", \"r\") as f:\n",
    "    metrics_mlp = json.load(f)"
   ]
  },
  {
   "cell_type": "code",
   "execution_count": 3,
   "metadata": {
    "id": "l-bZdc_8VxV8"
   },
   "outputs": [],
   "source": [
    "# List of model names\n",
    "model_names = ['Logistic Regression', 'Random Forest', 'SVM', 'MLP']\n",
    "\n",
    "# Collect the accuracy and recall values by calling the variables\n",
    "accuracies = [metrics_lr['average_accuracy'], metrics_rf['average_accuracy'], metrics_svm['average_accuracy'], metrics_mlp['average_accuracy']]\n",
    "recalls = [metrics_lr['average_recall_class_1'], metrics_rf['average_recall_class_1'], metrics_svm['average_recall_class_1'], metrics_mlp['average_recall_class_1']]\n",
    "f1s = [metrics_lr['average_macro_f1'], metrics_rf['average_macro_f1'], metrics_svm['average_macro_f1'], metrics_mlp['average_macro_f1']]\n",
    "std_devs = [metrics_lr['std_dev_accuracy'], metrics_rf['std_dev_accuracy'], metrics_svm['std_dev_accuracy'], metrics_mlp['std_dev_accuracy']]\n",
    "\n",
    "# Create a dictionary for the DataFrame\n",
    "data = {\n",
    "    'Model': model_names,\n",
    "    'Recall class 1': recalls,\n",
    "    'F1-score': f1s,\n",
    "    'Accuracy': accuracies,\n",
    "    'Std Dev Accuracy': std_devs\n",
    "}\n",
    "\n",
    "# Create the DataFrame\n",
    "df_results = pd.DataFrame(data)"
   ]
  },
  {
   "cell_type": "code",
   "execution_count": 4,
   "metadata": {
    "colab": {
     "base_uri": "https://localhost:8080/",
     "height": 175
    },
    "id": "IrftByPgVxV8",
    "outputId": "863e56bf-c544-4774-b7bc-61d5e5f2087e"
   },
   "outputs": [
    {
     "data": {
      "text/html": [
       "<div>\n",
       "<style scoped>\n",
       "    .dataframe tbody tr th:only-of-type {\n",
       "        vertical-align: middle;\n",
       "    }\n",
       "\n",
       "    .dataframe tbody tr th {\n",
       "        vertical-align: top;\n",
       "    }\n",
       "\n",
       "    .dataframe thead th {\n",
       "        text-align: right;\n",
       "    }\n",
       "</style>\n",
       "<table border=\"1\" class=\"dataframe\">\n",
       "  <thead>\n",
       "    <tr style=\"text-align: right;\">\n",
       "      <th></th>\n",
       "      <th>Model</th>\n",
       "      <th>Recall class 1</th>\n",
       "      <th>F1-score</th>\n",
       "      <th>Accuracy</th>\n",
       "      <th>Std Dev Accuracy</th>\n",
       "    </tr>\n",
       "  </thead>\n",
       "  <tbody>\n",
       "    <tr>\n",
       "      <th>0</th>\n",
       "      <td>Logistic Regression</td>\n",
       "      <td>0.473971</td>\n",
       "      <td>0.591749</td>\n",
       "      <td>0.598021</td>\n",
       "      <td>0.001387</td>\n",
       "    </tr>\n",
       "    <tr>\n",
       "      <th>1</th>\n",
       "      <td>Random Forest</td>\n",
       "      <td>0.677876</td>\n",
       "      <td>0.706471</td>\n",
       "      <td>0.706713</td>\n",
       "      <td>0.001181</td>\n",
       "    </tr>\n",
       "    <tr>\n",
       "      <th>2</th>\n",
       "      <td>SVM</td>\n",
       "      <td>0.486236</td>\n",
       "      <td>0.645447</td>\n",
       "      <td>0.655607</td>\n",
       "      <td>0.001508</td>\n",
       "    </tr>\n",
       "    <tr>\n",
       "      <th>3</th>\n",
       "      <td>MLP</td>\n",
       "      <td>0.559977</td>\n",
       "      <td>0.650517</td>\n",
       "      <td>0.653591</td>\n",
       "      <td>0.002192</td>\n",
       "    </tr>\n",
       "  </tbody>\n",
       "</table>\n",
       "</div>"
      ],
      "text/plain": [
       "                 Model  Recall class 1  F1-score  Accuracy  Std Dev Accuracy\n",
       "0  Logistic Regression        0.473971  0.591749  0.598021          0.001387\n",
       "1        Random Forest        0.677876  0.706471  0.706713          0.001181\n",
       "2                  SVM        0.486236  0.645447  0.655607          0.001508\n",
       "3                  MLP        0.559977  0.650517  0.653591          0.002192"
      ]
     },
     "execution_count": 4,
     "metadata": {},
     "output_type": "execute_result"
    }
   ],
   "source": [
    "df_results"
   ]
  },
  {
   "cell_type": "code",
   "execution_count": 5,
   "metadata": {
    "colab": {
     "base_uri": "https://localhost:8080/",
     "height": 617
    },
    "id": "7uhdHrnrVxV9",
    "outputId": "7783940f-0426-43d8-d8f4-4b048d5ffc59"
   },
   "outputs": [
    {
     "data": {
      "image/png": "[encoded data removed]",
      "text/plain": [
       "<Figure size 600x600 with 1 Axes>"
      ]
     },
     "metadata": {},
     "output_type": "display_data"
    }
   ],
   "source": [
    "import numpy as np\n",
    "import matplotlib.pyplot as plt\n",
    "\n",
    "# Data\n",
    "labels = ['Recall', 'F1 Score', 'Accuracy']\n",
    "datasets = {\n",
    "    'Logistic Regression': [df_results.loc[0, \"Recall class 1\"], df_results.loc[0, \"F1-score\"],\tdf_results.loc[0, \"Accuracy\"]],\n",
    "    'Random Forest': [df_results.loc[1, \"Recall class 1\"], df_results.loc[1, \"F1-score\"],\tdf_results.loc[1, \"Accuracy\"]],\n",
    "    'SVM': [df_results.loc[2, \"Recall class 1\"], df_results.loc[2, \"F1-score\"],\tdf_results.loc[2, \"Accuracy\"]],\n",
    "    'MLP': [df_results.loc[3, \"Recall class 1\"], df_results.loc[3, \"F1-score\"],\tdf_results.loc[3, \"Accuracy\"]]\n",
    "}\n",
    "\n",
    "# Number of variables (features)\n",
    "num_vars = len(labels)\n",
    "\n",
    "# Calculate angle for each axis\n",
    "angles = np.linspace(0, 2 * np.pi, num_vars, endpoint=False).tolist()\n",
    "\n",
    "# Complete the loop by repeating the first point to close the polygon\n",
    "angles += angles[:1]\n",
    "\n",
    "# Create a radar chart\n",
    "fig, ax = plt.subplots(figsize=(6, 6), dpi=100, subplot_kw=dict(polar=True))\n",
    "\n",
    "# Colors for each dataset\n",
    "colors = ['#1f77b4', '#ff7f0e', '#2ca02c', '#d62728']\n",
    "\n",
    "# Plot each dataset\n",
    "for idx, (dataset, values) in enumerate(datasets.items()):\n",
    "    values += values[:1]  # Ensure the loop closes\n",
    "    ax.fill(angles, values, color=colors[idx], alpha=0.25)  # Fill the area\n",
    "    ax.plot(angles, values, color=colors[idx], linewidth=2, label=dataset)  # Plot the line\n",
    "\n",
    "# Add labels\n",
    "ax.set_yticklabels([])  # Hide radial ticks\n",
    "ax.set_xticks(angles[:-1])  # Place labels at each axis\n",
    "ax.set_xticklabels(labels)\n",
    "\n",
    "# Add legend\n",
    "plt.legend(loc='upper center', bbox_to_anchor=(0.5, -0.1), ncol=2)\n",
    "\n",
    "# Show plot\n",
    "plt.show()"
   ]
  },
  {
   "cell_type": "markdown",
   "metadata": {
    "id": "4z1MoBIzVxV9"
   },
   "source": [
    "## Random search on best model"
   ]
  },
  {
   "cell_type": "markdown",
   "metadata": {
    "id": "n7zuK-HWVxV9"
   },
   "source": [
    "After looking at the df of above, it can be seen that the best model is the Random Forest model. I therefore will perform random search on this model"
   ]
  },
  {
   "cell_type": "code",
   "execution_count": 44,
   "metadata": {
    "id": "kEb0oEBAVxV9"
   },
   "outputs": [],
   "source": [
    "# Further splitting trainval into train and validation set to tune hyperparameters on the validation set\n",
    "# Training set: 70%, Validation set: 15%, Test set: 15% (still the same test set)\n",
    "\n",
    "X_train, X_val, y_train, y_val = train_test_split(X_trainval, y_trainval, test_size=(15/85), random_state=42)"
   ]
  },
  {
   "cell_type": "code",
   "execution_count": 45,
   "metadata": {
    "colab": {
     "base_uri": "https://localhost:8080/"
    },
    "id": "yM2ITCKNVxV9",
    "outputId": "59371d83-e2eb-4415-a74a-7810cb3c584e"
   },
   "outputs": [
    {
     "name": "stdout",
     "output_type": "stream",
     "text": [
      "(350000, 45)\n",
      "The percentage of the original dataset that is used for training is: 70.0 %\n"
     ]
    }
   ],
   "source": [
    "print(X_train.shape)\n",
    "print(f\"The percentage of the original dataset that is used for training is: {X_train.shape[0]/dfnw.shape[0]*100} %\")"
   ]
  },
  {
   "cell_type": "code",
   "execution_count": 46,
   "metadata": {
    "id": "vPz52zAfVxV9"
   },
   "outputs": [],
   "source": [
    "from scipy.stats import randint  # For defining distributions for random search\n",
    "\n",
    "param_dist = {\n",
    "    'n_estimators': randint(50, 300),                       # Number of trees in the forest (uniform distribution between 50 and 200)\n",
    "    'max_depth': [None] + list(randint(1, 30).rvs(10)),     # Random depth values including None\n",
    "    'min_samples_split': randint(2, 10),                    # Minimum samples required to split an internal node\n",
    "    'min_samples_leaf': randint(1, 5)                       # Minimum samples required to be at a leaf node\n",
    "}"
   ]
  },
  {
   "cell_type": "code",
   "execution_count": 47,
   "metadata": {
    "id": "hAfAEmE0VxV-"
   },
   "outputs": [],
   "source": [
    "# Initialize the Random Forest Classifier\n",
    "from sklearn.ensemble import RandomForestClassifier\n",
    "from sklearn.model_selection import RandomizedSearchCV\n",
    "\n",
    "rf_model_search = RandomForestClassifier(random_state=42)  # Random state for reproducibility\n"
   ]
  },
  {
   "cell_type": "code",
   "execution_count": 48,
   "metadata": {
    "colab": {
     "base_uri": "https://localhost:8080/"
    },
    "id": "fHMaRLX8VxV-",
    "outputId": "cc48df1e-4ef4-48fa-e40e-2c07ff9284f0"
   },
   "outputs": [
    {
     "name": "stdout",
     "output_type": "stream",
     "text": [
      "Fitting 5 folds for each of 20 candidates, totalling 100 fits\n"
     ]
    },
    {
     "name": "stderr",
     "output_type": "stream",
     "text": [
      "/usr/local/lib/python3.10/dist-packages/joblib/externals/loky/process_executor.py:752: UserWarning: A worker stopped while some jobs were given to the executor. This can be caused by a too short worker timeout or by a memory leak.\n",
      "  warnings.warn(\n"
     ]
    },
    {
     "name": "stdout",
     "output_type": "stream",
     "text": [
      "Best Parameters: {'max_depth': 26, 'min_samples_leaf': 1, 'min_samples_split': 2, 'n_estimators': 248}\n",
      "Best Cross-Validation Score: 0.7027942857142857\n"
     ]
    }
   ],
   "source": [
    "# Set up RandomizedSearchCV\n",
    "random_search = RandomizedSearchCV(estimator=rf_model_search,\n",
    "                           param_distributions=param_dist,\n",
    "                           n_iter=20,               # Number of parameter settings that are sampled\n",
    "                           scoring='accuracy',      # Use recall as the evaluation metric\n",
    "                           cv=k,\n",
    "                           verbose=2,\n",
    "                           n_jobs=-1)               # Use all available cores\n",
    "\n",
    "# Fit RandomizedSearchCV\n",
    "random_search.fit(X_train, y_train)\n",
    "\n",
    "# Get the best parameters and best score\n",
    "print(\"Best Parameters:\", random_search.best_params_)\n",
    "print(\"Best Cross-Validation Score:\", random_search.best_score_)"
   ]
  },
  {
   "cell_type": "code",
   "execution_count": 52,
   "metadata": {
    "id": "bc8ybVdrVxV-"
   },
   "outputs": [],
   "source": [
    "import json\n",
    "import numpy as np\n",
    "\n",
    "# Convert numpy.int64 to int (or other numpy types to native types)\n",
    "best_params = {key: int(value) if isinstance(value, np.integer) else value\n",
    "               for key, value in random_search.best_params_.items()}\n",
    "\n",
    "# save parameters to json file\n",
    "\n",
    "with open('best_params_nw50.json', 'w') as file:\n",
    "    json.dump(best_params, file)"
   ]
  },
  {
   "cell_type": "code",
   "execution_count": 53,
   "metadata": {
    "colab": {
     "base_uri": "https://localhost:8080/"
    },
    "id": "RMyYbaScVxV-",
    "outputId": "d3d4eeb8-f4e6-43a7-cfb6-dcf8b3fa7811"
   },
   "outputs": [
    {
     "name": "stdout",
     "output_type": "stream",
     "text": [
      "Accuracy on Validation Set: 0.70852\n",
      "[[28301  9328]\n",
      " [12533 24838]]\n",
      "              precision    recall  f1-score   support\n",
      "\n",
      "         0.0       0.69      0.75      0.72     37629\n",
      "         1.0       0.73      0.66      0.69     37371\n",
      "\n",
      "    accuracy                           0.71     75000\n",
      "   macro avg       0.71      0.71      0.71     75000\n",
      "weighted avg       0.71      0.71      0.71     75000\n",
      "\n",
      "Recall on Validation Set: 0.6646330042011185\n"
     ]
    }
   ],
   "source": [
    "y_pred_rf_random = random_search.predict(X_val)\n",
    "\n",
    "print(\"Accuracy on Validation Set:\", accuracy_score(y_val, y_pred_rf_random))\n",
    "print(confusion_matrix(y_val, y_pred_rf_random))\n",
    "print(classification_report(y_val, y_pred_rf_random))\n",
    "\n",
    "from sklearn.metrics import recall_score\n",
    "print(\"Recall on Validation Set:\", recall_score(y_val, y_pred_rf_random))"
   ]
  },
  {
   "cell_type": "markdown",
   "metadata": {
    "id": "ZfP-U8akVxV-"
   },
   "source": [
    "# Best found model on the test set"
   ]
  },
  {
   "cell_type": "code",
   "execution_count": 14,
   "metadata": {
    "id": "iw5-nsOSVxV-"
   },
   "outputs": [],
   "source": [
    "from sklearn.ensemble import RandomForestClassifier\n",
    "import json"
   ]
  },
  {
   "cell_type": "code",
   "execution_count": null,
   "metadata": {
    "id": "hRBAZVOMVxV-"
   },
   "outputs": [],
   "source": [
    "# Load best found parameters from a JSON file\n",
    "with open(\"best_params_nw50.json\", \"r\") as file:\n",
    "    best_params_nw50 = json.load(file)"
   ]
  },
  {
   "cell_type": "code",
   "execution_count": null,
   "metadata": {
    "id": "bRprb3gvVxV-"
   },
   "outputs": [],
   "source": [
    "# Retrain the model with the best parameters on the entire train-validation set\n",
    "final_model = RandomForestClassifier(**best_params_nw50, random_state=42)\n",
    "\n",
    "final_model.fit(X_trainval, y_trainval)\n",
    "\n",
    "# Make predictions on the test set\n",
    "y_pred_test = final_model.predict(X_test)"
   ]
  },
  {
   "cell_type": "code",
   "execution_count": 17,
   "metadata": {
    "id": "DGyBbzzJVxV-"
   },
   "outputs": [],
   "source": [
    "# predicting on the training set to be able to compare whether there is overfitting\n",
    "y_pred_train = final_model.predict(X_trainval)"
   ]
  },
  {
   "cell_type": "code",
   "execution_count": 18,
   "metadata": {
    "id": "hVPXIQlZVxV-"
   },
   "outputs": [
    {
     "name": "stdout",
     "output_type": "stream",
     "text": [
      "Accuracy train: 0.7791\n",
      "Accuracy test: 0.7138\n"
     ]
    }
   ],
   "source": [
    "# Calculate accuracy train set\n",
    "accuracy_train = accuracy_score(y_trainval, y_pred_train)\n",
    "print(f\"Accuracy train: {accuracy_train:.4f}\")\n",
    "\n",
    "# Calculate accuracy test set\n",
    "accuracy_test = accuracy_score(y_test, y_pred_test)\n",
    "print(f\"Accuracy test: {accuracy_test:.4f}\")"
   ]
  },
  {
   "cell_type": "code",
   "execution_count": 19,
   "metadata": {
    "id": "c8Q0DdPLVxV_"
   },
   "outputs": [
    {
     "name": "stdout",
     "output_type": "stream",
     "text": [
      "Recall for Class 1 test: 0.7453\n",
      "Recall for Class 1 test: 0.6727\n"
     ]
    }
   ],
   "source": [
    "# Calculate recall for class 1 on train set\n",
    "recall_class_1_train = recall_score(y_trainval, y_pred_train, pos_label=1)\n",
    "print(f\"Recall for Class 1 test: {recall_class_1_train:.4f}\")\n",
    "\n",
    "# Calculate recall for class 1 on test set\n",
    "recall_class_1_test = recall_score(y_test, y_pred_test, pos_label=1)\n",
    "print(f\"Recall for Class 1 test: {recall_class_1_test:.4f}\")"
   ]
  },
  {
   "cell_type": "code",
   "execution_count": 20,
   "metadata": {
    "id": "bMoO_T4uVxV_"
   },
   "outputs": [
    {
     "name": "stdout",
     "output_type": "stream",
     "text": [
      "F1-score train: 0.7788\n",
      "F1-score test: 0.7133\n"
     ]
    }
   ],
   "source": [
    "from sklearn.metrics import f1_score\n",
    "\n",
    "# Calculate F1-score for the train set\n",
    "f1_train = f1_score(y_trainval, y_pred_train, average='macro')\n",
    "print(f\"F1-score train: {f1_train:.4f}\")\n",
    "\n",
    "# Calculate F1-score for the test set\n",
    "f1_test = f1_score(y_test, y_pred_test, average='macro')\n",
    "print(f\"F1-score test: {f1_test:.4f}\")"
   ]
  },
  {
   "cell_type": "code",
   "execution_count": 21,
   "metadata": {
    "id": "LAll5JgRVxV_"
   },
   "outputs": [
    {
     "name": "stdout",
     "output_type": "stream",
     "text": [
      "Confusion Matrix:\n",
      " [[172695  39755]\n",
      " [ 54144 158406]]\n",
      "Classification Report:\n",
      "               precision    recall  f1-score   support\n",
      "\n",
      "           0       0.76      0.81      0.79    212450\n",
      "           1       0.80      0.75      0.77    212550\n",
      "\n",
      "    accuracy                           0.78    425000\n",
      "   macro avg       0.78      0.78      0.78    425000\n",
      "weighted avg       0.78      0.78      0.78    425000\n",
      "\n",
      "\n",
      "\n",
      "Confusion Matrix:\n",
      " [[28340  9210]\n",
      " [12258 25192]]\n",
      "Classification Report:\n",
      "               precision    recall  f1-score   support\n",
      "\n",
      "           0       0.70      0.75      0.73     37550\n",
      "           1       0.73      0.67      0.70     37450\n",
      "\n",
      "    accuracy                           0.71     75000\n",
      "   macro avg       0.72      0.71      0.71     75000\n",
      "weighted avg       0.72      0.71      0.71     75000\n",
      "\n"
     ]
    }
   ],
   "source": [
    "# Evaluate the model\n",
    "from sklearn.metrics import classification_report, confusion_matrix\n",
    "\n",
    "\n",
    "# Confusion Matrix train\n",
    "conf_matrix_train = confusion_matrix(y_trainval, y_pred_train)\n",
    "print(\"Confusion Matrix:\\n\", conf_matrix_train)\n",
    "\n",
    "# Classification Report train\n",
    "class_report_train = classification_report(y_trainval, y_pred_train)\n",
    "print(\"Classification Report:\\n\", class_report_train)\n",
    "\n",
    "print(\"\\n\")\n",
    "\n",
    "# Confusion Matrix test\n",
    "conf_matrix_test = confusion_matrix(y_test, y_pred_test)\n",
    "print(\"Confusion Matrix:\\n\", conf_matrix_test)\n",
    "\n",
    "# Classification Report test\n",
    "class_report_test = classification_report(y_test, y_pred_test)\n",
    "print(\"Classification Report:\\n\", class_report_test)"
   ]
  },
  {
   "cell_type": "code",
   "execution_count": 22,
   "metadata": {
    "id": "gzEnUc-VVxV_"
   },
   "outputs": [
    {
     "data": {
      "image/png": "[encoded data removed]",
      "text/plain": [
       "<Figure size 800x600 with 2 Axes>"
      ]
     },
     "metadata": {},
     "output_type": "display_data"
    }
   ],
   "source": [
    "# Plot the confusion matrix\n",
    "plt.figure(figsize=(8, 6))\n",
    "sns.heatmap(conf_matrix_test, annot=True, fmt='d', cmap='Blues', xticklabels=[\"Class 0\", \"Class 1\"], yticklabels=[\"Class 0\", \"Class 1\"])\n",
    "plt.title(\"Confusion Matrix\")\n",
    "plt.xlabel(\"Predicted Label\")\n",
    "plt.ylabel(\"True Label\")\n",
    "plt.show()"
   ]
  },
  {
   "cell_type": "code",
   "execution_count": 23,
   "metadata": {
    "id": "17jtV8HVVxV_"
   },
   "outputs": [],
   "source": [
    "# saving so I can open in another notebook\n",
    "\n",
    "import pickle\n",
    "\n",
    "performance_metrics = {\"Train\": {\"accuracy\": accuracy_train, \"conf_matrix\": conf_matrix_train, \"f1_score\": f1_train, \"recall\": recall_class_1_train},\n",
    "                       \"Test\": {\"accuracy\": accuracy_test, \"conf_matrix\": conf_matrix_test, \"f1_score\": f1_test, \"recall\": recall_class_1_test},\n",
    "                       }\n",
    "\n",
    "# Save to a pickle file\n",
    "with open(\"performance_metrics_nw50.pkl\", \"wb\") as f:\n",
    "    pickle.dump(performance_metrics, f)"
   ]
  },
  {
   "cell_type": "code",
   "execution_count": 24,
   "metadata": {
    "id": "Frd99vo8VxV_"
   },
   "outputs": [
    {
     "name": "stdout",
     "output_type": "stream",
     "text": [
      "0.7790611764705883\n"
     ]
    }
   ],
   "source": [
    "# test with loading from a pickle file to see if it works\n",
    "with open(\"performance_metrics_nw50.pkl\", \"rb\") as f:\n",
    "    loaded_metrics = pickle.load(f)\n",
    "\n",
    "print(loaded_metrics['Train']['accuracy'])"
   ]
  },
  {
   "cell_type": "markdown",
   "metadata": {
    "id": "_9IMu5qzVxWA"
   },
   "source": [
    "### Permutation feature importance"
   ]
  },
  {
   "cell_type": "code",
   "execution_count": 25,
   "metadata": {
    "id": "_Gd6L4c8VxWA"
   },
   "outputs": [],
   "source": [
    "from sklearn.inspection import permutation_importance\n",
    "\n",
    "# Calculate permutation feature importance\n",
    "result = permutation_importance(final_model, X_test, y_test, n_repeats=10, random_state=42)"
   ]
  },
  {
   "cell_type": "code",
   "execution_count": 26,
   "metadata": {
    "id": "SLEI8g9zVxWA",
    "outputId": "4081e64d-0e76-4079-bba0-336908ba1558"
   },
   "outputs": [
    {
     "data": {
      "image/png": "[encoded data removed]",
      "text/plain": [
       "<Figure size 1000x1000 with 1 Axes>"
      ]
     },
     "metadata": {},
     "output_type": "display_data"
    }
   ],
   "source": [
    "# Feature names\n",
    "feature_names = X.columns\n",
    "\n",
    "# Extract feature importances and standard deviations\n",
    "importances = result.importances_mean\n",
    "std = result.importances_std\n",
    "\n",
    "# Sort the features by importance\n",
    "indices = np.argsort(importances)[::-1]\n",
    "\n",
    "# Plot the feature importances\n",
    "plt.figure(figsize=(10, 10))\n",
    "plt.barh(range(len(indices)), importances[indices], xerr=std[indices], align='center')\n",
    "plt.yticks(range(len(indices)), [feature_names[i] for i in indices])\n",
    "plt.xlabel(\"Permutation Importance\")\n",
    "plt.title(\"Permutation Feature Importance\")\n",
    "plt.gca().invert_yaxis()  # Invert y-axis to show the most important feature at the top\n",
    "plt.show()"
   ]
  }
 ],
 "metadata": {
  "accelerator": "GPU",
  "colab": {
   "collapsed_sections": [
    "ZfP-U8akVxV-"
   ],
   "gpuType": "A100",
   "provenance": []
  },
  "kernelspec": {
   "display_name": "base",
   "language": "python",
   "name": "python3"
  },
  "language_info": {
   "codemirror_mode": {
    "name": "ipython",
    "version": 3
   },
   "file_extension": ".py",
   "mimetype": "text/x-python",
   "name": "python",
   "nbconvert_exporter": "python",
   "pygments_lexer": "ipython3",
   "version": "3.11.5"
  }
 },
 "nbformat": 4,
 "nbformat_minor": 0
}
