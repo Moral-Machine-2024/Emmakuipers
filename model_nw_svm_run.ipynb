{
 "cells": [
  {
   "cell_type": "code",
   "execution_count": 2,
   "metadata": {
    "id": "9p39JwxlVxVi"
   },
   "outputs": [],
   "source": [
    "import pandas as pd\n",
    "import numpy as np\n",
    "from sklearn.model_selection import train_test_split\n",
    "from sklearn.metrics import accuracy_score, confusion_matrix, classification_report, f1_score, recall_score\n",
    "import matplotlib.pyplot as plt\n",
    "import seaborn as sns"
   ]
  },
  {
   "cell_type": "markdown",
   "metadata": {
    "id": "5DH8xw3zVxVk"
   },
   "source": [
    "## Thunder setup"
   ]
  },
  {
   "cell_type": "code",
   "execution_count": 3,
   "metadata": {
    "colab": {
     "base_uri": "https://localhost:8080/"
    },
    "id": "YtEfy-FYVxVl",
    "outputId": "ffdd2637-24c5-4560-e57f-f90d774c453a"
   },
   "outputs": [
    {
     "name": "stdout",
     "output_type": "stream",
     "text": [
      "WARNING:tensorflow:From C:\\Users\\esmku\\AppData\\Local\\Temp\\ipykernel_23816\\2884624906.py:4: is_gpu_available (from tensorflow.python.framework.test_util) is deprecated and will be removed in a future version.\n",
      "Instructions for updating:\n",
      "Use `tf.config.list_physical_devices('GPU')` instead.\n",
      "GPU Available: False\n",
      "TPU Available: False\n"
     ]
    }
   ],
   "source": [
    "import tensorflow as tf\n",
    "\n",
    "# Check GPU availability\n",
    "print(\"GPU Available:\", tf.test.is_gpu_available())\n",
    "\n",
    "# Check TPU availability\n",
    "tpu_available = False\n",
    "devices = tf.config.list_logical_devices()\n",
    "for device in devices:\n",
    "    if device.device_type == 'TPU':\n",
    "        tpu_available = True\n",
    "        break\n",
    "\n",
    "print(\"TPU Available:\", tpu_available)"
   ]
  },
  {
   "cell_type": "code",
   "execution_count": 4,
   "metadata": {
    "colab": {
     "base_uri": "https://localhost:8080/"
    },
    "id": "EYqruhqQVxVm",
    "outputId": "1b16c192-4bb6-4e91-b9dd-4fe3c6945c73"
   },
   "outputs": [
    {
     "name": "stderr",
     "output_type": "stream",
     "text": [
      "'wget' is not recognized as an internal or external command,\n",
      "operable program or batch file.\n",
      "'ls' is not recognized as an internal or external command,\n",
      "operable program or batch file.\n",
      "'dpkg' is not recognized as an internal or external command,\n",
      "operable program or batch file.\n",
      "'ls' is not recognized as an internal or external command,\n",
      "operable program or batch file.\n",
      "'apt-key' is not recognized as an internal or external command,\n",
      "operable program or batch file.\n",
      "'apt-get' is not recognized as an internal or external command,\n",
      "operable program or batch file.\n"
     ]
    }
   ],
   "source": [
    "!wget https://developer.nvidia.com/compute/cuda/9.0/Prod/local_installers/cuda-repo-ubuntu1704-9-0-local_9.0.176-1_amd64-deb\n",
    "!ls  # Check if required cuda 9.0 amd64-deb file is downloaded\n",
    "!dpkg -i cuda-repo-ubuntu1704-9-0-local_9.0.176-1_amd64-deb\n",
    "!ls /var/cuda-repo-9-0-local | grep .pub\n",
    "!apt-key add /var/cuda-repo-9-0-local/7fa2af80.pub\n",
    "!apt-get update"
   ]
  },
  {
   "cell_type": "code",
   "execution_count": 5,
   "metadata": {
    "colab": {
     "base_uri": "https://localhost:8080/"
    },
    "id": "uW9gvyPCVxVo",
    "outputId": "e6acffad-b4ef-4e90-b770-d4db5e39b419"
   },
   "outputs": [
    {
     "name": "stderr",
     "output_type": "stream",
     "text": [
      "'DEBIAN_FRONTEND' is not recognized as an internal or external command,\n",
      "operable program or batch file.\n"
     ]
    }
   ],
   "source": [
    "!DEBIAN_FRONTEND=noninteractive sudo apt-get install -y cuda-9.0"
   ]
  },
  {
   "cell_type": "code",
   "execution_count": 6,
   "metadata": {
    "colab": {
     "base_uri": "https://localhost:8080/"
    },
    "id": "IKa1YqNUVxVq",
    "outputId": "bc65aca5-84ae-4fc6-8d97-5b45338050b4"
   },
   "outputs": [
    {
     "name": "stderr",
     "output_type": "stream",
     "text": [
      "'nvcc' is not recognized as an internal or external command,\n",
      "operable program or batch file.\n"
     ]
    }
   ],
   "source": [
    "!nvcc --version"
   ]
  },
  {
   "cell_type": "code",
   "execution_count": 7,
   "metadata": {
    "colab": {
     "base_uri": "https://localhost:8080/"
    },
    "id": "B46EQK0qVxVq",
    "outputId": "564a515a-099e-46d3-a47c-618d678d5bef"
   },
   "outputs": [
    {
     "name": "stdout",
     "output_type": "stream",
     "text": [
      "Requirement already satisfied: thundersvm in c:\\anaconda\\lib\\site-packages (0.3.12)\n",
      "Requirement already satisfied: numpy in c:\\anaconda\\lib\\site-packages (from thundersvm) (1.26.4)\n",
      "Requirement already satisfied: scipy in c:\\anaconda\\lib\\site-packages (from thundersvm) (1.11.1)\n",
      "Requirement already satisfied: scikit-learn in c:\\anaconda\\lib\\site-packages (from thundersvm) (1.5.2)\n",
      "Requirement already satisfied: joblib>=1.2.0 in c:\\anaconda\\lib\\site-packages (from scikit-learn->thundersvm) (1.2.0)\n",
      "Requirement already satisfied: threadpoolctl>=3.1.0 in c:\\anaconda\\lib\\site-packages (from scikit-learn->thundersvm) (3.5.0)\n"
     ]
    }
   ],
   "source": [
    "!pip install thundersvm"
   ]
  },
  {
   "cell_type": "markdown",
   "metadata": {
    "id": "RnKFZ0e8VxVr"
   },
   "source": [
    "## Pre-processing"
   ]
  },
  {
   "cell_type": "code",
   "execution_count": 8,
   "metadata": {
    "id": "fT8vgKWzVxVs"
   },
   "outputs": [],
   "source": [
    "dtype = {\n",
    "    'ResponseID': 'category',\n",
    "    'UserID': 'int8',\n",
    "    'Intervention': 'int8',\n",
    "    'PedPed': 'int8',\n",
    "    'Barrier': 'int8',\n",
    "    'CrossingSignal': 'int8',\n",
    "    'AttributeLevel': 'category',\n",
    "    'ScenarioTypeStrict': 'category',\n",
    "    'NumberOfCharacters': 'int8',\n",
    "    'DiffNumberOFCharacters': 'int8',\n",
    "    'Saved': 'int8',\n",
    "    'Man': 'int8',\n",
    "    'Woman': 'int8',\n",
    "    'Pregnant': 'int8',\n",
    "    'Stroller': 'int8',\n",
    "    'OldMan': 'int8',\n",
    "    'OldWoman': 'int8',\n",
    "    'Boy': 'int8',\n",
    "    'Girl': 'int8',\n",
    "    'Homeless': 'int8',\n",
    "    'LargeWoman': 'int8',\n",
    "    'LargeMan': 'int8',\n",
    "    'Criminal': 'int8',\n",
    "    'MaleExecutive': 'int8',\n",
    "    'FemaleExecutive': 'int8',\n",
    "    'FemaleAthlete': 'int8',\n",
    "    'MaleAthlete': 'int8',\n",
    "    'FemaleDoctor': 'int8',\n",
    "    'MaleDoctor': 'int8',\n",
    "    'Dog': 'int8',\n",
    "    'Cat': 'int8'\n",
    "}\n"
   ]
  },
  {
   "cell_type": "code",
   "execution_count": 9,
   "metadata": {
    "id": "Ym2y8_bLVxVt"
   },
   "outputs": [],
   "source": [
    "dfnw = pd.read_csv('total_nw_50_dataset.csv', dtype=dtype)"
   ]
  },
  {
   "cell_type": "code",
   "execution_count": 10,
   "metadata": {
    "colab": {
     "base_uri": "https://localhost:8080/"
    },
    "id": "riikRT-SVxVt",
    "outputId": "80152e5f-b625-4b3b-b7f2-ece24097ba37"
   },
   "outputs": [
    {
     "data": {
      "text/plain": [
       "(500000, 31)"
      ]
     },
     "execution_count": 10,
     "metadata": {},
     "output_type": "execute_result"
    }
   ],
   "source": [
    "dfnw.shape"
   ]
  },
  {
   "cell_type": "code",
   "execution_count": 11,
   "metadata": {},
   "outputs": [],
   "source": [
    "# Ensuring the column is categorical\n",
    "dfnw['ScenarioTypeStrict'] = dfnw['ScenarioTypeStrict'].astype('category')\n",
    "\n",
    "# Renaming Social Status to Social for easier handling of the category later on\n",
    "dfnw['ScenarioTypeStrict'] = dfnw['ScenarioTypeStrict'].cat.rename_categories({'Social Status': 'Social'})"
   ]
  },
  {
   "cell_type": "code",
   "execution_count": 12,
   "metadata": {
    "colab": {
     "base_uri": "https://localhost:8080/"
    },
    "id": "O3DJBB5NVxVu",
    "outputId": "7aa2f3b3-7d38-4f96-ec2a-f3cad80387c4"
   },
   "outputs": [
    {
     "name": "stdout",
     "output_type": "stream",
     "text": [
      "Index(['ResponseID', 'UserID', 'Intervention', 'PedPed', 'Barrier',\n",
      "       'CrossingSignal', 'NumberOfCharacters', 'DiffNumberOFCharacters',\n",
      "       'Saved', 'Man', 'Woman', 'Pregnant', 'Stroller', 'OldMan', 'OldWoman',\n",
      "       'Boy', 'Girl', 'Homeless', 'LargeWoman', 'LargeMan', 'Criminal',\n",
      "       'MaleExecutive', 'FemaleExecutive', 'FemaleAthlete', 'MaleAthlete',\n",
      "       'FemaleDoctor', 'MaleDoctor', 'Dog', 'Cat', 'AttributeLevel_Fat',\n",
      "       'AttributeLevel_Female', 'AttributeLevel_Fit', 'AttributeLevel_High',\n",
      "       'AttributeLevel_Hoomans', 'AttributeLevel_Less', 'AttributeLevel_Low',\n",
      "       'AttributeLevel_Male', 'AttributeLevel_More', 'AttributeLevel_Old',\n",
      "       'AttributeLevel_Pets', 'AttributeLevel_Young', 'ScenarioTypeStrict_Age',\n",
      "       'ScenarioTypeStrict_Fitness', 'ScenarioTypeStrict_Gender',\n",
      "       'ScenarioTypeStrict_Social', 'ScenarioTypeStrict_Species',\n",
      "       'ScenarioTypeStrict_Utilitarian'],\n",
      "      dtype='object')\n"
     ]
    }
   ],
   "source": [
    "# preprocessing\n",
    "\n",
    "# one-hot encode AttributeLevel and ScenarioTypeStrict\n",
    "dfnw = pd.get_dummies(dfnw, columns=['AttributeLevel', 'ScenarioTypeStrict'])\n",
    "\n",
    "print(dfnw.columns)\n"
   ]
  },
  {
   "cell_type": "code",
   "execution_count": 13,
   "metadata": {
    "colab": {
     "base_uri": "https://localhost:8080/"
    },
    "id": "8UYbhWWoVxVv",
    "outputId": "cb4310d8-0d60-47ed-b949-2fa6b53e467e"
   },
   "outputs": [
    {
     "data": {
      "text/plain": [
       "(500000, 47)"
      ]
     },
     "execution_count": 13,
     "metadata": {},
     "output_type": "execute_result"
    }
   ],
   "source": [
    "dfnw.shape"
   ]
  },
  {
   "cell_type": "code",
   "execution_count": 14,
   "metadata": {
    "colab": {
     "base_uri": "https://localhost:8080/"
    },
    "id": "piRDZeZLVxVw",
    "outputId": "8ba9c97e-479c-43eb-c2c8-5cb44b4b10e6"
   },
   "outputs": [
    {
     "data": {
      "text/plain": [
       "0"
      ]
     },
     "execution_count": 14,
     "metadata": {},
     "output_type": "execute_result"
    }
   ],
   "source": [
    "dfnw.duplicated().sum()"
   ]
  },
  {
   "cell_type": "code",
   "execution_count": 15,
   "metadata": {
    "id": "Wh5tPa8wVxVw"
   },
   "outputs": [],
   "source": [
    "# now also dropping ResponseID\n",
    "# kept this on and pre-processed it thus far to keep track of if everything went right with the complete sessions being in the dataset (so each ResponseID has to be present twice)"
   ]
  },
  {
   "cell_type": "markdown",
   "metadata": {
    "id": "ornvxCMHVxVx"
   },
   "source": [
    "#### Splitting"
   ]
  },
  {
   "cell_type": "code",
   "execution_count": 16,
   "metadata": {
    "id": "vD80vyBKVxVx"
   },
   "outputs": [],
   "source": [
    "# Prepare features and target variable\n",
    "X = dfnw.drop(['UserID', 'ResponseID'], axis=1)     # Features\n",
    "y = dfnw['UserID']                                  # Target variable"
   ]
  },
  {
   "cell_type": "code",
   "execution_count": 17,
   "metadata": {
    "id": "gKX2i5W_VxVy"
   },
   "outputs": [],
   "source": [
    "# Split the data into train, validation and test sets\n",
    "X_trainval, X_test, y_trainval, y_test = train_test_split(X, y, test_size=0.15, random_state=42)"
   ]
  },
  {
   "cell_type": "code",
   "execution_count": 18,
   "metadata": {
    "id": "SBQmBDUUVxVy"
   },
   "outputs": [],
   "source": [
    "# Setting K for K-fold cross validation\n",
    "\n",
    "from sklearn.model_selection import KFold\n",
    "\n",
    "k = 5\n",
    "kf = KFold(n_splits=k, random_state=42, shuffle=True)"
   ]
  },
  {
   "cell_type": "markdown",
   "metadata": {
    "id": "23kuipdbVxVy"
   },
   "source": [
    "## Modelling"
   ]
  },
  {
   "cell_type": "markdown",
   "metadata": {},
   "source": [
    "### Dummy classifier"
   ]
  },
  {
   "cell_type": "code",
   "execution_count": 17,
   "metadata": {},
   "outputs": [],
   "source": [
    "from sklearn.dummy import DummyClassifier\n",
    "\n",
    "dummy = DummyClassifier(strategy='uniform')"
   ]
  },
  {
   "cell_type": "code",
   "execution_count": 18,
   "metadata": {},
   "outputs": [
    {
     "name": "stdout",
     "output_type": "stream",
     "text": [
      "Dummy Classifier on Validation set\n",
      "Accuracy: 0.49928\n",
      "Macro F1 Score: 0.4992788431338392\n",
      "Recall 1 Score: 0.499478205025287\n",
      "Confusion Matrix:\n",
      " [[18780 18849]\n",
      " [18705 18666]]\n",
      "Classification Report:\n",
      "               precision    recall  f1-score   support\n",
      "\n",
      "           0       0.50      0.50      0.50     37629\n",
      "           1       0.50      0.50      0.50     37371\n",
      "\n",
      "    accuracy                           0.50     75000\n",
      "   macro avg       0.50      0.50      0.50     75000\n",
      "weighted avg       0.50      0.50      0.50     75000\n",
      "\n"
     ]
    }
   ],
   "source": [
    "# Dummy Classifier on VAL set (70 train, / 15 validation)\n",
    "X_train, X_val, y_train, y_val = train_test_split(X_trainval, y_trainval, test_size=(15/85), random_state=42)\n",
    "\n",
    "dummy.fit(X_train, y_train)\n",
    "y_pred_trainval_dummy = dummy.predict(X_val)\n",
    "accuracy_trainval_dummy = accuracy_score(y_val, y_pred_trainval_dummy)\n",
    "confusion_matrix_trainval_dummy = confusion_matrix(y_val, y_pred_trainval_dummy)\n",
    "classification_report_trainval_dummy = classification_report(y_val, y_pred_trainval_dummy)\n",
    "f1_score_trainval_dummy = f1_score(y_val, y_pred_trainval_dummy, average='macro')\n",
    "recall1_score_trainval_dummy = recall_score(y_val, y_pred_trainval_dummy, pos_label=1)\n",
    "\n",
    "print(\"Dummy Classifier on Validation set\")\n",
    "print(\"Accuracy:\", accuracy_trainval_dummy)\n",
    "print(\"Macro F1 Score:\", f1_score_trainval_dummy)\n",
    "print(\"Recall 1 Score:\", recall1_score_trainval_dummy)\n",
    "print(\"Confusion Matrix:\\n\", confusion_matrix_trainval_dummy)\n",
    "print(\"Classification Report:\\n\", classification_report_trainval_dummy)\n"
   ]
  },
  {
   "cell_type": "code",
   "execution_count": 19,
   "metadata": {},
   "outputs": [
    {
     "name": "stdout",
     "output_type": "stream",
     "text": [
      "\n",
      "Dummy Classifier on Test set\n",
      "Accuracy: 0.50264\n",
      "Macro F1 Score: 0.5026389686721654\n",
      "Recall Score: 0.5018691588785047\n",
      "Confusion Matrix:\n",
      " [[18903 18647]\n",
      " [18655 18795]]\n",
      "Classification Report:\n",
      "               precision    recall  f1-score   support\n",
      "\n",
      "           0       0.50      0.50      0.50     37550\n",
      "           1       0.50      0.50      0.50     37450\n",
      "\n",
      "    accuracy                           0.50     75000\n",
      "   macro avg       0.50      0.50      0.50     75000\n",
      "weighted avg       0.50      0.50      0.50     75000\n",
      "\n"
     ]
    }
   ],
   "source": [
    "# Dummy Classifier on TEST set (85 train_validation / 15 test)\n",
    "dummy.fit(X_trainval, y_trainval)\n",
    "y_pred_test_dummy = dummy.predict(X_test)\n",
    "accuracy_test_dummy = accuracy_score(y_test, y_pred_test_dummy)\n",
    "confusion_matrix_test_dummy = confusion_matrix(y_test, y_pred_test_dummy)\n",
    "classification_report_test_dummy = classification_report(y_test, y_pred_test_dummy)\n",
    "f1_score_test_dummy = f1_score(y_test, y_pred_test_dummy, average='macro')\n",
    "recall1_score_test_dummy = recall_score(y_test, y_pred_test_dummy, pos_label=1)\n",
    "\n",
    "\n",
    "print(\"\\nDummy Classifier on Test set\")\n",
    "print(\"Accuracy:\", accuracy_test_dummy)\n",
    "print(\"Macro F1 Score:\", f1_score_test_dummy)\n",
    "print(\"Recall Score:\", recall1_score_test_dummy)\n",
    "print(\"Confusion Matrix:\\n\", confusion_matrix_test_dummy)\n",
    "print(\"Classification Report:\\n\", classification_report_test_dummy)"
   ]
  },
  {
   "cell_type": "code",
   "execution_count": 30,
   "metadata": {},
   "outputs": [
    {
     "name": "stdout",
     "output_type": "stream",
     "text": [
      "{'average_accuracy': 0.49928, 'average_macro_f1': 0.4992788431338392, 'average_recall_class_1': 0.499478205025287}\n",
      "{'average_accuracy': 0.50264, 'average_macro_f1': 0.5026389686721654, 'average_recall_class_1': 0.5018691588785047}\n"
     ]
    }
   ],
   "source": [
    "# saving metrics as JSON file\n",
    "\n",
    "# Metrics VAL\n",
    "metrics_dummy_val = {\n",
    "    \"average_accuracy\": accuracy_trainval_dummy,\n",
    "    \"average_macro_f1\": f1_score_trainval_dummy,\n",
    "    \"average_recall_class_1\": recall1_score_trainval_dummy,\n",
    "}\n",
    "\n",
    "# Print the dictionary to verify\n",
    "print(metrics_dummy_val)\n",
    "\n",
    "\n",
    "import json\n",
    "# Save the metrics dictionary as JSON\n",
    "with open(\"metrics_dummy_val_nw.json\", \"w\") as f:\n",
    "    json.dump(metrics_dummy_val, f, indent=4)\n",
    "\n",
    "\n",
    "\n",
    "# Metrics TEST\n",
    "\n",
    "# Metrics\n",
    "metrics_dummy_test = {\n",
    "    \"average_accuracy\": accuracy_test_dummy,\n",
    "    \"average_macro_f1\": f1_score_test_dummy,\n",
    "    \"average_recall_class_1\": recall1_score_test_dummy,\n",
    "}\n",
    "\n",
    "# Print the dictionary to verify\n",
    "print(metrics_dummy_test)\n",
    "\n",
    "\n",
    "# Save the metrics dictionary as JSON\n",
    "with open(\"metrics_dummy_test_nw.json\", \"w\") as f:\n",
    "    json.dump(metrics_dummy_test, f, indent=4)"
   ]
  },
  {
   "cell_type": "markdown",
   "metadata": {
    "id": "MG-4YXdEVxVz"
   },
   "source": [
    "### Logistic Regression"
   ]
  },
  {
   "cell_type": "code",
   "execution_count": 18,
   "metadata": {
    "id": "g8VsDS3pVxVz"
   },
   "outputs": [],
   "source": [
    "from sklearn.linear_model import LogisticRegression"
   ]
  },
  {
   "cell_type": "code",
   "execution_count": 19,
   "metadata": {
    "colab": {
     "base_uri": "https://localhost:8080/"
    },
    "id": "OrgkO4nlVxVz",
    "outputId": "268f7ec9-d1c1-49ba-9a6a-45d5b26cc163"
   },
   "outputs": [
    {
     "name": "stdout",
     "output_type": "stream",
     "text": [
      "Done processing fold 1\n",
      "Done processing fold 2\n",
      "Done processing fold 3\n",
      "Done processing fold 4\n",
      "Done processing fold 5\n"
     ]
    }
   ],
   "source": [
    "# Initialize logistic regression model\n",
    "lr_model = LogisticRegression(max_iter=1000)\n",
    "\n",
    "# Lists to store results\n",
    "conf_matrices_lr = []\n",
    "classification_reports_lr = []\n",
    "macro_f1_scores_lr = []\n",
    "count = 0\n",
    "\n",
    "# Loop through each fold\n",
    "for train_index, test_index in kf.split(X_trainval):\n",
    "    count += 1\n",
    "\n",
    "    # Split data into train and test for this fold\n",
    "    X_train, X_val = X_trainval.iloc[train_index], X_trainval.iloc[test_index]\n",
    "    y_train, y_val = y_trainval.iloc[train_index], y_trainval.iloc[test_index]\n",
    "\n",
    "    # Train the model\n",
    "    lr_model.fit(X_train, y_train)\n",
    "\n",
    "    # Make predictions\n",
    "    y_pred_lr = lr_model.predict(X_val)\n",
    "\n",
    "    # Generate confusion matrix and classification report\n",
    "    conf_matrices_lr.append(confusion_matrix(y_val, y_pred_lr))\n",
    "    classification_reports_lr.append(classification_report(y_val, y_pred_lr, output_dict=True))\n",
    "\n",
    "    # Calculate and store macro F1 score for this fold\n",
    "    fold_macro_f1 = f1_score(y_val, y_pred_lr, average='macro')\n",
    "    macro_f1_scores_lr.append(fold_macro_f1)\n",
    "\n",
    "    print(\"Done processing fold \" + str(count))"
   ]
  },
  {
   "cell_type": "code",
   "execution_count": 20,
   "metadata": {
    "colab": {
     "base_uri": "https://localhost:8080/"
    },
    "id": "7THaSIi6VxVz",
    "outputId": "49ac27a8-4dc4-48e4-cb7b-9be8c46a40ac"
   },
   "outputs": [
    {
     "name": "stdout",
     "output_type": "stream",
     "text": [
      "\n",
      "Fold 1\n",
      "Confusion Matrix:\n",
      "[[30719 11852]\n",
      " [22304 20125]]\n",
      "\n",
      "Classification Report:\n",
      "0: {'precision': 0.5793523565245271, 'recall': 0.7215945126964366, 'f1-score': 0.6426972404125781, 'support': 42571.0}\n",
      "1: {'precision': 0.6293586014948244, 'recall': 0.4743218081972236, 'f1-score': 0.5409509985753838, 'support': 42429.0}\n",
      "accuracy: 0.5981647058823529\n",
      "macro avg: {'precision': 0.6043554790096757, 'recall': 0.59795816044683, 'f1-score': 0.591824119493981, 'support': 85000.0}\n",
      "weighted avg: {'precision': 0.6043137090874063, 'recall': 0.5981647058823529, 'f1-score': 0.5919091075312803, 'support': 85000.0}\n",
      "\n",
      "Fold 2\n",
      "Confusion Matrix:\n",
      "[[30871 11546]\n",
      " [22402 20181]]\n",
      "\n",
      "Classification Report:\n",
      "0: {'precision': 0.579486794436206, 'recall': 0.7277978169130301, 'f1-score': 0.6452293865607691, 'support': 42417.0}\n",
      "1: {'precision': 0.6360828316575787, 'recall': 0.4739215179766573, 'f1-score': 0.5431570448122729, 'support': 42583.0}\n",
      "accuracy: 0.6006117647058824\n",
      "macro avg: {'precision': 0.6077848130468924, 'recall': 0.6008596674448438, 'f1-score': 0.5941932156865211, 'support': 85000.0}\n",
      "weighted avg: {'precision': 0.6078400774126498, 'recall': 0.6006117647058824, 'f1-score': 0.5940935450469313, 'support': 85000.0}\n",
      "\n",
      "Fold 3\n",
      "Confusion Matrix:\n",
      "[[30591 12197]\n",
      " [22040 20172]]\n",
      "\n",
      "Classification Report:\n",
      "0: {'precision': 0.5812353935893295, 'recall': 0.7149434420865663, 'f1-score': 0.6411930537943177, 'support': 42788.0}\n",
      "1: {'precision': 0.623188853532701, 'recall': 0.47787359044821376, 'f1-score': 0.5409420629919148, 'support': 42212.0}\n",
      "accuracy: 0.5972117647058823\n",
      "macro avg: {'precision': 0.6022121235610153, 'recall': 0.59640851626739, 'f1-score': 0.5910675583931162, 'support': 85000.0}\n",
      "weighted avg: {'precision': 0.6020699753673248, 'recall': 0.5972117647058823, 'f1-score': 0.5914072323384233, 'support': 85000.0}\n",
      "\n",
      "Fold 4\n",
      "Confusion Matrix:\n",
      "[[30616 11858]\n",
      " [22355 20171]]\n",
      "\n",
      "Classification Report:\n",
      "0: {'precision': 0.5779766287213759, 'recall': 0.7208174412581815, 'f1-score': 0.6415422494630415, 'support': 42474.0}\n",
      "1: {'precision': 0.6297730182022542, 'recall': 0.47432159149696657, 'f1-score': 0.541103883039367, 'support': 42526.0}\n",
      "accuracy: 0.5974941176470588\n",
      "macro avg: {'precision': 0.603874823461815, 'recall': 0.597569516377574, 'f1-score': 0.5913230662512042, 'support': 85000.0}\n",
      "weighted avg: {'precision': 0.6038906670633033, 'recall': 0.5974941176470588, 'f1-score': 0.591292343927357, 'support': 85000.0}\n",
      "\n",
      "Fold 5\n",
      "Confusion Matrix:\n",
      "[[30622 11578]\n",
      " [22709 20091]]\n",
      "\n",
      "Classification Report:\n",
      "0: {'precision': 0.574187620708406, 'recall': 0.7256398104265402, 'f1-score': 0.6410903267002335, 'support': 42200.0}\n",
      "1: {'precision': 0.6344058858820929, 'recall': 0.4694158878504673, 'f1-score': 0.5395802280143416, 'support': 42800.0}\n",
      "accuracy: 0.5966235294117647\n",
      "macro avg: {'precision': 0.6042967532952495, 'recall': 0.5975278491385038, 'f1-score': 0.5903352773572875, 'support': 85000.0}\n",
      "weighted avg: {'precision': 0.6045092883488037, 'recall': 0.5966235294117647, 'f1-score': 0.589977006420749, 'support': 85000.0}\n"
     ]
    }
   ],
   "source": [
    "# Display results\n",
    "for i in range(k):\n",
    "    print(f\"\\nFold {i+1}\")\n",
    "    print(\"Confusion Matrix:\")\n",
    "    print(conf_matrices_lr[i])\n",
    "    print(\"\\nClassification Report:\")\n",
    "    for label, metrics in classification_reports_lr[i].items():\n",
    "        print(f\"{label}: {metrics}\")"
   ]
  },
  {
   "cell_type": "code",
   "execution_count": 21,
   "metadata": {
    "colab": {
     "base_uri": "https://localhost:8080/"
    },
    "id": "B2Af8xmzVxVz",
    "outputId": "075ed815-6b73-4e6b-de0e-0817644dee49"
   },
   "outputs": [
    {
     "name": "stdout",
     "output_type": "stream",
     "text": [
      "\n",
      "Average Accuracy LR: 0.5980211764705883\n",
      "Standard Deviation: 0.0013869465603424489\n",
      "Average Macro F1 Score LR: 0.591748647436422\n",
      "\n",
      "Average Recall for class 1: 0.4739708791939057\n"
     ]
    }
   ],
   "source": [
    "# Calculate average accuracy\n",
    "accuracies_lr = [report['accuracy'] for report in classification_reports_lr]\n",
    "average_accuracy_lr = np.mean(accuracies_lr)\n",
    "print(f\"\\nAverage Accuracy LR: {average_accuracy_lr}\")\n",
    "\n",
    "\n",
    "# Caluculate average standard deviation\n",
    "std_dev_lr = np.std(accuracies_lr)\n",
    "print(f\"Standard Deviation: {std_dev_lr}\")\n",
    "\n",
    "\n",
    "# Calculate average macro f1-score\n",
    "average_macro_f1_lr = sum(macro_f1_scores_lr) / len(macro_f1_scores_lr)\n",
    "print(f\"Average Macro F1 Score LR: {average_macro_f1_lr}\")\n",
    "\n",
    "\n",
    "# Collect the recall for the '1' class from each fold\n",
    "recall_class_1_lr = [report['1']['recall'] for report in classification_reports_lr]\n",
    "# Calculate the average recall for the '1' class across all folds\n",
    "average_recall_class_1_lr = np.mean(recall_class_1_lr)\n",
    "print(f\"\\nAverage Recall for class 1: {average_recall_class_1_lr}\")"
   ]
  },
  {
   "cell_type": "code",
   "execution_count": 22,
   "metadata": {
    "colab": {
     "base_uri": "https://localhost:8080/"
    },
    "id": "BY-u1RGUVxVz",
    "outputId": "57fc0b38-6a6c-4de5-d298-185eb7ce07dc"
   },
   "outputs": [
    {
     "name": "stdout",
     "output_type": "stream",
     "text": [
      "{'average_accuracy': 0.5980211764705883, 'std_dev_accuracy': 0.0013869465603424489, 'average_macro_f1': 0.591748647436422, 'average_recall_class_1': 0.4739708791939057, 'accuracies_per_fold': [0.5981647058823529, 0.6006117647058824, 0.5972117647058823, 0.5974941176470588, 0.5966235294117647], 'recall_class_1_per_fold': [0.4743218081972236, 0.4739215179766573, 0.47787359044821376, 0.47432159149696657, 0.4694158878504673]}\n"
     ]
    }
   ],
   "source": [
    "# saving outputs\n",
    "\n",
    "# Example metrics\n",
    "metrics_lr = {\n",
    "    \"average_accuracy\": average_accuracy_lr,\n",
    "    \"std_dev_accuracy\": std_dev_lr,\n",
    "    \"average_macro_f1\": average_macro_f1_lr,\n",
    "    \"average_recall_class_1\": average_recall_class_1_lr,\n",
    "    \"accuracies_per_fold\": accuracies_lr,\n",
    "    \"recall_class_1_per_fold\": recall_class_1_lr\n",
    "}\n",
    "\n",
    "# Print the dictionary to verify\n",
    "print(metrics_lr)\n",
    "\n",
    "\n",
    "import json\n",
    "# Save the metrics dictionary as JSON\n",
    "with open(\"metrics_lr_nw.json\", \"w\") as f:\n",
    "    json.dump(metrics_lr, f, indent=4)\n"
   ]
  },
  {
   "cell_type": "markdown",
   "metadata": {
    "id": "KyyyWD8GVxVz"
   },
   "source": [
    "### Random Forest"
   ]
  },
  {
   "cell_type": "code",
   "execution_count": 23,
   "metadata": {
    "id": "wr2vw0PxVxVz"
   },
   "outputs": [],
   "source": [
    "from sklearn.ensemble import RandomForestClassifier"
   ]
  },
  {
   "cell_type": "code",
   "execution_count": 24,
   "metadata": {
    "colab": {
     "base_uri": "https://localhost:8080/"
    },
    "id": "jcg2UJZdVxV0",
    "outputId": "8d3057d7-4c3c-4f08-8f44-b97a38693434"
   },
   "outputs": [
    {
     "name": "stdout",
     "output_type": "stream",
     "text": [
      "Start processing fold 1\n",
      "Done processing fold 1\n",
      "Start processing fold 2\n",
      "Done processing fold 2\n",
      "Start processing fold 3\n",
      "Done processing fold 3\n",
      "Start processing fold 4\n",
      "Done processing fold 4\n",
      "Start processing fold 5\n",
      "Done processing fold 5\n"
     ]
    }
   ],
   "source": [
    "# Initialize Random Forest model\n",
    "rf_model = RandomForestClassifier(n_estimators=100, random_state=42)\n",
    "\n",
    "# Lists to store results\n",
    "conf_matrices_rf = []\n",
    "classification_reports_rf = []\n",
    "macro_f1_scores_rf = []\n",
    "count = 0\n",
    "\n",
    "# Manually loop through each fold\n",
    "for train_index, test_index in kf.split(X_trainval):\n",
    "    count += 1\n",
    "    print(\"Start processing fold \" + str(count))\n",
    "\n",
    "    # Split the data for this fold\n",
    "    X_train, X_val = X_trainval.iloc[train_index], X_trainval.iloc[test_index]\n",
    "    y_train, y_val = y_trainval.iloc[train_index], y_trainval.iloc[test_index]\n",
    "\n",
    "    # Train the model\n",
    "    rf_model.fit(X_train, y_train)\n",
    "\n",
    "    # Make predictions\n",
    "    y_pred_rf = rf_model.predict(X_val)\n",
    "\n",
    "    # Store confusion matrix and classification report for each fold\n",
    "    conf_matrices_rf.append(confusion_matrix(y_val, y_pred_rf))\n",
    "    classification_reports_rf.append(classification_report(y_val, y_pred_rf, output_dict=True))\n",
    "\n",
    "    fold_macro_f1 = f1_score(y_val, y_pred_rf, average='macro')\n",
    "    macro_f1_scores_rf.append(fold_macro_f1)\n",
    "\n",
    "    print(\"Done processing fold \" + str(count))"
   ]
  },
  {
   "cell_type": "code",
   "execution_count": 25,
   "metadata": {
    "colab": {
     "base_uri": "https://localhost:8080/"
    },
    "id": "4Z7NDrxPVxV0",
    "outputId": "12e02c98-ef4f-4ce8-b0fc-75e2fa1b20e4"
   },
   "outputs": [
    {
     "name": "stdout",
     "output_type": "stream",
     "text": [
      "\n",
      "Fold 1\n",
      "Confusion Matrix:\n",
      "[[31246 11325]\n",
      " [13742 28687]]\n",
      "\n",
      "Classification Report:\n",
      "0: {'precision': 0.6945407664266027, 'recall': 0.7339738319513284, 'f1-score': 0.7137130392078485, 'support': 42571.0}\n",
      "1: {'precision': 0.7169599120263921, 'recall': 0.6761177496523604, 'f1-score': 0.6959401268786162, 'support': 42429.0}\n",
      "accuracy: 0.7050941176470589\n",
      "macro avg: {'precision': 0.7057503392264974, 'recall': 0.7050457908018444, 'f1-score': 0.7048265830432323, 'support': 85000.0}\n",
      "weighted avg: {'precision': 0.7057316126460552, 'recall': 0.7050941176470589, 'f1-score': 0.7048414286523543, 'support': 85000.0}\n",
      "\n",
      "Fold 2\n",
      "Confusion Matrix:\n",
      "[[31169 11248]\n",
      " [13755 28828]]\n",
      "\n",
      "Classification Report:\n",
      "0: {'precision': 0.6938162229543229, 'recall': 0.7348233019779805, 'f1-score': 0.7137312373341271, 'support': 42417.0}\n",
      "1: {'precision': 0.7193332667930932, 'recall': 0.6769837728671065, 'f1-score': 0.697516301915097, 'support': 42583.0}\n",
      "accuracy: 0.7058470588235294\n",
      "macro avg: {'precision': 0.7065747448737081, 'recall': 0.7059035374225435, 'f1-score': 0.705623769624612, 'support': 85000.0}\n",
      "weighted avg: {'precision': 0.7065996615165153, 'recall': 0.7058470588235294, 'f1-score': 0.7056079362170852, 'support': 85000.0}\n",
      "\n",
      "Fold 3\n",
      "Confusion Matrix:\n",
      "[[31357 11431]\n",
      " [13373 28839]]\n",
      "\n",
      "Classification Report:\n",
      "0: {'precision': 0.7010283925776883, 'recall': 0.7328456576610265, 'f1-score': 0.7165840170022166, 'support': 42788.0}\n",
      "1: {'precision': 0.7161410479264961, 'recall': 0.6831943523168768, 'f1-score': 0.699279842874809, 'support': 42212.0}\n",
      "accuracy: 0.7081882352941177\n",
      "macro avg: {'precision': 0.7085847202520923, 'recall': 0.7080200049889516, 'f1-score': 0.7079319299385128, 'support': 85000.0}\n",
      "weighted avg: {'precision': 0.7085335150198516, 'recall': 0.7081882352941177, 'f1-score': 0.7079905605520269, 'support': 85000.0}\n",
      "\n",
      "Fold 4\n",
      "Confusion Matrix:\n",
      "[[31289 11185]\n",
      " [13644 28882]]\n",
      "\n",
      "Classification Report:\n",
      "0: {'precision': 0.6963478957559033, 'recall': 0.7366624287799595, 'f1-score': 0.7159380827622501, 'support': 42474.0}\n",
      "1: {'precision': 0.7208425886639879, 'recall': 0.6791609838686921, 'f1-score': 0.6993813035002966, 'support': 42526.0}\n",
      "accuracy: 0.7078941176470588\n",
      "macro avg: {'precision': 0.7085952422099455, 'recall': 0.7079117063243258, 'f1-score': 0.7076596931312733, 'support': 85000.0}\n",
      "weighted avg: {'precision': 0.7086027347042468, 'recall': 0.7078941176470588, 'f1-score': 0.7076546287046755, 'support': 85000.0}\n",
      "\n",
      "Fold 5\n",
      "Confusion Matrix:\n",
      "[[31212 10988]\n",
      " [13956 28844]]\n",
      "\n",
      "Classification Report:\n",
      "0: {'precision': 0.6910201912858661, 'recall': 0.7396208530805687, 'f1-score': 0.7144950096145042, 'support': 42200.0}\n",
      "1: {'precision': 0.7241413938541876, 'recall': 0.6739252336448598, 'f1-score': 0.698131474489302, 'support': 42800.0}\n",
      "accuracy: 0.7065411764705882\n",
      "macro avg: {'precision': 0.7075807925700268, 'recall': 0.7067730433627142, 'f1-score': 0.7063132420519032, 'support': 85000.0}\n",
      "weighted avg: {'precision': 0.7076976909320327, 'recall': 0.7065411764705882, 'f1-score': 0.7062554883985199, 'support': 85000.0}\n"
     ]
    }
   ],
   "source": [
    "# Display results for each fold\n",
    "for i in range(k):\n",
    "    print(f\"\\nFold {i+1}\")\n",
    "    print(\"Confusion Matrix:\")\n",
    "    print(conf_matrices_rf[i])\n",
    "    print(\"\\nClassification Report:\")\n",
    "    for label, metrics in classification_reports_rf[i].items():\n",
    "        print(f\"{label}: {metrics}\")"
   ]
  },
  {
   "cell_type": "code",
   "execution_count": 26,
   "metadata": {
    "colab": {
     "base_uri": "https://localhost:8080/"
    },
    "id": "yrX2w4LaVxV1",
    "outputId": "027814f8-7f14-4e13-c0ae-3dc75e4f8ad3"
   },
   "outputs": [
    {
     "name": "stdout",
     "output_type": "stream",
     "text": [
      "\n",
      "Average Accuracy RF: 0.7067129411764705\n",
      "Standard Deviation: 0.0011808061289588687\n",
      "Average Macro F1 Score RF: 0.7064710435579067\n",
      "\n",
      "Average Recall for class 1: 0.677876418469979\n"
     ]
    }
   ],
   "source": [
    "# Calculate average accuracy\n",
    "accuracies_rf = [report['accuracy'] for report in classification_reports_rf]\n",
    "average_accuracy_rf = np.mean(accuracies_rf)\n",
    "print(f\"\\nAverage Accuracy RF: {average_accuracy_rf}\")\n",
    "\n",
    "\n",
    "# Caluculate average standard deviation of accuracies\n",
    "std_dev_rf = np.std(accuracies_rf)\n",
    "print(f\"Standard Deviation: {std_dev_rf}\")\n",
    "\n",
    "\n",
    "# Calculate average f1-score\n",
    "average_macro_f1_rf = sum(macro_f1_scores_rf) / len(macro_f1_scores_rf)\n",
    "print(f\"Average Macro F1 Score RF: {average_macro_f1_rf}\")\n",
    "\n",
    "\n",
    "# Collect the recall for the '1' class from each fold\n",
    "recall_class_1_rf = [report['1']['recall'] for report in classification_reports_rf]\n",
    "# Calculate the average recall for the '1' class across all folds\n",
    "average_recall_class_1_rf = np.mean(recall_class_1_rf)\n",
    "print(f\"\\nAverage Recall for class 1: {average_recall_class_1_rf}\")"
   ]
  },
  {
   "cell_type": "code",
   "execution_count": 27,
   "metadata": {
    "colab": {
     "base_uri": "https://localhost:8080/"
    },
    "id": "_gJP8kxrVxV2",
    "outputId": "2537aafe-6a34-4edf-f5d9-dfe79068529a"
   },
   "outputs": [
    {
     "name": "stdout",
     "output_type": "stream",
     "text": [
      "{'average_accuracy': 0.7067129411764705, 'std_dev_accuracy': 0.0011808061289588687, 'average_macro_f1': 0.7064710435579067, 'average_recall_class_1': 0.677876418469979, 'accuracies_per_fold': [0.7050941176470589, 0.7058470588235294, 0.7081882352941177, 0.7078941176470588, 0.7065411764705882], 'recall_class_1_per_fold': [0.6761177496523604, 0.6769837728671065, 0.6831943523168768, 0.6791609838686921, 0.6739252336448598]}\n"
     ]
    }
   ],
   "source": [
    "# saving outputs\n",
    "\n",
    "# Example metrics\n",
    "metrics_rf = {\n",
    "    \"average_accuracy\": average_accuracy_rf,\n",
    "    \"std_dev_accuracy\": std_dev_rf,\n",
    "    \"average_macro_f1\": average_macro_f1_rf,\n",
    "    \"average_recall_class_1\": average_recall_class_1_rf,\n",
    "    \"accuracies_per_fold\": accuracies_rf,\n",
    "    \"recall_class_1_per_fold\": recall_class_1_rf\n",
    "}\n",
    "\n",
    "# Print the dictionary to verify\n",
    "print(metrics_rf)\n",
    "\n",
    "\n",
    "import json\n",
    "# Save the metrics dictionary as JSON\n",
    "with open(\"metrics_rf_nw.json\", \"w\") as f:\n",
    "    json.dump(metrics_rf, f, indent=4)\n"
   ]
  },
  {
   "cell_type": "markdown",
   "metadata": {
    "id": "5UIQayifVxV2"
   },
   "source": [
    "### Support Vector Machine"
   ]
  },
  {
   "cell_type": "code",
   "execution_count": 28,
   "metadata": {
    "id": "-AWNiNkHVxV2"
   },
   "outputs": [],
   "source": [
    "from thundersvm import SVC"
   ]
  },
  {
   "cell_type": "code",
   "execution_count": 29,
   "metadata": {
    "id": "SdNPRrsuVxV2"
   },
   "outputs": [],
   "source": [
    "# Initialize SVC\n",
    "\n",
    "svc = SVC(kernel='rbf', random_state=45)\n",
    "\n",
    "# choosing rbf cause not linearly separable"
   ]
  },
  {
   "cell_type": "code",
   "execution_count": 30,
   "metadata": {
    "colab": {
     "base_uri": "https://localhost:8080/"
    },
    "id": "0VEqXnK1VxV3",
    "outputId": "aaa9759f-34d6-46a3-d004-ef09db5a08ca"
   },
   "outputs": [
    {
     "name": "stdout",
     "output_type": "stream",
     "text": [
      "Starting fold 1\n",
      "Model fitted\n",
      "Done processing fold 1\n",
      "Starting fold 2\n",
      "Model fitted\n",
      "Done processing fold 2\n",
      "Starting fold 3\n",
      "Model fitted\n",
      "Done processing fold 3\n",
      "Starting fold 4\n",
      "Model fitted\n",
      "Done processing fold 4\n",
      "Starting fold 5\n",
      "Model fitted\n",
      "Done processing fold 5\n"
     ]
    }
   ],
   "source": [
    "# Lists to store results\n",
    "conf_matrices_svm = []\n",
    "classification_reports_svm = []\n",
    "macro_f1_scores_svm = []\n",
    "count = 0\n",
    "\n",
    "# Manually loop through each fold\n",
    "for train_index, test_index in kf.split(X_trainval):\n",
    "    count += 1\n",
    "\n",
    "    print(\"Starting fold \" + str(count))\n",
    "    # Split the data for this fold\n",
    "    X_train, X_val = X_trainval.iloc[train_index], X_trainval.iloc[test_index]\n",
    "    y_train, y_val = y_trainval.iloc[train_index], y_trainval.iloc[test_index]\n",
    "\n",
    "    # Train the model\n",
    "    svc.fit(X_train, y_train)\n",
    "    print(\"Model fitted\")\n",
    "\n",
    "    # Make predictions\n",
    "    y_pred_svm = svc.predict(X_val)\n",
    "\n",
    "    # Store confusion matrix and classification report for each fold\n",
    "    conf_matrices_svm.append(confusion_matrix(y_val, y_pred_svm))\n",
    "    classification_reports_svm.append(classification_report(y_val, y_pred_svm, output_dict=True))\n",
    "\n",
    "    # Calculate and store macro F1 score for this fold\n",
    "    fold_macro_f1 = f1_score(y_val, y_pred_svm, average='macro')\n",
    "    macro_f1_scores_svm.append(fold_macro_f1)\n",
    "\n",
    "    print(\"Done processing fold \" + str(count))"
   ]
  },
  {
   "cell_type": "code",
   "execution_count": 31,
   "metadata": {
    "colab": {
     "base_uri": "https://localhost:8080/"
    },
    "id": "OIJ8u8S9VxV3",
    "outputId": "9644e643-5fae-466b-b047-08187b23e267"
   },
   "outputs": [
    {
     "name": "stdout",
     "output_type": "stream",
     "text": [
      "\n",
      "Fold 1\n",
      "Confusion Matrix:\n",
      "[[35173  7398]\n",
      " [21698 20731]]\n",
      "\n",
      "Classification Report:\n",
      "0: {'precision': 0.6184698704084682, 'recall': 0.826219727044232, 'f1-score': 0.7074073329176807, 'support': 42571.0}\n",
      "1: {'precision': 0.7369974048135376, 'recall': 0.4886044922105164, 'f1-score': 0.5876300348649338, 'support': 42429.0}\n",
      "accuracy: 0.6576941176470589\n",
      "macro avg: {'precision': 0.6777336376110029, 'recall': 0.6574121096273742, 'f1-score': 0.6475186838913072, 'support': 85000.0}\n",
      "weighted avg: {'precision': 0.6776346322587351, 'recall': 0.6576941176470589, 'f1-score': 0.6476187331637984, 'support': 85000.0}\n",
      "\n",
      "Fold 2\n",
      "Confusion Matrix:\n",
      "[[35098  7319]\n",
      " [22026 20557]]\n",
      "\n",
      "Classification Report:\n",
      "0: {'precision': 0.6144177578600938, 'recall': 0.8274512577504303, 'f1-score': 0.7051968535578305, 'support': 42417.0}\n",
      "1: {'precision': 0.7374443966135744, 'recall': 0.48275133269144965, 'f1-score': 0.5835166550760017, 'support': 42583.0}\n",
      "accuracy: 0.6547647058823529\n",
      "macro avg: {'precision': 0.6759310772368341, 'recall': 0.65510129522094, 'f1-score': 0.6443567543169161, 'support': 85000.0}\n",
      "weighted avg: {'precision': 0.6760512091311464, 'recall': 0.6547647058823529, 'f1-score': 0.644237937181928, 'support': 85000.0}\n",
      "\n",
      "Fold 3\n",
      "Confusion Matrix:\n",
      "[[35215  7573]\n",
      " [21666 20546]]\n",
      "\n",
      "Classification Report:\n",
      "0: {'precision': 0.6190995235667446, 'recall': 0.8230111246143779, 'f1-score': 0.7066389750072741, 'support': 42788.0}\n",
      "1: {'precision': 0.7306803229133326, 'recall': 0.486733630247323, 'f1-score': 0.5842658287241757, 'support': 42212.0}\n",
      "accuracy: 0.6560117647058824\n",
      "macro avg: {'precision': 0.6748899232400386, 'recall': 0.6548723774308505, 'f1-score': 0.6454524018657248, 'support': 85000.0}\n",
      "weighted avg: {'precision': 0.6745118612375467, 'recall': 0.6560117647058824, 'f1-score': 0.6458670308790135, 'support': 85000.0}\n",
      "\n",
      "Fold 4\n",
      "Confusion Matrix:\n",
      "[[35100  7374]\n",
      " [21838 20688]]\n",
      "\n",
      "Classification Report:\n",
      "0: {'precision': 0.6164600091327409, 'recall': 0.8263879078965956, 'f1-score': 0.7061521747877519, 'support': 42474.0}\n",
      "1: {'precision': 0.7372247166987385, 'recall': 0.4864788599915346, 'f1-score': 0.5861619538731796, 'support': 42526.0}\n",
      "accuracy: 0.6563294117647058\n",
      "macro avg: {'precision': 0.6768423629157396, 'recall': 0.656433383944065, 'f1-score': 0.6461570643304657, 'support': 85000.0}\n",
      "weighted avg: {'precision': 0.6768793027086423, 'recall': 0.6563294117647058, 'f1-score': 0.6461203614393624, 'support': 85000.0}\n",
      "\n",
      "Fold 5\n",
      "Confusion Matrix:\n",
      "[[34698  7502]\n",
      " [21973 20827]]\n",
      "\n",
      "Classification Report:\n",
      "0: {'precision': 0.6122708263485733, 'recall': 0.8222274881516588, 'f1-score': 0.7018842734472192, 'support': 42200.0}\n",
      "1: {'precision': 0.7351830279925166, 'recall': 0.48661214953271026, 'f1-score': 0.5856120569669193, 'support': 42800.0}\n",
      "accuracy: 0.653235294117647\n",
      "macro avg: {'precision': 0.6737269271705449, 'recall': 0.6544198188421846, 'f1-score': 0.6437481652070692, 'support': 85000.0}\n",
      "weighted avg: {'precision': 0.674160734941053, 'recall': 0.653235294117647, 'f1-score': 0.6433377926783151, 'support': 85000.0}\n"
     ]
    }
   ],
   "source": [
    "# Display results for each fold\n",
    "for i in range(k):\n",
    "    print(f\"\\nFold {i+1}\")\n",
    "    print(\"Confusion Matrix:\")\n",
    "    print(conf_matrices_svm[i])\n",
    "    print(\"\\nClassification Report:\")\n",
    "    for label, metrics in classification_reports_svm[i].items():\n",
    "        print(f\"{label}: {metrics}\")"
   ]
  },
  {
   "cell_type": "code",
   "execution_count": 32,
   "metadata": {
    "colab": {
     "base_uri": "https://localhost:8080/"
    },
    "id": "OMIwvs8vVxV3",
    "outputId": "28e42897-126d-437d-cca2-f42b8daec104"
   },
   "outputs": [
    {
     "name": "stdout",
     "output_type": "stream",
     "text": [
      "\n",
      "Average Accuracy LR: 0.6556070588235294\n",
      "Standard Deviation: 0.0015083912922904039\n",
      "Average Macro F1 Score LR: 0.6454466139222966\n",
      "\n",
      "Average Recall for class 1: 0.48623609293470677\n"
     ]
    }
   ],
   "source": [
    "# Calculate average accuracy\n",
    "accuracies_svm = [report['accuracy'] for report in classification_reports_svm]\n",
    "average_accuracy_svm = np.mean(accuracies_svm)\n",
    "print(f\"\\nAverage Accuracy LR: {average_accuracy_svm}\")\n",
    "\n",
    "\n",
    "# Caluculate average standard deviation\n",
    "std_dev_svm = np.std(accuracies_svm)\n",
    "print(f\"Standard Deviation: {std_dev_svm}\")\n",
    "\n",
    "\n",
    "# Calculate average macro f1-score\n",
    "average_macro_f1_svm = sum(macro_f1_scores_svm) / len(macro_f1_scores_svm)\n",
    "print(f\"Average Macro F1 Score LR: {average_macro_f1_svm}\")\n",
    "\n",
    "\n",
    "# Collect the recall for the '1' class from each fold\n",
    "recall_class_1_svm = [report['1']['recall'] for report in classification_reports_svm]\n",
    "# Calculate the average recall for the '1' class across all folds\n",
    "average_recall_class_1_svm = np.mean(recall_class_1_svm)\n",
    "print(f\"\\nAverage Recall for class 1: {average_recall_class_1_svm}\")"
   ]
  },
  {
   "cell_type": "code",
   "execution_count": 33,
   "metadata": {
    "colab": {
     "base_uri": "https://localhost:8080/"
    },
    "id": "i33tff3QVxV3",
    "outputId": "9de5e9a4-97e9-4310-ade9-c85e2115447c"
   },
   "outputs": [
    {
     "name": "stdout",
     "output_type": "stream",
     "text": [
      "{'average_accuracy': 0.6556070588235294, 'std_dev_accuracy': 0.0015083912922904039, 'average_macro_f1': 0.6454466139222966, 'average_recall_class_1': 0.48623609293470677, 'accuracies_per_fold': [0.6576941176470589, 0.6547647058823529, 0.6560117647058824, 0.6563294117647058, 0.653235294117647], 'recall_class_1_per_fold': [0.4886044922105164, 0.48275133269144965, 0.486733630247323, 0.4864788599915346, 0.48661214953271026]}\n"
     ]
    }
   ],
   "source": [
    "# saving outputs\n",
    "\n",
    "# Example metrics\n",
    "metrics_svm = {\n",
    "    \"average_accuracy\": average_accuracy_svm,\n",
    "    \"std_dev_accuracy\": std_dev_svm,\n",
    "    \"average_macro_f1\": average_macro_f1_svm,\n",
    "    \"average_recall_class_1\": average_recall_class_1_svm,\n",
    "    \"accuracies_per_fold\": accuracies_svm,\n",
    "    \"recall_class_1_per_fold\": recall_class_1_svm\n",
    "}\n",
    "\n",
    "# Print the dictionary to verify\n",
    "print(metrics_svm)\n",
    "\n",
    "\n",
    "import json\n",
    "# Save the metrics dictionary as JSON\n",
    "with open(\"metrics_svm_nw.json\", \"w\") as f:\n",
    "    json.dump(metrics_svm, f, indent=4)"
   ]
  },
  {
   "cell_type": "markdown",
   "metadata": {
    "id": "HcoibFHHVxV4"
   },
   "source": [
    "### MLP"
   ]
  },
  {
   "cell_type": "code",
   "execution_count": 34,
   "metadata": {
    "id": "fiamFOX7VxV5"
   },
   "outputs": [],
   "source": [
    "from tensorflow.keras import layers, optimizers, models, callbacks\n",
    "from tensorflow.keras.optimizers.schedules import ExponentialDecay\n",
    "from tensorflow import keras"
   ]
  },
  {
   "cell_type": "code",
   "execution_count": 35,
   "metadata": {
    "id": "jv9IHbP1VxV5"
   },
   "outputs": [],
   "source": [
    "# Define parameters\n",
    "initial_learning_rate = 5e-4\n",
    "decay_rate = 0.1  # Decay rate per step\n",
    "\n",
    "# Define the learning rate schedule\n",
    "lr_schedule = ExponentialDecay(\n",
    "    initial_learning_rate,\n",
    "    decay_steps=10000,\n",
    "    decay_rate=decay_rate)\n",
    "\n",
    "# Define early stopping\n",
    "early_stopping = callbacks.EarlyStopping(\n",
    "    monitor='val_accuracy',             # Watch accuracy\n",
    "    patience=5,                         # Stop after 3 epochs with no improvement\n",
    "    restore_best_weights=True,          # Restore weights from the best epoch\n",
    "    min_delta=0.0005                    # Minimum change in accuracy to qualify as an improvement\n",
    ")\n",
    "\n",
    "# Function to build the model\n",
    "def build_model():\n",
    "    model_mlp = models.Sequential()\n",
    "    model_mlp.add(layers.Dense(64, activation='relu', input_shape=(X.shape[1],)))\n",
    "    model_mlp.add(layers.BatchNormalization())\n",
    "    model_mlp.add(layers.Dense(64, activation='relu'))\n",
    "    model_mlp.add(layers.BatchNormalization())\n",
    "    model_mlp.add(layers.Dense(1, activation='sigmoid'))\n",
    "    model_mlp.compile(optimizer=optimizers.Adam(learning_rate=lr_schedule), loss='binary_crossentropy', metrics=['accuracy', keras.metrics.Recall()])\n",
    "    return model_mlp"
   ]
  },
  {
   "cell_type": "code",
   "execution_count": 36,
   "metadata": {
    "colab": {
     "base_uri": "https://localhost:8080/"
    },
    "id": "x51esfv0VxV5",
    "outputId": "89839caa-0bb1-44d4-b24c-f85c5bfa2cda"
   },
   "outputs": [
    {
     "name": "stdout",
     "output_type": "stream",
     "text": [
      "\n",
      "Fold 1\n"
     ]
    },
    {
     "name": "stderr",
     "output_type": "stream",
     "text": [
      "/usr/local/lib/python3.10/dist-packages/keras/src/layers/core/dense.py:87: UserWarning: Do not pass an `input_shape`/`input_dim` argument to a layer. When using Sequential models, prefer using an `Input(shape)` object as the first layer in the model instead.\n",
      "  super().__init__(activity_regularizer=activity_regularizer, **kwargs)\n"
     ]
    },
    {
     "name": "stdout",
     "output_type": "stream",
     "text": [
      "Epoch 1/20\n",
      "\u001b[1m10625/10625\u001b[0m \u001b[32m━━━━━━━━━━━━━━━━━━━━\u001b[0m\u001b[37m\u001b[0m \u001b[1m24s\u001b[0m 2ms/step - accuracy: 0.6115 - loss: 0.6390 - recall: 0.5718 - val_accuracy: 0.6538 - val_loss: 0.5933 - val_recall: 0.5898\n",
      "Epoch 2/20\n",
      "\u001b[1m10625/10625\u001b[0m \u001b[32m━━━━━━━━━━━━━━━━━━━━\u001b[0m\u001b[37m\u001b[0m \u001b[1m20s\u001b[0m 2ms/step - accuracy: 0.6420 - loss: 0.6032 - recall: 0.5885 - val_accuracy: 0.6573 - val_loss: 0.5914 - val_recall: 0.5598\n",
      "Epoch 3/20\n",
      "\u001b[1m10625/10625\u001b[0m \u001b[32m━━━━━━━━━━━━━━━━━━━━\u001b[0m\u001b[37m\u001b[0m \u001b[1m20s\u001b[0m 2ms/step - accuracy: 0.6434 - loss: 0.6024 - recall: 0.5916 - val_accuracy: 0.6570 - val_loss: 0.5910 - val_recall: 0.5752\n",
      "Epoch 4/20\n",
      "\u001b[1m10625/10625\u001b[0m \u001b[32m━━━━━━━━━━━━━━━━━━━━\u001b[0m\u001b[37m\u001b[0m \u001b[1m20s\u001b[0m 2ms/step - accuracy: 0.6454 - loss: 0.6007 - recall: 0.5943 - val_accuracy: 0.6574 - val_loss: 0.5914 - val_recall: 0.5647\n",
      "Epoch 5/20\n",
      "\u001b[1m10625/10625\u001b[0m \u001b[32m━━━━━━━━━━━━━━━━━━━━\u001b[0m\u001b[37m\u001b[0m \u001b[1m19s\u001b[0m 2ms/step - accuracy: 0.6435 - loss: 0.6015 - recall: 0.5898 - val_accuracy: 0.6571 - val_loss: 0.5911 - val_recall: 0.5794\n",
      "Epoch 6/20\n",
      "\u001b[1m10625/10625\u001b[0m \u001b[32m━━━━━━━━━━━━━━━━━━━━\u001b[0m\u001b[37m\u001b[0m \u001b[1m19s\u001b[0m 2ms/step - accuracy: 0.6451 - loss: 0.6015 - recall: 0.5932 - val_accuracy: 0.6571 - val_loss: 0.5911 - val_recall: 0.5731\n",
      "Epoch 7/20\n",
      "\u001b[1m10625/10625\u001b[0m \u001b[32m━━━━━━━━━━━━━━━━━━━━\u001b[0m\u001b[37m\u001b[0m \u001b[1m20s\u001b[0m 2ms/step - accuracy: 0.6435 - loss: 0.6007 - recall: 0.5922 - val_accuracy: 0.6569 - val_loss: 0.5910 - val_recall: 0.5850\n",
      "\u001b[1m2657/2657\u001b[0m \u001b[32m━━━━━━━━━━━━━━━━━━━━\u001b[0m\u001b[37m\u001b[0m \u001b[1m3s\u001b[0m 1ms/step\n",
      "\n",
      "Fold 2\n",
      "Epoch 1/20\n"
     ]
    },
    {
     "name": "stderr",
     "output_type": "stream",
     "text": [
      "/usr/local/lib/python3.10/dist-packages/keras/src/layers/core/dense.py:87: UserWarning: Do not pass an `input_shape`/`input_dim` argument to a layer. When using Sequential models, prefer using an `Input(shape)` object as the first layer in the model instead.\n",
      "  super().__init__(activity_regularizer=activity_regularizer, **kwargs)\n"
     ]
    },
    {
     "name": "stdout",
     "output_type": "stream",
     "text": [
      "\u001b[1m10625/10625\u001b[0m \u001b[32m━━━━━━━━━━━━━━━━━━━━\u001b[0m\u001b[37m\u001b[0m \u001b[1m24s\u001b[0m 2ms/step - accuracy: 0.6087 - loss: 0.6442 - recall_1: 0.5660 - val_accuracy: 0.6516 - val_loss: 0.5946 - val_recall_1: 0.5602\n",
      "Epoch 2/20\n",
      "\u001b[1m10625/10625\u001b[0m \u001b[32m━━━━━━━━━━━━━━━━━━━━\u001b[0m\u001b[37m\u001b[0m \u001b[1m20s\u001b[0m 2ms/step - accuracy: 0.6430 - loss: 0.6041 - recall_1: 0.5760 - val_accuracy: 0.6544 - val_loss: 0.5928 - val_recall_1: 0.5380\n",
      "Epoch 3/20\n",
      "\u001b[1m10625/10625\u001b[0m \u001b[32m━━━━━━━━━━━━━━━━━━━━\u001b[0m\u001b[37m\u001b[0m \u001b[1m20s\u001b[0m 2ms/step - accuracy: 0.6438 - loss: 0.6034 - recall_1: 0.5819 - val_accuracy: 0.6544 - val_loss: 0.5923 - val_recall_1: 0.5400\n",
      "Epoch 4/20\n",
      "\u001b[1m10625/10625\u001b[0m \u001b[32m━━━━━━━━━━━━━━━━━━━━\u001b[0m\u001b[37m\u001b[0m \u001b[1m20s\u001b[0m 2ms/step - accuracy: 0.6443 - loss: 0.6030 - recall_1: 0.5820 - val_accuracy: 0.6546 - val_loss: 0.5921 - val_recall_1: 0.5482\n",
      "Epoch 5/20\n",
      "\u001b[1m10625/10625\u001b[0m \u001b[32m━━━━━━━━━━━━━━━━━━━━\u001b[0m\u001b[37m\u001b[0m \u001b[1m20s\u001b[0m 2ms/step - accuracy: 0.6427 - loss: 0.6033 - recall_1: 0.5805 - val_accuracy: 0.6547 - val_loss: 0.5919 - val_recall_1: 0.5621\n",
      "\u001b[1m2657/2657\u001b[0m \u001b[32m━━━━━━━━━━━━━━━━━━━━\u001b[0m\u001b[37m\u001b[0m \u001b[1m3s\u001b[0m 1ms/step\n",
      "\n",
      "Fold 3\n",
      "Epoch 1/20\n"
     ]
    },
    {
     "name": "stderr",
     "output_type": "stream",
     "text": [
      "/usr/local/lib/python3.10/dist-packages/keras/src/layers/core/dense.py:87: UserWarning: Do not pass an `input_shape`/`input_dim` argument to a layer. When using Sequential models, prefer using an `Input(shape)` object as the first layer in the model instead.\n",
      "  super().__init__(activity_regularizer=activity_regularizer, **kwargs)\n"
     ]
    },
    {
     "name": "stdout",
     "output_type": "stream",
     "text": [
      "\u001b[1m10625/10625\u001b[0m \u001b[32m━━━━━━━━━━━━━━━━━━━━\u001b[0m\u001b[37m\u001b[0m \u001b[1m23s\u001b[0m 2ms/step - accuracy: 0.6080 - loss: 0.6405 - recall_2: 0.5682 - val_accuracy: 0.6523 - val_loss: 0.5947 - val_recall_2: 0.5525\n",
      "Epoch 2/20\n",
      "\u001b[1m10625/10625\u001b[0m \u001b[32m━━━━━━━━━━━━━━━━━━━━\u001b[0m\u001b[37m\u001b[0m \u001b[1m20s\u001b[0m 2ms/step - accuracy: 0.6437 - loss: 0.6032 - recall_2: 0.5799 - val_accuracy: 0.6559 - val_loss: 0.5920 - val_recall_2: 0.5586\n",
      "Epoch 3/20\n",
      "\u001b[1m10625/10625\u001b[0m \u001b[32m━━━━━━━━━━━━━━━━━━━━\u001b[0m\u001b[37m\u001b[0m \u001b[1m20s\u001b[0m 2ms/step - accuracy: 0.6433 - loss: 0.6027 - recall_2: 0.5840 - val_accuracy: 0.6562 - val_loss: 0.5917 - val_recall_2: 0.5592\n",
      "Epoch 4/20\n",
      "\u001b[1m10625/10625\u001b[0m \u001b[32m━━━━━━━━━━━━━━━━━━━━\u001b[0m\u001b[37m\u001b[0m \u001b[1m20s\u001b[0m 2ms/step - accuracy: 0.6441 - loss: 0.6022 - recall_2: 0.5851 - val_accuracy: 0.6553 - val_loss: 0.5915 - val_recall_2: 0.5719\n",
      "Epoch 5/20\n",
      "\u001b[1m10625/10625\u001b[0m \u001b[32m━━━━━━━━━━━━━━━━━━━━\u001b[0m\u001b[37m\u001b[0m \u001b[1m20s\u001b[0m 2ms/step - accuracy: 0.6436 - loss: 0.6030 - recall_2: 0.5829 - val_accuracy: 0.6554 - val_loss: 0.5914 - val_recall_2: 0.5816\n",
      "\u001b[1m2657/2657\u001b[0m \u001b[32m━━━━━━━━━━━━━━━━━━━━\u001b[0m\u001b[37m\u001b[0m \u001b[1m3s\u001b[0m 1ms/step\n",
      "\n",
      "Fold 4\n",
      "Epoch 1/20\n"
     ]
    },
    {
     "name": "stderr",
     "output_type": "stream",
     "text": [
      "/usr/local/lib/python3.10/dist-packages/keras/src/layers/core/dense.py:87: UserWarning: Do not pass an `input_shape`/`input_dim` argument to a layer. When using Sequential models, prefer using an `Input(shape)` object as the first layer in the model instead.\n",
      "  super().__init__(activity_regularizer=activity_regularizer, **kwargs)\n"
     ]
    },
    {
     "name": "stdout",
     "output_type": "stream",
     "text": [
      "\u001b[1m10625/10625\u001b[0m \u001b[32m━━━━━━━━━━━━━━━━━━━━\u001b[0m\u001b[37m\u001b[0m \u001b[1m23s\u001b[0m 2ms/step - accuracy: 0.6108 - loss: 0.6374 - recall_3: 0.5655 - val_accuracy: 0.6548 - val_loss: 0.5927 - val_recall_3: 0.5730\n",
      "Epoch 2/20\n",
      "\u001b[1m10625/10625\u001b[0m \u001b[32m━━━━━━━━━━━━━━━━━━━━\u001b[0m\u001b[37m\u001b[0m \u001b[1m20s\u001b[0m 2ms/step - accuracy: 0.6434 - loss: 0.6020 - recall_3: 0.5844 - val_accuracy: 0.6575 - val_loss: 0.5908 - val_recall_3: 0.5629\n",
      "Epoch 3/20\n",
      "\u001b[1m10625/10625\u001b[0m \u001b[32m━━━━━━━━━━━━━━━━━━━━\u001b[0m\u001b[37m\u001b[0m \u001b[1m20s\u001b[0m 2ms/step - accuracy: 0.6472 - loss: 0.6005 - recall_3: 0.5890 - val_accuracy: 0.6572 - val_loss: 0.5906 - val_recall_3: 0.5605\n",
      "Epoch 4/20\n",
      "\u001b[1m10625/10625\u001b[0m \u001b[32m━━━━━━━━━━━━━━━━━━━━\u001b[0m\u001b[37m\u001b[0m \u001b[1m20s\u001b[0m 2ms/step - accuracy: 0.6467 - loss: 0.6004 - recall_3: 0.5863 - val_accuracy: 0.6578 - val_loss: 0.5903 - val_recall_3: 0.5824\n",
      "Epoch 5/20\n",
      "\u001b[1m10625/10625\u001b[0m \u001b[32m━━━━━━━━━━━━━━━━━━━━\u001b[0m\u001b[37m\u001b[0m \u001b[1m20s\u001b[0m 2ms/step - accuracy: 0.6463 - loss: 0.6002 - recall_3: 0.5868 - val_accuracy: 0.6571 - val_loss: 0.5905 - val_recall_3: 0.5700\n",
      "\u001b[1m2657/2657\u001b[0m \u001b[32m━━━━━━━━━━━━━━━━━━━━\u001b[0m\u001b[37m\u001b[0m \u001b[1m3s\u001b[0m 1ms/step\n",
      "\n",
      "Fold 5\n",
      "Epoch 1/20\n"
     ]
    },
    {
     "name": "stderr",
     "output_type": "stream",
     "text": [
      "/usr/local/lib/python3.10/dist-packages/keras/src/layers/core/dense.py:87: UserWarning: Do not pass an `input_shape`/`input_dim` argument to a layer. When using Sequential models, prefer using an `Input(shape)` object as the first layer in the model instead.\n",
      "  super().__init__(activity_regularizer=activity_regularizer, **kwargs)\n"
     ]
    },
    {
     "name": "stdout",
     "output_type": "stream",
     "text": [
      "\u001b[1m10625/10625\u001b[0m \u001b[32m━━━━━━━━━━━━━━━━━━━━\u001b[0m\u001b[37m\u001b[0m \u001b[1m23s\u001b[0m 2ms/step - accuracy: 0.6119 - loss: 0.6371 - recall_4: 0.5644 - val_accuracy: 0.6520 - val_loss: 0.5947 - val_recall_4: 0.5544\n",
      "Epoch 2/20\n",
      "\u001b[1m10625/10625\u001b[0m \u001b[32m━━━━━━━━━━━━━━━━━━━━\u001b[0m\u001b[37m\u001b[0m \u001b[1m20s\u001b[0m 2ms/step - accuracy: 0.6450 - loss: 0.6005 - recall_4: 0.5842 - val_accuracy: 0.6542 - val_loss: 0.5922 - val_recall_4: 0.5715\n",
      "Epoch 3/20\n",
      "\u001b[1m10625/10625\u001b[0m \u001b[32m━━━━━━━━━━━━━━━━━━━━\u001b[0m\u001b[37m\u001b[0m \u001b[1m20s\u001b[0m 2ms/step - accuracy: 0.6451 - loss: 0.6016 - recall_4: 0.5836 - val_accuracy: 0.6541 - val_loss: 0.5921 - val_recall_4: 0.5781\n",
      "Epoch 4/20\n",
      "\u001b[1m10625/10625\u001b[0m \u001b[32m━━━━━━━━━━━━━━━━━━━━\u001b[0m\u001b[37m\u001b[0m \u001b[1m20s\u001b[0m 2ms/step - accuracy: 0.6468 - loss: 0.6004 - recall_4: 0.5829 - val_accuracy: 0.6540 - val_loss: 0.5923 - val_recall_4: 0.5564\n",
      "Epoch 5/20\n",
      "\u001b[1m10625/10625\u001b[0m \u001b[32m━━━━━━━━━━━━━━━━━━━━\u001b[0m\u001b[37m\u001b[0m \u001b[1m20s\u001b[0m 2ms/step - accuracy: 0.6450 - loss: 0.6000 - recall_4: 0.5822 - val_accuracy: 0.6540 - val_loss: 0.5921 - val_recall_4: 0.5887\n",
      "\u001b[1m2657/2657\u001b[0m \u001b[32m━━━━━━━━━━━━━━━━━━━━\u001b[0m\u001b[37m\u001b[0m \u001b[1m3s\u001b[0m 1ms/step\n"
     ]
    }
   ],
   "source": [
    "# Convert data to float32 (required by TensorFlow)\n",
    "X_trainval = np.array(X_trainval, dtype=np.float32)\n",
    "y_trainval = np.array(y_trainval, dtype=np.float32)\n",
    "\n",
    "# Lists to store results\n",
    "conf_matrices_mlp = []\n",
    "classification_reports_mlp = []\n",
    "macro_f1_scores_mlp = []\n",
    "count = 0\n",
    "\n",
    "# Manually loop over each fold\n",
    "for train_index, test_index in kf.split(X_trainval):\n",
    "    count += 1\n",
    "    print(f\"\\nFold {count}\")\n",
    "\n",
    "    # Split data for this fold\n",
    "    X_train, X_val = X_trainval[train_index], X_trainval[test_index]\n",
    "    y_train, y_val = y_trainval[train_index], y_trainval[test_index]\n",
    "\n",
    "    # Build and train the model\n",
    "    model_mlp = build_model()\n",
    "    model_mlp.fit(X_train, y_train, validation_data=(X_val, y_val), epochs=20, batch_size=32, verbose=1, callbacks=[early_stopping])\n",
    "\n",
    "    # Make predictions\n",
    "    y_pred_mlp = model_mlp.predict(X_val)\n",
    "    y_pred_mlp = (y_pred_mlp > 0.5).astype(int)  # Convert probabilities to binary class predictions\n",
    "\n",
    "    # Store confusion matrix and classification report for each fold\n",
    "    conf_matrices_mlp.append(confusion_matrix(y_val, y_pred_mlp))\n",
    "    classification_reports_mlp.append(classification_report(y_val, y_pred_mlp, output_dict=True))\n",
    "\n",
    "    fold_macro_f1 = f1_score(y_val, y_pred_mlp, average='macro')\n",
    "    macro_f1_scores_mlp.append(fold_macro_f1)"
   ]
  },
  {
   "cell_type": "code",
   "execution_count": 37,
   "metadata": {
    "colab": {
     "base_uri": "https://localhost:8080/"
    },
    "id": "EDTiyy8DVxV5",
    "outputId": "e6ff222b-330f-4313-8efc-7bf05f26a537"
   },
   "outputs": [
    {
     "name": "stdout",
     "output_type": "stream",
     "text": [
      "\n",
      "Fold 1\n",
      "Confusion Matrix:\n",
      "[[32122 10449]\n",
      " [18677 23752]]\n",
      "\n",
      "Classification Report:\n",
      "0.0: {'precision': 0.6323352821905943, 'recall': 0.7545512203142984, 'f1-score': 0.6880582628253187, 'support': 42571.0}\n",
      "1.0: {'precision': 0.6944826174673255, 'recall': 0.559805793207476, 'f1-score': 0.6199138718517552, 'support': 42429.0}\n",
      "accuracy: 0.6573411764705882\n",
      "macro avg: {'precision': 0.6634089498289599, 'recall': 0.6571785067608873, 'f1-score': 0.6539860673385369, 'support': 85000.0}\n",
      "weighted avg: {'precision': 0.6633570385253759, 'recall': 0.6573411764705882, 'f1-score': 0.6540429879474677, 'support': 85000.0}\n",
      "\n",
      "Fold 2\n",
      "Confusion Matrix:\n",
      "[[31530 10887]\n",
      " [18729 23854]]\n",
      "\n",
      "Classification Report:\n",
      "0.0: {'precision': 0.627350325314869, 'recall': 0.7433340405969304, 'f1-score': 0.6804350640942639, 'support': 42417.0}\n",
      "1.0: {'precision': 0.6866238738090441, 'recall': 0.5601765962942958, 'f1-score': 0.6169882572034556, 'support': 42583.0}\n",
      "accuracy: 0.6515764705882353\n",
      "macro avg: {'precision': 0.6569870995619566, 'recall': 0.6517553184456131, 'f1-score': 0.6487116606488598, 'support': 85000.0}\n",
      "weighted avg: {'precision': 0.6570449784387214, 'recall': 0.6515764705882353, 'f1-score': 0.6486497067080135, 'support': 85000.0}\n",
      "\n",
      "Fold 3\n",
      "Confusion Matrix:\n",
      "[[32118 10670]\n",
      " [18888 23324]]\n",
      "\n",
      "Classification Report:\n",
      "0.0: {'precision': 0.6296906246323962, 'recall': 0.7506310180424418, 'f1-score': 0.6848625711665991, 'support': 42788.0}\n",
      "1.0: {'precision': 0.6861210801906219, 'recall': 0.5525443001989956, 'f1-score': 0.6121302784557646, 'support': 42212.0}\n",
      "accuracy: 0.6522588235294118\n",
      "macro avg: {'precision': 0.6579058524115091, 'recall': 0.6515876591207187, 'f1-score': 0.6484964248111819, 'support': 85000.0}\n",
      "weighted avg: {'precision': 0.6577146527503235, 'recall': 0.6522588235294118, 'f1-score': 0.6487428589323667, 'support': 85000.0}\n",
      "\n",
      "Fold 4\n",
      "Confusion Matrix:\n",
      "[[31293 11181]\n",
      " [18160 24366]]\n",
      "\n",
      "Classification Report:\n",
      "0.0: {'precision': 0.6327826421046245, 'recall': 0.7367566040401187, 'f1-score': 0.6808228268082283, 'support': 42474.0}\n",
      "1.0: {'precision': 0.6854586884969196, 'recall': 0.5729671259935099, 'f1-score': 0.6241850575743215, 'support': 42526.0}\n",
      "accuracy: 0.6548117647058823\n",
      "macro avg: {'precision': 0.6591206653007721, 'recall': 0.6548618650168143, 'f1-score': 0.6525039421912748, 'support': 85000.0}\n",
      "weighted avg: {'precision': 0.6591367779737862, 'recall': 0.6548117647058823, 'f1-score': 0.6524866176971563, 'support': 85000.0}\n",
      "\n",
      "Fold 5\n",
      "Confusion Matrix:\n",
      "[[31689 10511]\n",
      " [19072 23728]]\n",
      "\n",
      "Classification Report:\n",
      "0.0: {'precision': 0.6242784815113965, 'recall': 0.7509241706161137, 'f1-score': 0.6817697744215316, 'support': 42200.0}\n",
      "1.0: {'precision': 0.6930108940097549, 'recall': 0.554392523364486, 'f1-score': 0.6159996884694765, 'support': 42800.0}\n",
      "accuracy: 0.6519647058823529\n",
      "macro avg: {'precision': 0.6586446877605757, 'recall': 0.6526583469902998, 'f1-score': 0.6488847314455041, 'support': 85000.0}\n",
      "weighted avg: {'precision': 0.6588872727458641, 'recall': 0.6519647058823529, 'f1-score': 0.6486526017303792, 'support': 85000.0}\n"
     ]
    }
   ],
   "source": [
    "# Display results for each fold\n",
    "for i in range(k):\n",
    "    print(f\"\\nFold {i+1}\")\n",
    "    print(\"Confusion Matrix:\")\n",
    "    print(conf_matrices_mlp[i])\n",
    "    print(\"\\nClassification Report:\")\n",
    "    for label, metrics in classification_reports_mlp[i].items():\n",
    "        print(f\"{label}: {metrics}\")"
   ]
  },
  {
   "cell_type": "code",
   "execution_count": 38,
   "metadata": {
    "colab": {
     "base_uri": "https://localhost:8080/"
    },
    "id": "LL1aKERyVxV6",
    "outputId": "b1dd1ce5-1610-49d1-8865-7df83733a484"
   },
   "outputs": [
    {
     "name": "stdout",
     "output_type": "stream",
     "text": [
      "\n",
      "Average Accuracy MLP: 0.6535905882352941\n",
      "Standard Deviation: 0.0021923478116703085\n",
      "\n",
      "Average Macro F1 Score MLP: 0.6505165652870716\n",
      "\n",
      "Average Recall for class 1.0: 0.5599772678117526\n"
     ]
    }
   ],
   "source": [
    "# Calculate average accuracy\n",
    "accuracies_mlp = [report['accuracy'] for report in classification_reports_mlp]\n",
    "average_accuracy_mlp = np.mean(accuracies_mlp)\n",
    "print(f\"\\nAverage Accuracy MLP: {average_accuracy_mlp}\")\n",
    "\n",
    "\n",
    "# Caluculate average standard deviation of accuracies\n",
    "std_dev_mlp = np.std(accuracies_mlp)\n",
    "print(f\"Standard Deviation: {std_dev_mlp}\")\n",
    "\n",
    "\n",
    "# Calculate average f1-score\n",
    "average_macro_f1_mlp = sum(macro_f1_scores_mlp) / len(macro_f1_scores_mlp)\n",
    "print(f\"\\nAverage Macro F1 Score MLP: {average_macro_f1_mlp}\")\n",
    "\n",
    "\n",
    "# Collect the recall for the '1.0' class from each fold\n",
    "recall_class_1_mlp = [report_mlp['1.0']['recall'] for report_mlp in classification_reports_mlp]\n",
    "# Calculate the average recall for the '1.0' class across all folds\n",
    "average_recall_class_1_mlp = np.mean(recall_class_1_mlp)\n",
    "print(f\"\\nAverage Recall for class 1.0: {average_recall_class_1_mlp}\")"
   ]
  },
  {
   "cell_type": "code",
   "execution_count": 39,
   "metadata": {
    "colab": {
     "base_uri": "https://localhost:8080/"
    },
    "id": "d_AXaDrjVxV6",
    "outputId": "b045ffd6-b59f-42a1-a3a1-878fc0582a45"
   },
   "outputs": [
    {
     "name": "stdout",
     "output_type": "stream",
     "text": [
      "{'average_accuracy': 0.6535905882352941, 'std_dev_accuracy': 0.0021923478116703085, 'average_macro_f1': 0.6505165652870716, 'average_recall_class_1': 0.5599772678117526, 'accuracies_per_fold': [0.6573411764705882, 0.6515764705882353, 0.6522588235294118, 0.6548117647058823, 0.6519647058823529], 'recall_class_1_per_fold': [0.559805793207476, 0.5601765962942958, 0.5525443001989956, 0.5729671259935099, 0.554392523364486]}\n"
     ]
    }
   ],
   "source": [
    "# saving outputs\n",
    "\n",
    "# Example metrics\n",
    "metrics_mlp = {\n",
    "    \"average_accuracy\": average_accuracy_mlp,\n",
    "    \"std_dev_accuracy\": std_dev_mlp,\n",
    "    \"average_macro_f1\": average_macro_f1_mlp,\n",
    "    \"average_recall_class_1\": average_recall_class_1_mlp,\n",
    "    \"accuracies_per_fold\": accuracies_mlp,\n",
    "    \"recall_class_1_per_fold\": recall_class_1_mlp\n",
    "}\n",
    "\n",
    "# Print the dictionary to verify\n",
    "print(metrics_mlp)\n",
    "\n",
    "\n",
    "import json\n",
    "# Save the metrics dictionary as JSON\n",
    "with open(\"metrics_mlp_nw.json\", \"w\") as f:\n",
    "    json.dump(metrics_mlp, f, indent=4)"
   ]
  },
  {
   "cell_type": "markdown",
   "metadata": {
    "id": "7xhpAtu3VxV6"
   },
   "source": [
    "## Dataframe with results"
   ]
  },
  {
   "cell_type": "code",
   "execution_count": 21,
   "metadata": {},
   "outputs": [],
   "source": [
    "import json\n",
    "import pandas as pd"
   ]
  },
  {
   "cell_type": "code",
   "execution_count": 31,
   "metadata": {
    "id": "_SkGPchMVxV6"
   },
   "outputs": [],
   "source": [
    "# Load the metrics dictionaries\n",
    "with open(\"metrics_dummy_val_nw.json\", \"r\") as f:\n",
    "    metrics_dummy_val = json.load(f)\n",
    "\n",
    "with open(\"metrics_lr_nw.json\", \"r\") as f:\n",
    "    metrics_lr = json.load(f)\n",
    "\n",
    "with open(\"metrics_rf_nw.json\", \"r\") as f:\n",
    "    metrics_rf = json.load(f)\n",
    "\n",
    "with open(\"metrics_svm_nw.json\", \"r\") as f:\n",
    "    metrics_svm = json.load(f)\n",
    "\n",
    "with open(\"metrics_mlp_nw.json\", \"r\") as f:\n",
    "    metrics_mlp = json.load(f)"
   ]
  },
  {
   "cell_type": "code",
   "execution_count": 34,
   "metadata": {
    "id": "l-bZdc_8VxV8"
   },
   "outputs": [],
   "source": [
    "# List of model names\n",
    "model_names = ['Dummy Classifier', 'Logistic Regression', 'Random Forest', 'SVM', 'MLP']\n",
    "\n",
    "# Calculate the delta values\n",
    "deltaLR = (metrics_lr['average_recall_class_1'] - metrics_dummy_val['average_recall_class_1']) / metrics_dummy_val['average_recall_class_1'] * 100\n",
    "deltaRF = (metrics_rf['average_recall_class_1'] - metrics_dummy_val['average_recall_class_1']) / metrics_dummy_val['average_recall_class_1'] * 100\n",
    "deltaSVM = (metrics_svm['average_recall_class_1'] - metrics_dummy_val['average_recall_class_1']) / metrics_dummy_val['average_recall_class_1'] * 100\n",
    "deltaMLP = (metrics_mlp['average_recall_class_1'] - metrics_dummy_val['average_recall_class_1']) / metrics_dummy_val['average_recall_class_1'] * 100\n",
    "\n",
    "# Collect the accuracy and recall values by calling the variables\n",
    "accuracies = [metrics_dummy_val['average_accuracy'], metrics_lr['average_accuracy'], metrics_rf['average_accuracy'], metrics_svm['average_accuracy'], metrics_mlp['average_accuracy']]\n",
    "recalls = [metrics_dummy_val['average_recall_class_1'], metrics_lr['average_recall_class_1'], metrics_rf['average_recall_class_1'], metrics_svm['average_recall_class_1'], metrics_mlp['average_recall_class_1']]\n",
    "f1s = [metrics_dummy_val['average_macro_f1'], metrics_lr['average_macro_f1'], metrics_rf['average_macro_f1'], metrics_svm['average_macro_f1'], metrics_mlp['average_macro_f1']]\n",
    "std_devs = ['-', metrics_lr['std_dev_accuracy'], metrics_rf['std_dev_accuracy'], metrics_svm['std_dev_accuracy'], metrics_mlp['std_dev_accuracy']]\n",
    "delta = ['-', deltaLR, deltaRF, deltaSVM, deltaMLP]\n",
    "\n",
    "# Create a dictionary for the DataFrame\n",
    "data = {\n",
    "    'Model': model_names,\n",
    "    'Recall class 1': recalls,\n",
    "    'F1-score': f1s,\n",
    "    'Accuracy': accuracies,\n",
    "    'Std Dev Accuracy': std_devs,\n",
    "    'Delta Recall 1 (%)': delta\n",
    "}\n",
    "\n",
    "# Create the DataFrame\n",
    "df_results = pd.DataFrame(data)"
   ]
  },
  {
   "cell_type": "code",
   "execution_count": 35,
   "metadata": {
    "colab": {
     "base_uri": "https://localhost:8080/",
     "height": 175
    },
    "id": "IrftByPgVxV8",
    "outputId": "863e56bf-c544-4774-b7bc-61d5e5f2087e"
   },
   "outputs": [
    {
     "data": {
      "text/html": [
       "<div>\n",
       "<style scoped>\n",
       "    .dataframe tbody tr th:only-of-type {\n",
       "        vertical-align: middle;\n",
       "    }\n",
       "\n",
       "    .dataframe tbody tr th {\n",
       "        vertical-align: top;\n",
       "    }\n",
       "\n",
       "    .dataframe thead th {\n",
       "        text-align: right;\n",
       "    }\n",
       "</style>\n",
       "<table border=\"1\" class=\"dataframe\">\n",
       "  <thead>\n",
       "    <tr style=\"text-align: right;\">\n",
       "      <th></th>\n",
       "      <th>Model</th>\n",
       "      <th>Recall class 1</th>\n",
       "      <th>F1-score</th>\n",
       "      <th>Accuracy</th>\n",
       "      <th>Std Dev Accuracy</th>\n",
       "      <th>Delta Recall 1 (%)</th>\n",
       "    </tr>\n",
       "  </thead>\n",
       "  <tbody>\n",
       "    <tr>\n",
       "      <th>0</th>\n",
       "      <td>Dummy Classifier</td>\n",
       "      <td>0.499478</td>\n",
       "      <td>0.499279</td>\n",
       "      <td>0.499280</td>\n",
       "      <td>-</td>\n",
       "      <td>-</td>\n",
       "    </tr>\n",
       "    <tr>\n",
       "      <th>1</th>\n",
       "      <td>Logistic Regression</td>\n",
       "      <td>0.473971</td>\n",
       "      <td>0.591749</td>\n",
       "      <td>0.598021</td>\n",
       "      <td>0.001387</td>\n",
       "      <td>-5.106795</td>\n",
       "    </tr>\n",
       "    <tr>\n",
       "      <th>2</th>\n",
       "      <td>Random Forest</td>\n",
       "      <td>0.677876</td>\n",
       "      <td>0.706471</td>\n",
       "      <td>0.706713</td>\n",
       "      <td>0.001181</td>\n",
       "      <td>35.716917</td>\n",
       "    </tr>\n",
       "    <tr>\n",
       "      <th>3</th>\n",
       "      <td>SVM</td>\n",
       "      <td>0.486236</td>\n",
       "      <td>0.645447</td>\n",
       "      <td>0.655607</td>\n",
       "      <td>0.001508</td>\n",
       "      <td>-2.651189</td>\n",
       "    </tr>\n",
       "    <tr>\n",
       "      <th>4</th>\n",
       "      <td>MLP</td>\n",
       "      <td>0.559977</td>\n",
       "      <td>0.650517</td>\n",
       "      <td>0.653591</td>\n",
       "      <td>0.002192</td>\n",
       "      <td>12.112453</td>\n",
       "    </tr>\n",
       "  </tbody>\n",
       "</table>\n",
       "</div>"
      ],
      "text/plain": [
       "                 Model  Recall class 1  F1-score  Accuracy Std Dev Accuracy  \\\n",
       "0     Dummy Classifier        0.499478  0.499279  0.499280                -   \n",
       "1  Logistic Regression        0.473971  0.591749  0.598021         0.001387   \n",
       "2        Random Forest        0.677876  0.706471  0.706713         0.001181   \n",
       "3                  SVM        0.486236  0.645447  0.655607         0.001508   \n",
       "4                  MLP        0.559977  0.650517  0.653591         0.002192   \n",
       "\n",
       "  Delta Recall 1 (%)  \n",
       "0                  -  \n",
       "1          -5.106795  \n",
       "2          35.716917  \n",
       "3          -2.651189  \n",
       "4          12.112453  "
      ]
     },
     "execution_count": 35,
     "metadata": {},
     "output_type": "execute_result"
    }
   ],
   "source": [
    "df_results"
   ]
  },
  {
   "cell_type": "code",
   "execution_count": 36,
   "metadata": {
    "colab": {
     "base_uri": "https://localhost:8080/",
     "height": 617
    },
    "id": "7uhdHrnrVxV9",
    "outputId": "7783940f-0426-43d8-d8f4-4b048d5ffc59"
   },
   "outputs": [
    {
     "data": {
      "image/png": "[encoded data removed]",
      "text/plain": [
       "<Figure size 600x600 with 1 Axes>"
      ]
     },
     "metadata": {},
     "output_type": "display_data"
    }
   ],
   "source": [
    "import numpy as np\n",
    "import matplotlib.pyplot as plt\n",
    "\n",
    "# Data\n",
    "labels = ['Recall', 'F1 Score', 'Accuracy']\n",
    "datasets = {\n",
    "    'Dummy': [df_results.loc[0, \"Recall class 1\"], df_results.loc[0, \"F1-score\"],\tdf_results.loc[0, \"Accuracy\"]],\n",
    "    'Logistic Regression': [df_results.loc[1, \"Recall class 1\"], df_results.loc[1, \"F1-score\"],\tdf_results.loc[1, \"Accuracy\"]],\n",
    "    'Random Forest': [df_results.loc[2, \"Recall class 1\"], df_results.loc[2, \"F1-score\"],\tdf_results.loc[2, \"Accuracy\"]],\n",
    "    'SVM': [df_results.loc[3, \"Recall class 1\"], df_results.loc[3, \"F1-score\"],\tdf_results.loc[3, \"Accuracy\"]],\n",
    "    'MLP': [df_results.loc[4, \"Recall class 1\"], df_results.loc[4, \"F1-score\"],\tdf_results.loc[4, \"Accuracy\"]]\n",
    "}\n",
    "\n",
    "# Number of variables (features)\n",
    "num_vars = len(labels)\n",
    "\n",
    "# Calculate angle for each axis\n",
    "angles = np.linspace(0, 2 * np.pi, num_vars, endpoint=False).tolist()\n",
    "\n",
    "# Complete the loop by repeating the first point to close the polygon\n",
    "angles += angles[:1]\n",
    "\n",
    "# Create a radar chart\n",
    "fig, ax = plt.subplots(figsize=(6, 6), dpi=100, subplot_kw=dict(polar=True))\n",
    "\n",
    "# Colors for each dataset\n",
    "colors = ['#a020f0', '#1f77b4', '#ff7f0e', '#2ca02c', '#d62728']\n",
    "\n",
    "# Plot each dataset\n",
    "for idx, (dataset, values) in enumerate(datasets.items()):\n",
    "    values += values[:1]  # Ensure the loop closes\n",
    "    ax.fill(angles, values, color=colors[idx], alpha=0.25)  # Fill the area\n",
    "    ax.plot(angles, values, color=colors[idx], linewidth=2, label=dataset)  # Plot the line\n",
    "\n",
    "# Add labels\n",
    "ax.set_yticklabels([])  # Hide radial ticks\n",
    "ax.set_xticks(angles[:-1])  # Place labels at each axis\n",
    "ax.set_xticklabels(labels)\n",
    "\n",
    "# Add legend\n",
    "plt.legend(loc='upper center', bbox_to_anchor=(0.5, -0.1), ncol=2)\n",
    "\n",
    "# Show plot\n",
    "plt.show()"
   ]
  },
  {
   "cell_type": "markdown",
   "metadata": {
    "id": "4z1MoBIzVxV9"
   },
   "source": [
    "## Random search on best model"
   ]
  },
  {
   "cell_type": "markdown",
   "metadata": {
    "id": "n7zuK-HWVxV9"
   },
   "source": [
    "After looking at the df of above, it can be seen that the best model is the Random Forest model. I therefore will perform random search on this model"
   ]
  },
  {
   "cell_type": "code",
   "execution_count": 44,
   "metadata": {
    "id": "kEb0oEBAVxV9"
   },
   "outputs": [],
   "source": [
    "# Further splitting trainval into train and validation set to tune hyperparameters on the validation set\n",
    "# Training set: 70%, Validation set: 15%, Test set: 15% (still the same test set)\n",
    "\n",
    "X_train, X_val, y_train, y_val = train_test_split(X_trainval, y_trainval, test_size=(15/85), random_state=42)"
   ]
  },
  {
   "cell_type": "code",
   "execution_count": 45,
   "metadata": {
    "colab": {
     "base_uri": "https://localhost:8080/"
    },
    "id": "yM2ITCKNVxV9",
    "outputId": "59371d83-e2eb-4415-a74a-7810cb3c584e"
   },
   "outputs": [
    {
     "name": "stdout",
     "output_type": "stream",
     "text": [
      "(350000, 45)\n",
      "The percentage of the original dataset that is used for training is: 70.0 %\n"
     ]
    }
   ],
   "source": [
    "print(X_train.shape)\n",
    "print(f\"The percentage of the original dataset that is used for training is: {X_train.shape[0]/dfnw.shape[0]*100} %\")"
   ]
  },
  {
   "cell_type": "code",
   "execution_count": 46,
   "metadata": {
    "id": "vPz52zAfVxV9"
   },
   "outputs": [],
   "source": [
    "from scipy.stats import randint  # For defining distributions for random search\n",
    "\n",
    "param_dist = {\n",
    "    'n_estimators': randint(50, 300),                       # Number of trees in the forest (uniform distribution between 50 and 200)\n",
    "    'max_depth': [None] + list(randint(1, 30).rvs(10)),     # Random depth values including None\n",
    "    'min_samples_split': randint(2, 10),                    # Minimum samples required to split an internal node\n",
    "    'min_samples_leaf': randint(1, 5)                       # Minimum samples required to be at a leaf node\n",
    "}"
   ]
  },
  {
   "cell_type": "code",
   "execution_count": 47,
   "metadata": {
    "id": "hAfAEmE0VxV-"
   },
   "outputs": [],
   "source": [
    "# Initialize the Random Forest Classifier\n",
    "from sklearn.ensemble import RandomForestClassifier\n",
    "from sklearn.model_selection import RandomizedSearchCV\n",
    "\n",
    "rf_model_search = RandomForestClassifier(random_state=42)  # Random state for reproducibility\n"
   ]
  },
  {
   "cell_type": "code",
   "execution_count": 48,
   "metadata": {
    "colab": {
     "base_uri": "https://localhost:8080/"
    },
    "id": "fHMaRLX8VxV-",
    "outputId": "cc48df1e-4ef4-48fa-e40e-2c07ff9284f0"
   },
   "outputs": [
    {
     "name": "stdout",
     "output_type": "stream",
     "text": [
      "Fitting 5 folds for each of 20 candidates, totalling 100 fits\n"
     ]
    },
    {
     "name": "stderr",
     "output_type": "stream",
     "text": [
      "/usr/local/lib/python3.10/dist-packages/joblib/externals/loky/process_executor.py:752: UserWarning: A worker stopped while some jobs were given to the executor. This can be caused by a too short worker timeout or by a memory leak.\n",
      "  warnings.warn(\n"
     ]
    },
    {
     "name": "stdout",
     "output_type": "stream",
     "text": [
      "Best Parameters: {'max_depth': 26, 'min_samples_leaf': 1, 'min_samples_split': 2, 'n_estimators': 248}\n",
      "Best Cross-Validation Score: 0.7027942857142857\n"
     ]
    }
   ],
   "source": [
    "# Set up RandomizedSearchCV\n",
    "random_search = RandomizedSearchCV(estimator=rf_model_search,\n",
    "                           param_distributions=param_dist,\n",
    "                           n_iter=20,               # Number of parameter settings that are sampled\n",
    "                           scoring='accuracy',      # Use recall as the evaluation metric\n",
    "                           cv=k,\n",
    "                           verbose=2,\n",
    "                           n_jobs=-1)               # Use all available cores\n",
    "\n",
    "# Fit RandomizedSearchCV\n",
    "random_search.fit(X_train, y_train)\n",
    "\n",
    "# Get the best parameters and best score\n",
    "print(\"Best Parameters:\", random_search.best_params_)\n",
    "print(\"Best Cross-Validation Score:\", random_search.best_score_)"
   ]
  },
  {
   "cell_type": "code",
   "execution_count": 52,
   "metadata": {
    "id": "bc8ybVdrVxV-"
   },
   "outputs": [],
   "source": [
    "import json\n",
    "import numpy as np\n",
    "\n",
    "# Convert numpy.int64 to int (or other numpy types to native types)\n",
    "best_params = {key: int(value) if isinstance(value, np.integer) else value\n",
    "               for key, value in random_search.best_params_.items()}\n",
    "\n",
    "# save parameters to json file\n",
    "\n",
    "with open('best_params_nw50.json', 'w') as file:\n",
    "    json.dump(best_params, file)"
   ]
  },
  {
   "cell_type": "code",
   "execution_count": 53,
   "metadata": {
    "colab": {
     "base_uri": "https://localhost:8080/"
    },
    "id": "RMyYbaScVxV-",
    "outputId": "d3d4eeb8-f4e6-43a7-cfb6-dcf8b3fa7811"
   },
   "outputs": [
    {
     "name": "stdout",
     "output_type": "stream",
     "text": [
      "Accuracy on Validation Set: 0.70852\n",
      "[[28301  9328]\n",
      " [12533 24838]]\n",
      "              precision    recall  f1-score   support\n",
      "\n",
      "         0.0       0.69      0.75      0.72     37629\n",
      "         1.0       0.73      0.66      0.69     37371\n",
      "\n",
      "    accuracy                           0.71     75000\n",
      "   macro avg       0.71      0.71      0.71     75000\n",
      "weighted avg       0.71      0.71      0.71     75000\n",
      "\n",
      "Recall on Validation Set: 0.6646330042011185\n"
     ]
    }
   ],
   "source": [
    "y_pred_rf_random = random_search.predict(X_val)\n",
    "\n",
    "print(\"Accuracy on Validation Set:\", accuracy_score(y_val, y_pred_rf_random))\n",
    "print(confusion_matrix(y_val, y_pred_rf_random))\n",
    "print(classification_report(y_val, y_pred_rf_random))\n",
    "\n",
    "from sklearn.metrics import recall_score\n",
    "print(\"Recall on Validation Set:\", recall_score(y_val, y_pred_rf_random))"
   ]
  },
  {
   "cell_type": "markdown",
   "metadata": {
    "id": "ZfP-U8akVxV-"
   },
   "source": [
    "# Best found model on the test set"
   ]
  },
  {
   "cell_type": "code",
   "execution_count": 19,
   "metadata": {
    "id": "iw5-nsOSVxV-"
   },
   "outputs": [],
   "source": [
    "from sklearn.ensemble import RandomForestClassifier\n",
    "import json"
   ]
  },
  {
   "cell_type": "code",
   "execution_count": 20,
   "metadata": {
    "id": "hRBAZVOMVxV-"
   },
   "outputs": [],
   "source": [
    "# Load best found parameters from a JSON file\n",
    "with open(\"best_params_nw50.json\", \"r\") as file:\n",
    "    best_params_nw50 = json.load(file)"
   ]
  },
  {
   "cell_type": "code",
   "execution_count": 21,
   "metadata": {
    "id": "bRprb3gvVxV-"
   },
   "outputs": [],
   "source": [
    "# Retrain the model with the best parameters on the entire train-validation set\n",
    "final_model = RandomForestClassifier(**best_params_nw50, random_state=42)\n",
    "\n",
    "final_model.fit(X_trainval, y_trainval)\n",
    "\n",
    "# Make predictions on the test set\n",
    "y_pred_test = final_model.predict(X_test)"
   ]
  },
  {
   "cell_type": "code",
   "execution_count": 22,
   "metadata": {
    "id": "DGyBbzzJVxV-"
   },
   "outputs": [],
   "source": [
    "# predicting on the training set to be able to compare whether there is overfitting\n",
    "y_pred_train = final_model.predict(X_trainval)"
   ]
  },
  {
   "cell_type": "code",
   "execution_count": 23,
   "metadata": {
    "id": "hVPXIQlZVxV-"
   },
   "outputs": [
    {
     "name": "stdout",
     "output_type": "stream",
     "text": [
      "Accuracy train: 0.7791\n",
      "Accuracy test: 0.7138\n"
     ]
    }
   ],
   "source": [
    "# Calculate accuracy train set\n",
    "accuracy_train = accuracy_score(y_trainval, y_pred_train)\n",
    "print(f\"Accuracy train: {accuracy_train:.4f}\")\n",
    "\n",
    "# Calculate accuracy test set\n",
    "accuracy_test = accuracy_score(y_test, y_pred_test)\n",
    "print(f\"Accuracy test: {accuracy_test:.4f}\")"
   ]
  },
  {
   "cell_type": "code",
   "execution_count": 24,
   "metadata": {
    "id": "c8Q0DdPLVxV_"
   },
   "outputs": [
    {
     "name": "stdout",
     "output_type": "stream",
     "text": [
      "Recall for Class 1 test: 0.7453\n",
      "Recall for Class 1 test: 0.6727\n"
     ]
    }
   ],
   "source": [
    "# Calculate recall for class 1 on train set\n",
    "recall_class_1_train = recall_score(y_trainval, y_pred_train, pos_label=1)\n",
    "print(f\"Recall for Class 1 test: {recall_class_1_train:.4f}\")\n",
    "\n",
    "# Calculate recall for class 1 on test set\n",
    "recall_class_1_test = recall_score(y_test, y_pred_test, pos_label=1)\n",
    "print(f\"Recall for Class 1 test: {recall_class_1_test:.4f}\")"
   ]
  },
  {
   "cell_type": "code",
   "execution_count": 25,
   "metadata": {
    "id": "bMoO_T4uVxV_"
   },
   "outputs": [
    {
     "name": "stdout",
     "output_type": "stream",
     "text": [
      "F1-score train: 0.7788\n",
      "F1-score test: 0.7133\n"
     ]
    }
   ],
   "source": [
    "from sklearn.metrics import f1_score\n",
    "\n",
    "# Calculate F1-score for the train set\n",
    "f1_train = f1_score(y_trainval, y_pred_train, average='macro')\n",
    "print(f\"F1-score train: {f1_train:.4f}\")\n",
    "\n",
    "# Calculate F1-score for the test set\n",
    "f1_test = f1_score(y_test, y_pred_test, average='macro')\n",
    "print(f\"F1-score test: {f1_test:.4f}\")"
   ]
  },
  {
   "cell_type": "code",
   "execution_count": 26,
   "metadata": {
    "id": "LAll5JgRVxV_"
   },
   "outputs": [
    {
     "name": "stdout",
     "output_type": "stream",
     "text": [
      "Confusion Matrix:\n",
      " [[172695  39755]\n",
      " [ 54144 158406]]\n",
      "Classification Report:\n",
      "               precision    recall  f1-score   support\n",
      "\n",
      "           0       0.76      0.81      0.79    212450\n",
      "           1       0.80      0.75      0.77    212550\n",
      "\n",
      "    accuracy                           0.78    425000\n",
      "   macro avg       0.78      0.78      0.78    425000\n",
      "weighted avg       0.78      0.78      0.78    425000\n",
      "\n",
      "\n",
      "\n",
      "Confusion Matrix:\n",
      " [[28340  9210]\n",
      " [12258 25192]]\n",
      "Classification Report:\n",
      "               precision    recall  f1-score   support\n",
      "\n",
      "           0       0.70      0.75      0.73     37550\n",
      "           1       0.73      0.67      0.70     37450\n",
      "\n",
      "    accuracy                           0.71     75000\n",
      "   macro avg       0.72      0.71      0.71     75000\n",
      "weighted avg       0.72      0.71      0.71     75000\n",
      "\n"
     ]
    }
   ],
   "source": [
    "# Evaluate the model\n",
    "from sklearn.metrics import classification_report, confusion_matrix\n",
    "\n",
    "\n",
    "# Confusion Matrix train\n",
    "conf_matrix_train = confusion_matrix(y_trainval, y_pred_train)\n",
    "print(\"Confusion Matrix:\\n\", conf_matrix_train)\n",
    "\n",
    "# Classification Report train\n",
    "class_report_train = classification_report(y_trainval, y_pred_train)\n",
    "print(\"Classification Report:\\n\", class_report_train)\n",
    "\n",
    "print(\"\\n\")\n",
    "\n",
    "# Confusion Matrix test\n",
    "conf_matrix_test = confusion_matrix(y_test, y_pred_test)\n",
    "print(\"Confusion Matrix:\\n\", conf_matrix_test)\n",
    "\n",
    "# Classification Report test\n",
    "class_report_test = classification_report(y_test, y_pred_test)\n",
    "print(\"Classification Report:\\n\", class_report_test)"
   ]
  },
  {
   "cell_type": "code",
   "execution_count": 27,
   "metadata": {
    "id": "gzEnUc-VVxV_"
   },
   "outputs": [
    {
     "data": {
      "image/png": "[encoded data removed]",
      "text/plain": [
       "<Figure size 800x600 with 2 Axes>"
      ]
     },
     "metadata": {},
     "output_type": "display_data"
    }
   ],
   "source": [
    "# Plot the confusion matrix\n",
    "plt.figure(figsize=(8, 6))\n",
    "sns.heatmap(conf_matrix_test, annot=True, fmt='d', cmap='Blues', xticklabels=[\"Class 0\", \"Class 1\"], yticklabels=[\"Class 0\", \"Class 1\"])\n",
    "plt.title(\"Confusion Matrix\")\n",
    "plt.xlabel(\"Predicted Label\")\n",
    "plt.ylabel(\"True Label\")\n",
    "plt.show()"
   ]
  },
  {
   "cell_type": "code",
   "execution_count": 23,
   "metadata": {
    "id": "17jtV8HVVxV_"
   },
   "outputs": [],
   "source": [
    "# saving so I can open in another notebook\n",
    "\n",
    "import pickle\n",
    "\n",
    "performance_metrics = {\"Train\": {\"accuracy\": accuracy_train, \"conf_matrix\": conf_matrix_train, \"f1_score\": f1_train, \"recall\": recall_class_1_train},\n",
    "                       \"Test\": {\"accuracy\": accuracy_test, \"conf_matrix\": conf_matrix_test, \"f1_score\": f1_test, \"recall\": recall_class_1_test},\n",
    "                       }\n",
    "\n",
    "# Save to a pickle file\n",
    "with open(\"performance_metrics_nw50.pkl\", \"wb\") as f:\n",
    "    pickle.dump(performance_metrics, f)"
   ]
  },
  {
   "cell_type": "code",
   "execution_count": 24,
   "metadata": {
    "id": "Frd99vo8VxV_"
   },
   "outputs": [
    {
     "name": "stdout",
     "output_type": "stream",
     "text": [
      "0.7790611764705883\n"
     ]
    }
   ],
   "source": [
    "# test with loading from a pickle file to see if it works\n",
    "with open(\"performance_metrics_nw50.pkl\", \"rb\") as f:\n",
    "    loaded_metrics = pickle.load(f)\n",
    "\n",
    "print(loaded_metrics['Train']['accuracy'])"
   ]
  },
  {
   "cell_type": "markdown",
   "metadata": {
    "id": "_9IMu5qzVxWA"
   },
   "source": [
    "#### Permutation feature importance"
   ]
  },
  {
   "cell_type": "code",
   "execution_count": 46,
   "metadata": {
    "id": "_Gd6L4c8VxWA"
   },
   "outputs": [],
   "source": [
    "from sklearn.inspection import permutation_importance\n",
    "\n",
    "# Calculate permutation feature importance\n",
    "result = permutation_importance(final_model, X_test, y_test, n_repeats=10, random_state=42)"
   ]
  },
  {
   "cell_type": "code",
   "execution_count": 48,
   "metadata": {
    "id": "SLEI8g9zVxWA",
    "outputId": "4081e64d-0e76-4079-bba0-336908ba1558"
   },
   "outputs": [
    {
     "data": {
      "image/png": "[encoded data removed]",
      "text/plain": [
       "<Figure size 1000x1000 with 1 Axes>"
      ]
     },
     "metadata": {},
     "output_type": "display_data"
    }
   ],
   "source": [
    "# Feature names\n",
    "feature_names = X.columns\n",
    "\n",
    "# Extract feature importances and standard deviations\n",
    "importances = result.importances_mean\n",
    "std = result.importances_std\n",
    "\n",
    "# Sort the features by importance\n",
    "indices = np.argsort(importances)[::-1]\n",
    "\n",
    "# Plot the feature importances\n",
    "plt.figure(figsize=(10, 10))\n",
    "plt.barh(range(len(indices)), importances[indices], xerr=std[indices], align='center')\n",
    "plt.yticks(range(len(indices)), [feature_names[i] for i in indices])\n",
    "plt.xlabel(\"Permutation Importance\")\n",
    "plt.title(\"Permutation Feature Importance\")\n",
    "plt.gca().invert_yaxis()  # Invert y-axis to show the most important feature at the top\n",
    "plt.show()"
   ]
  },
  {
   "cell_type": "code",
   "execution_count": 49,
   "metadata": {},
   "outputs": [
    {
     "name": "stdout",
     "output_type": "stream",
     "text": [
      "[0.07746266666666661, 0.04893599999999994, 0.04053733333333329, 0.03748666666666661, 0.03632666666666663, 0.03423999999999992, 0.025473333333333292, 0.01599199999999994, 0.014806666666666624, 0.014243999999999956, 0.011622666666666615, 0.011071999999999938, 0.010998666666666624, 0.010983999999999949, 0.01052933333333329, 0.010445333333333274, 0.010106666666666608, 0.009437333333333265, 0.009370666666666605, 0.008269333333333273, 0.007770666666666625, 0.007445333333333304, 0.007126666666666603, 0.007025333333333284, 0.006813333333333294, 0.006670666666666603, 0.006457333333333282, 0.005462666666666627, 0.00532266666666662, 0.004769333333333292, 0.004551999999999945, 0.004235999999999962, 0.0034933333333332706, 0.003341333333333274, 0.0033146666666666325, 0.003130666666666615, 0.0025013333333332778, 0.00213733333333328, 0.0017853333333332833, 0.0014773333333333084, 0.0007599999999999719, 0.0007279999999999509, 0.00045066666666663255, 0.00025866666666660707, -0.0006306666666667015]\n"
     ]
    }
   ],
   "source": [
    "import pandas as pd\n",
    "\n",
    "# Extract feature importances and standard deviations\n",
    "data = {\n",
    "    \"Feature\": [feature_names[i] for i in indices],\n",
    "    \"Importance\": importances[indices],\n",
    "    \"Std Dev\": std[indices],\n",
    "}\n",
    "\n",
    "# Create a DataFrame for better readability\n",
    "importance_df = pd.DataFrame(data)\n",
    "\n",
    "# Print the table\n",
    "print(importance_df)\n"
   ]
  },
  {
   "cell_type": "markdown",
   "metadata": {},
   "source": [
    "#### Error analysis"
   ]
  },
  {
   "cell_type": "code",
   "execution_count": 28,
   "metadata": {},
   "outputs": [],
   "source": [
    "dfnw_c = dfnw.copy()"
   ]
  },
  {
   "cell_type": "code",
   "execution_count": 29,
   "metadata": {},
   "outputs": [],
   "source": [
    "# concatting X_test and Y_test to recreate a the test set with both explanatory features as the target feature\n",
    "dfnw_con = pd.concat([X_test, y_test], axis=1)\n"
   ]
  },
  {
   "cell_type": "code",
   "execution_count": 30,
   "metadata": {},
   "outputs": [
    {
     "data": {
      "text/plain": [
       "Index(['Intervention', 'PedPed', 'Barrier', 'CrossingSignal',\n",
       "       'NumberOfCharacters', 'DiffNumberOFCharacters', 'Saved', 'Man', 'Woman',\n",
       "       'Pregnant', 'Stroller', 'OldMan', 'OldWoman', 'Boy', 'Girl', 'Homeless',\n",
       "       'LargeWoman', 'LargeMan', 'Criminal', 'MaleExecutive',\n",
       "       'FemaleExecutive', 'FemaleAthlete', 'MaleAthlete', 'FemaleDoctor',\n",
       "       'MaleDoctor', 'Dog', 'Cat', 'AttributeLevel_Fat',\n",
       "       'AttributeLevel_Female', 'AttributeLevel_Fit', 'AttributeLevel_High',\n",
       "       'AttributeLevel_Hoomans', 'AttributeLevel_Less', 'AttributeLevel_Low',\n",
       "       'AttributeLevel_Male', 'AttributeLevel_More', 'AttributeLevel_Old',\n",
       "       'AttributeLevel_Pets', 'AttributeLevel_Young', 'ScenarioTypeStrict_Age',\n",
       "       'ScenarioTypeStrict_Fitness', 'ScenarioTypeStrict_Gender',\n",
       "       'ScenarioTypeStrict_Social', 'ScenarioTypeStrict_Species',\n",
       "       'ScenarioTypeStrict_Utilitarian', 'UserID'],\n",
       "      dtype='object')"
      ]
     },
     "execution_count": 30,
     "metadata": {},
     "output_type": "execute_result"
    }
   ],
   "source": [
    "dfnw_con.columns"
   ]
  },
  {
   "cell_type": "code",
   "execution_count": 45,
   "metadata": {},
   "outputs": [
    {
     "data": {
      "image/png": "[encoded data removed]",
      "text/plain": [
       "<Figure size 1000x600 with 2 Axes>"
      ]
     },
     "metadata": {},
     "output_type": "display_data"
    }
   ],
   "source": [
    "import pandas as pd\n",
    "import matplotlib.pyplot as plt\n",
    "import numpy as np\n",
    "\n",
    "categories = ['Age', 'Fitness', 'Gender', 'Social', 'Species', 'Utilitarian']\n",
    "one_hot_columns = [f'ScenarioTypeStrict_{cat}' for cat in categories]\n",
    "\n",
    "# Map one-hot encoded values back to the original category\n",
    "dfnw_con['ScenarioTypeStrict'] = dfnw_con[one_hot_columns].idxmax(axis=1).str.replace('ScenarioTypeStrict_', '')\n",
    "\n",
    "# Add actual and predicted values to the DataFrame\n",
    "dfnw_con['y_true'] = y_test\n",
    "dfnw_con['y_pred'] = y_pred_test\n",
    "\n",
    "# Calculate errors\n",
    "dfnw_con['FN'] = np.where((dfnw_con['y_true'] == 1) & (dfnw_con['y_pred'] == 0), 1, 0)\n",
    "dfnw_con['FP'] = np.where((dfnw_con['y_true'] == 0) & (dfnw_con['y_pred'] == 1), 1, 0)\n",
    "dfnw_con['TP'] = np.where((dfnw_con['y_true'] == 1) & (dfnw_con['y_pred'] == 1), 1, 0)\n",
    "dfnw_con['TN'] = np.where((dfnw_con['y_true'] == 0) & (dfnw_con['y_pred'] == 0), 1, 0)\n",
    "\n",
    "# Aggregate errors by category\n",
    "error_summary = dfnw_con.groupby('ScenarioTypeStrict')[['FN', 'FP', 'TP', 'TN']].sum().reset_index()\n",
    "\n",
    "# Calculate total and percentages\n",
    "error_summary['Total'] = error_summary[['FN', 'FP', 'TP', 'TN']].sum(axis=1)\n",
    "error_summary['% False'] = (error_summary[['FN', 'FP']].sum(axis=1) / error_summary['Total']) * 100\n",
    "error_summary['% True'] = (error_summary[['TP', 'TN']].sum(axis=1) / error_summary['Total']) * 100\n",
    "error_summary['% Difference'] = error_summary['% True'] - error_summary['% False']\n",
    "\n",
    "# Plotting\n",
    "fig, ax = plt.subplots(figsize=(10, 6))\n",
    "x = np.arange(len(categories))  # Category positions\n",
    "width = 0.2  # Width of each bar\n",
    "\n",
    "# Adjust positions for each bar group\n",
    "fn_bars = ax.bar(x - 1.5 * width, error_summary['FN'], width, label='False Negatives', color='crimson')\n",
    "fp_bars = ax.bar(x - 0.5 * width, error_summary['FP'], width, label='False Positives', color='lightcoral')\n",
    "tn_bars = ax.bar(x + 0.5 * width, error_summary['TN'], width, label='True Negatives', color='lightgreen')\n",
    "tp_bars = ax.bar(x + 1.5 * width, error_summary['TP'], width, label='True Positives', color='limegreen')\n",
    "\n",
    "# Add labels above the bars\n",
    "for bar in fn_bars:\n",
    "    height = bar.get_height()\n",
    "    ax.text(bar.get_x() + bar.get_width() / 2, height + 50, f'{int(height)}', ha='center', va='bottom', fontsize=8)\n",
    "\n",
    "for bar in fp_bars:\n",
    "    height = bar.get_height()\n",
    "    ax.text(bar.get_x() + bar.get_width() / 2, height + 50, f'{int(height)}', ha='center', va='bottom', fontsize=8)\n",
    "\n",
    "for bar in tn_bars:\n",
    "    height = bar.get_height()\n",
    "    ax.text(bar.get_x() + bar.get_width() / 2, height + 50, f'{int(height)}', ha='center', va='bottom', fontsize=8)\n",
    "\n",
    "for bar in tp_bars:\n",
    "    height = bar.get_height()\n",
    "    ax.text(bar.get_x() + bar.get_width() / 2, height + 50, f'{int(height)}', ha='center', va='bottom', fontsize=8)\n",
    "\n",
    "# Line plot for % difference\n",
    "ax2 = ax.twinx()\n",
    "ax2.plot(x, error_summary['% Difference'], label='Difference in p.p.', color='darkgrey', marker='o', markerfacecolor='black', markeredgecolor='black', linestyle='-', linewidth=1.5)\n",
    "for i, val in enumerate(error_summary['% Difference']):\n",
    "    ax2.text(x[i], val + 1, f'{val:.1f} p.p.', color='black', fontsize=10, ha='center')\n",
    "\n",
    "# Labels and Legends\n",
    "ax.set_xlabel('ScenarioTypeStrict Categories')\n",
    "ax.set_ylabel('Counts')\n",
    "ax2.set_ylabel('% Difference (p.p.)', color='black')\n",
    "ax2.tick_params(axis='y', labelcolor='black')\n",
    "ax2.set_ylim(20,100)\n",
    "ax.set_xticks(x)\n",
    "ax.set_xticklabels(categories)\n",
    "ax.legend(loc='upper left')\n",
    "ax2.legend(loc='lower right')\n",
    "\n",
    "# Add text in the middle of the graph\n",
    "ax.text(2.5, 7000, 'df_non-western', \n",
    "        fontsize=12, color='black', ha='center', va='top', bbox=dict(facecolor='white', alpha=0.5))\n",
    "\n",
    "plt.tight_layout()\n",
    "plt.show()"
   ]
  }
 ],
 "metadata": {
  "accelerator": "GPU",
  "colab": {
   "collapsed_sections": [
    "ZfP-U8akVxV-"
   ],
   "gpuType": "A100",
   "provenance": []
  },
  "kernelspec": {
   "display_name": "base",
   "language": "python",
   "name": "python3"
  },
  "language_info": {
   "codemirror_mode": {
    "name": "ipython",
    "version": 3
   },
   "file_extension": ".py",
   "mimetype": "text/x-python",
   "name": "python",
   "nbconvert_exporter": "python",
   "pygments_lexer": "ipython3",
   "version": "3.11.5"
  }
 },
 "nbformat": 4,
 "nbformat_minor": 0
}
