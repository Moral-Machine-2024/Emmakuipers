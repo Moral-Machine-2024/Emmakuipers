{
 "cells": [
  {
   "cell_type": "code",
   "execution_count": 1,
   "metadata": {
    "id": "9p39JwxlVxVi"
   },
   "outputs": [],
   "source": [
    "import pandas as pd\n",
    "import numpy as np\n",
    "from sklearn.model_selection import train_test_split\n",
    "from sklearn.metrics import accuracy_score, confusion_matrix, classification_report, f1_score, recall_score\n",
    "import matplotlib.pyplot as plt\n",
    "import seaborn as sns"
   ]
  },
  {
   "cell_type": "markdown",
   "metadata": {
    "id": "5DH8xw3zVxVk"
   },
   "source": [
    "## Thunder setup"
   ]
  },
  {
   "cell_type": "code",
   "execution_count": 2,
   "metadata": {
    "colab": {
     "base_uri": "https://localhost:8080/"
    },
    "id": "YtEfy-FYVxVl",
    "outputId": "0eb30687-127b-43ce-b986-2f8bfea683cc"
   },
   "outputs": [
    {
     "name": "stdout",
     "output_type": "stream",
     "text": [
      "WARNING:tensorflow:From C:\\Users\\esmku\\AppData\\Local\\Temp\\ipykernel_41828\\2884624906.py:4: is_gpu_available (from tensorflow.python.framework.test_util) is deprecated and will be removed in a future version.\n",
      "Instructions for updating:\n",
      "Use `tf.config.list_physical_devices('GPU')` instead.\n",
      "GPU Available: False\n",
      "TPU Available: False\n"
     ]
    }
   ],
   "source": [
    "import tensorflow as tf\n",
    "\n",
    "# Check GPU availability\n",
    "print(\"GPU Available:\", tf.test.is_gpu_available())\n",
    "\n",
    "# Check TPU availability\n",
    "tpu_available = False\n",
    "devices = tf.config.list_logical_devices()\n",
    "for device in devices:\n",
    "    if device.device_type == 'TPU':\n",
    "        tpu_available = True\n",
    "        break\n",
    "\n",
    "print(\"TPU Available:\", tpu_available)"
   ]
  },
  {
   "cell_type": "code",
   "execution_count": 3,
   "metadata": {
    "colab": {
     "base_uri": "https://localhost:8080/"
    },
    "id": "EYqruhqQVxVm",
    "outputId": "4524d5e9-6028-4d0a-9cfb-4bc45233c084"
   },
   "outputs": [
    {
     "name": "stderr",
     "output_type": "stream",
     "text": [
      "'wget' is not recognized as an internal or external command,\n",
      "operable program or batch file.\n",
      "'ls' is not recognized as an internal or external command,\n",
      "operable program or batch file.\n",
      "'dpkg' is not recognized as an internal or external command,\n",
      "operable program or batch file.\n",
      "'ls' is not recognized as an internal or external command,\n",
      "operable program or batch file.\n",
      "'apt-key' is not recognized as an internal or external command,\n",
      "operable program or batch file.\n",
      "'apt-get' is not recognized as an internal or external command,\n",
      "operable program or batch file.\n"
     ]
    }
   ],
   "source": [
    "!wget https://developer.nvidia.com/compute/cuda/9.0/Prod/local_installers/cuda-repo-ubuntu1704-9-0-local_9.0.176-1_amd64-deb\n",
    "!ls  # Check if required cuda 9.0 amd64-deb file is downloaded\n",
    "!dpkg -i cuda-repo-ubuntu1704-9-0-local_9.0.176-1_amd64-deb\n",
    "!ls /var/cuda-repo-9-0-local | grep .pub\n",
    "!apt-key add /var/cuda-repo-9-0-local/7fa2af80.pub\n",
    "!apt-get update"
   ]
  },
  {
   "cell_type": "code",
   "execution_count": 4,
   "metadata": {
    "colab": {
     "base_uri": "https://localhost:8080/"
    },
    "id": "uW9gvyPCVxVo",
    "outputId": "7433a0dc-a590-43c4-f72e-7acdccf8e566"
   },
   "outputs": [
    {
     "name": "stderr",
     "output_type": "stream",
     "text": [
      "'DEBIAN_FRONTEND' is not recognized as an internal or external command,\n",
      "operable program or batch file.\n"
     ]
    }
   ],
   "source": [
    "!DEBIAN_FRONTEND=noninteractive sudo apt-get install -y cuda-9.0"
   ]
  },
  {
   "cell_type": "code",
   "execution_count": 5,
   "metadata": {
    "colab": {
     "base_uri": "https://localhost:8080/"
    },
    "id": "IKa1YqNUVxVq",
    "outputId": "c406ebda-d28c-4127-bec0-c3b066d1234b"
   },
   "outputs": [
    {
     "name": "stderr",
     "output_type": "stream",
     "text": [
      "'nvcc' is not recognized as an internal or external command,\n",
      "operable program or batch file.\n"
     ]
    }
   ],
   "source": [
    "!nvcc --version"
   ]
  },
  {
   "cell_type": "code",
   "execution_count": 6,
   "metadata": {
    "colab": {
     "base_uri": "https://localhost:8080/"
    },
    "id": "B46EQK0qVxVq",
    "outputId": "d8852083-f232-479c-9355-a1addf86a649"
   },
   "outputs": [
    {
     "name": "stdout",
     "output_type": "stream",
     "text": [
      "Requirement already satisfied: thundersvm in c:\\anaconda\\lib\\site-packages (0.3.12)\n",
      "Requirement already satisfied: numpy in c:\\anaconda\\lib\\site-packages (from thundersvm) (1.26.4)\n",
      "Requirement already satisfied: scipy in c:\\anaconda\\lib\\site-packages (from thundersvm) (1.11.1)\n",
      "Requirement already satisfied: scikit-learn in c:\\anaconda\\lib\\site-packages (from thundersvm) (1.5.2)\n",
      "Requirement already satisfied: joblib>=1.2.0 in c:\\anaconda\\lib\\site-packages (from scikit-learn->thundersvm) (1.2.0)\n",
      "Requirement already satisfied: threadpoolctl>=3.1.0 in c:\\anaconda\\lib\\site-packages (from scikit-learn->thundersvm) (3.5.0)\n"
     ]
    }
   ],
   "source": [
    "!pip install thundersvm"
   ]
  },
  {
   "cell_type": "markdown",
   "metadata": {
    "id": "RnKFZ0e8VxVr"
   },
   "source": [
    "## Pre-processing"
   ]
  },
  {
   "cell_type": "code",
   "execution_count": 7,
   "metadata": {
    "id": "fT8vgKWzVxVs"
   },
   "outputs": [],
   "source": [
    "dtype = {\n",
    "    'ResponseID': 'category',\n",
    "    'UserID': 'int8',\n",
    "    'Intervention': 'int8',\n",
    "    'PedPed': 'int8',\n",
    "    'Barrier': 'int8',\n",
    "    'CrossingSignal': 'int8',\n",
    "    'AttributeLevel': 'category',\n",
    "    'ScenarioTypeStrict': 'category',\n",
    "    'NumberOfCharacters': 'int8',\n",
    "    'DiffNumberOFCharacters': 'int8',\n",
    "    'Saved': 'int8',\n",
    "    'Man': 'int8',\n",
    "    'Woman': 'int8',\n",
    "    'Pregnant': 'int8',\n",
    "    'Stroller': 'int8',\n",
    "    'OldMan': 'int8',\n",
    "    'OldWoman': 'int8',\n",
    "    'Boy': 'int8',\n",
    "    'Girl': 'int8',\n",
    "    'Homeless': 'int8',\n",
    "    'LargeWoman': 'int8',\n",
    "    'LargeMan': 'int8',\n",
    "    'Criminal': 'int8',\n",
    "    'MaleExecutive': 'int8',\n",
    "    'FemaleExecutive': 'int8',\n",
    "    'FemaleAthlete': 'int8',\n",
    "    'MaleAthlete': 'int8',\n",
    "    'FemaleDoctor': 'int8',\n",
    "    'MaleDoctor': 'int8',\n",
    "    'Dog': 'int8',\n",
    "    'Cat': 'int8'\n",
    "}\n"
   ]
  },
  {
   "cell_type": "code",
   "execution_count": 8,
   "metadata": {
    "id": "Ym2y8_bLVxVt"
   },
   "outputs": [],
   "source": [
    "df50 = pd.read_csv('total_50_dataset.csv', dtype=dtype)"
   ]
  },
  {
   "cell_type": "code",
   "execution_count": 9,
   "metadata": {
    "colab": {
     "base_uri": "https://localhost:8080/"
    },
    "id": "riikRT-SVxVt",
    "outputId": "cbfea98d-3903-49ab-e965-4485e57b44cf"
   },
   "outputs": [
    {
     "data": {
      "text/plain": [
       "(500000, 31)"
      ]
     },
     "execution_count": 9,
     "metadata": {},
     "output_type": "execute_result"
    }
   ],
   "source": [
    "df50.shape"
   ]
  },
  {
   "cell_type": "code",
   "execution_count": 10,
   "metadata": {},
   "outputs": [],
   "source": [
    "# Ensuring column is categorical\n",
    "df50['ScenarioTypeStrict'] = df50['ScenarioTypeStrict'].astype('category')\n",
    "\n",
    "# Renaming Social Status to Social for easier handling of the category later on\n",
    "df50['ScenarioTypeStrict'] = df50['ScenarioTypeStrict'].cat.rename_categories({'Social Status': 'Social'})\n"
   ]
  },
  {
   "cell_type": "code",
   "execution_count": 11,
   "metadata": {},
   "outputs": [
    {
     "name": "stdout",
     "output_type": "stream",
     "text": [
      "ScenarioTypeStrict\n",
      "Species        93928\n",
      "Age            93642\n",
      "Utilitarian    93014\n",
      "Gender         89410\n",
      "Fitness        86862\n",
      "Social         43144\n",
      "Name: count, dtype: int64\n"
     ]
    }
   ],
   "source": [
    "print(df50['ScenarioTypeStrict'].value_counts())"
   ]
  },
  {
   "cell_type": "code",
   "execution_count": 12,
   "metadata": {
    "colab": {
     "base_uri": "https://localhost:8080/"
    },
    "id": "O3DJBB5NVxVu",
    "outputId": "9b105109-e86c-4ae9-c168-6b6553076438"
   },
   "outputs": [
    {
     "name": "stdout",
     "output_type": "stream",
     "text": [
      "Index(['ResponseID', 'UserID', 'Intervention', 'PedPed', 'Barrier',\n",
      "       'CrossingSignal', 'NumberOfCharacters', 'DiffNumberOFCharacters',\n",
      "       'Saved', 'Man', 'Woman', 'Pregnant', 'Stroller', 'OldMan', 'OldWoman',\n",
      "       'Boy', 'Girl', 'Homeless', 'LargeWoman', 'LargeMan', 'Criminal',\n",
      "       'MaleExecutive', 'FemaleExecutive', 'FemaleAthlete', 'MaleAthlete',\n",
      "       'FemaleDoctor', 'MaleDoctor', 'Dog', 'Cat', 'AttributeLevel_Fat',\n",
      "       'AttributeLevel_Female', 'AttributeLevel_Fit', 'AttributeLevel_High',\n",
      "       'AttributeLevel_Hoomans', 'AttributeLevel_Less', 'AttributeLevel_Low',\n",
      "       'AttributeLevel_Male', 'AttributeLevel_More', 'AttributeLevel_Old',\n",
      "       'AttributeLevel_Pets', 'AttributeLevel_Young', 'ScenarioTypeStrict_Age',\n",
      "       'ScenarioTypeStrict_Fitness', 'ScenarioTypeStrict_Gender',\n",
      "       'ScenarioTypeStrict_Social', 'ScenarioTypeStrict_Species',\n",
      "       'ScenarioTypeStrict_Utilitarian'],\n",
      "      dtype='object')\n"
     ]
    }
   ],
   "source": [
    "# preprocessing\n",
    "\n",
    "# one-hot encode the AttributeLevel and ScenarioTypeStrict\n",
    "df50 = pd.get_dummies(df50, columns=['AttributeLevel', 'ScenarioTypeStrict'])\n",
    "\n",
    "print(df50.columns)\n"
   ]
  },
  {
   "cell_type": "code",
   "execution_count": 13,
   "metadata": {
    "colab": {
     "base_uri": "https://localhost:8080/"
    },
    "id": "8UYbhWWoVxVv",
    "outputId": "7c66bfe3-d856-4c29-e120-0bf6176a3629"
   },
   "outputs": [
    {
     "data": {
      "text/plain": [
       "(500000, 47)"
      ]
     },
     "execution_count": 13,
     "metadata": {},
     "output_type": "execute_result"
    }
   ],
   "source": [
    "df50.shape"
   ]
  },
  {
   "cell_type": "code",
   "execution_count": 14,
   "metadata": {
    "colab": {
     "base_uri": "https://localhost:8080/"
    },
    "id": "piRDZeZLVxVw",
    "outputId": "ff071e01-61a5-43ee-a3f1-720d27ddf0a7"
   },
   "outputs": [
    {
     "data": {
      "text/plain": [
       "0"
      ]
     },
     "execution_count": 14,
     "metadata": {},
     "output_type": "execute_result"
    }
   ],
   "source": [
    "df50.duplicated().sum()"
   ]
  },
  {
   "cell_type": "code",
   "execution_count": 15,
   "metadata": {
    "id": "Wh5tPa8wVxVw"
   },
   "outputs": [],
   "source": [
    "# now also dropping ResponseID\n",
    "# kept this on and pre-processed it thus far to keep track of if everything went right with the complete sessions being in the dataset (so each ResponseID has to be present twice)"
   ]
  },
  {
   "cell_type": "markdown",
   "metadata": {
    "id": "ornvxCMHVxVx"
   },
   "source": [
    "#### Splitting"
   ]
  },
  {
   "cell_type": "code",
   "execution_count": 16,
   "metadata": {
    "id": "vD80vyBKVxVx"
   },
   "outputs": [],
   "source": [
    "# Prepare features and target variable\n",
    "X = df50.drop(['UserID', 'ResponseID'], axis=1)     # Features\n",
    "y = df50['UserID']                                  # Target variable"
   ]
  },
  {
   "cell_type": "code",
   "execution_count": 17,
   "metadata": {
    "id": "gKX2i5W_VxVy"
   },
   "outputs": [],
   "source": [
    "# Split the data into train, validation and test sets\n",
    "X_trainval, X_test, y_trainval, y_test = train_test_split(X, y, test_size=0.15, random_state=42)"
   ]
  },
  {
   "cell_type": "code",
   "execution_count": 18,
   "metadata": {
    "id": "SBQmBDUUVxVy"
   },
   "outputs": [],
   "source": [
    "# Setting K for K-fold cross validation\n",
    "\n",
    "from sklearn.model_selection import KFold\n",
    "\n",
    "k = 5\n",
    "kf = KFold(n_splits=k, random_state=42, shuffle=True)"
   ]
  },
  {
   "cell_type": "markdown",
   "metadata": {
    "id": "23kuipdbVxVy"
   },
   "source": [
    "## Modelling"
   ]
  },
  {
   "cell_type": "markdown",
   "metadata": {},
   "source": [
    "### Dummy classifier"
   ]
  },
  {
   "cell_type": "code",
   "execution_count": 18,
   "metadata": {},
   "outputs": [],
   "source": [
    "from sklearn.dummy import DummyClassifier\n",
    "\n",
    "dummy = DummyClassifier(strategy='uniform')"
   ]
  },
  {
   "cell_type": "code",
   "execution_count": 19,
   "metadata": {},
   "outputs": [
    {
     "name": "stdout",
     "output_type": "stream",
     "text": [
      "Dummy Classifier on Validation set\n",
      "Accuracy: 0.50196\n",
      "Macro F1 Score: 0.5019441570428579\n",
      "Recall 1 Score: 0.4980332343260817\n",
      "Confusion Matrix:\n",
      " [[19035 18594]\n",
      " [18759 18612]]\n",
      "Classification Report:\n",
      "               precision    recall  f1-score   support\n",
      "\n",
      "           0       0.50      0.51      0.50     37629\n",
      "           1       0.50      0.50      0.50     37371\n",
      "\n",
      "    accuracy                           0.50     75000\n",
      "   macro avg       0.50      0.50      0.50     75000\n",
      "weighted avg       0.50      0.50      0.50     75000\n",
      "\n"
     ]
    }
   ],
   "source": [
    "# Dummy Classifier on VAL set (70 train, / 15 validation)\n",
    "X_train, X_val, y_train, y_val = train_test_split(X_trainval, y_trainval, test_size=(15/85), random_state=42)\n",
    "\n",
    "dummy.fit(X_train, y_train)\n",
    "y_pred_trainval_dummy = dummy.predict(X_val)\n",
    "accuracy_trainval_dummy = accuracy_score(y_val, y_pred_trainval_dummy)\n",
    "confusion_matrix_trainval_dummy = confusion_matrix(y_val, y_pred_trainval_dummy)\n",
    "classification_report_trainval_dummy = classification_report(y_val, y_pred_trainval_dummy)\n",
    "f1_score_trainval_dummy = f1_score(y_val, y_pred_trainval_dummy, average='macro')\n",
    "recall1_score_trainval_dummy = recall_score(y_val, y_pred_trainval_dummy, pos_label=1)\n",
    "\n",
    "print(\"Dummy Classifier on Validation set\")\n",
    "print(\"Accuracy:\", accuracy_trainval_dummy)\n",
    "print(\"Macro F1 Score:\", f1_score_trainval_dummy)\n",
    "print(\"Recall 1 Score:\", recall1_score_trainval_dummy)\n",
    "print(\"Confusion Matrix:\\n\", confusion_matrix_trainval_dummy)\n",
    "print(\"Classification Report:\\n\", classification_report_trainval_dummy)\n"
   ]
  },
  {
   "cell_type": "code",
   "execution_count": 20,
   "metadata": {},
   "outputs": [
    {
     "name": "stdout",
     "output_type": "stream",
     "text": [
      "\n",
      "Dummy Classifier on Test set\n",
      "Accuracy: 0.49908\n",
      "Macro F1 Score: 0.49907916210414865\n",
      "Recall Score: 0.501041388518024\n",
      "Confusion Matrix:\n",
      " [[18667 18883]\n",
      " [18686 18764]]\n",
      "Classification Report:\n",
      "               precision    recall  f1-score   support\n",
      "\n",
      "           0       0.50      0.50      0.50     37550\n",
      "           1       0.50      0.50      0.50     37450\n",
      "\n",
      "    accuracy                           0.50     75000\n",
      "   macro avg       0.50      0.50      0.50     75000\n",
      "weighted avg       0.50      0.50      0.50     75000\n",
      "\n"
     ]
    }
   ],
   "source": [
    "# Dummy Classifier on TEST set (85 train_validation / 15 test)\n",
    "dummy.fit(X_trainval, y_trainval)\n",
    "y_pred_test_dummy = dummy.predict(X_test)\n",
    "accuracy_test_dummy = accuracy_score(y_test, y_pred_test_dummy)\n",
    "confusion_matrix_test_dummy = confusion_matrix(y_test, y_pred_test_dummy)\n",
    "classification_report_test_dummy = classification_report(y_test, y_pred_test_dummy)\n",
    "f1_score_test_dummy = f1_score(y_test, y_pred_test_dummy, average='macro')\n",
    "recall1_score_test_dummy = recall_score(y_test, y_pred_test_dummy, pos_label=1)\n",
    "\n",
    "\n",
    "print(\"\\nDummy Classifier on Test set\")\n",
    "print(\"Accuracy:\", accuracy_test_dummy)\n",
    "print(\"Macro F1 Score:\", f1_score_test_dummy)\n",
    "print(\"Recall Score:\", recall1_score_test_dummy)\n",
    "print(\"Confusion Matrix:\\n\", confusion_matrix_test_dummy)\n",
    "print(\"Classification Report:\\n\", classification_report_test_dummy)"
   ]
  },
  {
   "cell_type": "code",
   "execution_count": 30,
   "metadata": {},
   "outputs": [
    {
     "name": "stdout",
     "output_type": "stream",
     "text": [
      "{'average_accuracy': 0.50196, 'average_macro_f1': 0.5019441570428579, 'average_recall_class_1': 0.4980332343260817}\n",
      "{'average_accuracy': 0.49908, 'average_macro_f1': 0.49907916210414865, 'average_recall_class_1': 0.501041388518024}\n"
     ]
    }
   ],
   "source": [
    "# saving metrics as JSON file\n",
    "\n",
    "# Metrics VAL\n",
    "metrics_dummy_val = {\n",
    "    \"average_accuracy\": accuracy_trainval_dummy,\n",
    "    \"average_macro_f1\": f1_score_trainval_dummy,\n",
    "    \"average_recall_class_1\": recall1_score_trainval_dummy,\n",
    "}\n",
    "\n",
    "# Print the dictionary to verify\n",
    "print(metrics_dummy_val)\n",
    "\n",
    "\n",
    "import json\n",
    "# Save the metrics dictionary as JSON\n",
    "with open(\"metrics_dummy_val_50.json\", \"w\") as f:\n",
    "    json.dump(metrics_dummy_val, f, indent=4)\n",
    "\n",
    "\n",
    "\n",
    "# Metrics TEST\n",
    "\n",
    "# Metrics\n",
    "metrics_dummy_test = {\n",
    "    \"average_accuracy\": accuracy_test_dummy,\n",
    "    \"average_macro_f1\": f1_score_test_dummy,\n",
    "    \"average_recall_class_1\": recall1_score_test_dummy,\n",
    "}\n",
    "\n",
    "# Print the dictionary to verify\n",
    "print(metrics_dummy_test)\n",
    "\n",
    "\n",
    "# Save the metrics dictionary as JSON\n",
    "with open(\"metrics_dummy_test_50.json\", \"w\") as f:\n",
    "    json.dump(metrics_dummy_test, f, indent=4)"
   ]
  },
  {
   "cell_type": "markdown",
   "metadata": {
    "id": "MG-4YXdEVxVz"
   },
   "source": [
    "### Logistic Regression"
   ]
  },
  {
   "cell_type": "code",
   "execution_count": 22,
   "metadata": {
    "id": "g8VsDS3pVxVz"
   },
   "outputs": [],
   "source": [
    "from sklearn.linear_model import LogisticRegression"
   ]
  },
  {
   "cell_type": "code",
   "execution_count": 23,
   "metadata": {
    "colab": {
     "base_uri": "https://localhost:8080/"
    },
    "id": "OrgkO4nlVxVz",
    "outputId": "af62b5dd-10f3-4219-e35e-f61b3786f2df"
   },
   "outputs": [
    {
     "name": "stdout",
     "output_type": "stream",
     "text": [
      "Done processing fold 1\n",
      "Done processing fold 2\n",
      "Done processing fold 3\n",
      "Done processing fold 4\n",
      "Done processing fold 5\n"
     ]
    }
   ],
   "source": [
    "# Initialize logistic regression model\n",
    "lr_model = LogisticRegression(max_iter=1000)\n",
    "\n",
    "# Lists to store results\n",
    "conf_matrices_lr = []\n",
    "classification_reports_lr = []\n",
    "macro_f1_scores_lr = []\n",
    "count = 0\n",
    "\n",
    "# Loop through each fold\n",
    "for train_index, test_index in kf.split(X_trainval):\n",
    "    count += 1\n",
    "\n",
    "    # Split data into train and test for this fold\n",
    "    X_train, X_val = X_trainval.iloc[train_index], X_trainval.iloc[test_index]\n",
    "    y_train, y_val = y_trainval.iloc[train_index], y_trainval.iloc[test_index]\n",
    "\n",
    "    # Train the model\n",
    "    lr_model.fit(X_train, y_train)\n",
    "\n",
    "    # Make predictions\n",
    "    y_pred_lr = lr_model.predict(X_val)\n",
    "\n",
    "    # Generate confusion matrix and classification report\n",
    "    conf_matrices_lr.append(confusion_matrix(y_val, y_pred_lr))\n",
    "    classification_reports_lr.append(classification_report(y_val, y_pred_lr, output_dict=True))\n",
    "\n",
    "    # Calculate and store macro F1 score for this fold\n",
    "    fold_macro_f1 = f1_score(y_val, y_pred_lr, average='macro')\n",
    "    macro_f1_scores_lr.append(fold_macro_f1)\n",
    "\n",
    "    print(\"Done processing fold \" + str(count))"
   ]
  },
  {
   "cell_type": "code",
   "execution_count": 24,
   "metadata": {
    "colab": {
     "base_uri": "https://localhost:8080/"
    },
    "id": "7THaSIi6VxVz",
    "outputId": "dd724e15-c461-402f-c578-f8a697d19a53"
   },
   "outputs": [
    {
     "name": "stdout",
     "output_type": "stream",
     "text": [
      "\n",
      "Fold 1\n",
      "Confusion Matrix:\n",
      "[[30318 12253]\n",
      " [22170 20259]]\n",
      "\n",
      "Classification Report:\n",
      "0: {'precision': 0.5776177411979881, 'recall': 0.712174954781424, 'f1-score': 0.6378775286927066, 'support': 42571.0}\n",
      "1: {'precision': 0.6231237696850394, 'recall': 0.47748002545428836, 'f1-score': 0.5406653233877317, 'support': 42429.0}\n",
      "accuracy: 0.5950235294117647\n",
      "macro avg: {'precision': 0.6003707554415137, 'recall': 0.5948274901178562, 'f1-score': 0.5892714260402192, 'support': 85000.0}\n",
      "weighted avg: {'precision': 0.6003327445236011, 'recall': 0.5950235294117647, 'f1-score': 0.5893526268234739, 'support': 85000.0}\n",
      "\n",
      "Fold 2\n",
      "Confusion Matrix:\n",
      "[[30529 11888]\n",
      " [22190 20393]]\n",
      "\n",
      "Classification Report:\n",
      "0: {'precision': 0.5790891329501697, 'recall': 0.7197350119056038, 'f1-score': 0.641797006390851, 'support': 42417.0}\n",
      "1: {'precision': 0.6317338372417212, 'recall': 0.4789000305286147, 'f1-score': 0.544801239581107, 'support': 42583.0}\n",
      "accuracy: 0.5990823529411765\n",
      "macro avg: {'precision': 0.6054114850959454, 'recall': 0.5993175212171092, 'f1-score': 0.593299122985979, 'support': 85000.0}\n",
      "weighted avg: {'precision': 0.6054628911013125, 'recall': 0.5990823529411765, 'f1-score': 0.593204409472506, 'support': 85000.0}\n",
      "\n",
      "Fold 3\n",
      "Confusion Matrix:\n",
      "[[30434 12354]\n",
      " [21972 20240]]\n",
      "\n",
      "Classification Report:\n",
      "0: {'precision': 0.5807350303400374, 'recall': 0.7112741890249603, 'f1-score': 0.6394100468516923, 'support': 42788.0}\n",
      "1: {'precision': 0.6209731852488188, 'recall': 0.47948450677532456, 'f1-score': 0.5411330641927118, 'support': 42212.0}\n",
      "accuracy: 0.5961647058823529\n",
      "macro avg: {'precision': 0.600854107794428, 'recall': 0.5953793479001425, 'f1-score': 0.590271555522202, 'support': 85000.0}\n",
      "weighted avg: {'precision': 0.600717771457796, 'recall': 0.5961647058823529, 'f1-score': 0.5906045410634466, 'support': 85000.0}\n",
      "\n",
      "Fold 4\n",
      "Confusion Matrix:\n",
      "[[30542 11932]\n",
      " [22171 20355]]\n",
      "\n",
      "Classification Report:\n",
      "0: {'precision': 0.5794016656232808, 'recall': 0.7190751989452371, 'f1-score': 0.6417262861525208, 'support': 42474.0}\n",
      "1: {'precision': 0.6304394957722923, 'recall': 0.4786483562996755, 'f1-score': 0.5441567641987355, 'support': 42526.0}\n",
      "accuracy: 0.5987882352941176\n",
      "macro avg: {'precision': 0.6049205806977865, 'recall': 0.5988617776224563, 'f1-score': 0.5929415251756281, 'support': 85000.0}\n",
      "weighted avg: {'precision': 0.6049361922693615, 'recall': 0.5987882352941176, 'f1-score': 0.5929116803806775, 'support': 85000.0}\n",
      "\n",
      "Fold 5\n",
      "Confusion Matrix:\n",
      "[[30447 11753]\n",
      " [22616 20184]]\n",
      "\n",
      "Classification Report:\n",
      "0: {'precision': 0.5737896462695287, 'recall': 0.7214928909952607, 'f1-score': 0.6392198440107911, 'support': 42200.0}\n",
      "1: {'precision': 0.6319942386573567, 'recall': 0.47158878504672896, 'f1-score': 0.5401340701392885, 'support': 42800.0}\n",
      "accuracy: 0.5956588235294118\n",
      "macro avg: {'precision': 0.6028919424634427, 'recall': 0.5965408380209949, 'f1-score': 0.5896769570750398, 'support': 85000.0}\n",
      "weighted avg: {'precision': 0.6030973704365762, 'recall': 0.5956588235294118, 'f1-score': 0.5893272425790228, 'support': 85000.0}\n"
     ]
    }
   ],
   "source": [
    "# Display results\n",
    "for i in range(k):\n",
    "    print(f\"\\nFold {i+1}\")\n",
    "    print(\"Confusion Matrix:\")\n",
    "    print(conf_matrices_lr[i])\n",
    "    print(\"\\nClassification Report:\")\n",
    "    for label, metrics in classification_reports_lr[i].items():\n",
    "        print(f\"{label}: {metrics}\")"
   ]
  },
  {
   "cell_type": "code",
   "execution_count": 25,
   "metadata": {
    "colab": {
     "base_uri": "https://localhost:8080/"
    },
    "id": "B2Af8xmzVxVz",
    "outputId": "bfeb7730-7b25-4481-f534-a69b1b14eda8"
   },
   "outputs": [
    {
     "name": "stdout",
     "output_type": "stream",
     "text": [
      "\n",
      "Average Accuracy LR: 0.5969435294117649\n",
      "Standard Deviation: 0.0016685886956629252\n",
      "Average Macro F1 Score LR: 0.5910921173598137\n",
      "\n",
      "Average Recall for class 1: 0.4772203408209264\n"
     ]
    }
   ],
   "source": [
    "# Calculate average accuracy\n",
    "accuracies_lr = [report['accuracy'] for report in classification_reports_lr]\n",
    "average_accuracy_lr = np.mean(accuracies_lr)\n",
    "print(f\"\\nAverage Accuracy LR: {average_accuracy_lr}\")\n",
    "\n",
    "\n",
    "# Caluculate average standard deviation\n",
    "std_dev_lr = np.std(accuracies_lr)\n",
    "print(f\"Standard Deviation: {std_dev_lr}\")\n",
    "\n",
    "\n",
    "# Calculate average macro f1-score\n",
    "average_macro_f1_lr = sum(macro_f1_scores_lr) / len(macro_f1_scores_lr)\n",
    "print(f\"Average Macro F1 Score LR: {average_macro_f1_lr}\")\n",
    "\n",
    "\n",
    "# Collect the recall for the '1' class from each fold\n",
    "recall_class_1_lr = [report['1']['recall'] for report in classification_reports_lr]\n",
    "# Calculate the average recall for the '1' class across all folds\n",
    "average_recall_class_1_lr = np.mean(recall_class_1_lr)\n",
    "print(f\"\\nAverage Recall for class 1: {average_recall_class_1_lr}\")"
   ]
  },
  {
   "cell_type": "code",
   "execution_count": 26,
   "metadata": {
    "colab": {
     "base_uri": "https://localhost:8080/"
    },
    "id": "BY-u1RGUVxVz",
    "outputId": "5f419765-2129-4eb7-f757-471c43d06e40"
   },
   "outputs": [
    {
     "name": "stdout",
     "output_type": "stream",
     "text": [
      "{'average_accuracy': 0.5969435294117649, 'std_dev_accuracy': 0.0016685886956629252, 'average_macro_f1': 0.5910921173598137, 'average_recall_class_1': 0.4772203408209264, 'accuracies_per_fold': [0.5950235294117647, 0.5990823529411765, 0.5961647058823529, 0.5987882352941176, 0.5956588235294118], 'recall_class_1_per_fold': [0.47748002545428836, 0.4789000305286147, 0.47948450677532456, 0.4786483562996755, 0.47158878504672896]}\n"
     ]
    }
   ],
   "source": [
    "# saving outputs\n",
    "\n",
    "# Metrics\n",
    "metrics_lr = {\n",
    "    \"average_accuracy\": average_accuracy_lr,\n",
    "    \"std_dev_accuracy\": std_dev_lr,\n",
    "    \"average_macro_f1\": average_macro_f1_lr,\n",
    "    \"average_recall_class_1\": average_recall_class_1_lr,\n",
    "    \"accuracies_per_fold\": accuracies_lr,\n",
    "    \"recall_class_1_per_fold\": recall_class_1_lr\n",
    "}\n",
    "\n",
    "# Print the dictionary to verify\n",
    "print(metrics_lr)\n",
    "\n",
    "\n",
    "import json\n",
    "# Save the metrics dictionary as JSON\n",
    "with open(\"metrics_lr_50.json\", \"w\") as f:\n",
    "    json.dump(metrics_lr, f, indent=4)\n"
   ]
  },
  {
   "cell_type": "markdown",
   "metadata": {
    "id": "KyyyWD8GVxVz"
   },
   "source": [
    "### Random Forest"
   ]
  },
  {
   "cell_type": "code",
   "execution_count": 27,
   "metadata": {
    "id": "wr2vw0PxVxVz"
   },
   "outputs": [],
   "source": [
    "from sklearn.ensemble import RandomForestClassifier"
   ]
  },
  {
   "cell_type": "code",
   "execution_count": 28,
   "metadata": {
    "colab": {
     "base_uri": "https://localhost:8080/"
    },
    "id": "jcg2UJZdVxV0",
    "outputId": "1c3250b3-a34c-496a-ab5a-cb3801c40c5b"
   },
   "outputs": [
    {
     "name": "stdout",
     "output_type": "stream",
     "text": [
      "Start processing fold 1\n",
      "Done processing fold 1\n",
      "Start processing fold 2\n",
      "Done processing fold 2\n",
      "Start processing fold 3\n",
      "Done processing fold 3\n",
      "Start processing fold 4\n",
      "Done processing fold 4\n",
      "Start processing fold 5\n",
      "Done processing fold 5\n"
     ]
    }
   ],
   "source": [
    "# Initialize Random Forest model\n",
    "rf_model = RandomForestClassifier(n_estimators=100, random_state=42)\n",
    "\n",
    "# Lists to store results\n",
    "conf_matrices_rf = []\n",
    "classification_reports_rf = []\n",
    "macro_f1_scores_rf = []\n",
    "count = 0\n",
    "\n",
    "# Manually loop through each fold\n",
    "for train_index, test_index in kf.split(X_trainval):\n",
    "    count += 1\n",
    "    print(\"Start processing fold \" + str(count))\n",
    "\n",
    "    # Split the data for this fold\n",
    "    X_train, X_val = X_trainval.iloc[train_index], X_trainval.iloc[test_index]\n",
    "    y_train, y_val = y_trainval.iloc[train_index], y_trainval.iloc[test_index]\n",
    "\n",
    "    # Train the model\n",
    "    rf_model.fit(X_train, y_train)\n",
    "\n",
    "    # Make predictions\n",
    "    y_pred_rf = rf_model.predict(X_val)\n",
    "\n",
    "    # Store confusion matrix and classification report for each fold\n",
    "    conf_matrices_rf.append(confusion_matrix(y_val, y_pred_rf))\n",
    "    classification_reports_rf.append(classification_report(y_val, y_pred_rf, output_dict=True))\n",
    "\n",
    "    fold_macro_f1 = f1_score(y_val, y_pred_rf, average='macro')\n",
    "    macro_f1_scores_rf.append(fold_macro_f1)\n",
    "\n",
    "    print(\"Done processing fold \" + str(count))"
   ]
  },
  {
   "cell_type": "code",
   "execution_count": 29,
   "metadata": {
    "colab": {
     "base_uri": "https://localhost:8080/"
    },
    "id": "4Z7NDrxPVxV0",
    "outputId": "fc7d0d1a-930d-4085-da91-abf798ce7501"
   },
   "outputs": [
    {
     "name": "stdout",
     "output_type": "stream",
     "text": [
      "\n",
      "Fold 1\n",
      "Confusion Matrix:\n",
      "[[31048 11523]\n",
      " [13712 28717]]\n",
      "\n",
      "Classification Report:\n",
      "0: {'precision': 0.6936550491510277, 'recall': 0.7293227784172324, 'f1-score': 0.7110418980659788, 'support': 42571.0}\n",
      "1: {'precision': 0.7136431411530815, 'recall': 0.6768248132173749, 'f1-score': 0.6947465192514728, 'support': 42429.0}\n",
      "accuracy: 0.7031176470588235\n",
      "macro avg: {'precision': 0.7036490951520546, 'recall': 0.7030737958173037, 'f1-score': 0.7028942086587258, 'support': 85000.0}\n",
      "weighted avg: {'precision': 0.7036323992163823, 'recall': 0.7031176470588235, 'f1-score': 0.7029078200927944, 'support': 85000.0}\n",
      "\n",
      "Fold 2\n",
      "Confusion Matrix:\n",
      "[[31079 11338]\n",
      " [13808 28775]]\n",
      "\n",
      "Classification Report:\n",
      "0: {'precision': 0.6923830953282688, 'recall': 0.7327015111865526, 'f1-score': 0.7119719600476496, 'support': 42417.0}\n",
      "1: {'precision': 0.7173484905142972, 'recall': 0.6757391447291172, 'f1-score': 0.6959224146270678, 'support': 42583.0}\n",
      "accuracy: 0.7041647058823529\n",
      "macro avg: {'precision': 0.7048657929212829, 'recall': 0.704220327957835, 'f1-score': 0.7039471873373587, 'support': 85000.0}\n",
      "weighted avg: {'precision': 0.7048901708954058, 'recall': 0.7041647058823529, 'f1-score': 0.703931515428301, 'support': 85000.0}\n",
      "\n",
      "Fold 3\n",
      "Confusion Matrix:\n",
      "[[31199 11589]\n",
      " [13398 28814]]\n",
      "\n",
      "Classification Report:\n",
      "0: {'precision': 0.6995762046774446, 'recall': 0.7291530335608114, 'f1-score': 0.7140584768552956, 'support': 42788.0}\n",
      "1: {'precision': 0.7131648639952479, 'recall': 0.6826021036672036, 'f1-score': 0.6975488712703504, 'support': 42212.0}\n",
      "accuracy: 0.7060352941176471\n",
      "macro avg: {'precision': 0.7063705343363462, 'recall': 0.7058775686140075, 'f1-score': 0.705803674062823, 'support': 85000.0}\n",
      "weighted avg: {'precision': 0.706324492761246, 'recall': 0.7060352941176471, 'f1-score': 0.7058596124911578, 'support': 85000.0}\n",
      "\n",
      "Fold 4\n",
      "Confusion Matrix:\n",
      "[[31082 11392]\n",
      " [13697 28829]]\n",
      "\n",
      "Classification Report:\n",
      "0: {'precision': 0.6941200116125863, 'recall': 0.7317888590667232, 'f1-score': 0.7124568782735264, 'support': 42474.0}\n",
      "1: {'precision': 0.7167648740707591, 'recall': 0.6779146874853031, 'f1-score': 0.6967986754806821, 'support': 42526.0}\n",
      "accuracy: 0.704835294117647\n",
      "macro avg: {'precision': 0.7054424428416727, 'recall': 0.7048517732760131, 'f1-score': 0.7046277768771043, 'support': 85000.0}\n",
      "weighted avg: {'precision': 0.7054493695054834, 'recall': 0.704835294117647, 'f1-score': 0.7046229873091912, 'support': 85000.0}\n",
      "\n",
      "Fold 5\n",
      "Confusion Matrix:\n",
      "[[30855 11345]\n",
      " [13874 28926]]\n",
      "\n",
      "Classification Report:\n",
      "0: {'precision': 0.6898209215497776, 'recall': 0.7311611374407583, 'f1-score': 0.7098896800837465, 'support': 42200.0}\n",
      "1: {'precision': 0.7182836284174716, 'recall': 0.6758411214953272, 'f1-score': 0.6964163185708611, 'support': 42800.0}\n",
      "accuracy: 0.7033058823529412\n",
      "macro avg: {'precision': 0.7040522749836247, 'recall': 0.7035011294680427, 'f1-score': 0.7031529993273038, 'support': 85000.0}\n",
      "weighted avg: {'precision': 0.7041527315960988, 'recall': 0.7033058823529412, 'f1-score': 0.7031054462866702, 'support': 85000.0}\n"
     ]
    }
   ],
   "source": [
    "# Display results for each fold\n",
    "for i in range(k):\n",
    "    print(f\"\\nFold {i+1}\")\n",
    "    print(\"Confusion Matrix:\")\n",
    "    print(conf_matrices_rf[i])\n",
    "    print(\"\\nClassification Report:\")\n",
    "    for label, metrics in classification_reports_rf[i].items():\n",
    "        print(f\"{label}: {metrics}\")"
   ]
  },
  {
   "cell_type": "code",
   "execution_count": 30,
   "metadata": {
    "colab": {
     "base_uri": "https://localhost:8080/"
    },
    "id": "yrX2w4LaVxV1",
    "outputId": "1b8acacb-c09c-4164-9876-04b931c2b727"
   },
   "outputs": [
    {
     "name": "stdout",
     "output_type": "stream",
     "text": [
      "\n",
      "Average Accuracy RF: 0.7042917647058824\n",
      "Standard Deviation: 0.001067893181807463\n",
      "Average Macro F1 Score RF: 0.7040851692526631\n",
      "\n",
      "Average Recall for class 1: 0.6777843741188653\n"
     ]
    }
   ],
   "source": [
    "# Calculate average accuracy\n",
    "accuracies_rf = [report['accuracy'] for report in classification_reports_rf]\n",
    "average_accuracy_rf = np.mean(accuracies_rf)\n",
    "print(f\"\\nAverage Accuracy RF: {average_accuracy_rf}\")\n",
    "\n",
    "\n",
    "# Caluculate average standard deviation of accuracies\n",
    "std_dev_rf = np.std(accuracies_rf)\n",
    "print(f\"Standard Deviation: {std_dev_rf}\")\n",
    "\n",
    "\n",
    "# Calculate average f1-score\n",
    "average_macro_f1_rf = sum(macro_f1_scores_rf) / len(macro_f1_scores_rf)\n",
    "print(f\"Average Macro F1 Score RF: {average_macro_f1_rf}\")\n",
    "\n",
    "\n",
    "# Collect the recall for the '1' class from each fold\n",
    "recall_class_1_rf = [report['1']['recall'] for report in classification_reports_rf]\n",
    "# Calculate the average recall for the '1' class across all folds\n",
    "average_recall_class_1_rf = np.mean(recall_class_1_rf)\n",
    "print(f\"\\nAverage Recall for class 1: {average_recall_class_1_rf}\")"
   ]
  },
  {
   "cell_type": "code",
   "execution_count": 31,
   "metadata": {
    "colab": {
     "base_uri": "https://localhost:8080/"
    },
    "id": "_gJP8kxrVxV2",
    "outputId": "e7aa27e6-4d34-4247-c370-907774797ea7"
   },
   "outputs": [
    {
     "name": "stdout",
     "output_type": "stream",
     "text": [
      "{'average_accuracy': 0.7042917647058824, 'std_dev_accuracy': 0.001067893181807463, 'average_macro_f1': 0.7040851692526631, 'average_recall_class_1': 0.6777843741188653, 'accuracies_per_fold': [0.7031176470588235, 0.7041647058823529, 0.7060352941176471, 0.704835294117647, 0.7033058823529412], 'recall_class_1_per_fold': [0.6768248132173749, 0.6757391447291172, 0.6826021036672036, 0.6779146874853031, 0.6758411214953272]}\n"
     ]
    }
   ],
   "source": [
    "# saving outputs\n",
    "\n",
    "# Metrics\n",
    "metrics_rf = {\n",
    "    \"average_accuracy\": average_accuracy_rf,\n",
    "    \"std_dev_accuracy\": std_dev_rf,\n",
    "    \"average_macro_f1\": average_macro_f1_rf,\n",
    "    \"average_recall_class_1\": average_recall_class_1_rf,\n",
    "    \"accuracies_per_fold\": accuracies_rf,\n",
    "    \"recall_class_1_per_fold\": recall_class_1_rf\n",
    "}\n",
    "\n",
    "# Print the dictionary to verify\n",
    "print(metrics_rf)\n",
    "\n",
    "\n",
    "import json\n",
    "# Save the metrics dictionary as JSON\n",
    "with open(\"metrics_rf_50.json\", \"w\") as f:\n",
    "    json.dump(metrics_rf, f, indent=4)\n"
   ]
  },
  {
   "cell_type": "markdown",
   "metadata": {
    "id": "5UIQayifVxV2"
   },
   "source": [
    "### Support Vector Machine"
   ]
  },
  {
   "cell_type": "code",
   "execution_count": 16,
   "metadata": {
    "id": "-AWNiNkHVxV2"
   },
   "outputs": [],
   "source": [
    "from thundersvm import SVC"
   ]
  },
  {
   "cell_type": "code",
   "execution_count": 17,
   "metadata": {
    "id": "SdNPRrsuVxV2"
   },
   "outputs": [],
   "source": [
    "# Initialize SVC\n",
    "\n",
    "svc = SVC(kernel='rbf', random_state=45)\n",
    "\n",
    "# choosing rbf cause not linearly separable"
   ]
  },
  {
   "cell_type": "code",
   "execution_count": 18,
   "metadata": {
    "colab": {
     "base_uri": "https://localhost:8080/"
    },
    "id": "0VEqXnK1VxV3",
    "outputId": "d371ca6b-fe40-4598-fd18-bc1e0cadf2cd"
   },
   "outputs": [
    {
     "name": "stdout",
     "output_type": "stream",
     "text": [
      "Starting fold 1\n",
      "Model fitted\n",
      "Done processing fold 1\n",
      "Starting fold 2\n",
      "Model fitted\n",
      "Done processing fold 2\n",
      "Starting fold 3\n",
      "Model fitted\n",
      "Done processing fold 3\n",
      "Starting fold 4\n",
      "Model fitted\n",
      "Done processing fold 4\n",
      "Starting fold 5\n",
      "Model fitted\n",
      "Done processing fold 5\n"
     ]
    }
   ],
   "source": [
    "# Lists to store results\n",
    "conf_matrices_svm = []\n",
    "classification_reports_svm = []\n",
    "macro_f1_scores_svm = []\n",
    "count = 0\n",
    "\n",
    "# Manually loop through each fold\n",
    "for train_index, test_index in kf.split(X_trainval):\n",
    "    count += 1\n",
    "\n",
    "    print(\"Starting fold \" + str(count))\n",
    "    # Split the data for this fold\n",
    "    X_train, X_val = X_trainval.iloc[train_index], X_trainval.iloc[test_index]\n",
    "    y_train, y_val = y_trainval.iloc[train_index], y_trainval.iloc[test_index]\n",
    "\n",
    "    # Train the model\n",
    "    svc.fit(X_train, y_train)\n",
    "    print(\"Model fitted\")\n",
    "\n",
    "    # Make predictions\n",
    "    y_pred_svm = svc.predict(X_val)\n",
    "\n",
    "    # Store confusion matrix and classification report for each fold\n",
    "    conf_matrices_svm.append(confusion_matrix(y_val, y_pred_svm))\n",
    "    classification_reports_svm.append(classification_report(y_val, y_pred_svm, output_dict=True))\n",
    "\n",
    "    # Calculate and store macro F1 score for this fold\n",
    "    fold_macro_f1 = f1_score(y_val, y_pred_svm, average='macro')\n",
    "    macro_f1_scores_svm.append(fold_macro_f1)\n",
    "\n",
    "    print(\"Done processing fold \" + str(count))"
   ]
  },
  {
   "cell_type": "code",
   "execution_count": 19,
   "metadata": {
    "colab": {
     "base_uri": "https://localhost:8080/"
    },
    "id": "OIJ8u8S9VxV3",
    "outputId": "d5b61b9f-6336-4942-cf5a-87da9eea3eff"
   },
   "outputs": [
    {
     "name": "stdout",
     "output_type": "stream",
     "text": [
      "\n",
      "Fold 1\n",
      "Confusion Matrix:\n",
      "[[35456  7115]\n",
      " [22205 20224]]\n",
      "\n",
      "Classification Report:\n",
      "0: {'precision': 0.6149043547631848, 'recall': 0.8328674449742782, 'f1-score': 0.7074786495330833, 'support': 42571.0}\n",
      "1: {'precision': 0.739749076410988, 'recall': 0.47665511796177146, 'f1-score': 0.5797500286664373, 'support': 42429.0}\n",
      "accuracy: 0.6550588235294118\n",
      "macro avg: {'precision': 0.6773267155870863, 'recall': 0.6547612814680248, 'f1-score': 0.6436143390997603, 'support': 85000.0}\n",
      "weighted avg: {'precision': 0.6772224335254747, 'recall': 0.6550588235294118, 'f1-score': 0.6437210300654254, 'support': 85000.0}\n",
      "\n",
      "Fold 2\n",
      "Confusion Matrix:\n",
      "[[35437  6980]\n",
      " [22373 20210]]\n",
      "\n",
      "Classification Report:\n",
      "0: {'precision': 0.6129908320359799, 'recall': 0.8354433363981423, 'f1-score': 0.7071348039949316, 'support': 42417.0}\n",
      "1: {'precision': 0.7432879735196763, 'recall': 0.47460254092008547, 'f1-score': 0.5793071818611784, 'support': 42583.0}\n",
      "accuracy: 0.6546705882352941\n",
      "macro avg: {'precision': 0.6781394027778281, 'recall': 0.6550229386591139, 'f1-score': 0.643220992928055, 'support': 85000.0}\n",
      "weighted avg: {'precision': 0.6782666341042181, 'recall': 0.6546705882352941, 'f1-score': 0.6430961730146774, 'support': 85000.0}\n",
      "\n",
      "Fold 3\n",
      "Confusion Matrix:\n",
      "[[35522  7266]\n",
      " [22033 20179]]\n",
      "\n",
      "Classification Report:\n",
      "0: {'precision': 0.6171835635479107, 'recall': 0.8301860334673273, 'f1-score': 0.7080115204847374, 'support': 42788.0}\n",
      "1: {'precision': 0.7352523228274731, 'recall': 0.47803942007012223, 'f1-score': 0.5793818281005498, 'support': 42212.0}\n",
      "accuracy: 0.6553058823529412\n",
      "macro avg: {'precision': 0.6762179431876919, 'recall': 0.6541127267687248, 'f1-score': 0.6436966742926435, 'support': 85000.0}\n",
      "weighted avg: {'precision': 0.6758178984503682, 'recall': 0.6553058823529412, 'f1-score': 0.6441325019562513, 'support': 85000.0}\n",
      "\n",
      "Fold 4\n",
      "Confusion Matrix:\n",
      "[[35301  7173]\n",
      " [22042 20484]]\n",
      "\n",
      "Classification Report:\n",
      "0: {'precision': 0.6156113213469822, 'recall': 0.8311202147195932, 'f1-score': 0.707314385325145, 'support': 42474.0}\n",
      "1: {'precision': 0.7406443215099252, 'recall': 0.48168179466679206, 'f1-score': 0.5837311029736546, 'support': 42526.0}\n",
      "accuracy: 0.6562941176470588\n",
      "macro avg: {'precision': 0.6781278214284536, 'recall': 0.6564010046931926, 'f1-score': 0.6455227441493998, 'support': 85000.0}\n",
      "weighted avg: {'precision': 0.6781660668167389, 'recall': 0.6562941176470588, 'f1-score': 0.6454849422042099, 'support': 85000.0}\n",
      "\n",
      "Fold 5\n",
      "Confusion Matrix:\n",
      "[[35347  6853]\n",
      " [22606 20194]]\n",
      "\n",
      "Classification Report:\n",
      "0: {'precision': 0.6099252842820907, 'recall': 0.83760663507109, 'f1-score': 0.7058600341477539, 'support': 42200.0}\n",
      "1: {'precision': 0.7466262432062706, 'recall': 0.47182242990654205, 'f1-score': 0.5782352856958781, 'support': 42800.0}\n",
      "accuracy: 0.6534235294117647\n",
      "macro avg: {'precision': 0.6782757637441806, 'recall': 0.6547145324888161, 'f1-score': 0.642047659921816, 'support': 85000.0}\n",
      "weighted avg: {'precision': 0.6787582377168542, 'recall': 0.6534235294117647, 'f1-score': 0.6415972196331623, 'support': 85000.0}\n"
     ]
    }
   ],
   "source": [
    "# Display results for each fold\n",
    "for i in range(k):\n",
    "    print(f\"\\nFold {i+1}\")\n",
    "    print(\"Confusion Matrix:\")\n",
    "    print(conf_matrices_svm[i])\n",
    "    print(\"\\nClassification Report:\")\n",
    "    for label, metrics in classification_reports_svm[i].items():\n",
    "        print(f\"{label}: {metrics}\")"
   ]
  },
  {
   "cell_type": "code",
   "execution_count": 20,
   "metadata": {
    "colab": {
     "base_uri": "https://localhost:8080/"
    },
    "id": "OMIwvs8vVxV3",
    "outputId": "3e37cd12-1e8d-4570-b295-a79b390f9b94"
   },
   "outputs": [
    {
     "name": "stdout",
     "output_type": "stream",
     "text": [
      "\n",
      "Average Accuracy LR: 0.6549505882352941\n",
      "Standard Deviation: 0.0009330947132765308\n",
      "Average Macro F1 Score LR: 0.643620482078335\n",
      "\n",
      "Average Recall for class 1: 0.47656026070506263\n"
     ]
    }
   ],
   "source": [
    "# Calculate average accuracy\n",
    "accuracies_svm = [report['accuracy'] for report in classification_reports_svm]\n",
    "average_accuracy_svm = np.mean(accuracies_svm)\n",
    "print(f\"\\nAverage Accuracy LR: {average_accuracy_svm}\")\n",
    "\n",
    "\n",
    "# Caluculate average standard deviation\n",
    "std_dev_svm = np.std(accuracies_svm)\n",
    "print(f\"Standard Deviation: {std_dev_svm}\")\n",
    "\n",
    "\n",
    "# Calculate average macro f1-score\n",
    "average_macro_f1_svm = sum(macro_f1_scores_svm) / len(macro_f1_scores_svm)\n",
    "print(f\"Average Macro F1 Score LR: {average_macro_f1_svm}\")\n",
    "\n",
    "\n",
    "# Collect the recall for the '1' class from each fold\n",
    "recall_class_1_svm = [report['1']['recall'] for report in classification_reports_svm]\n",
    "# Calculate the average recall for the '1' class across all folds\n",
    "average_recall_class_1_svm = np.mean(recall_class_1_svm)\n",
    "print(f\"\\nAverage Recall for class 1: {average_recall_class_1_svm}\")"
   ]
  },
  {
   "cell_type": "code",
   "execution_count": 21,
   "metadata": {
    "colab": {
     "base_uri": "https://localhost:8080/"
    },
    "id": "i33tff3QVxV3",
    "outputId": "f58773fb-5880-40fb-d53d-95adc4729396"
   },
   "outputs": [
    {
     "name": "stdout",
     "output_type": "stream",
     "text": [
      "{'average_accuracy': 0.6549505882352941, 'std_dev_accuracy': 0.0009330947132765308, 'average_macro_f1': 0.643620482078335, 'average_recall_class_1': 0.47656026070506263, 'accuracies_per_fold': [0.6550588235294118, 0.6546705882352941, 0.6553058823529412, 0.6562941176470588, 0.6534235294117647], 'recall_class_1_per_fold': [0.47665511796177146, 0.47460254092008547, 0.47803942007012223, 0.48168179466679206, 0.47182242990654205]}\n"
     ]
    }
   ],
   "source": [
    "# saving outputs\n",
    "\n",
    "# Metrics\n",
    "metrics_svm = {\n",
    "    \"average_accuracy\": average_accuracy_svm,\n",
    "    \"std_dev_accuracy\": std_dev_svm,\n",
    "    \"average_macro_f1\": average_macro_f1_svm,\n",
    "    \"average_recall_class_1\": average_recall_class_1_svm,\n",
    "    \"accuracies_per_fold\": accuracies_svm,\n",
    "    \"recall_class_1_per_fold\": recall_class_1_svm\n",
    "}\n",
    "\n",
    "# Print the dictionary to verify\n",
    "print(metrics_svm)\n",
    "\n",
    "\n",
    "import json\n",
    "# Save the metrics dictionary as JSON\n",
    "with open(\"metrics_svm_50.json\", \"w\") as f:\n",
    "    json.dump(metrics_svm, f, indent=4)"
   ]
  },
  {
   "cell_type": "markdown",
   "metadata": {
    "id": "HcoibFHHVxV4"
   },
   "source": [
    "### MLP"
   ]
  },
  {
   "cell_type": "code",
   "execution_count": 32,
   "metadata": {
    "id": "fiamFOX7VxV5"
   },
   "outputs": [],
   "source": [
    "from tensorflow.keras import layers, optimizers, models, callbacks\n",
    "from tensorflow.keras.optimizers.schedules import ExponentialDecay\n",
    "from tensorflow import keras"
   ]
  },
  {
   "cell_type": "code",
   "execution_count": 33,
   "metadata": {
    "id": "jv9IHbP1VxV5"
   },
   "outputs": [],
   "source": [
    "# Define parameters\n",
    "initial_learning_rate = 5e-4\n",
    "decay_rate = 0.1  # Decay rate per step\n",
    "\n",
    "# Define the learning rate schedule\n",
    "lr_schedule = ExponentialDecay(\n",
    "    initial_learning_rate,\n",
    "    decay_steps=10000,\n",
    "    decay_rate=decay_rate)\n",
    "\n",
    "# Define early stopping\n",
    "early_stopping = callbacks.EarlyStopping(\n",
    "    monitor='val_accuracy',             # Watch accuracy\n",
    "    patience=5,                         # Stop after 3 epochs with no improvement\n",
    "    restore_best_weights=True,          # Restore weights from the best epoch\n",
    "    min_delta=0.0005                    # Minimum change in accuracy to qualify as an improvement\n",
    ")\n",
    "\n",
    "# Function to build the model\n",
    "def build_model():\n",
    "    model_mlp = models.Sequential()\n",
    "    model_mlp.add(layers.Dense(64, activation='relu', input_shape=(X.shape[1],)))\n",
    "    model_mlp.add(layers.BatchNormalization())\n",
    "    model_mlp.add(layers.Dense(64, activation='relu'))\n",
    "    model_mlp.add(layers.BatchNormalization())\n",
    "    model_mlp.add(layers.Dense(1, activation='sigmoid'))\n",
    "    model_mlp.compile(optimizer=optimizers.Adam(learning_rate=lr_schedule), loss='binary_crossentropy', metrics=['accuracy', keras.metrics.Recall()])\n",
    "    return model_mlp"
   ]
  },
  {
   "cell_type": "code",
   "execution_count": 34,
   "metadata": {
    "colab": {
     "base_uri": "https://localhost:8080/"
    },
    "id": "x51esfv0VxV5",
    "outputId": "57dd731e-a430-4ba5-a862-cccd1988aed8"
   },
   "outputs": [
    {
     "name": "stdout",
     "output_type": "stream",
     "text": [
      "\n",
      "Fold 1\n"
     ]
    },
    {
     "name": "stderr",
     "output_type": "stream",
     "text": [
      "/usr/local/lib/python3.10/dist-packages/keras/src/layers/core/dense.py:87: UserWarning: Do not pass an `input_shape`/`input_dim` argument to a layer. When using Sequential models, prefer using an `Input(shape)` object as the first layer in the model instead.\n",
      "  super().__init__(activity_regularizer=activity_regularizer, **kwargs)\n"
     ]
    },
    {
     "name": "stdout",
     "output_type": "stream",
     "text": [
      "Epoch 1/20\n",
      "\u001b[1m10625/10625\u001b[0m \u001b[32m━━━━━━━━━━━━━━━━━━━━\u001b[0m\u001b[37m\u001b[0m \u001b[1m24s\u001b[0m 2ms/step - accuracy: 0.6103 - loss: 0.6391 - recall: 0.5676 - val_accuracy: 0.6535 - val_loss: 0.5952 - val_recall: 0.5624\n",
      "Epoch 2/20\n",
      "\u001b[1m10625/10625\u001b[0m \u001b[32m━━━━━━━━━━━━━━━━━━━━\u001b[0m\u001b[37m\u001b[0m \u001b[1m19s\u001b[0m 2ms/step - accuracy: 0.6418 - loss: 0.6030 - recall: 0.5857 - val_accuracy: 0.6551 - val_loss: 0.5928 - val_recall: 0.5705\n",
      "Epoch 3/20\n",
      "\u001b[1m10625/10625\u001b[0m \u001b[32m━━━━━━━━━━━━━━━━━━━━\u001b[0m\u001b[37m\u001b[0m \u001b[1m20s\u001b[0m 2ms/step - accuracy: 0.6447 - loss: 0.6022 - recall: 0.5838 - val_accuracy: 0.6544 - val_loss: 0.5926 - val_recall: 0.5930\n",
      "Epoch 4/20\n",
      "\u001b[1m10625/10625\u001b[0m \u001b[32m━━━━━━━━━━━━━━━━━━━━\u001b[0m\u001b[37m\u001b[0m \u001b[1m20s\u001b[0m 2ms/step - accuracy: 0.6453 - loss: 0.6020 - recall: 0.5860 - val_accuracy: 0.6557 - val_loss: 0.5929 - val_recall: 0.5522\n",
      "Epoch 5/20\n",
      "\u001b[1m10625/10625\u001b[0m \u001b[32m━━━━━━━━━━━━━━━━━━━━\u001b[0m\u001b[37m\u001b[0m \u001b[1m20s\u001b[0m 2ms/step - accuracy: 0.6441 - loss: 0.6015 - recall: 0.5844 - val_accuracy: 0.6552 - val_loss: 0.5924 - val_recall: 0.5740\n",
      "Epoch 6/20\n",
      "\u001b[1m10625/10625\u001b[0m \u001b[32m━━━━━━━━━━━━━━━━━━━━\u001b[0m\u001b[37m\u001b[0m \u001b[1m20s\u001b[0m 2ms/step - accuracy: 0.6465 - loss: 0.5997 - recall: 0.5860 - val_accuracy: 0.6553 - val_loss: 0.5927 - val_recall: 0.5821\n",
      "Epoch 7/20\n",
      "\u001b[1m10625/10625\u001b[0m \u001b[32m━━━━━━━━━━━━━━━━━━━━\u001b[0m\u001b[37m\u001b[0m \u001b[1m20s\u001b[0m 2ms/step - accuracy: 0.6448 - loss: 0.6014 - recall: 0.5862 - val_accuracy: 0.6551 - val_loss: 0.5924 - val_recall: 0.5774\n",
      "Epoch 8/20\n",
      "\u001b[1m10625/10625\u001b[0m \u001b[32m━━━━━━━━━━━━━━━━━━━━\u001b[0m\u001b[37m\u001b[0m \u001b[1m20s\u001b[0m 2ms/step - accuracy: 0.6453 - loss: 0.6017 - recall: 0.5856 - val_accuracy: 0.6556 - val_loss: 0.5926 - val_recall: 0.5745\n",
      "Epoch 9/20\n",
      "\u001b[1m10625/10625\u001b[0m \u001b[32m━━━━━━━━━━━━━━━━━━━━\u001b[0m\u001b[37m\u001b[0m \u001b[1m20s\u001b[0m 2ms/step - accuracy: 0.6453 - loss: 0.6016 - recall: 0.5854 - val_accuracy: 0.6552 - val_loss: 0.5925 - val_recall: 0.5799\n",
      "\u001b[1m2657/2657\u001b[0m \u001b[32m━━━━━━━━━━━━━━━━━━━━\u001b[0m\u001b[37m\u001b[0m \u001b[1m3s\u001b[0m 1ms/step\n",
      "\n",
      "Fold 2\n",
      "Epoch 1/20\n"
     ]
    },
    {
     "name": "stderr",
     "output_type": "stream",
     "text": [
      "/usr/local/lib/python3.10/dist-packages/keras/src/layers/core/dense.py:87: UserWarning: Do not pass an `input_shape`/`input_dim` argument to a layer. When using Sequential models, prefer using an `Input(shape)` object as the first layer in the model instead.\n",
      "  super().__init__(activity_regularizer=activity_regularizer, **kwargs)\n"
     ]
    },
    {
     "name": "stdout",
     "output_type": "stream",
     "text": [
      "\u001b[1m10625/10625\u001b[0m \u001b[32m━━━━━━━━━━━━━━━━━━━━\u001b[0m\u001b[37m\u001b[0m \u001b[1m24s\u001b[0m 2ms/step - accuracy: 0.6126 - loss: 0.6380 - recall_1: 0.5684 - val_accuracy: 0.6518 - val_loss: 0.5945 - val_recall_1: 0.5860\n",
      "Epoch 2/20\n",
      "\u001b[1m10625/10625\u001b[0m \u001b[32m━━━━━━━━━━━━━━━━━━━━\u001b[0m\u001b[37m\u001b[0m \u001b[1m20s\u001b[0m 2ms/step - accuracy: 0.6442 - loss: 0.6033 - recall_1: 0.5891 - val_accuracy: 0.6534 - val_loss: 0.5927 - val_recall_1: 0.5538\n",
      "Epoch 3/20\n",
      "\u001b[1m10625/10625\u001b[0m \u001b[32m━━━━━━━━━━━━━━━━━━━━\u001b[0m\u001b[37m\u001b[0m \u001b[1m20s\u001b[0m 2ms/step - accuracy: 0.6450 - loss: 0.6010 - recall_1: 0.5888 - val_accuracy: 0.6536 - val_loss: 0.5926 - val_recall_1: 0.5531\n",
      "Epoch 4/20\n",
      "\u001b[1m10625/10625\u001b[0m \u001b[32m━━━━━━━━━━━━━━━━━━━━\u001b[0m\u001b[37m\u001b[0m \u001b[1m20s\u001b[0m 2ms/step - accuracy: 0.6440 - loss: 0.6021 - recall_1: 0.5880 - val_accuracy: 0.6544 - val_loss: 0.5922 - val_recall_1: 0.5778\n",
      "Epoch 5/20\n",
      "\u001b[1m10625/10625\u001b[0m \u001b[32m━━━━━━━━━━━━━━━━━━━━\u001b[0m\u001b[37m\u001b[0m \u001b[1m20s\u001b[0m 2ms/step - accuracy: 0.6449 - loss: 0.6020 - recall_1: 0.5905 - val_accuracy: 0.6537 - val_loss: 0.5929 - val_recall_1: 0.5433\n",
      "\u001b[1m2657/2657\u001b[0m \u001b[32m━━━━━━━━━━━━━━━━━━━━\u001b[0m\u001b[37m\u001b[0m \u001b[1m3s\u001b[0m 1ms/step\n",
      "\n",
      "Fold 3\n",
      "Epoch 1/20\n"
     ]
    },
    {
     "name": "stderr",
     "output_type": "stream",
     "text": [
      "/usr/local/lib/python3.10/dist-packages/keras/src/layers/core/dense.py:87: UserWarning: Do not pass an `input_shape`/`input_dim` argument to a layer. When using Sequential models, prefer using an `Input(shape)` object as the first layer in the model instead.\n",
      "  super().__init__(activity_regularizer=activity_regularizer, **kwargs)\n"
     ]
    },
    {
     "name": "stdout",
     "output_type": "stream",
     "text": [
      "\u001b[1m10625/10625\u001b[0m \u001b[32m━━━━━━━━━━━━━━━━━━━━\u001b[0m\u001b[37m\u001b[0m \u001b[1m23s\u001b[0m 2ms/step - accuracy: 0.6071 - loss: 0.6415 - recall_2: 0.5643 - val_accuracy: 0.6490 - val_loss: 0.5948 - val_recall_2: 0.5847\n",
      "Epoch 2/20\n",
      "\u001b[1m10625/10625\u001b[0m \u001b[32m━━━━━━━━━━━━━━━━━━━━\u001b[0m\u001b[37m\u001b[0m \u001b[1m20s\u001b[0m 2ms/step - accuracy: 0.6402 - loss: 0.6041 - recall_2: 0.5788 - val_accuracy: 0.6499 - val_loss: 0.5927 - val_recall_2: 0.5859\n",
      "Epoch 3/20\n",
      "\u001b[1m10625/10625\u001b[0m \u001b[32m━━━━━━━━━━━━━━━━━━━━\u001b[0m\u001b[37m\u001b[0m \u001b[1m20s\u001b[0m 2ms/step - accuracy: 0.6418 - loss: 0.6035 - recall_2: 0.5788 - val_accuracy: 0.6499 - val_loss: 0.5926 - val_recall_2: 0.5843\n",
      "Epoch 4/20\n",
      "\u001b[1m10625/10625\u001b[0m \u001b[32m━━━━━━━━━━━━━━━━━━━━\u001b[0m\u001b[37m\u001b[0m \u001b[1m20s\u001b[0m 2ms/step - accuracy: 0.6411 - loss: 0.6031 - recall_2: 0.5779 - val_accuracy: 0.6508 - val_loss: 0.5926 - val_recall_2: 0.5678\n",
      "Epoch 5/20\n",
      "\u001b[1m10625/10625\u001b[0m \u001b[32m━━━━━━━━━━━━━━━━━━━━\u001b[0m\u001b[37m\u001b[0m \u001b[1m20s\u001b[0m 2ms/step - accuracy: 0.6421 - loss: 0.6028 - recall_2: 0.5793 - val_accuracy: 0.6498 - val_loss: 0.5926 - val_recall_2: 0.5797\n",
      "\u001b[1m2657/2657\u001b[0m \u001b[32m━━━━━━━━━━━━━━━━━━━━\u001b[0m\u001b[37m\u001b[0m \u001b[1m3s\u001b[0m 1ms/step\n",
      "\n",
      "Fold 4\n",
      "Epoch 1/20\n"
     ]
    },
    {
     "name": "stderr",
     "output_type": "stream",
     "text": [
      "/usr/local/lib/python3.10/dist-packages/keras/src/layers/core/dense.py:87: UserWarning: Do not pass an `input_shape`/`input_dim` argument to a layer. When using Sequential models, prefer using an `Input(shape)` object as the first layer in the model instead.\n",
      "  super().__init__(activity_regularizer=activity_regularizer, **kwargs)\n"
     ]
    },
    {
     "name": "stdout",
     "output_type": "stream",
     "text": [
      "\u001b[1m10625/10625\u001b[0m \u001b[32m━━━━━━━━━━━━━━━━━━━━\u001b[0m\u001b[37m\u001b[0m \u001b[1m23s\u001b[0m 2ms/step - accuracy: 0.6126 - loss: 0.6355 - recall_3: 0.5709 - val_accuracy: 0.6559 - val_loss: 0.5916 - val_recall_3: 0.5598\n",
      "Epoch 2/20\n",
      "\u001b[1m10625/10625\u001b[0m \u001b[32m━━━━━━━━━━━━━━━━━━━━\u001b[0m\u001b[37m\u001b[0m \u001b[1m20s\u001b[0m 2ms/step - accuracy: 0.6447 - loss: 0.6016 - recall_3: 0.5849 - val_accuracy: 0.6564 - val_loss: 0.5897 - val_recall_3: 0.5610\n",
      "Epoch 3/20\n",
      "\u001b[1m10625/10625\u001b[0m \u001b[32m━━━━━━━━━━━━━━━━━━━━\u001b[0m\u001b[37m\u001b[0m \u001b[1m20s\u001b[0m 2ms/step - accuracy: 0.6453 - loss: 0.5999 - recall_3: 0.5877 - val_accuracy: 0.6567 - val_loss: 0.5893 - val_recall_3: 0.5743\n",
      "Epoch 4/20\n",
      "\u001b[1m10625/10625\u001b[0m \u001b[32m━━━━━━━━━━━━━━━━━━━━\u001b[0m\u001b[37m\u001b[0m \u001b[1m20s\u001b[0m 2ms/step - accuracy: 0.6442 - loss: 0.6010 - recall_3: 0.5860 - val_accuracy: 0.6580 - val_loss: 0.5893 - val_recall_3: 0.5708\n",
      "Epoch 5/20\n",
      "\u001b[1m10625/10625\u001b[0m \u001b[32m━━━━━━━━━━━━━━━━━━━━\u001b[0m\u001b[37m\u001b[0m \u001b[1m20s\u001b[0m 2ms/step - accuracy: 0.6455 - loss: 0.5996 - recall_3: 0.5872 - val_accuracy: 0.6569 - val_loss: 0.5894 - val_recall_3: 0.5616\n",
      "Epoch 6/20\n",
      "\u001b[1m10625/10625\u001b[0m \u001b[32m━━━━━━━━━━━━━━━━━━━━\u001b[0m\u001b[37m\u001b[0m \u001b[1m21s\u001b[0m 2ms/step - accuracy: 0.6474 - loss: 0.5984 - recall_3: 0.5887 - val_accuracy: 0.6575 - val_loss: 0.5890 - val_recall_3: 0.5860\n",
      "Epoch 7/20\n",
      "\u001b[1m10625/10625\u001b[0m \u001b[32m━━━━━━━━━━━━━━━━━━━━\u001b[0m\u001b[37m\u001b[0m \u001b[1m20s\u001b[0m 2ms/step - accuracy: 0.6443 - loss: 0.6005 - recall_3: 0.5869 - val_accuracy: 0.6569 - val_loss: 0.5891 - val_recall_3: 0.5913\n",
      "Epoch 8/20\n",
      "\u001b[1m10625/10625\u001b[0m \u001b[32m━━━━━━━━━━━━━━━━━━━━\u001b[0m\u001b[37m\u001b[0m \u001b[1m20s\u001b[0m 2ms/step - accuracy: 0.6460 - loss: 0.5996 - recall_3: 0.5876 - val_accuracy: 0.6577 - val_loss: 0.5893 - val_recall_3: 0.5728\n",
      "Epoch 9/20\n",
      "\u001b[1m10625/10625\u001b[0m \u001b[32m━━━━━━━━━━━━━━━━━━━━\u001b[0m\u001b[37m\u001b[0m \u001b[1m20s\u001b[0m 2ms/step - accuracy: 0.6474 - loss: 0.5987 - recall_3: 0.5884 - val_accuracy: 0.6575 - val_loss: 0.5893 - val_recall_3: 0.5732\n",
      "\u001b[1m2657/2657\u001b[0m \u001b[32m━━━━━━━━━━━━━━━━━━━━\u001b[0m\u001b[37m\u001b[0m \u001b[1m3s\u001b[0m 1ms/step\n",
      "\n",
      "Fold 5\n",
      "Epoch 1/20\n"
     ]
    },
    {
     "name": "stderr",
     "output_type": "stream",
     "text": [
      "/usr/local/lib/python3.10/dist-packages/keras/src/layers/core/dense.py:87: UserWarning: Do not pass an `input_shape`/`input_dim` argument to a layer. When using Sequential models, prefer using an `Input(shape)` object as the first layer in the model instead.\n",
      "  super().__init__(activity_regularizer=activity_regularizer, **kwargs)\n"
     ]
    },
    {
     "name": "stdout",
     "output_type": "stream",
     "text": [
      "\u001b[1m10625/10625\u001b[0m \u001b[32m━━━━━━━━━━━━━━━━━━━━\u001b[0m\u001b[37m\u001b[0m \u001b[1m24s\u001b[0m 2ms/step - accuracy: 0.6050 - loss: 0.6437 - recall_4: 0.5595 - val_accuracy: 0.6518 - val_loss: 0.5947 - val_recall_4: 0.5681\n",
      "Epoch 2/20\n",
      "\u001b[1m10625/10625\u001b[0m \u001b[32m━━━━━━━━━━━━━━━━━━━━\u001b[0m\u001b[37m\u001b[0m \u001b[1m20s\u001b[0m 2ms/step - accuracy: 0.6414 - loss: 0.6037 - recall_4: 0.5769 - val_accuracy: 0.6532 - val_loss: 0.5926 - val_recall_4: 0.5635\n",
      "Epoch 3/20\n",
      "\u001b[1m10625/10625\u001b[0m \u001b[32m━━━━━━━━━━━━━━━━━━━━\u001b[0m\u001b[37m\u001b[0m \u001b[1m19s\u001b[0m 2ms/step - accuracy: 0.6445 - loss: 0.6025 - recall_4: 0.5789 - val_accuracy: 0.6540 - val_loss: 0.5923 - val_recall_4: 0.5733\n",
      "Epoch 4/20\n",
      "\u001b[1m10625/10625\u001b[0m \u001b[32m━━━━━━━━━━━━━━━━━━━━\u001b[0m\u001b[37m\u001b[0m \u001b[1m19s\u001b[0m 2ms/step - accuracy: 0.6431 - loss: 0.6025 - recall_4: 0.5776 - val_accuracy: 0.6538 - val_loss: 0.5923 - val_recall_4: 0.5725\n",
      "Epoch 5/20\n",
      "\u001b[1m10625/10625\u001b[0m \u001b[32m━━━━━━━━━━━━━━━━━━━━\u001b[0m\u001b[37m\u001b[0m \u001b[1m19s\u001b[0m 2ms/step - accuracy: 0.6454 - loss: 0.6019 - recall_4: 0.5784 - val_accuracy: 0.6543 - val_loss: 0.5922 - val_recall_4: 0.5760\n",
      "\u001b[1m2657/2657\u001b[0m \u001b[32m━━━━━━━━━━━━━━━━━━━━\u001b[0m\u001b[37m\u001b[0m \u001b[1m3s\u001b[0m 1ms/step\n"
     ]
    }
   ],
   "source": [
    "# Convert data to float32 (required by TensorFlow)\n",
    "X_trainval = np.array(X_trainval, dtype=np.float32)\n",
    "y_trainval = np.array(y_trainval, dtype=np.float32)\n",
    "\n",
    "# Lists to store results\n",
    "conf_matrices_mlp = []\n",
    "classification_reports_mlp = []\n",
    "macro_f1_scores_mlp = []\n",
    "count = 0\n",
    "\n",
    "# Manually loop over each fold\n",
    "for train_index, test_index in kf.split(X_trainval):\n",
    "    count += 1\n",
    "    print(f\"\\nFold {count}\")\n",
    "\n",
    "    # Split data for this fold\n",
    "    X_train, X_val = X_trainval[train_index], X_trainval[test_index]\n",
    "    y_train, y_val = y_trainval[train_index], y_trainval[test_index]\n",
    "\n",
    "    # Build and train the model\n",
    "    model_mlp = build_model()\n",
    "    model_mlp.fit(X_train, y_train, validation_data=(X_val, y_val), epochs=20, batch_size=32, verbose=1, callbacks=[early_stopping])\n",
    "\n",
    "    # Make predictions\n",
    "    y_pred_mlp = model_mlp.predict(X_val)\n",
    "    y_pred_mlp = (y_pred_mlp > 0.5).astype(int)  # Convert probabilities to binary class predictions\n",
    "\n",
    "    # Store confusion matrix and classification report for each fold\n",
    "    conf_matrices_mlp.append(confusion_matrix(y_val, y_pred_mlp))\n",
    "    classification_reports_mlp.append(classification_report(y_val, y_pred_mlp, output_dict=True))\n",
    "\n",
    "    fold_macro_f1 = f1_score(y_val, y_pred_mlp, average='macro')\n",
    "    macro_f1_scores_mlp.append(fold_macro_f1)"
   ]
  },
  {
   "cell_type": "code",
   "execution_count": 35,
   "metadata": {
    "colab": {
     "base_uri": "https://localhost:8080/"
    },
    "id": "EDTiyy8DVxV5",
    "outputId": "370e2333-1919-4570-97fa-e9bbb1a3e158"
   },
   "outputs": [
    {
     "name": "stdout",
     "output_type": "stream",
     "text": [
      "\n",
      "Fold 1\n",
      "Confusion Matrix:\n",
      "[[32303 10268]\n",
      " [18998 23431]]\n",
      "\n",
      "Classification Report:\n",
      "0.0: {'precision': 0.6296758347790491, 'recall': 0.7588029409692044, 'f1-score': 0.6882350434634396, 'support': 42571.0}\n",
      "1.0: {'precision': 0.6953025312323808, 'recall': 0.5522402130618209, 'f1-score': 0.6155685161832702, 'support': 42429.0}\n",
      "accuracy: 0.6556941176470589\n",
      "macro avg: {'precision': 0.6624891830057149, 'recall': 0.6555215770155127, 'f1-score': 0.6519017798233548, 'support': 85000.0}\n",
      "weighted avg: {'precision': 0.6624343654122068, 'recall': 0.6556941176470589, 'f1-score': 0.6519624777461419, 'support': 85000.0}\n",
      "\n",
      "Fold 2\n",
      "Confusion Matrix:\n",
      "[[30454 11963]\n",
      " [17631 24952]]\n",
      "\n",
      "Classification Report:\n",
      "0.0: {'precision': 0.6333367994176978, 'recall': 0.7179668529127472, 'f1-score': 0.6730017016198537, 'support': 42417.0}\n",
      "1.0: {'precision': 0.6759311932818638, 'recall': 0.5859615339454712, 'f1-score': 0.6277390626179274, 'support': 42583.0}\n",
      "accuracy: 0.6518352941176471\n",
      "macro avg: {'precision': 0.6546339963497808, 'recall': 0.6519641934291092, 'f1-score': 0.6503703821188906, 'support': 85000.0}\n",
      "weighted avg: {'precision': 0.6546755885226129, 'recall': 0.6518352941176471, 'f1-score': 0.6503261844831594, 'support': 85000.0}\n",
      "\n",
      "Fold 3\n",
      "Confusion Matrix:\n",
      "[[30488 12300]\n",
      " [17532 24680]]\n",
      "\n",
      "Classification Report:\n",
      "0.0: {'precision': 0.6349021241149521, 'recall': 0.7125362251098439, 'f1-score': 0.6714826887498899, 'support': 42788.0}\n",
      "1.0: {'precision': 0.6673877771768524, 'recall': 0.5846678669572634, 'f1-score': 0.6232952823517527, 'support': 42212.0}\n",
      "accuracy: 0.649035294117647\n",
      "macro avg: {'precision': 0.6511449506459022, 'recall': 0.6486020460335536, 'f1-score': 0.6473889855508212, 'support': 85000.0}\n",
      "weighted avg: {'precision': 0.6510348816096454, 'recall': 0.649035294117647, 'f1-score': 0.6475522558219114, 'support': 85000.0}\n",
      "\n",
      "Fold 4\n",
      "Confusion Matrix:\n",
      "[[31656 10818]\n",
      " [18253 24273]]\n",
      "\n",
      "Classification Report:\n",
      "0.0: {'precision': 0.6342743793704543, 'recall': 0.7453030088995621, 'f1-score': 0.6853208923719732, 'support': 42474.0}\n",
      "1.0: {'precision': 0.6917158245704027, 'recall': 0.5707802285660537, 'f1-score': 0.6254557635569528, 'support': 42526.0}\n",
      "accuracy: 0.6579882352941177\n",
      "macro avg: {'precision': 0.6629951019704285, 'recall': 0.658041618732808, 'f1-score': 0.655388327964463, 'support': 85000.0}\n",
      "weighted avg: {'precision': 0.6630126722948426, 'recall': 0.6579882352941177, 'f1-score': 0.655370016278002, 'support': 85000.0}\n",
      "\n",
      "Fold 5\n",
      "Confusion Matrix:\n",
      "[[31086 11114]\n",
      " [18485 24315]]\n",
      "\n",
      "Classification Report:\n",
      "0.0: {'precision': 0.6271005224829033, 'recall': 0.7366350710900474, 'f1-score': 0.6774689171960642, 'support': 42200.0}\n",
      "1.0: {'precision': 0.6863021818284456, 'recall': 0.568107476635514, 'f1-score': 0.6216364775211238, 'support': 42800.0}\n",
      "accuracy: 0.6517764705882353\n",
      "macro avg: {'precision': 0.6567013521556744, 'recall': 0.6523712738627807, 'f1-score': 0.649552697358594, 'support': 85000.0}\n",
      "weighted avg: {'precision': 0.6569102991886587, 'recall': 0.6517764705882353, 'f1-score': 0.649355641689153, 'support': 85000.0}\n"
     ]
    }
   ],
   "source": [
    "# Display results for each fold\n",
    "for i in range(k):\n",
    "    print(f\"\\nFold {i+1}\")\n",
    "    print(\"Confusion Matrix:\")\n",
    "    print(conf_matrices_mlp[i])\n",
    "    print(\"\\nClassification Report:\")\n",
    "    for label, metrics in classification_reports_mlp[i].items():\n",
    "        print(f\"{label}: {metrics}\")"
   ]
  },
  {
   "cell_type": "code",
   "execution_count": 36,
   "metadata": {
    "colab": {
     "base_uri": "https://localhost:8080/"
    },
    "id": "LL1aKERyVxV6",
    "outputId": "7234aa62-f1f7-456e-c247-35adb26d6442"
   },
   "outputs": [
    {
     "name": "stdout",
     "output_type": "stream",
     "text": [
      "\n",
      "Average Accuracy MLP: 0.6532658823529413\n",
      "Standard Deviation: 0.0031736335914863355\n",
      "\n",
      "Average Macro F1 Score MLP: 0.6509204345632247\n",
      "\n",
      "Average Recall for class 1.0: 0.5723514638332247\n"
     ]
    }
   ],
   "source": [
    "# Calculate average accuracy\n",
    "accuracies_mlp = [report['accuracy'] for report in classification_reports_mlp]\n",
    "average_accuracy_mlp = np.mean(accuracies_mlp)\n",
    "print(f\"\\nAverage Accuracy MLP: {average_accuracy_mlp}\")\n",
    "\n",
    "\n",
    "# Caluculate average standard deviation of accuracies\n",
    "std_dev_mlp = np.std(accuracies_mlp)\n",
    "print(f\"Standard Deviation: {std_dev_mlp}\")\n",
    "\n",
    "\n",
    "# Calculate average f1-score\n",
    "average_macro_f1_mlp = sum(macro_f1_scores_mlp) / len(macro_f1_scores_mlp)\n",
    "print(f\"\\nAverage Macro F1 Score MLP: {average_macro_f1_mlp}\")\n",
    "\n",
    "\n",
    "# Collect the recall for the '1.0' class from each fold\n",
    "recall_class_1_mlp = [report_mlp['1.0']['recall'] for report_mlp in classification_reports_mlp]\n",
    "# Calculate the average recall for the '1.0' class across all folds\n",
    "average_recall_class_1_mlp = np.mean(recall_class_1_mlp)\n",
    "print(f\"\\nAverage Recall for class 1.0: {average_recall_class_1_mlp}\")"
   ]
  },
  {
   "cell_type": "code",
   "execution_count": 37,
   "metadata": {
    "colab": {
     "base_uri": "https://localhost:8080/"
    },
    "id": "d_AXaDrjVxV6",
    "outputId": "758f4b50-2fc9-4fb3-9390-36f5772ae6ff"
   },
   "outputs": [
    {
     "name": "stdout",
     "output_type": "stream",
     "text": [
      "{'average_accuracy': 0.6532658823529413, 'std_dev_accuracy': 0.0031736335914863355, 'average_macro_f1': 0.6509204345632247, 'average_recall_class_1': 0.5723514638332247, 'accuracies_per_fold': [0.6556941176470589, 0.6518352941176471, 0.649035294117647, 0.6579882352941177, 0.6517764705882353], 'recall_class_1_per_fold': [0.5522402130618209, 0.5859615339454712, 0.5846678669572634, 0.5707802285660537, 0.568107476635514]}\n"
     ]
    }
   ],
   "source": [
    "# saving outputs\n",
    "\n",
    "# Metrics\n",
    "metrics_mlp = {\n",
    "    \"average_accuracy\": average_accuracy_mlp,\n",
    "    \"std_dev_accuracy\": std_dev_mlp,\n",
    "    \"average_macro_f1\": average_macro_f1_mlp,\n",
    "    \"average_recall_class_1\": average_recall_class_1_mlp,\n",
    "    \"accuracies_per_fold\": accuracies_mlp,\n",
    "    \"recall_class_1_per_fold\": recall_class_1_mlp\n",
    "}\n",
    "\n",
    "# Print the dictionary to verify\n",
    "print(metrics_mlp)\n",
    "\n",
    "\n",
    "import json\n",
    "# Save the metrics dictionary as JSON\n",
    "with open(\"metrics_mlp_50.json\", \"w\") as f:\n",
    "    json.dump(metrics_mlp, f, indent=4)"
   ]
  },
  {
   "cell_type": "markdown",
   "metadata": {
    "id": "7xhpAtu3VxV6"
   },
   "source": [
    "## Dataframe with results"
   ]
  },
  {
   "cell_type": "code",
   "execution_count": 22,
   "metadata": {},
   "outputs": [],
   "source": [
    "import json\n",
    "import pandas as pd"
   ]
  },
  {
   "cell_type": "code",
   "execution_count": null,
   "metadata": {
    "id": "_SkGPchMVxV6"
   },
   "outputs": [],
   "source": [
    "# Load the metrics dictionaries\n",
    "with open(\"metrics_dummy_val_50.json\", \"r\") as f:\n",
    "    metrics_dummy_val = json.load(f)\n",
    "\n",
    "with open(\"metrics_lr_50.json\", \"r\") as f:\n",
    "    metrics_lr = json.load(f)\n",
    "\n",
    "with open(\"metrics_rf_50.json\", \"r\") as f:\n",
    "    metrics_rf = json.load(f)\n",
    "\n",
    "with open(\"metrics_svm_50.json\", \"r\") as f:\n",
    "    metrics_svm = json.load(f)\n",
    "\n",
    "with open(\"metrics_mlp_50.json\", \"r\") as f:\n",
    "    metrics_mlp = json.load(f)"
   ]
  },
  {
   "cell_type": "code",
   "execution_count": 31,
   "metadata": {
    "id": "l-bZdc_8VxV8"
   },
   "outputs": [],
   "source": [
    "# List of model names\n",
    "model_names = ['Dummy Classifier', 'Logistic Regression', 'Random Forest', 'SVM', 'MLP']\n",
    "\n",
    "# Calculate the delta values\n",
    "deltaLR = (metrics_lr['average_recall_class_1'] - metrics_dummy_val['average_recall_class_1']) / metrics_dummy_val['average_recall_class_1'] * 100\n",
    "deltaRF = (metrics_rf['average_recall_class_1'] - metrics_dummy_val['average_recall_class_1']) / metrics_dummy_val['average_recall_class_1'] * 100\n",
    "deltaSVM = (metrics_svm['average_recall_class_1'] - metrics_dummy_val['average_recall_class_1']) / metrics_dummy_val['average_recall_class_1'] * 100\n",
    "deltaMLP = (metrics_mlp['average_recall_class_1'] - metrics_dummy_val['average_recall_class_1']) / metrics_dummy_val['average_recall_class_1'] * 100\n",
    "\n",
    "# Collect the accuracy and recall values by calling the variables\n",
    "accuracies = [metrics_dummy_val['average_accuracy'], metrics_lr['average_accuracy'], metrics_rf['average_accuracy'], metrics_svm['average_accuracy'], metrics_mlp['average_accuracy']]\n",
    "recalls = [metrics_dummy_val['average_recall_class_1'], metrics_lr['average_recall_class_1'], metrics_rf['average_recall_class_1'], metrics_svm['average_recall_class_1'], metrics_mlp['average_recall_class_1']]\n",
    "f1s = [metrics_dummy_val['average_macro_f1'], metrics_lr['average_macro_f1'], metrics_rf['average_macro_f1'], metrics_svm['average_macro_f1'], metrics_mlp['average_macro_f1']]\n",
    "std_devs = ['-', metrics_lr['std_dev_accuracy'], metrics_rf['std_dev_accuracy'], metrics_svm['std_dev_accuracy'], metrics_mlp['std_dev_accuracy']]\n",
    "delta = ['-', deltaLR, deltaRF, deltaSVM, deltaMLP]\n",
    "\n",
    "# Create a dictionary for the DataFrame\n",
    "data = {\n",
    "    'Model': model_names,\n",
    "    'Recall class 1': recalls,\n",
    "    'F1-score': f1s,\n",
    "    'Accuracy': accuracies,\n",
    "    'Std Dev Accuracy': std_devs,\n",
    "    'Delta Recall 1 (%)': delta\n",
    "}\n",
    "\n",
    "# Create the DataFrame\n",
    "df_results = pd.DataFrame(data)"
   ]
  },
  {
   "cell_type": "code",
   "execution_count": 32,
   "metadata": {
    "colab": {
     "base_uri": "https://localhost:8080/",
     "height": 175
    },
    "id": "IrftByPgVxV8",
    "outputId": "8662a728-9ac4-4d46-82c3-1054991c183f"
   },
   "outputs": [
    {
     "data": {
      "text/html": [
       "<div>\n",
       "<style scoped>\n",
       "    .dataframe tbody tr th:only-of-type {\n",
       "        vertical-align: middle;\n",
       "    }\n",
       "\n",
       "    .dataframe tbody tr th {\n",
       "        vertical-align: top;\n",
       "    }\n",
       "\n",
       "    .dataframe thead th {\n",
       "        text-align: right;\n",
       "    }\n",
       "</style>\n",
       "<table border=\"1\" class=\"dataframe\">\n",
       "  <thead>\n",
       "    <tr style=\"text-align: right;\">\n",
       "      <th></th>\n",
       "      <th>Model</th>\n",
       "      <th>Recall class 1</th>\n",
       "      <th>F1-score</th>\n",
       "      <th>Accuracy</th>\n",
       "      <th>Std Dev Accuracy</th>\n",
       "      <th>Delta Recall 1 (%)</th>\n",
       "    </tr>\n",
       "  </thead>\n",
       "  <tbody>\n",
       "    <tr>\n",
       "      <th>0</th>\n",
       "      <td>Dummy Classifier</td>\n",
       "      <td>0.498033</td>\n",
       "      <td>0.501944</td>\n",
       "      <td>0.501960</td>\n",
       "      <td>-</td>\n",
       "      <td>-</td>\n",
       "    </tr>\n",
       "    <tr>\n",
       "      <th>1</th>\n",
       "      <td>Logistic Regression</td>\n",
       "      <td>0.477220</td>\n",
       "      <td>0.591092</td>\n",
       "      <td>0.596944</td>\n",
       "      <td>0.001669</td>\n",
       "      <td>-4.179017</td>\n",
       "    </tr>\n",
       "    <tr>\n",
       "      <th>2</th>\n",
       "      <td>Random Forest</td>\n",
       "      <td>0.677784</td>\n",
       "      <td>0.704085</td>\n",
       "      <td>0.704292</td>\n",
       "      <td>0.001068</td>\n",
       "      <td>36.092198</td>\n",
       "    </tr>\n",
       "    <tr>\n",
       "      <th>3</th>\n",
       "      <td>SVM</td>\n",
       "      <td>0.476560</td>\n",
       "      <td>0.643620</td>\n",
       "      <td>0.654951</td>\n",
       "      <td>0.000933</td>\n",
       "      <td>-4.311554</td>\n",
       "    </tr>\n",
       "    <tr>\n",
       "      <th>4</th>\n",
       "      <td>MLP</td>\n",
       "      <td>0.572351</td>\n",
       "      <td>0.650920</td>\n",
       "      <td>0.653266</td>\n",
       "      <td>0.003174</td>\n",
       "      <td>14.922343</td>\n",
       "    </tr>\n",
       "  </tbody>\n",
       "</table>\n",
       "</div>"
      ],
      "text/plain": [
       "                 Model  Recall class 1  F1-score  Accuracy Std Dev Accuracy  \\\n",
       "0     Dummy Classifier        0.498033  0.501944  0.501960                -   \n",
       "1  Logistic Regression        0.477220  0.591092  0.596944         0.001669   \n",
       "2        Random Forest        0.677784  0.704085  0.704292         0.001068   \n",
       "3                  SVM        0.476560  0.643620  0.654951         0.000933   \n",
       "4                  MLP        0.572351  0.650920  0.653266         0.003174   \n",
       "\n",
       "  Delta Recall 1 (%)  \n",
       "0                  -  \n",
       "1          -4.179017  \n",
       "2          36.092198  \n",
       "3          -4.311554  \n",
       "4          14.922343  "
      ]
     },
     "execution_count": 32,
     "metadata": {},
     "output_type": "execute_result"
    }
   ],
   "source": [
    "df_results"
   ]
  },
  {
   "cell_type": "code",
   "execution_count": 33,
   "metadata": {
    "colab": {
     "base_uri": "https://localhost:8080/",
     "height": 617
    },
    "id": "7uhdHrnrVxV9",
    "outputId": "6ed791a0-f45d-4e3c-c348-daedeac6b9ab"
   },
   "outputs": [
    {
     "data": {
      "image/png": "[encoded data removed]",
      "text/plain": [
       "<Figure size 600x600 with 1 Axes>"
      ]
     },
     "metadata": {},
     "output_type": "display_data"
    }
   ],
   "source": [
    "import numpy as np\n",
    "import matplotlib.pyplot as plt\n",
    "\n",
    "# Data\n",
    "labels = ['Recall', 'F1 Score', 'Accuracy']\n",
    "datasets = {\n",
    "    'Dummy': [df_results.loc[0, \"Recall class 1\"], df_results.loc[0, \"F1-score\"],\tdf_results.loc[0, \"Accuracy\"]],\n",
    "    'Logistic Regression': [df_results.loc[1, \"Recall class 1\"], df_results.loc[1, \"F1-score\"],\tdf_results.loc[1, \"Accuracy\"]],\n",
    "    'Random Forest': [df_results.loc[2, \"Recall class 1\"], df_results.loc[2, \"F1-score\"],\tdf_results.loc[2, \"Accuracy\"]],\n",
    "    'SVM': [df_results.loc[3, \"Recall class 1\"], df_results.loc[3, \"F1-score\"],\tdf_results.loc[3, \"Accuracy\"]],\n",
    "    'MLP': [df_results.loc[4, \"Recall class 1\"], df_results.loc[4, \"F1-score\"],\tdf_results.loc[4, \"Accuracy\"]]\n",
    "}\n",
    "\n",
    "# Number of variables (features)\n",
    "num_vars = len(labels)\n",
    "\n",
    "# Calculate angle for each axis\n",
    "angles = np.linspace(0, 2 * np.pi, num_vars, endpoint=False).tolist()\n",
    "\n",
    "# Complete the loop by repeating the first point to close the polygon\n",
    "angles += angles[:1]\n",
    "\n",
    "# Create a radar chart\n",
    "fig, ax = plt.subplots(figsize=(6, 6), dpi=100, subplot_kw=dict(polar=True))\n",
    "\n",
    "# Colors for each dataset\n",
    "colors = ['#a020f0', '#1f77b4', '#ff7f0e', '#2ca02c', '#d62728']\n",
    "\n",
    "# Plot each dataset\n",
    "for idx, (dataset, values) in enumerate(datasets.items()):\n",
    "    values += values[:1]  # Ensure the loop closes\n",
    "    ax.fill(angles, values, color=colors[idx], alpha=0.25)  # Fill the area\n",
    "    ax.plot(angles, values, color=colors[idx], linewidth=2, label=dataset)  # Plot the line\n",
    "\n",
    "# Add labels\n",
    "ax.set_yticklabels([])  # Hide radial ticks\n",
    "ax.set_xticks(angles[:-1])  # Place labels at each axis\n",
    "ax.set_xticklabels(labels)\n",
    "\n",
    "# Add legend\n",
    "plt.legend(loc='upper center', bbox_to_anchor=(0.5, -0.1), ncol=2)\n",
    "\n",
    "# Show plot\n",
    "plt.show()"
   ]
  },
  {
   "cell_type": "markdown",
   "metadata": {
    "id": "4z1MoBIzVxV9"
   },
   "source": [
    "## Random search on best model"
   ]
  },
  {
   "cell_type": "markdown",
   "metadata": {
    "id": "n7zuK-HWVxV9"
   },
   "source": [
    "After looking at the df of above, it can be seen that the best model is the Random Forest model. I therefore will perform random search on this model"
   ]
  },
  {
   "cell_type": "code",
   "execution_count": 42,
   "metadata": {
    "id": "kEb0oEBAVxV9"
   },
   "outputs": [],
   "source": [
    "# Further splitting trainval into train and validation set to tune hyperparameters on the validation set\n",
    "# Training set: 70%, Validation set: 15%, Test set: 15% (still the same test set)\n",
    "\n",
    "X_train, X_val, y_train, y_val = train_test_split(X_trainval, y_trainval, test_size=(15/85), random_state=42)"
   ]
  },
  {
   "cell_type": "code",
   "execution_count": 43,
   "metadata": {
    "colab": {
     "base_uri": "https://localhost:8080/"
    },
    "id": "yM2ITCKNVxV9",
    "outputId": "c862f879-e6a8-4df8-8881-4f7d00a38ec1"
   },
   "outputs": [
    {
     "name": "stdout",
     "output_type": "stream",
     "text": [
      "(350000, 45)\n",
      "The percentage of the original dataset that is used for training is: 70.0 %\n"
     ]
    }
   ],
   "source": [
    "print(X_train.shape)\n",
    "print(f\"The percentage of the original dataset that is used for training is: {X_train.shape[0]/df50.shape[0]*100} %\")"
   ]
  },
  {
   "cell_type": "code",
   "execution_count": 44,
   "metadata": {
    "id": "vPz52zAfVxV9"
   },
   "outputs": [],
   "source": [
    "from scipy.stats import randint  # For defining distributions for random search\n",
    "\n",
    "param_dist = {\n",
    "    'n_estimators': randint(50, 300),                       # Number of trees in the forest (uniform distribution between 50 and 200)\n",
    "    'max_depth': [None] + list(randint(1, 30).rvs(10)),     # Random depth values including None\n",
    "    'min_samples_split': randint(2, 10),                    # Minimum samples required to split an internal node\n",
    "    'min_samples_leaf': randint(1, 5)                       # Minimum samples required to be at a leaf node\n",
    "}"
   ]
  },
  {
   "cell_type": "code",
   "execution_count": 45,
   "metadata": {
    "id": "hAfAEmE0VxV-"
   },
   "outputs": [],
   "source": [
    "# Initialize the Random Forest Classifier\n",
    "from sklearn.ensemble import RandomForestClassifier\n",
    "from sklearn.model_selection import RandomizedSearchCV\n",
    "\n",
    "rf_model_search = RandomForestClassifier(random_state=42)  # Random state for reproducibility\n"
   ]
  },
  {
   "cell_type": "code",
   "execution_count": 46,
   "metadata": {
    "colab": {
     "base_uri": "https://localhost:8080/"
    },
    "id": "fHMaRLX8VxV-",
    "outputId": "f73e3aca-f3bb-4d83-8d2e-b30b756af134"
   },
   "outputs": [
    {
     "name": "stdout",
     "output_type": "stream",
     "text": [
      "Fitting 5 folds for each of 20 candidates, totalling 100 fits\n"
     ]
    },
    {
     "name": "stderr",
     "output_type": "stream",
     "text": [
      "/usr/local/lib/python3.10/dist-packages/joblib/externals/loky/process_executor.py:752: UserWarning: A worker stopped while some jobs were given to the executor. This can be caused by a too short worker timeout or by a memory leak.\n",
      "  warnings.warn(\n"
     ]
    },
    {
     "name": "stdout",
     "output_type": "stream",
     "text": [
      "Best Parameters: {'max_depth': 26, 'min_samples_leaf': 1, 'min_samples_split': 2, 'n_estimators': 293}\n",
      "Best Cross-Validation Score: 0.70082\n"
     ]
    }
   ],
   "source": [
    "# Set up RandomizedSearchCV\n",
    "random_search = RandomizedSearchCV(estimator=rf_model_search,\n",
    "                           param_distributions=param_dist,\n",
    "                           n_iter=20,               # Number of parameter settings that are sampled\n",
    "                           scoring='accuracy',      # Use recall as the evaluation metric\n",
    "                           cv=k,\n",
    "                           verbose=2,\n",
    "                           n_jobs=-1)               # Use all available cores\n",
    "\n",
    "# Fit RandomizedSearchCV\n",
    "random_search.fit(X_train, y_train)\n",
    "\n",
    "# Get the best parameters and best score\n",
    "print(\"Best Parameters:\", random_search.best_params_)\n",
    "print(\"Best Cross-Validation Score:\", random_search.best_score_)"
   ]
  },
  {
   "cell_type": "code",
   "execution_count": null,
   "metadata": {
    "id": "bc8ybVdrVxV-"
   },
   "outputs": [],
   "source": [
    "import json\n",
    "import numpy as np\n",
    "\n",
    "# Convert numpy.int64 to int (or other numpy types to native types)\n",
    "best_params = {key: int(value) if isinstance(value, np.integer) else value\n",
    "               for key, value in random_search.best_params_.items()}\n",
    "\n",
    "# Save to JSON\n",
    "with open('best_params_total50.json', 'w') as file:\n",
    "    json.dump(best_params, file)\n"
   ]
  },
  {
   "cell_type": "code",
   "execution_count": 51,
   "metadata": {
    "colab": {
     "base_uri": "https://localhost:8080/"
    },
    "id": "RMyYbaScVxV-",
    "outputId": "79492c83-33fc-4f60-8444-68797c2a1f11"
   },
   "outputs": [
    {
     "name": "stdout",
     "output_type": "stream",
     "text": [
      "Accuracy on Validation Set: 0.7057333333333333\n",
      "[[28065  9564]\n",
      " [12506 24865]]\n",
      "              precision    recall  f1-score   support\n",
      "\n",
      "         0.0       0.69      0.75      0.72     37629\n",
      "         1.0       0.72      0.67      0.69     37371\n",
      "\n",
      "    accuracy                           0.71     75000\n",
      "   macro avg       0.71      0.71      0.71     75000\n",
      "weighted avg       0.71      0.71      0.71     75000\n",
      "\n",
      "Recall on Validation Set: 0.6653554895507211\n"
     ]
    }
   ],
   "source": [
    "y_pred_rf_random = random_search.predict(X_val)\n",
    "\n",
    "print(\"Accuracy on Validation Set:\", accuracy_score(y_val, y_pred_rf_random))\n",
    "print(confusion_matrix(y_val, y_pred_rf_random))\n",
    "print(classification_report(y_val, y_pred_rf_random))\n",
    "\n",
    "from sklearn.metrics import recall_score\n",
    "print(\"Recall on Validation Set:\", recall_score(y_val, y_pred_rf_random))"
   ]
  },
  {
   "cell_type": "markdown",
   "metadata": {
    "id": "ZfP-U8akVxV-"
   },
   "source": [
    "# Best found model on the test set"
   ]
  },
  {
   "cell_type": "code",
   "execution_count": 19,
   "metadata": {
    "id": "iw5-nsOSVxV-"
   },
   "outputs": [],
   "source": [
    "from sklearn.ensemble import RandomForestClassifier\n",
    "import json"
   ]
  },
  {
   "cell_type": "code",
   "execution_count": 20,
   "metadata": {
    "id": "hRBAZVOMVxV-"
   },
   "outputs": [],
   "source": [
    "# Load best found parameters from a JSON file\n",
    "with open(\"best_params_total50.json\", \"r\") as file:\n",
    "    best_params_total50 = json.load(file)"
   ]
  },
  {
   "cell_type": "code",
   "execution_count": 21,
   "metadata": {
    "colab": {
     "base_uri": "https://localhost:8080/"
    },
    "id": "OJzwr-f1i-TC",
    "outputId": "24c77900-9237-4a85-f6a8-740f6b8011c3"
   },
   "outputs": [
    {
     "name": "stdout",
     "output_type": "stream",
     "text": [
      "{'max_depth': 26, 'min_samples_leaf': 1, 'min_samples_split': 2, 'n_estimators': 293}\n"
     ]
    }
   ],
   "source": [
    "print(best_params_total50)"
   ]
  },
  {
   "cell_type": "code",
   "execution_count": 22,
   "metadata": {
    "colab": {
     "base_uri": "https://localhost:8080/"
    },
    "id": "bRprb3gvVxV-",
    "outputId": "a56a28ff-f245-4018-d009-351212820e53"
   },
   "outputs": [],
   "source": [
    "# Retrain the model with the best parameters on the entire train-validation set\n",
    "final_model = RandomForestClassifier(**best_params_total50, random_state=42)\n",
    "\n",
    "final_model.fit(X_trainval, y_trainval)\n",
    "\n",
    "# Make predictions on the test set\n",
    "y_pred_test = final_model.predict(X_test)"
   ]
  },
  {
   "cell_type": "code",
   "execution_count": 23,
   "metadata": {
    "id": "DGyBbzzJVxV-"
   },
   "outputs": [],
   "source": [
    "# predicting on the training set to be able to compare whether there is overfitting\n",
    "y_pred_train = final_model.predict(X_trainval)"
   ]
  },
  {
   "cell_type": "code",
   "execution_count": 24,
   "metadata": {
    "colab": {
     "base_uri": "https://localhost:8080/"
    },
    "id": "hVPXIQlZVxV-",
    "outputId": "5728006b-28ab-4330-ba8d-c01b6ad3eb02"
   },
   "outputs": [
    {
     "name": "stdout",
     "output_type": "stream",
     "text": [
      "Accuracy train: 0.7778\n",
      "Accuracy test: 0.7117\n"
     ]
    }
   ],
   "source": [
    "# Calculate accuracy train set\n",
    "accuracy_train = accuracy_score(y_trainval, y_pred_train)\n",
    "print(f\"Accuracy train: {accuracy_train:.4f}\")\n",
    "\n",
    "# Calculate accuracy test set\n",
    "accuracy_test = accuracy_score(y_test, y_pred_test)\n",
    "print(f\"Accuracy test: {accuracy_test:.4f}\")"
   ]
  },
  {
   "cell_type": "code",
   "execution_count": 25,
   "metadata": {
    "colab": {
     "base_uri": "https://localhost:8080/"
    },
    "id": "c8Q0DdPLVxV_",
    "outputId": "917bee6e-ae3b-40f2-f9ca-2e1644861016"
   },
   "outputs": [
    {
     "name": "stdout",
     "output_type": "stream",
     "text": [
      "Recall for Class 1 train: 0.7453\n",
      "Recall for Class 1 test: 0.6730\n"
     ]
    }
   ],
   "source": [
    "# Calculate recall for class 1 on train set\n",
    "recall_class_1_train = recall_score(y_trainval, y_pred_train, pos_label=1)\n",
    "print(f\"Recall for Class 1 train: {recall_class_1_train:.4f}\")\n",
    "\n",
    "# Calculate recall for class 1 on test set\n",
    "recall_class_1_test = recall_score(y_test, y_pred_test, pos_label=1)\n",
    "print(f\"Recall for Class 1 test: {recall_class_1_test:.4f}\")"
   ]
  },
  {
   "cell_type": "code",
   "execution_count": 26,
   "metadata": {
    "colab": {
     "base_uri": "https://localhost:8080/"
    },
    "id": "bMoO_T4uVxV_",
    "outputId": "ec79403f-cdac-47bc-fb4b-90e9c020d6f3"
   },
   "outputs": [
    {
     "name": "stdout",
     "output_type": "stream",
     "text": [
      "F1-score train: 0.7776\n",
      "F1-score test: 0.7113\n"
     ]
    }
   ],
   "source": [
    "from sklearn.metrics import f1_score\n",
    "\n",
    "# Calculate F1-score for the train set\n",
    "f1_train = f1_score(y_trainval, y_pred_train, average='macro')\n",
    "print(f\"F1-score train: {f1_train:.4f}\")\n",
    "\n",
    "# Calculate F1-score for the test set\n",
    "f1_test = f1_score(y_test, y_pred_test, average='macro')\n",
    "print(f\"F1-score test: {f1_test:.4f}\")"
   ]
  },
  {
   "cell_type": "code",
   "execution_count": 27,
   "metadata": {
    "colab": {
     "base_uri": "https://localhost:8080/"
    },
    "id": "LAll5JgRVxV_",
    "outputId": "3be038e7-e155-4b99-fefc-5edec7909e92"
   },
   "outputs": [
    {
     "name": "stdout",
     "output_type": "stream",
     "text": [
      "Confusion Matrix:\n",
      " [[172154  40296]\n",
      " [ 54144 158406]]\n",
      "Classification Report:\n",
      "               precision    recall  f1-score   support\n",
      "\n",
      "           0       0.76      0.81      0.78    212450\n",
      "           1       0.80      0.75      0.77    212550\n",
      "\n",
      "    accuracy                           0.78    425000\n",
      "   macro avg       0.78      0.78      0.78    425000\n",
      "weighted avg       0.78      0.78      0.78    425000\n",
      "\n",
      "\n",
      "\n",
      "Confusion Matrix:\n",
      " [[28178  9372]\n",
      " [12248 25202]]\n",
      "Classification Report:\n",
      "               precision    recall  f1-score   support\n",
      "\n",
      "           0       0.70      0.75      0.72     37550\n",
      "           1       0.73      0.67      0.70     37450\n",
      "\n",
      "    accuracy                           0.71     75000\n",
      "   macro avg       0.71      0.71      0.71     75000\n",
      "weighted avg       0.71      0.71      0.71     75000\n",
      "\n"
     ]
    }
   ],
   "source": [
    "# Evaluate the model\n",
    "from sklearn.metrics import classification_report, confusion_matrix\n",
    "\n",
    "\n",
    "# Confusion Matrix train\n",
    "conf_matrix_train = confusion_matrix(y_trainval, y_pred_train)\n",
    "print(\"Confusion Matrix:\\n\", conf_matrix_train)\n",
    "\n",
    "# Classification Report train\n",
    "class_report_train = classification_report(y_trainval, y_pred_train)\n",
    "print(\"Classification Report:\\n\", class_report_train)\n",
    "\n",
    "print(\"\\n\")\n",
    "\n",
    "# Confusion Matrix test\n",
    "conf_matrix_test = confusion_matrix(y_test, y_pred_test)\n",
    "print(\"Confusion Matrix:\\n\", conf_matrix_test)\n",
    "\n",
    "# Classification Report test\n",
    "class_report_test = classification_report(y_test, y_pred_test)\n",
    "print(\"Classification Report:\\n\", class_report_test)"
   ]
  },
  {
   "cell_type": "code",
   "execution_count": 70,
   "metadata": {
    "colab": {
     "base_uri": "https://localhost:8080/",
     "height": 564
    },
    "id": "gzEnUc-VVxV_",
    "outputId": "cff4a5fa-e8b7-461b-c8d4-9b1ef1541da0"
   },
   "outputs": [
    {
     "data": {
      "image/png": "[encoded data removed]",
      "text/plain": [
       "<Figure size 800x600 with 2 Axes>"
      ]
     },
     "metadata": {},
     "output_type": "display_data"
    }
   ],
   "source": [
    "# Plot the confusion matrix\n",
    "plt.figure(figsize=(8, 6))\n",
    "sns.heatmap(conf_matrix_test, annot=True, fmt='d', cmap='Blues', xticklabels=[\"Class 0\", \"Class 1\"], yticklabels=[\"Class 0\", \"Class 1\"])\n",
    "plt.title(\"Confusion Matrix\")\n",
    "plt.xlabel(\"Predicted Label\")\n",
    "plt.ylabel(\"True Label\")\n",
    "plt.show()"
   ]
  },
  {
   "cell_type": "code",
   "execution_count": 71,
   "metadata": {
    "id": "17jtV8HVVxV_"
   },
   "outputs": [],
   "source": [
    "# saving so I can open in another notebook\n",
    "\n",
    "import pickle\n",
    "\n",
    "performance_metrics = {\"Train\": {\"accuracy\": accuracy_train, \"conf_matrix\": conf_matrix_train, \"f1_score\": f1_train, \"recall\": recall_class_1_train},\n",
    "                       \"Test\": {\"accuracy\": accuracy_test, \"conf_matrix\": conf_matrix_test, \"f1_score\": f1_test, \"recall\": recall_class_1_test},\n",
    "                       }\n",
    "\n",
    "# Save to a pickle file\n",
    "with open(\"performance_metrics_total50.pkl\", \"wb\") as f:\n",
    "    pickle.dump(performance_metrics, f)"
   ]
  },
  {
   "cell_type": "code",
   "execution_count": 72,
   "metadata": {
    "colab": {
     "base_uri": "https://localhost:8080/"
    },
    "id": "Frd99vo8VxV_",
    "outputId": "402b7d2d-1c02-4bca-a607-555526f079e5"
   },
   "outputs": [
    {
     "name": "stdout",
     "output_type": "stream",
     "text": [
      "0.7777882352941177\n"
     ]
    }
   ],
   "source": [
    "# test with loading from a pickle file to see if it works\n",
    "with open(\"performance_metrics_total50.pkl\", \"rb\") as f:\n",
    "    loaded_metrics = pickle.load(f)\n",
    "\n",
    "print(loaded_metrics['Train']['accuracy'])"
   ]
  },
  {
   "cell_type": "markdown",
   "metadata": {
    "id": "_9IMu5qzVxWA"
   },
   "source": [
    "### Permutation feature importance"
   ]
  },
  {
   "cell_type": "code",
   "execution_count": 46,
   "metadata": {
    "colab": {
     "base_uri": "https://localhost:8080/",
     "height": 1000
    },
    "id": "_Gd6L4c8VxWA",
    "outputId": "5d02af0b-9618-4a13-fd42-3cbd19da2e13"
   },
   "outputs": [],
   "source": [
    "from sklearn.inspection import permutation_importance\n",
    "\n",
    "# Calculate permutation feature importance\n",
    "result = permutation_importance(final_model, X_test, y_test, n_repeats=10, random_state=42)"
   ]
  },
  {
   "cell_type": "code",
   "execution_count": 47,
   "metadata": {
    "id": "SLEI8g9zVxWA"
   },
   "outputs": [
    {
     "data": {
      "image/png": "[encoded data removed]",
      "text/plain": [
       "<Figure size 1000x1000 with 1 Axes>"
      ]
     },
     "metadata": {},
     "output_type": "display_data"
    }
   ],
   "source": [
    "# Feature names\n",
    "feature_names = X.columns\n",
    "\n",
    "# Extract feature importances and standard deviations\n",
    "importances = result.importances_mean\n",
    "std = result.importances_std\n",
    "\n",
    "# Sort the features by importance\n",
    "indices = np.argsort(importances)[::-1]\n",
    "\n",
    "# Plot the feature importances\n",
    "plt.figure(figsize=(10, 10))\n",
    "plt.barh(range(len(indices)), importances[indices], xerr=std[indices], align='center')\n",
    "plt.yticks(range(len(indices)), [feature_names[i] for i in indices])\n",
    "plt.xlabel(\"Permutation Importance\")\n",
    "plt.title(\"Permutation Feature Importance\")\n",
    "plt.gca().invert_yaxis()  # Invert y-axis to show the most important feature at the top\n",
    "plt.show()"
   ]
  },
  {
   "cell_type": "code",
   "execution_count": 48,
   "metadata": {},
   "outputs": [
    {
     "name": "stdout",
     "output_type": "stream",
     "text": [
      "[0.07431066666666666, 0.04736, 0.04039599999999999, 0.035264000000000004, 0.03481333333333334, 0.03281333333333332, 0.02444533333333332, 0.016139999999999988, 0.014805333333333347, 0.014466666666666683, 0.011343999999999976, 0.010512000000000011, 0.010302666666666672, 0.01027066666666666, 0.010241333333333335, 0.009810666666666657, 0.00950399999999999, 0.009122666666666678, 0.007742666666666664, 0.0076666666666666775, 0.00742799999999999, 0.007293333333333341, 0.007116, 0.00699466666666666, 0.006701333333333337, 0.00640666666666666, 0.006399999999999994, 0.005445333333333325, 0.005305333333333329, 0.004426666666666667, 0.003983999999999999, 0.0035093333333333088, 0.003417333333333339, 0.003296000000000021, 0.0030146666666666542, 0.0025840000000000086, 0.002312000000000003, 0.00176533333333333, 0.0017106666666666603, 0.0015626666666666677, 0.0006586666666666518, 0.000535999999999992, 0.00017199999999999437, 0.0001706666666666745, -0.00017333333333334754]\n"
     ]
    }
   ],
   "source": [
    "import pandas as pd\n",
    "\n",
    "# Extract feature importances and standard deviations\n",
    "data = {\n",
    "    \"Feature\": [feature_names[i] for i in indices],\n",
    "    \"Importance\": importances[indices],\n",
    "    \"Std Dev\": std[indices],\n",
    "}\n",
    "\n",
    "# Create a DataFrame for better readability\n",
    "importance_df = pd.DataFrame(data)\n",
    "\n",
    "# Print the table\n",
    "print(importance_df)\n"
   ]
  },
  {
   "cell_type": "markdown",
   "metadata": {},
   "source": [
    "### Error analysis\n"
   ]
  },
  {
   "cell_type": "code",
   "execution_count": 28,
   "metadata": {},
   "outputs": [],
   "source": [
    "df50_c = df50.copy()"
   ]
  },
  {
   "cell_type": "code",
   "execution_count": 29,
   "metadata": {},
   "outputs": [],
   "source": [
    "# concatting X_test and Y_test to recreate a the test set with both explanatory features as the target feature\n",
    "df50_con = pd.concat([X_test, y_test], axis=1)"
   ]
  },
  {
   "cell_type": "code",
   "execution_count": 30,
   "metadata": {},
   "outputs": [
    {
     "data": {
      "text/plain": [
       "Index(['Intervention', 'PedPed', 'Barrier', 'CrossingSignal',\n",
       "       'NumberOfCharacters', 'DiffNumberOFCharacters', 'Saved', 'Man', 'Woman',\n",
       "       'Pregnant', 'Stroller', 'OldMan', 'OldWoman', 'Boy', 'Girl', 'Homeless',\n",
       "       'LargeWoman', 'LargeMan', 'Criminal', 'MaleExecutive',\n",
       "       'FemaleExecutive', 'FemaleAthlete', 'MaleAthlete', 'FemaleDoctor',\n",
       "       'MaleDoctor', 'Dog', 'Cat', 'AttributeLevel_Fat',\n",
       "       'AttributeLevel_Female', 'AttributeLevel_Fit', 'AttributeLevel_High',\n",
       "       'AttributeLevel_Hoomans', 'AttributeLevel_Less', 'AttributeLevel_Low',\n",
       "       'AttributeLevel_Male', 'AttributeLevel_More', 'AttributeLevel_Old',\n",
       "       'AttributeLevel_Pets', 'AttributeLevel_Young', 'ScenarioTypeStrict_Age',\n",
       "       'ScenarioTypeStrict_Fitness', 'ScenarioTypeStrict_Gender',\n",
       "       'ScenarioTypeStrict_Social', 'ScenarioTypeStrict_Species',\n",
       "       'ScenarioTypeStrict_Utilitarian', 'UserID'],\n",
       "      dtype='object')"
      ]
     },
     "execution_count": 30,
     "metadata": {},
     "output_type": "execute_result"
    }
   ],
   "source": [
    "df50_con.columns"
   ]
  },
  {
   "cell_type": "code",
   "execution_count": 45,
   "metadata": {},
   "outputs": [
    {
     "data": {
      "image/png": "[encoded data removed]",
      "text/plain": [
       "<Figure size 1000x600 with 2 Axes>"
      ]
     },
     "metadata": {},
     "output_type": "display_data"
    }
   ],
   "source": [
    "import pandas as pd\n",
    "import matplotlib.pyplot as plt\n",
    "import numpy as np\n",
    "\n",
    "categories = ['Age', 'Fitness', 'Gender', 'Social', 'Species', 'Utilitarian']\n",
    "one_hot_columns = [f'ScenarioTypeStrict_{cat}' for cat in categories]\n",
    "\n",
    "# Map one-hot encoded values back to the original category\n",
    "df50_con['ScenarioTypeStrict'] = df50_con[one_hot_columns].idxmax(axis=1).str.replace('ScenarioTypeStrict_', '')\n",
    "\n",
    "# Add actual and predicted values to the DataFrame\n",
    "df50_con['y_true'] = y_test\n",
    "df50_con['y_pred'] = y_pred_test\n",
    "\n",
    "# Calculate errors\n",
    "df50_con['FN'] = np.where((df50_con['y_true'] == 1) & (df50_con['y_pred'] == 0), 1, 0)\n",
    "df50_con['FP'] = np.where((df50_con['y_true'] == 0) & (df50_con['y_pred'] == 1), 1, 0)\n",
    "df50_con['TP'] = np.where((df50_con['y_true'] == 1) & (df50_con['y_pred'] == 1), 1, 0)\n",
    "df50_con['TN'] = np.where((df50_con['y_true'] == 0) & (df50_con['y_pred'] == 0), 1, 0)\n",
    "\n",
    "# Aggregate errors by category\n",
    "error_summary = df50_con.groupby('ScenarioTypeStrict')[['FN', 'FP', 'TP', 'TN']].sum().reset_index()\n",
    "\n",
    "# Calculate total and percentages\n",
    "error_summary['Total'] = error_summary[['FN', 'FP', 'TP', 'TN']].sum(axis=1)\n",
    "error_summary['% False'] = (error_summary[['FN', 'FP']].sum(axis=1) / error_summary['Total']) * 100\n",
    "error_summary['% True'] = (error_summary[['TP', 'TN']].sum(axis=1) / error_summary['Total']) * 100\n",
    "error_summary['% Difference'] = error_summary['% True'] - error_summary['% False']\n",
    "\n",
    "# Plotting\n",
    "fig, ax = plt.subplots(figsize=(10, 6))\n",
    "x = np.arange(len(categories))  # Category positions\n",
    "width = 0.2  # Width of each bar\n",
    "\n",
    "# Adjust positions for each bar group\n",
    "fn_bars = ax.bar(x - 1.5 * width, error_summary['FN'], width, label='False Negatives', color='crimson')\n",
    "fp_bars = ax.bar(x - 0.5 * width, error_summary['FP'], width, label='False Positives', color='lightcoral')\n",
    "tn_bars = ax.bar(x + 0.5 * width, error_summary['TN'], width, label='True Negatives', color='lightgreen')\n",
    "tp_bars = ax.bar(x + 1.5 * width, error_summary['TP'], width, label='True Positives', color='limegreen')\n",
    "\n",
    "# Add labels above the bars\n",
    "for bar in fn_bars:\n",
    "    height = bar.get_height()\n",
    "    ax.text(bar.get_x() + bar.get_width() / 2, height + 50, f'{int(height)}', ha='center', va='bottom', fontsize=8)\n",
    "\n",
    "for bar in fp_bars:\n",
    "    height = bar.get_height()\n",
    "    ax.text(bar.get_x() + bar.get_width() / 2, height + 50, f'{int(height)}', ha='center', va='bottom', fontsize=8)\n",
    "\n",
    "for bar in tn_bars:\n",
    "    height = bar.get_height()\n",
    "    ax.text(bar.get_x() + bar.get_width() / 2, height + 50, f'{int(height)}', ha='center', va='bottom', fontsize=8)\n",
    "\n",
    "for bar in tp_bars:\n",
    "    height = bar.get_height()\n",
    "    ax.text(bar.get_x() + bar.get_width() / 2, height + 50, f'{int(height)}', ha='center', va='bottom', fontsize=8)\n",
    "\n",
    "# Line plot for % difference\n",
    "ax2 = ax.twinx()\n",
    "ax2.plot(x, error_summary['% Difference'], label='Difference in p.p.', color='darkgrey', marker='o', markerfacecolor='black', markeredgecolor='black', linestyle='-', linewidth=1.5)\n",
    "for i, val in enumerate(error_summary['% Difference']):\n",
    "    ax2.text(x[i], val + 1, f'{val:.1f} p.p.', color='black', fontsize=10, ha='center')\n",
    "\n",
    "# Labels and Legends\n",
    "ax.set_xlabel('ScenarioTypeStrict Categories')\n",
    "ax.set_ylabel('Counts')\n",
    "ax2.set_ylabel('% Difference (p.p.)', color='black')\n",
    "ax2.tick_params(axis='y', labelcolor='black')\n",
    "ax2.set_ylim(21,100)\n",
    "ax.set_xticks(x)\n",
    "ax.set_xticklabels(categories)\n",
    "ax.legend(loc='upper left')\n",
    "ax2.legend(loc='lower right')\n",
    "\n",
    "# Add text in the middle of the graph\n",
    "ax.text(2.5, 7000, 'df_total', \n",
    "        fontsize=12, color='black', ha='center', va='top', bbox=dict(facecolor='white', alpha=0.5))\n",
    "\n",
    "plt.tight_layout()\n",
    "plt.show()"
   ]
  }
 ],
 "metadata": {
  "accelerator": "GPU",
  "colab": {
   "gpuType": "A100",
   "provenance": []
  },
  "kernelspec": {
   "display_name": "base",
   "language": "python",
   "name": "python3"
  },
  "language_info": {
   "codemirror_mode": {
    "name": "ipython",
    "version": 3
   },
   "file_extension": ".py",
   "mimetype": "text/x-python",
   "name": "python",
   "nbconvert_exporter": "python",
   "pygments_lexer": "ipython3",
   "version": "3.11.5"
  }
 },
 "nbformat": 4,
 "nbformat_minor": 0
}
